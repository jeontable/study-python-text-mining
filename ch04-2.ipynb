{
 "cells": [
  {
   "cell_type": "code",
   "execution_count": 2,
   "metadata": {},
   "outputs": [],
   "source": [
    "import nltk"
   ]
  },
  {
   "cell_type": "code",
   "execution_count": 6,
   "metadata": {},
   "outputs": [
    {
     "name": "stderr",
     "output_type": "stream",
     "text": [
      "[nltk_data] Downloading package movie_reviews to\n",
      "[nltk_data]     /Users/ryeol/nltk_data...\n",
      "[nltk_data]   Package movie_reviews is already up-to-date!\n"
     ]
    },
    {
     "data": {
      "text/plain": [
       "True"
      ]
     },
     "execution_count": 6,
     "metadata": {},
     "output_type": "execute_result"
    }
   ],
   "source": [
    "import nltk\n",
    "nltk.download('movie_reviews')"
   ]
  },
  {
   "cell_type": "code",
   "execution_count": 7,
   "metadata": {},
   "outputs": [
    {
     "data": {
      "text/plain": [
       "['neg/cv000_29416.txt',\n",
       " 'neg/cv001_19502.txt',\n",
       " 'neg/cv002_17424.txt',\n",
       " 'neg/cv003_12683.txt',\n",
       " 'neg/cv004_12641.txt',\n",
       " 'neg/cv005_29357.txt',\n",
       " 'neg/cv006_17022.txt',\n",
       " 'neg/cv007_4992.txt',\n",
       " 'neg/cv008_29326.txt',\n",
       " 'neg/cv009_29417.txt',\n",
       " 'neg/cv010_29063.txt',\n",
       " 'neg/cv011_13044.txt',\n",
       " 'neg/cv012_29411.txt',\n",
       " 'neg/cv013_10494.txt',\n",
       " 'neg/cv014_15600.txt',\n",
       " 'neg/cv015_29356.txt',\n",
       " 'neg/cv016_4348.txt',\n",
       " 'neg/cv017_23487.txt',\n",
       " 'neg/cv018_21672.txt',\n",
       " 'neg/cv019_16117.txt',\n",
       " 'neg/cv020_9234.txt',\n",
       " 'neg/cv021_17313.txt',\n",
       " 'neg/cv022_14227.txt',\n",
       " 'neg/cv023_13847.txt',\n",
       " 'neg/cv024_7033.txt',\n",
       " 'neg/cv025_29825.txt',\n",
       " 'neg/cv026_29229.txt',\n",
       " 'neg/cv027_26270.txt',\n",
       " 'neg/cv028_26964.txt',\n",
       " 'neg/cv029_19943.txt',\n",
       " 'neg/cv030_22893.txt',\n",
       " 'neg/cv031_19540.txt',\n",
       " 'neg/cv032_23718.txt',\n",
       " 'neg/cv033_25680.txt',\n",
       " 'neg/cv034_29446.txt',\n",
       " 'neg/cv035_3343.txt',\n",
       " 'neg/cv036_18385.txt',\n",
       " 'neg/cv037_19798.txt',\n",
       " 'neg/cv038_9781.txt',\n",
       " 'neg/cv039_5963.txt',\n",
       " 'neg/cv040_8829.txt',\n",
       " 'neg/cv041_22364.txt',\n",
       " 'neg/cv042_11927.txt',\n",
       " 'neg/cv043_16808.txt',\n",
       " 'neg/cv044_18429.txt',\n",
       " 'neg/cv045_25077.txt',\n",
       " 'neg/cv046_10613.txt',\n",
       " 'neg/cv047_18725.txt',\n",
       " 'neg/cv048_18380.txt',\n",
       " 'neg/cv049_21917.txt',\n",
       " 'neg/cv050_12128.txt',\n",
       " 'neg/cv051_10751.txt',\n",
       " 'neg/cv052_29318.txt',\n",
       " 'neg/cv053_23117.txt',\n",
       " 'neg/cv054_4101.txt',\n",
       " 'neg/cv055_8926.txt',\n",
       " 'neg/cv056_14663.txt',\n",
       " 'neg/cv057_7962.txt',\n",
       " 'neg/cv058_8469.txt',\n",
       " 'neg/cv059_28723.txt',\n",
       " 'neg/cv060_11754.txt',\n",
       " 'neg/cv061_9321.txt',\n",
       " 'neg/cv062_24556.txt',\n",
       " 'neg/cv063_28852.txt',\n",
       " 'neg/cv064_25842.txt',\n",
       " 'neg/cv065_16909.txt',\n",
       " 'neg/cv066_11668.txt',\n",
       " 'neg/cv067_21192.txt',\n",
       " 'neg/cv068_14810.txt',\n",
       " 'neg/cv069_11613.txt',\n",
       " 'neg/cv070_13249.txt',\n",
       " 'neg/cv071_12969.txt',\n",
       " 'neg/cv072_5928.txt',\n",
       " 'neg/cv073_23039.txt',\n",
       " 'neg/cv074_7188.txt',\n",
       " 'neg/cv075_6250.txt',\n",
       " 'neg/cv076_26009.txt',\n",
       " 'neg/cv077_23172.txt',\n",
       " 'neg/cv078_16506.txt',\n",
       " 'neg/cv079_12766.txt',\n",
       " 'neg/cv080_14899.txt',\n",
       " 'neg/cv081_18241.txt',\n",
       " 'neg/cv082_11979.txt',\n",
       " 'neg/cv083_25491.txt',\n",
       " 'neg/cv084_15183.txt',\n",
       " 'neg/cv085_15286.txt',\n",
       " 'neg/cv086_19488.txt',\n",
       " 'neg/cv087_2145.txt',\n",
       " 'neg/cv088_25274.txt',\n",
       " 'neg/cv089_12222.txt',\n",
       " 'neg/cv090_0049.txt',\n",
       " 'neg/cv091_7899.txt',\n",
       " 'neg/cv092_27987.txt',\n",
       " 'neg/cv093_15606.txt',\n",
       " 'neg/cv094_27868.txt',\n",
       " 'neg/cv095_28730.txt',\n",
       " 'neg/cv096_12262.txt',\n",
       " 'neg/cv097_26081.txt',\n",
       " 'neg/cv098_17021.txt',\n",
       " 'neg/cv099_11189.txt',\n",
       " 'neg/cv100_12406.txt',\n",
       " 'neg/cv101_10537.txt',\n",
       " 'neg/cv102_8306.txt',\n",
       " 'neg/cv103_11943.txt',\n",
       " 'neg/cv104_19176.txt',\n",
       " 'neg/cv105_19135.txt',\n",
       " 'neg/cv106_18379.txt',\n",
       " 'neg/cv107_25639.txt',\n",
       " 'neg/cv108_17064.txt',\n",
       " 'neg/cv109_22599.txt',\n",
       " 'neg/cv110_27832.txt',\n",
       " 'neg/cv111_12253.txt',\n",
       " 'neg/cv112_12178.txt',\n",
       " 'neg/cv113_24354.txt',\n",
       " 'neg/cv114_19501.txt',\n",
       " 'neg/cv115_26443.txt',\n",
       " 'neg/cv116_28734.txt',\n",
       " 'neg/cv117_25625.txt',\n",
       " 'neg/cv118_28837.txt',\n",
       " 'neg/cv119_9909.txt',\n",
       " 'neg/cv120_3793.txt',\n",
       " 'neg/cv121_18621.txt',\n",
       " 'neg/cv122_7891.txt',\n",
       " 'neg/cv123_12165.txt',\n",
       " 'neg/cv124_3903.txt',\n",
       " 'neg/cv125_9636.txt',\n",
       " 'neg/cv126_28821.txt',\n",
       " 'neg/cv127_16451.txt',\n",
       " 'neg/cv128_29444.txt',\n",
       " 'neg/cv129_18373.txt',\n",
       " 'neg/cv130_18521.txt',\n",
       " 'neg/cv131_11568.txt',\n",
       " 'neg/cv132_5423.txt',\n",
       " 'neg/cv133_18065.txt',\n",
       " 'neg/cv134_23300.txt',\n",
       " 'neg/cv135_12506.txt',\n",
       " 'neg/cv136_12384.txt',\n",
       " 'neg/cv137_17020.txt',\n",
       " 'neg/cv138_13903.txt',\n",
       " 'neg/cv139_14236.txt',\n",
       " 'neg/cv140_7963.txt',\n",
       " 'neg/cv141_17179.txt',\n",
       " 'neg/cv142_23657.txt',\n",
       " 'neg/cv143_21158.txt',\n",
       " 'neg/cv144_5010.txt',\n",
       " 'neg/cv145_12239.txt',\n",
       " 'neg/cv146_19587.txt',\n",
       " 'neg/cv147_22625.txt',\n",
       " 'neg/cv148_18084.txt',\n",
       " 'neg/cv149_17084.txt',\n",
       " 'neg/cv150_14279.txt',\n",
       " 'neg/cv151_17231.txt',\n",
       " 'neg/cv152_9052.txt',\n",
       " 'neg/cv153_11607.txt',\n",
       " 'neg/cv154_9562.txt',\n",
       " 'neg/cv155_7845.txt',\n",
       " 'neg/cv156_11119.txt',\n",
       " 'neg/cv157_29302.txt',\n",
       " 'neg/cv158_10914.txt',\n",
       " 'neg/cv159_29374.txt',\n",
       " 'neg/cv160_10848.txt',\n",
       " 'neg/cv161_12224.txt',\n",
       " 'neg/cv162_10977.txt',\n",
       " 'neg/cv163_10110.txt',\n",
       " 'neg/cv164_23451.txt',\n",
       " 'neg/cv165_2389.txt',\n",
       " 'neg/cv166_11959.txt',\n",
       " 'neg/cv167_18094.txt',\n",
       " 'neg/cv168_7435.txt',\n",
       " 'neg/cv169_24973.txt',\n",
       " 'neg/cv170_29808.txt',\n",
       " 'neg/cv171_15164.txt',\n",
       " 'neg/cv172_12037.txt',\n",
       " 'neg/cv173_4295.txt',\n",
       " 'neg/cv174_9735.txt',\n",
       " 'neg/cv175_7375.txt',\n",
       " 'neg/cv176_14196.txt',\n",
       " 'neg/cv177_10904.txt',\n",
       " 'neg/cv178_14380.txt',\n",
       " 'neg/cv179_9533.txt',\n",
       " 'neg/cv180_17823.txt',\n",
       " 'neg/cv181_16083.txt',\n",
       " 'neg/cv182_7791.txt',\n",
       " 'neg/cv183_19826.txt',\n",
       " 'neg/cv184_26935.txt',\n",
       " 'neg/cv185_28372.txt',\n",
       " 'neg/cv186_2396.txt',\n",
       " 'neg/cv187_14112.txt',\n",
       " 'neg/cv188_20687.txt',\n",
       " 'neg/cv189_24248.txt',\n",
       " 'neg/cv190_27176.txt',\n",
       " 'neg/cv191_29539.txt',\n",
       " 'neg/cv192_16079.txt',\n",
       " 'neg/cv193_5393.txt',\n",
       " 'neg/cv194_12855.txt',\n",
       " 'neg/cv195_16146.txt',\n",
       " 'neg/cv196_28898.txt',\n",
       " 'neg/cv197_29271.txt',\n",
       " 'neg/cv198_19313.txt',\n",
       " 'neg/cv199_9721.txt',\n",
       " 'neg/cv200_29006.txt',\n",
       " 'neg/cv201_7421.txt',\n",
       " 'neg/cv202_11382.txt',\n",
       " 'neg/cv203_19052.txt',\n",
       " 'neg/cv204_8930.txt',\n",
       " 'neg/cv205_9676.txt',\n",
       " 'neg/cv206_15893.txt',\n",
       " 'neg/cv207_29141.txt',\n",
       " 'neg/cv208_9475.txt',\n",
       " 'neg/cv209_28973.txt',\n",
       " 'neg/cv210_9557.txt',\n",
       " 'neg/cv211_9955.txt',\n",
       " 'neg/cv212_10054.txt',\n",
       " 'neg/cv213_20300.txt',\n",
       " 'neg/cv214_13285.txt',\n",
       " 'neg/cv215_23246.txt',\n",
       " 'neg/cv216_20165.txt',\n",
       " 'neg/cv217_28707.txt',\n",
       " 'neg/cv218_25651.txt',\n",
       " 'neg/cv219_19874.txt',\n",
       " 'neg/cv220_28906.txt',\n",
       " 'neg/cv221_27081.txt',\n",
       " 'neg/cv222_18720.txt',\n",
       " 'neg/cv223_28923.txt',\n",
       " 'neg/cv224_18875.txt',\n",
       " 'neg/cv225_29083.txt',\n",
       " 'neg/cv226_26692.txt',\n",
       " 'neg/cv227_25406.txt',\n",
       " 'neg/cv228_5644.txt',\n",
       " 'neg/cv229_15200.txt',\n",
       " 'neg/cv230_7913.txt',\n",
       " 'neg/cv231_11028.txt',\n",
       " 'neg/cv232_16768.txt',\n",
       " 'neg/cv233_17614.txt',\n",
       " 'neg/cv234_22123.txt',\n",
       " 'neg/cv235_10704.txt',\n",
       " 'neg/cv236_12427.txt',\n",
       " 'neg/cv237_20635.txt',\n",
       " 'neg/cv238_14285.txt',\n",
       " 'neg/cv239_29828.txt',\n",
       " 'neg/cv240_15948.txt',\n",
       " 'neg/cv241_24602.txt',\n",
       " 'neg/cv242_11354.txt',\n",
       " 'neg/cv243_22164.txt',\n",
       " 'neg/cv244_22935.txt',\n",
       " 'neg/cv245_8938.txt',\n",
       " 'neg/cv246_28668.txt',\n",
       " 'neg/cv247_14668.txt',\n",
       " 'neg/cv248_15672.txt',\n",
       " 'neg/cv249_12674.txt',\n",
       " 'neg/cv250_26462.txt',\n",
       " 'neg/cv251_23901.txt',\n",
       " 'neg/cv252_24974.txt',\n",
       " 'neg/cv253_10190.txt',\n",
       " 'neg/cv254_5870.txt',\n",
       " 'neg/cv255_15267.txt',\n",
       " 'neg/cv256_16529.txt',\n",
       " 'neg/cv257_11856.txt',\n",
       " 'neg/cv258_5627.txt',\n",
       " 'neg/cv259_11827.txt',\n",
       " 'neg/cv260_15652.txt',\n",
       " 'neg/cv261_11855.txt',\n",
       " 'neg/cv262_13812.txt',\n",
       " 'neg/cv263_20693.txt',\n",
       " 'neg/cv264_14108.txt',\n",
       " 'neg/cv265_11625.txt',\n",
       " 'neg/cv266_26644.txt',\n",
       " 'neg/cv267_16618.txt',\n",
       " 'neg/cv268_20288.txt',\n",
       " 'neg/cv269_23018.txt',\n",
       " 'neg/cv270_5873.txt',\n",
       " 'neg/cv271_15364.txt',\n",
       " 'neg/cv272_20313.txt',\n",
       " 'neg/cv273_28961.txt',\n",
       " 'neg/cv274_26379.txt',\n",
       " 'neg/cv275_28725.txt',\n",
       " 'neg/cv276_17126.txt',\n",
       " 'neg/cv277_20467.txt',\n",
       " 'neg/cv278_14533.txt',\n",
       " 'neg/cv279_19452.txt',\n",
       " 'neg/cv280_8651.txt',\n",
       " 'neg/cv281_24711.txt',\n",
       " 'neg/cv282_6833.txt',\n",
       " 'neg/cv283_11963.txt',\n",
       " 'neg/cv284_20530.txt',\n",
       " 'neg/cv285_18186.txt',\n",
       " 'neg/cv286_26156.txt',\n",
       " 'neg/cv287_17410.txt',\n",
       " 'neg/cv288_20212.txt',\n",
       " 'neg/cv289_6239.txt',\n",
       " 'neg/cv290_11981.txt',\n",
       " 'neg/cv291_26844.txt',\n",
       " 'neg/cv292_7804.txt',\n",
       " 'neg/cv293_29731.txt',\n",
       " 'neg/cv294_12695.txt',\n",
       " 'neg/cv295_17060.txt',\n",
       " 'neg/cv296_13146.txt',\n",
       " 'neg/cv297_10104.txt',\n",
       " 'neg/cv298_24487.txt',\n",
       " 'neg/cv299_17950.txt',\n",
       " 'neg/cv300_23302.txt',\n",
       " 'neg/cv301_13010.txt',\n",
       " 'neg/cv302_26481.txt',\n",
       " 'neg/cv303_27366.txt',\n",
       " 'neg/cv304_28489.txt',\n",
       " 'neg/cv305_9937.txt',\n",
       " 'neg/cv306_10859.txt',\n",
       " 'neg/cv307_26382.txt',\n",
       " 'neg/cv308_5079.txt',\n",
       " 'neg/cv309_23737.txt',\n",
       " 'neg/cv310_14568.txt',\n",
       " 'neg/cv311_17708.txt',\n",
       " 'neg/cv312_29308.txt',\n",
       " 'neg/cv313_19337.txt',\n",
       " 'neg/cv314_16095.txt',\n",
       " 'neg/cv315_12638.txt',\n",
       " 'neg/cv316_5972.txt',\n",
       " 'neg/cv317_25111.txt',\n",
       " 'neg/cv318_11146.txt',\n",
       " 'neg/cv319_16459.txt',\n",
       " 'neg/cv320_9693.txt',\n",
       " 'neg/cv321_14191.txt',\n",
       " 'neg/cv322_21820.txt',\n",
       " 'neg/cv323_29633.txt',\n",
       " 'neg/cv324_7502.txt',\n",
       " 'neg/cv325_18330.txt',\n",
       " 'neg/cv326_14777.txt',\n",
       " 'neg/cv327_21743.txt',\n",
       " 'neg/cv328_10908.txt',\n",
       " 'neg/cv329_29293.txt',\n",
       " 'neg/cv330_29675.txt',\n",
       " 'neg/cv331_8656.txt',\n",
       " 'neg/cv332_17997.txt',\n",
       " 'neg/cv333_9443.txt',\n",
       " 'neg/cv334_0074.txt',\n",
       " 'neg/cv335_16299.txt',\n",
       " 'neg/cv336_10363.txt',\n",
       " 'neg/cv337_29061.txt',\n",
       " 'neg/cv338_9183.txt',\n",
       " 'neg/cv339_22452.txt',\n",
       " 'neg/cv340_14776.txt',\n",
       " 'neg/cv341_25667.txt',\n",
       " 'neg/cv342_20917.txt',\n",
       " 'neg/cv343_10906.txt',\n",
       " 'neg/cv344_5376.txt',\n",
       " 'neg/cv345_9966.txt',\n",
       " 'neg/cv346_19198.txt',\n",
       " 'neg/cv347_14722.txt',\n",
       " 'neg/cv348_19207.txt',\n",
       " 'neg/cv349_15032.txt',\n",
       " 'neg/cv350_22139.txt',\n",
       " 'neg/cv351_17029.txt',\n",
       " 'neg/cv352_5414.txt',\n",
       " 'neg/cv353_19197.txt',\n",
       " 'neg/cv354_8573.txt',\n",
       " 'neg/cv355_18174.txt',\n",
       " 'neg/cv356_26170.txt',\n",
       " 'neg/cv357_14710.txt',\n",
       " 'neg/cv358_11557.txt',\n",
       " 'neg/cv359_6751.txt',\n",
       " 'neg/cv360_8927.txt',\n",
       " 'neg/cv361_28738.txt',\n",
       " 'neg/cv362_16985.txt',\n",
       " 'neg/cv363_29273.txt',\n",
       " 'neg/cv364_14254.txt',\n",
       " 'neg/cv365_12442.txt',\n",
       " 'neg/cv366_10709.txt',\n",
       " 'neg/cv367_24065.txt',\n",
       " 'neg/cv368_11090.txt',\n",
       " 'neg/cv369_14245.txt',\n",
       " 'neg/cv370_5338.txt',\n",
       " 'neg/cv371_8197.txt',\n",
       " 'neg/cv372_6654.txt',\n",
       " 'neg/cv373_21872.txt',\n",
       " 'neg/cv374_26455.txt',\n",
       " 'neg/cv375_9932.txt',\n",
       " 'neg/cv376_20883.txt',\n",
       " 'neg/cv377_8440.txt',\n",
       " 'neg/cv378_21982.txt',\n",
       " 'neg/cv379_23167.txt',\n",
       " 'neg/cv380_8164.txt',\n",
       " 'neg/cv381_21673.txt',\n",
       " 'neg/cv382_8393.txt',\n",
       " 'neg/cv383_14662.txt',\n",
       " 'neg/cv384_18536.txt',\n",
       " 'neg/cv385_29621.txt',\n",
       " 'neg/cv386_10229.txt',\n",
       " 'neg/cv387_12391.txt',\n",
       " 'neg/cv388_12810.txt',\n",
       " 'neg/cv389_9611.txt',\n",
       " 'neg/cv390_12187.txt',\n",
       " 'neg/cv391_11615.txt',\n",
       " 'neg/cv392_12238.txt',\n",
       " 'neg/cv393_29234.txt',\n",
       " 'neg/cv394_5311.txt',\n",
       " 'neg/cv395_11761.txt',\n",
       " 'neg/cv396_19127.txt',\n",
       " 'neg/cv397_28890.txt',\n",
       " 'neg/cv398_17047.txt',\n",
       " 'neg/cv399_28593.txt',\n",
       " 'neg/cv400_20631.txt',\n",
       " 'neg/cv401_13758.txt',\n",
       " 'neg/cv402_16097.txt',\n",
       " 'neg/cv403_6721.txt',\n",
       " 'neg/cv404_21805.txt',\n",
       " 'neg/cv405_21868.txt',\n",
       " 'neg/cv406_22199.txt',\n",
       " 'neg/cv407_23928.txt',\n",
       " 'neg/cv408_5367.txt',\n",
       " 'neg/cv409_29625.txt',\n",
       " 'neg/cv410_25624.txt',\n",
       " 'neg/cv411_16799.txt',\n",
       " 'neg/cv412_25254.txt',\n",
       " 'neg/cv413_7893.txt',\n",
       " 'neg/cv414_11161.txt',\n",
       " 'neg/cv415_23674.txt',\n",
       " 'neg/cv416_12048.txt',\n",
       " 'neg/cv417_14653.txt',\n",
       " 'neg/cv418_16562.txt',\n",
       " 'neg/cv419_14799.txt',\n",
       " 'neg/cv420_28631.txt',\n",
       " 'neg/cv421_9752.txt',\n",
       " 'neg/cv422_9632.txt',\n",
       " 'neg/cv423_12089.txt',\n",
       " 'neg/cv424_9268.txt',\n",
       " 'neg/cv425_8603.txt',\n",
       " 'neg/cv426_10976.txt',\n",
       " 'neg/cv427_11693.txt',\n",
       " 'neg/cv428_12202.txt',\n",
       " 'neg/cv429_7937.txt',\n",
       " 'neg/cv430_18662.txt',\n",
       " 'neg/cv431_7538.txt',\n",
       " 'neg/cv432_15873.txt',\n",
       " 'neg/cv433_10443.txt',\n",
       " 'neg/cv434_5641.txt',\n",
       " 'neg/cv435_24355.txt',\n",
       " 'neg/cv436_20564.txt',\n",
       " 'neg/cv437_24070.txt',\n",
       " 'neg/cv438_8500.txt',\n",
       " 'neg/cv439_17633.txt',\n",
       " 'neg/cv440_16891.txt',\n",
       " 'neg/cv441_15276.txt',\n",
       " 'neg/cv442_15499.txt',\n",
       " 'neg/cv443_22367.txt',\n",
       " 'neg/cv444_9975.txt',\n",
       " 'neg/cv445_26683.txt',\n",
       " 'neg/cv446_12209.txt',\n",
       " 'neg/cv447_27334.txt',\n",
       " 'neg/cv448_16409.txt',\n",
       " 'neg/cv449_9126.txt',\n",
       " 'neg/cv450_8319.txt',\n",
       " 'neg/cv451_11502.txt',\n",
       " 'neg/cv452_5179.txt',\n",
       " 'neg/cv453_10911.txt',\n",
       " 'neg/cv454_21961.txt',\n",
       " 'neg/cv455_28866.txt',\n",
       " 'neg/cv456_20370.txt',\n",
       " 'neg/cv457_19546.txt',\n",
       " 'neg/cv458_9000.txt',\n",
       " 'neg/cv459_21834.txt',\n",
       " 'neg/cv460_11723.txt',\n",
       " 'neg/cv461_21124.txt',\n",
       " 'neg/cv462_20788.txt',\n",
       " 'neg/cv463_10846.txt',\n",
       " 'neg/cv464_17076.txt',\n",
       " 'neg/cv465_23401.txt',\n",
       " 'neg/cv466_20092.txt',\n",
       " 'neg/cv467_26610.txt',\n",
       " 'neg/cv468_16844.txt',\n",
       " 'neg/cv469_21998.txt',\n",
       " 'neg/cv470_17444.txt',\n",
       " 'neg/cv471_18405.txt',\n",
       " 'neg/cv472_29140.txt',\n",
       " 'neg/cv473_7869.txt',\n",
       " 'neg/cv474_10682.txt',\n",
       " 'neg/cv475_22978.txt',\n",
       " 'neg/cv476_18402.txt',\n",
       " 'neg/cv477_23530.txt',\n",
       " 'neg/cv478_15921.txt',\n",
       " 'neg/cv479_5450.txt',\n",
       " 'neg/cv480_21195.txt',\n",
       " 'neg/cv481_7930.txt',\n",
       " 'neg/cv482_11233.txt',\n",
       " 'neg/cv483_18103.txt',\n",
       " 'neg/cv484_26169.txt',\n",
       " 'neg/cv485_26879.txt',\n",
       " 'neg/cv486_9788.txt',\n",
       " 'neg/cv487_11058.txt',\n",
       " 'neg/cv488_21453.txt',\n",
       " 'neg/cv489_19046.txt',\n",
       " 'neg/cv490_18986.txt',\n",
       " 'neg/cv491_12992.txt',\n",
       " 'neg/cv492_19370.txt',\n",
       " 'neg/cv493_14135.txt',\n",
       " 'neg/cv494_18689.txt',\n",
       " 'neg/cv495_16121.txt',\n",
       " 'neg/cv496_11185.txt',\n",
       " 'neg/cv497_27086.txt',\n",
       " 'neg/cv498_9288.txt',\n",
       " 'neg/cv499_11407.txt',\n",
       " 'neg/cv500_10722.txt',\n",
       " 'neg/cv501_12675.txt',\n",
       " 'neg/cv502_10970.txt',\n",
       " 'neg/cv503_11196.txt',\n",
       " 'neg/cv504_29120.txt',\n",
       " 'neg/cv505_12926.txt',\n",
       " 'neg/cv506_17521.txt',\n",
       " 'neg/cv507_9509.txt',\n",
       " 'neg/cv508_17742.txt',\n",
       " 'neg/cv509_17354.txt',\n",
       " 'neg/cv510_24758.txt',\n",
       " 'neg/cv511_10360.txt',\n",
       " 'neg/cv512_17618.txt',\n",
       " 'neg/cv513_7236.txt',\n",
       " 'neg/cv514_12173.txt',\n",
       " 'neg/cv515_18484.txt',\n",
       " 'neg/cv516_12117.txt',\n",
       " 'neg/cv517_20616.txt',\n",
       " 'neg/cv518_14798.txt',\n",
       " 'neg/cv519_16239.txt',\n",
       " 'neg/cv520_13297.txt',\n",
       " 'neg/cv521_1730.txt',\n",
       " 'neg/cv522_5418.txt',\n",
       " 'neg/cv523_18285.txt',\n",
       " 'neg/cv524_24885.txt',\n",
       " 'neg/cv525_17930.txt',\n",
       " 'neg/cv526_12868.txt',\n",
       " 'neg/cv527_10338.txt',\n",
       " 'neg/cv528_11669.txt',\n",
       " 'neg/cv529_10972.txt',\n",
       " 'neg/cv530_17949.txt',\n",
       " 'neg/cv531_26838.txt',\n",
       " 'neg/cv532_6495.txt',\n",
       " 'neg/cv533_9843.txt',\n",
       " 'neg/cv534_15683.txt',\n",
       " 'neg/cv535_21183.txt',\n",
       " 'neg/cv536_27221.txt',\n",
       " 'neg/cv537_13516.txt',\n",
       " 'neg/cv538_28485.txt',\n",
       " 'neg/cv539_21865.txt',\n",
       " 'neg/cv540_3092.txt',\n",
       " 'neg/cv541_28683.txt',\n",
       " 'neg/cv542_20359.txt',\n",
       " 'neg/cv543_5107.txt',\n",
       " 'neg/cv544_5301.txt',\n",
       " 'neg/cv545_12848.txt',\n",
       " 'neg/cv546_12723.txt',\n",
       " 'neg/cv547_18043.txt',\n",
       " 'neg/cv548_18944.txt',\n",
       " 'neg/cv549_22771.txt',\n",
       " 'neg/cv550_23226.txt',\n",
       " 'neg/cv551_11214.txt',\n",
       " 'neg/cv552_0150.txt',\n",
       " 'neg/cv553_26965.txt',\n",
       " 'neg/cv554_14678.txt',\n",
       " 'neg/cv555_25047.txt',\n",
       " 'neg/cv556_16563.txt',\n",
       " 'neg/cv557_12237.txt',\n",
       " 'neg/cv558_29376.txt',\n",
       " 'neg/cv559_0057.txt',\n",
       " 'neg/cv560_18608.txt',\n",
       " 'neg/cv561_9484.txt',\n",
       " 'neg/cv562_10847.txt',\n",
       " 'neg/cv563_18610.txt',\n",
       " 'neg/cv564_12011.txt',\n",
       " 'neg/cv565_29403.txt',\n",
       " 'neg/cv566_8967.txt',\n",
       " 'neg/cv567_29420.txt',\n",
       " 'neg/cv568_17065.txt',\n",
       " 'neg/cv569_26750.txt',\n",
       " 'neg/cv570_28960.txt',\n",
       " 'neg/cv571_29292.txt',\n",
       " 'neg/cv572_20053.txt',\n",
       " 'neg/cv573_29384.txt',\n",
       " 'neg/cv574_23191.txt',\n",
       " 'neg/cv575_22598.txt',\n",
       " 'neg/cv576_15688.txt',\n",
       " 'neg/cv577_28220.txt',\n",
       " 'neg/cv578_16825.txt',\n",
       " 'neg/cv579_12542.txt',\n",
       " 'neg/cv580_15681.txt',\n",
       " 'neg/cv581_20790.txt',\n",
       " 'neg/cv582_6678.txt',\n",
       " 'neg/cv583_29465.txt',\n",
       " 'neg/cv584_29549.txt',\n",
       " 'neg/cv585_23576.txt',\n",
       " 'neg/cv586_8048.txt',\n",
       " 'neg/cv587_20532.txt',\n",
       " 'neg/cv588_14467.txt',\n",
       " 'neg/cv589_12853.txt',\n",
       " 'neg/cv590_20712.txt',\n",
       " 'neg/cv591_24887.txt',\n",
       " 'neg/cv592_23391.txt',\n",
       " 'neg/cv593_11931.txt',\n",
       " 'neg/cv594_11945.txt',\n",
       " 'neg/cv595_26420.txt',\n",
       " 'neg/cv596_4367.txt',\n",
       " 'neg/cv597_26744.txt',\n",
       " 'neg/cv598_18184.txt',\n",
       " 'neg/cv599_22197.txt',\n",
       " 'neg/cv600_25043.txt',\n",
       " 'neg/cv601_24759.txt',\n",
       " 'neg/cv602_8830.txt',\n",
       " 'neg/cv603_18885.txt',\n",
       " 'neg/cv604_23339.txt',\n",
       " 'neg/cv605_12730.txt',\n",
       " 'neg/cv606_17672.txt',\n",
       " 'neg/cv607_8235.txt',\n",
       " 'neg/cv608_24647.txt',\n",
       " 'neg/cv609_25038.txt',\n",
       " 'neg/cv610_24153.txt',\n",
       " 'neg/cv611_2253.txt',\n",
       " 'neg/cv612_5396.txt',\n",
       " 'neg/cv613_23104.txt',\n",
       " 'neg/cv614_11320.txt',\n",
       " 'neg/cv615_15734.txt',\n",
       " 'neg/cv616_29187.txt',\n",
       " 'neg/cv617_9561.txt',\n",
       " 'neg/cv618_9469.txt',\n",
       " 'neg/cv619_13677.txt',\n",
       " 'neg/cv620_2556.txt',\n",
       " 'neg/cv621_15984.txt',\n",
       " 'neg/cv622_8583.txt',\n",
       " 'neg/cv623_16988.txt',\n",
       " 'neg/cv624_11601.txt',\n",
       " 'neg/cv625_13518.txt',\n",
       " 'neg/cv626_7907.txt',\n",
       " 'neg/cv627_12603.txt',\n",
       " 'neg/cv628_20758.txt',\n",
       " 'neg/cv629_16604.txt',\n",
       " 'neg/cv630_10152.txt',\n",
       " 'neg/cv631_4782.txt',\n",
       " 'neg/cv632_9704.txt',\n",
       " 'neg/cv633_29730.txt',\n",
       " 'neg/cv634_11989.txt',\n",
       " 'neg/cv635_0984.txt',\n",
       " 'neg/cv636_16954.txt',\n",
       " 'neg/cv637_13682.txt',\n",
       " 'neg/cv638_29394.txt',\n",
       " 'neg/cv639_10797.txt',\n",
       " 'neg/cv640_5380.txt',\n",
       " 'neg/cv641_13412.txt',\n",
       " 'neg/cv642_29788.txt',\n",
       " 'neg/cv643_29282.txt',\n",
       " 'neg/cv644_18551.txt',\n",
       " 'neg/cv645_17078.txt',\n",
       " 'neg/cv646_16817.txt',\n",
       " 'neg/cv647_15275.txt',\n",
       " 'neg/cv648_17277.txt',\n",
       " 'neg/cv649_13947.txt',\n",
       " 'neg/cv650_15974.txt',\n",
       " 'neg/cv651_11120.txt',\n",
       " 'neg/cv652_15653.txt',\n",
       " 'neg/cv653_2107.txt',\n",
       " 'neg/cv654_19345.txt',\n",
       " 'neg/cv655_12055.txt',\n",
       " 'neg/cv656_25395.txt',\n",
       " 'neg/cv657_25835.txt',\n",
       " 'neg/cv658_11186.txt',\n",
       " 'neg/cv659_21483.txt',\n",
       " 'neg/cv660_23140.txt',\n",
       " 'neg/cv661_25780.txt',\n",
       " 'neg/cv662_14791.txt',\n",
       " 'neg/cv663_14484.txt',\n",
       " 'neg/cv664_4264.txt',\n",
       " 'neg/cv665_29386.txt',\n",
       " 'neg/cv666_20301.txt',\n",
       " 'neg/cv667_19672.txt',\n",
       " 'neg/cv668_18848.txt',\n",
       " 'neg/cv669_24318.txt',\n",
       " 'neg/cv670_2666.txt',\n",
       " 'neg/cv671_5164.txt',\n",
       " 'neg/cv672_27988.txt',\n",
       " 'neg/cv673_25874.txt',\n",
       " 'neg/cv674_11593.txt',\n",
       " 'neg/cv675_22871.txt',\n",
       " 'neg/cv676_22202.txt',\n",
       " 'neg/cv677_18938.txt',\n",
       " 'neg/cv678_14887.txt',\n",
       " 'neg/cv679_28221.txt',\n",
       " 'neg/cv680_10533.txt',\n",
       " 'neg/cv681_9744.txt',\n",
       " 'neg/cv682_17947.txt',\n",
       " 'neg/cv683_13047.txt',\n",
       " 'neg/cv684_12727.txt',\n",
       " 'neg/cv685_5710.txt',\n",
       " 'neg/cv686_15553.txt',\n",
       " 'neg/cv687_22207.txt',\n",
       " 'neg/cv688_7884.txt',\n",
       " 'neg/cv689_13701.txt',\n",
       " 'neg/cv690_5425.txt',\n",
       " 'neg/cv691_5090.txt',\n",
       " 'neg/cv692_17026.txt',\n",
       " 'neg/cv693_19147.txt',\n",
       " 'neg/cv694_4526.txt',\n",
       " 'neg/cv695_22268.txt',\n",
       " 'neg/cv696_29619.txt',\n",
       " 'neg/cv697_12106.txt',\n",
       " 'neg/cv698_16930.txt',\n",
       " 'neg/cv699_7773.txt',\n",
       " 'neg/cv700_23163.txt',\n",
       " 'neg/cv701_15880.txt',\n",
       " 'neg/cv702_12371.txt',\n",
       " 'neg/cv703_17948.txt',\n",
       " 'neg/cv704_17622.txt',\n",
       " 'neg/cv705_11973.txt',\n",
       " 'neg/cv706_25883.txt',\n",
       " 'neg/cv707_11421.txt',\n",
       " 'neg/cv708_28539.txt',\n",
       " 'neg/cv709_11173.txt',\n",
       " 'neg/cv710_23745.txt',\n",
       " 'neg/cv711_12687.txt',\n",
       " 'neg/cv712_24217.txt',\n",
       " 'neg/cv713_29002.txt',\n",
       " 'neg/cv714_19704.txt',\n",
       " 'neg/cv715_19246.txt',\n",
       " 'neg/cv716_11153.txt',\n",
       " 'neg/cv717_17472.txt',\n",
       " 'neg/cv718_12227.txt',\n",
       " 'neg/cv719_5581.txt',\n",
       " 'neg/cv720_5383.txt',\n",
       " 'neg/cv721_28993.txt',\n",
       " 'neg/cv722_7571.txt',\n",
       " 'neg/cv723_9002.txt',\n",
       " 'neg/cv724_15265.txt',\n",
       " 'neg/cv725_10266.txt',\n",
       " 'neg/cv726_4365.txt',\n",
       " 'neg/cv727_5006.txt',\n",
       " 'neg/cv728_17931.txt',\n",
       " 'neg/cv729_10475.txt',\n",
       " 'neg/cv730_10729.txt',\n",
       " 'neg/cv731_3968.txt',\n",
       " 'neg/cv732_13092.txt',\n",
       " 'neg/cv733_9891.txt',\n",
       " 'neg/cv734_22821.txt',\n",
       " 'neg/cv735_20218.txt',\n",
       " 'neg/cv736_24947.txt',\n",
       " 'neg/cv737_28733.txt',\n",
       " 'neg/cv738_10287.txt',\n",
       " 'neg/cv739_12179.txt',\n",
       " 'neg/cv740_13643.txt',\n",
       " 'neg/cv741_12765.txt',\n",
       " 'neg/cv742_8279.txt',\n",
       " 'neg/cv743_17023.txt',\n",
       " 'neg/cv744_10091.txt',\n",
       " 'neg/cv745_14009.txt',\n",
       " 'neg/cv746_10471.txt',\n",
       " 'neg/cv747_18189.txt',\n",
       " 'neg/cv748_14044.txt',\n",
       " 'neg/cv749_18960.txt',\n",
       " 'neg/cv750_10606.txt',\n",
       " 'neg/cv751_17208.txt',\n",
       " 'neg/cv752_25330.txt',\n",
       " 'neg/cv753_11812.txt',\n",
       " 'neg/cv754_7709.txt',\n",
       " 'neg/cv755_24881.txt',\n",
       " 'neg/cv756_23676.txt',\n",
       " 'neg/cv757_10668.txt',\n",
       " 'neg/cv758_9740.txt',\n",
       " 'neg/cv759_15091.txt',\n",
       " 'neg/cv760_8977.txt',\n",
       " 'neg/cv761_13769.txt',\n",
       " 'neg/cv762_15604.txt',\n",
       " 'neg/cv763_16486.txt',\n",
       " 'neg/cv764_12701.txt',\n",
       " 'neg/cv765_20429.txt',\n",
       " 'neg/cv766_7983.txt',\n",
       " 'neg/cv767_15673.txt',\n",
       " 'neg/cv768_12709.txt',\n",
       " 'neg/cv769_8565.txt',\n",
       " 'neg/cv770_11061.txt',\n",
       " 'neg/cv771_28466.txt',\n",
       " 'neg/cv772_12971.txt',\n",
       " 'neg/cv773_20264.txt',\n",
       " 'neg/cv774_15488.txt',\n",
       " 'neg/cv775_17966.txt',\n",
       " 'neg/cv776_21934.txt',\n",
       " 'neg/cv777_10247.txt',\n",
       " 'neg/cv778_18629.txt',\n",
       " 'neg/cv779_18989.txt',\n",
       " 'neg/cv780_8467.txt',\n",
       " 'neg/cv781_5358.txt',\n",
       " 'neg/cv782_21078.txt',\n",
       " 'neg/cv783_14724.txt',\n",
       " 'neg/cv784_16077.txt',\n",
       " 'neg/cv785_23748.txt',\n",
       " 'neg/cv786_23608.txt',\n",
       " 'neg/cv787_15277.txt',\n",
       " 'neg/cv788_26409.txt',\n",
       " 'neg/cv789_12991.txt',\n",
       " 'neg/cv790_16202.txt',\n",
       " 'neg/cv791_17995.txt',\n",
       " 'neg/cv792_3257.txt',\n",
       " 'neg/cv793_15235.txt',\n",
       " 'neg/cv794_17353.txt',\n",
       " 'neg/cv795_10291.txt',\n",
       " 'neg/cv796_17243.txt',\n",
       " 'neg/cv797_7245.txt',\n",
       " 'neg/cv798_24779.txt',\n",
       " 'neg/cv799_19812.txt',\n",
       " 'neg/cv800_13494.txt',\n",
       " 'neg/cv801_26335.txt',\n",
       " 'neg/cv802_28381.txt',\n",
       " 'neg/cv803_8584.txt',\n",
       " 'neg/cv804_11763.txt',\n",
       " 'neg/cv805_21128.txt',\n",
       " 'neg/cv806_9405.txt',\n",
       " 'neg/cv807_23024.txt',\n",
       " 'neg/cv808_13773.txt',\n",
       " 'neg/cv809_5012.txt',\n",
       " 'neg/cv810_13660.txt',\n",
       " 'neg/cv811_22646.txt',\n",
       " 'neg/cv812_19051.txt',\n",
       " 'neg/cv813_6649.txt',\n",
       " 'neg/cv814_20316.txt',\n",
       " 'neg/cv815_23466.txt',\n",
       " 'neg/cv816_15257.txt',\n",
       " 'neg/cv817_3675.txt',\n",
       " 'neg/cv818_10698.txt',\n",
       " 'neg/cv819_9567.txt',\n",
       " 'neg/cv820_24157.txt',\n",
       " 'neg/cv821_29283.txt',\n",
       " 'neg/cv822_21545.txt',\n",
       " 'neg/cv823_17055.txt',\n",
       " 'neg/cv824_9335.txt',\n",
       " 'neg/cv825_5168.txt',\n",
       " 'neg/cv826_12761.txt',\n",
       " 'neg/cv827_19479.txt',\n",
       " 'neg/cv828_21392.txt',\n",
       " 'neg/cv829_21725.txt',\n",
       " 'neg/cv830_5778.txt',\n",
       " 'neg/cv831_16325.txt',\n",
       " 'neg/cv832_24713.txt',\n",
       " 'neg/cv833_11961.txt',\n",
       " 'neg/cv834_23192.txt',\n",
       " 'neg/cv835_20531.txt',\n",
       " 'neg/cv836_14311.txt',\n",
       " 'neg/cv837_27232.txt',\n",
       " 'neg/cv838_25886.txt',\n",
       " 'neg/cv839_22807.txt',\n",
       " 'neg/cv840_18033.txt',\n",
       " 'neg/cv841_3367.txt',\n",
       " 'neg/cv842_5702.txt',\n",
       " 'neg/cv843_17054.txt',\n",
       " 'neg/cv844_13890.txt',\n",
       " 'neg/cv845_15886.txt',\n",
       " 'neg/cv846_29359.txt',\n",
       " 'neg/cv847_20855.txt',\n",
       " 'neg/cv848_10061.txt',\n",
       " 'neg/cv849_17215.txt',\n",
       " 'neg/cv850_18185.txt',\n",
       " 'neg/cv851_21895.txt',\n",
       " 'neg/cv852_27512.txt',\n",
       " 'neg/cv853_29119.txt',\n",
       " 'neg/cv854_18955.txt',\n",
       " 'neg/cv855_22134.txt',\n",
       " 'neg/cv856_28882.txt',\n",
       " 'neg/cv857_17527.txt',\n",
       " 'neg/cv858_20266.txt',\n",
       " 'neg/cv859_15689.txt',\n",
       " 'neg/cv860_15520.txt',\n",
       " 'neg/cv861_12809.txt',\n",
       " 'neg/cv862_15924.txt',\n",
       " 'neg/cv863_7912.txt',\n",
       " 'neg/cv864_3087.txt',\n",
       " 'neg/cv865_28796.txt',\n",
       " 'neg/cv866_29447.txt',\n",
       " 'neg/cv867_18362.txt',\n",
       " 'neg/cv868_12799.txt',\n",
       " 'neg/cv869_24782.txt',\n",
       " 'neg/cv870_18090.txt',\n",
       " 'neg/cv871_25971.txt',\n",
       " 'neg/cv872_13710.txt',\n",
       " 'neg/cv873_19937.txt',\n",
       " 'neg/cv874_12182.txt',\n",
       " 'neg/cv875_5622.txt',\n",
       " 'neg/cv876_9633.txt',\n",
       " 'neg/cv877_29132.txt',\n",
       " 'neg/cv878_17204.txt',\n",
       " 'neg/cv879_16585.txt',\n",
       " 'neg/cv880_29629.txt',\n",
       " 'neg/cv881_14767.txt',\n",
       " 'neg/cv882_10042.txt',\n",
       " 'neg/cv883_27621.txt',\n",
       " 'neg/cv884_15230.txt',\n",
       " 'neg/cv885_13390.txt',\n",
       " 'neg/cv886_19210.txt',\n",
       " 'neg/cv887_5306.txt',\n",
       " 'neg/cv888_25678.txt',\n",
       " 'neg/cv889_22670.txt',\n",
       " 'neg/cv890_3515.txt',\n",
       " 'neg/cv891_6035.txt',\n",
       " 'neg/cv892_18788.txt',\n",
       " 'neg/cv893_26731.txt',\n",
       " 'neg/cv894_22140.txt',\n",
       " 'neg/cv895_22200.txt',\n",
       " 'neg/cv896_17819.txt',\n",
       " 'neg/cv897_11703.txt',\n",
       " 'neg/cv898_1576.txt',\n",
       " 'neg/cv899_17812.txt',\n",
       " 'neg/cv900_10800.txt',\n",
       " 'neg/cv901_11934.txt',\n",
       " 'neg/cv902_13217.txt',\n",
       " 'neg/cv903_18981.txt',\n",
       " 'neg/cv904_25663.txt',\n",
       " 'neg/cv905_28965.txt',\n",
       " 'neg/cv906_12332.txt',\n",
       " 'neg/cv907_3193.txt',\n",
       " 'neg/cv908_17779.txt',\n",
       " 'neg/cv909_9973.txt',\n",
       " 'neg/cv910_21930.txt',\n",
       " 'neg/cv911_21695.txt',\n",
       " 'neg/cv912_5562.txt',\n",
       " 'neg/cv913_29127.txt',\n",
       " 'neg/cv914_2856.txt',\n",
       " 'neg/cv915_9342.txt',\n",
       " 'neg/cv916_17034.txt',\n",
       " 'neg/cv917_29484.txt',\n",
       " 'neg/cv918_27080.txt',\n",
       " 'neg/cv919_18155.txt',\n",
       " 'neg/cv920_29423.txt',\n",
       " 'neg/cv921_13988.txt',\n",
       " 'neg/cv922_10185.txt',\n",
       " 'neg/cv923_11951.txt',\n",
       " 'neg/cv924_29397.txt',\n",
       " 'neg/cv925_9459.txt',\n",
       " 'neg/cv926_18471.txt',\n",
       " 'neg/cv927_11471.txt',\n",
       " 'neg/cv928_9478.txt',\n",
       " 'neg/cv929_1841.txt',\n",
       " 'neg/cv930_14949.txt',\n",
       " 'neg/cv931_18783.txt',\n",
       " 'neg/cv932_14854.txt',\n",
       " 'neg/cv933_24953.txt',\n",
       " 'neg/cv934_20426.txt',\n",
       " 'neg/cv935_24977.txt',\n",
       " 'neg/cv936_17473.txt',\n",
       " 'neg/cv937_9816.txt',\n",
       " 'neg/cv938_10706.txt',\n",
       " 'neg/cv939_11247.txt',\n",
       " 'neg/cv940_18935.txt',\n",
       " 'neg/cv941_10718.txt',\n",
       " 'neg/cv942_18509.txt',\n",
       " 'neg/cv943_23547.txt',\n",
       " 'neg/cv944_15042.txt',\n",
       " 'neg/cv945_13012.txt',\n",
       " 'neg/cv946_20084.txt',\n",
       " 'neg/cv947_11316.txt',\n",
       " 'neg/cv948_25870.txt',\n",
       " 'neg/cv949_21565.txt',\n",
       " 'neg/cv950_13478.txt',\n",
       " 'neg/cv951_11816.txt',\n",
       " 'neg/cv952_26375.txt',\n",
       " 'neg/cv953_7078.txt',\n",
       " 'neg/cv954_19932.txt',\n",
       " 'neg/cv955_26154.txt',\n",
       " 'neg/cv956_12547.txt',\n",
       " 'neg/cv957_9059.txt',\n",
       " 'neg/cv958_13020.txt',\n",
       " 'neg/cv959_16218.txt',\n",
       " 'neg/cv960_28877.txt',\n",
       " 'neg/cv961_5578.txt',\n",
       " 'neg/cv962_9813.txt',\n",
       " 'neg/cv963_7208.txt',\n",
       " 'neg/cv964_5794.txt',\n",
       " 'neg/cv965_26688.txt',\n",
       " 'neg/cv966_28671.txt',\n",
       " 'neg/cv967_5626.txt',\n",
       " 'neg/cv968_25413.txt',\n",
       " 'neg/cv969_14760.txt',\n",
       " 'neg/cv970_19532.txt',\n",
       " 'neg/cv971_11790.txt',\n",
       " 'neg/cv972_26837.txt',\n",
       " 'neg/cv973_10171.txt',\n",
       " 'neg/cv974_24303.txt',\n",
       " 'neg/cv975_11920.txt',\n",
       " 'neg/cv976_10724.txt',\n",
       " 'neg/cv977_4776.txt',\n",
       " 'neg/cv978_22192.txt',\n",
       " 'neg/cv979_2029.txt',\n",
       " 'neg/cv980_11851.txt',\n",
       " 'neg/cv981_16679.txt',\n",
       " 'neg/cv982_22209.txt',\n",
       " 'neg/cv983_24219.txt',\n",
       " 'neg/cv984_14006.txt',\n",
       " 'neg/cv985_5964.txt',\n",
       " 'neg/cv986_15092.txt',\n",
       " 'neg/cv987_7394.txt',\n",
       " 'neg/cv988_20168.txt',\n",
       " 'neg/cv989_17297.txt',\n",
       " 'neg/cv990_12443.txt',\n",
       " 'neg/cv991_19973.txt',\n",
       " 'neg/cv992_12806.txt',\n",
       " 'neg/cv993_29565.txt',\n",
       " 'neg/cv994_13229.txt',\n",
       " 'neg/cv995_23113.txt',\n",
       " 'neg/cv996_12447.txt',\n",
       " 'neg/cv997_5152.txt',\n",
       " 'neg/cv998_15691.txt',\n",
       " 'neg/cv999_14636.txt',\n",
       " ...]"
      ]
     },
     "execution_count": 7,
     "metadata": {},
     "output_type": "execute_result"
    }
   ],
   "source": [
    "from nltk.corpus import movie_reviews\n",
    "movie_reviews.fileids()"
   ]
  },
  {
   "cell_type": "code",
   "execution_count": 11,
   "metadata": {},
   "outputs": [
    {
     "data": {
      "text/plain": [
       "'there was a time when john carpenter was a great horror director . \\nof course , his best film was 1978\\'s masterpiece , \" halloween , \" but he also made 1980\\'s \" the fog , \" and 1987\\'s underrated , \" p'"
      ]
     },
     "execution_count": 11,
     "metadata": {},
     "output_type": "execute_result"
    }
   ],
   "source": [
    "movie_reviews.raw('neg/cv998_15691.txt')[:200]"
   ]
  },
  {
   "cell_type": "code",
   "execution_count": 14,
   "metadata": {},
   "outputs": [
    {
     "data": {
      "text/plain": [
       "[['there', 'was', 'a', 'time', 'when', 'john', 'carpenter', 'was', 'a', 'great', 'horror', 'director', '.'], ['of', 'course', ',', 'his', 'best', 'film', 'was', '1978', \"'\", 's', 'masterpiece', ',', '\"', 'halloween', ',', '\"', 'but', 'he', 'also', 'made', '1980', \"'\", 's', '\"', 'the', 'fog', ',', '\"', 'and', '1987', \"'\", 's', 'underrated', ',', '\"', 'prince', 'of', 'darkness', '.', '\"'], ...]"
      ]
     },
     "execution_count": 14,
     "metadata": {},
     "output_type": "execute_result"
    }
   ],
   "source": [
    "movie_reviews.sents('neg/cv998_15691.txt')"
   ]
  },
  {
   "cell_type": "code",
   "execution_count": 15,
   "metadata": {},
   "outputs": [
    {
     "data": {
      "text/plain": [
       "['there', 'was', 'a', 'time', 'when', 'john', ...]"
      ]
     },
     "execution_count": 15,
     "metadata": {},
     "output_type": "execute_result"
    }
   ],
   "source": [
    "movie_reviews.words('neg/cv998_15691.txt')"
   ]
  },
  {
   "cell_type": "code",
   "execution_count": 19,
   "metadata": {},
   "outputs": [
    {
     "name": "stdout",
     "output_type": "stream",
     "text": [
      "['plot', ':', 'two', 'teen', 'couples', 'go', 'to', 'a', 'church', 'party', ',', 'drink', 'and', 'then', 'drive', '.', 'they', 'get', 'into', 'an', 'accident', '.', 'one', 'of', 'the', 'guys', 'dies', ',', 'but', 'his', 'girlfriend', 'continues', 'to', 'see', 'him', 'in', 'her', 'life', ',', 'and', 'has', 'nightmares', '.', 'what', \"'\", 's', 'the', 'deal', '?', 'watch']\n"
     ]
    }
   ],
   "source": [
    "documents = [movie_reviews.words(fileid) for fileid in movie_reviews.fileids()]\n",
    "print(documents[0][:50])"
   ]
  },
  {
   "cell_type": "code",
   "execution_count": 20,
   "metadata": {},
   "outputs": [
    {
     "name": "stdout",
     "output_type": "stream",
     "text": [
      ", 77717\n",
      "the 76529\n",
      ". 65876\n",
      "a 38106\n",
      "and 35576\n",
      "of 34123\n",
      "to 31937\n",
      "' 30585\n",
      "is 25195\n",
      "in 21822\n"
     ]
    }
   ],
   "source": [
    "word_count = {}\n",
    "for text in documents:\n",
    "    for word in text:\n",
    "        word_count[word] = word_count.get(word, 0) + 1\n",
    "\n",
    "sorted_features = sorted(word_count, key=word_count.get, reverse=True)\n",
    "for word in sorted_features[:10]:\n",
    "    print(word, word_count[word])"
   ]
  },
  {
   "cell_type": "code",
   "execution_count": 22,
   "metadata": {},
   "outputs": [],
   "source": [
    "from nltk.tokenize import RegexpTokenizer\n",
    "from nltk.corpus import stopwords\n",
    "\n",
    "tokenizer = RegexpTokenizer(\"[\\w']{3,}\")\n",
    "english_stops = set(stopwords.words('english'))\n",
    "\n",
    "documents = [movie_reviews.raw(fileid) for fileid in movie_reviews.fileids()]\n",
    "\n",
    "tokens = [[token for token in tokenizer.tokenize(doc) \\\n",
    "    if token not in english_stops] for doc in documents]"
   ]
  },
  {
   "cell_type": "code",
   "execution_count": 27,
   "metadata": {},
   "outputs": [
    {
     "name": "stdout",
     "output_type": "stream",
     "text": [
      "film 8935\n",
      "one 5791\n",
      "movie 5538\n",
      "like 3690\n",
      "even 2564\n",
      "time 2409\n",
      "good 2407\n",
      "story 2136\n",
      "would 2084\n",
      "much 2049\n",
      "num of features:  43030\n"
     ]
    }
   ],
   "source": [
    "word_count = {}\n",
    "for text in tokens:\n",
    "    for word in text:\n",
    "        word_count[word] = word_count.get(word, 0) + 1\n",
    "\n",
    "sorted_features = sorted(word_count, key=word_count.get, reverse=True)\n",
    "for word in sorted_features[:10]:\n",
    "    print(word, word_count[word])\n",
    "print(\"num of features: \", len(word_count))"
   ]
  },
  {
   "cell_type": "code",
   "execution_count": 29,
   "metadata": {},
   "outputs": [
    {
     "name": "stdout",
     "output_type": "stream",
     "text": [
      "['film', 'one', 'movie', 'like', 'even', 'time', 'good', 'story', 'would', 'much', 'also', 'get', 'character', 'two', 'well', 'first', 'characters', 'see', 'way', 'make', 'life', 'really', 'films', 'plot', 'little', 'people', 'could', 'bad', 'scene', 'never', 'best', 'man', 'new', 'scenes', 'many', 'know', 'movies', 'director', 'action', \"he's\", 'great', 'another', 'love', 'made', 'big', 'end', 'back', 'something', 'still', 'seems', 'work', 'makes', \"there's\", 'world', 'however', 'every', 'though', 'better', 'real', 'seen', 'enough', 'take', 'around', 'going', 'performance', 'audience', 'role', 'old', 'gets', 'may', 'things', 'think', 'years', 'last', 'actually', 'comedy', 'look', 'funny', 'long', 'almost', 'thing', 'fact', 'nothing', 'say', 'right', 'although', 'played', 'find', \"that's\", 'john', 'come', 'ever', 'since', 'cast', 'script', 'year', 'plays', 'star', 'young', 'comes', 'show', 'part', 'screen', 'original', 'without', 'actors', 'acting', 'three', 'point', 'least', 'lot', 'takes', 'day', 'quite', 'away', 'effects', 'course', 'goes', \"can't\", 'minutes', 'guy', 'interesting', 'far', 'family', \"i'm\", 'might', 'high', 'rather', 'anything', 'must', 'place', 'set', 'yet', 'watch', 'making', 'always', 'hard', 'fun', \"film's\", 'seem', 'special', 'bit', 'times', 'wife', 'trying', 'instead', 'give', 'want', 'kind', 'american', 'job', 'sense', 'picture', 'home', 'probably', 'series', 'help', 'half', 'along', 'hollywood', 'pretty', 'becomes', 'everything', 'actor', 'woman', 'sure', 'together', 'men', 'black', 'dialogue', 'become', 'money', 'gives', 'given', 'looking', 'whole', 'watching', 'feel', 'music', 'wants', 'less', 'sex', 'done', 'got', 'horror', 'death', 'perhaps', 'next', 'especially', 'play', 'mind', 'moments', 'everyone', 'father', 'looks', 'city', 'completely', 'reason', 'whose', 'line', 'performances', 'different', 'rest', 'human', 'girl', 'small', 'simply', 'night', 'put', 'james', 'ending', 'couple', 'case', 'several', 'evil', \"they're\", 'left', 'thought', 'dead', 'anyone', 'michael', 'humor', 'shows', 'written', 'entire', 'true', 'lost', 'mother', 'getting', 'turns', 'soon', 'second', 'main', 'stars', 'found', 'use', 'school', 'problem', 'begins', 'friends', 'name', 'called', 'top', 'comic', 'based', 'idea', 'head', 'wrong', 'town', 'either', \"i've\", 'unfortunately', 'later', 'final', 'friend', 'someone', 'hand', 'alien', 'else', 'full', 'david', 'house', 'used', 'tries', 'often', 'group', 'war', 'sequence', 'keep', 'turn', 'playing', 'behind', 'named', 'certainly', 'live', 'believe', 'works', 'relationship', 'hour', 'face', 'style', 'said', 'despite', 'boy', 'finally', 'run', 'shot', 'tell', 'nice', 'maybe', 'book', 'perfect', 'side', 'seeing', 'able', 'finds', 'past', 'camera', 'person', 'including', 'days', 'lives', 'directed', 'running', 'fight', 'supposed', 'matter', 'moment', 'video', 'lines', 'car', 'worth', 'game', 'starts', 'need', 'son', 'entertaining', 'kids', 'start', 'summer', 'short', 'self', 'worst', 'nearly', 'white', 'dark', 'daughter', 'opening', 'try', 'upon', 'kevin', 'care', 'early', 'violence', 'throughout', 'writer', 'example', 'production', 'title', 'exactly', 'beautiful', 'earth', 'let', 'review', 'drama', 'major', 'problems', 'sequences', 'obvious', 'known', 'version', 'robert', 'joe', 'already', 'classic', 'screenplay', 'team', \"who's\", 'close', 'kill', 'others', 'hit', 'children', 'order', 'simple', 'fine', 'deep', 'direction', 'five', 'roles', 'act', 'four', 'eyes', 'sort', 'sometimes', 'question', 'knows', 'jack', 'supporting', 'coming', 'voice', 'heart', 'truly', 'save', 'jokes', 'computer', 'boring', 'level', 'killer', 'strong', 'stop', 'jackie', 'guys', 'room', 'genre', 'body', 'women', 'beginning', 'ends', 'space', 'attempt', 'thriller', 'tom', 'happens', 'fiction', 'note', 'yes', 'says', 'york', 'tells', 'quickly', 'novel', 'hope', 'romantic', 'stupid', 'possible', 'saw', 'peter', 'oscar', 'scream', 'lead', 'career', 'murder', 'hero', 'child', 'extremely', 'manages', 'lee', 'mostly', 'wonder', 'ship', 'particularly', 'dog', 'future', 'sound', 'worse', 'piece', 'fans', 'involving', 'appears', 'involved', 'mean', 'none', 'taking', \"we're\", 'brother', 'police', 'sets', 'attention', 'laugh', 'eventually', 'single', 'falls', 'emotional', 'late', 'hours', 'material', 'power', 'lack', 'fall', 'van', 'result', 'elements', 'planet', 'meet', 'science', 'bring', 'wild', 'living', 'hell', 'husband', 'experience', \"what's\", 'interest', 'theater', 'paul', 'leads', \"movie's\", 'word', 'feature', 'battle', 'obviously', 'alone', 'within', 'god', 'usually', 'enjoy', 'guess', 'among', 'feeling', 'laughs', 'taken', 'king', 'george', 'talk', 'chance', 'disney', 'talent', 'middle', 'easy', 'across', 'number', 'needs', 'attempts', 'happen', 'deal', 'poor', 'form', 'release', 'killed', 'forced', 'aliens', 'girls', 'whether', 'wonderful', 'feels', 'tale', 'serious', 'expect', 'except', 'light', 'success', 'features', 'premise', 'happy', 'television', 'leave', 'chris', 'important', 'meets', 'history', 'giving', 'type', 'words', 'call', 'turned', 'released', 'art', 'impressive', 'working', 'seemed', 'score', 'told', 'girlfriend', 'recent', 'mission', 'basically', 'entertainment', 'apparently', 'easily', 'crew', 'stuff', 'change', 'crime', 'office', 'surprise', 'cool', 'parts', 'somehow', 'parents', 'robin', 'cut', 'credits', 'brings', 'sequel', 'cop', 'suspense', 'events', 'die', 'reality', 'local', 'talking', 'difficult', 'using', 'went', 'writing', 'remember', 'near', 'ago', 'certain', 'hilarious', 'slow', 'blood', 'straight', 'ryan', 'complete', 'popular', 'effective', 'mystery', 'fast', 'william', 'due', 'runs', 'flick', 'gone', 'return', 'red', 'quality', 'smith', 'viewer', 'dramatic', 'ben', 'age', 'business', 'presence', 'batman', 'sexual', 'present', 'surprisingly', 'anyway', 'uses', 'filmmakers', 'personal', 'figure', 'ways', 'decides', 'begin', 'smart', 'somewhat', 'annoying', 'shots', 'rich', 'previous', 'rock', 'successful', 'minute', 'similar', 'absolutely', 'motion', 'former', 'strange', 'came', 'follow', 'read', 'million', 'starring', 'clear', 'williams', 'familiar', 'kid', 'romance', 'intelligent', 'third', 'project', 'excellent', 'budget', 'jones', 'latest', 'party', 'towards', 'predictable', 'powerful', 'water', 'means', 'law', 'beyond', 'visual', 'amazing', 'leaves', 'secret', 'following', 'jim', 'eye', 'prison', 'animated', 'low', 'actress', 'filled', 'leaving', 'questions', 'nature', 'message', 'box', 'villain', 'definitely', 'add', 'large', 'moving', 'clever', 'create', 'felt', 'usual', 'stories', 'brilliant', 'situation', 'break', 'opens', 'scary', 'cinema', 'ones', 'drug', 'bunch', 'thinking', 'solid', 'giant', 'doubt', 'effect', 'bill', 'learn', 'move', 'company', \"i'd\", 'potential', 'seriously', 'wars', 'follows', 'saying', 'country', 'brothers', 'bob', 'huge', \"i'll\", 'plan', 'america', 'agent', 'class', 'force', 'created', 'unlike', 'pay', 'non', 'married', 'sweet', 'perfectly', 'general', 'realize', 'mark', 'took', 'decent', 'likely', 'dream', 'view', 'subject', 'understand', 'martin', 'happened', 'enjoyable', 'immediately', 'open', 'points', 'heard', 'sam', 'private', 'stay', 'viewers', 'fails', 'cold', 'overall', 'impossible', 'audiences', 'merely', 'mess', 'free', 'bruce', 'wanted', 'gun', 'appear', 'exciting', 'chase', 'escape', 'ultimately', 'ten', 'neither', 'fan', 'inside', 'scott', 'favorite', 'modern', 'wedding', 'brought', 'richard', 'trouble', 'otherwise', 'liked', 'tim', 'trek', 'dumb', 'murphy', 'studio', 'musical', 'political', 'various', 'talented', 'particular', 'stand', 'harry', 'keeps', 'english', 'silly', 'state', 'situations', 'rating', 'slightly', 'steve', 'truth', 'teen', 'bond', 'joke', 'spend', 'frank', 'biggest', 'society', 'air', 'effort', 'focus', 'element', 'earlier', 'members', 'purpose', 'showing', 'soundtrack', 'memorable', 'six', 'hands', 'cannot', 'offers', 'government', 'key', 'rated', 'heavy', 'totally', 'park', 'control', 'credit', 'west', 'ideas', 'wait', 'sit', 'eddie', 'female', 'ask', 'waste', 'terrible', 'depth', 'sci', 'aspect', 'list', 'animation', 'entirely', 'moves', 'actual', 'british', 'constantly', 'fire', 'convincing', 'gave', 'tension', 'brief', 'ridiculous', 'fear', 'cinematography', 'typical', 'ability', 'carter', 'setting', 'spent', 'street', 'quick', 'violent', 'screenwriter', 'subtle', 'expected', 'fairly', 'killing', 'army', 'tone', 'lots', 'thinks', 'cheap', 'suddenly', 'atmosphere', 'background', 'sister', 'highly', 'mars', 'sees', 'complex', 'disaster', 'beauty', 'front', 'seven', 'indeed', 'flat', 'wrote', 'whatever', 'dull', 'humans', 'recently', 'hate', 'steven', 'outside', 'wish', 'greatest', 'master', 'impact', 'amusing', 'sounds', 'telling', 'minor', 'sight', 'cinematic', 'stone', 'hold', 'mary', 'meanwhile', 'cute', 'awful', 'clearly', 'song', 'plenty', 'theme', 'hear', 'college', 'amount', 'truman', 'dreams', 'shown', 'double', 'queen', 'reasons', 'miss', 'allen', 'woody', 'longer', 'approach', \"let's\", 'common', 'max', 'island', 'believable', 'charm', \"year's\", 'godzilla', 'club', 'chemistry', 'possibly', 'casting', 'nick', 'realistic', 'cameron', 'french', 'trailer', 'produced', 'imagine', 'choice', 'ride', 'titanic', 'somewhere', 'road', 'sean', 'leader', 'carry', 'tough', 'thin', 'slowly', 'delivers', 'provide', 'puts', 'asks', 'appearance', 'famous', 'member', 'okay', 'race', 'energy', 'sent', 'detective', 'development', 'etc', 'language', 'proves', 'hot', 'seemingly', 'intelligence', 'caught', 'decide', 'opportunity', 'incredibly', 'brown', 'images', 'blue', 'basic', 'knew', 'interested', 'considering', 'thanks', 'remains', 'climax', 'event', 'critics', 'directing', 'mike', 'leading', 'ground', 'lies', 'forget', 'alive', 'baby', 'vampire', 'conclusion']\n"
     ]
    }
   ],
   "source": [
    "word_features = sorted_features[:1000]\n",
    "print(word_features)"
   ]
  },
  {
   "cell_type": "code",
   "execution_count": 30,
   "metadata": {},
   "outputs": [],
   "source": [
    "def document_features(document, word_features):\n",
    "    word_count = {}\n",
    "    for word in document:\n",
    "        word_count[word] = word_count.get(word,0) + 1\n",
    "    \n",
    "    features = []\n",
    "    for word in word_features:\n",
    "        features.append(word_count.get(word, 0))\n",
    "    return features"
   ]
  },
  {
   "cell_type": "code",
   "execution_count": 32,
   "metadata": {},
   "outputs": [
    {
     "data": {
      "text/plain": [
       "[0, 2, 0, 1, 0]"
      ]
     },
     "execution_count": 32,
     "metadata": {},
     "output_type": "execute_result"
    }
   ],
   "source": [
    "word_features_ex = ['one', 'two', 'teen', 'couples', 'solo']\n",
    "doc_ex = ['two', 'two', 'couples']\n",
    "document_features(doc_ex, word_features_ex)"
   ]
  },
  {
   "cell_type": "code",
   "execution_count": 37,
   "metadata": {},
   "outputs": [
    {
     "name": "stdout",
     "output_type": "stream",
     "text": [
      "('film', 5)\n",
      "('one', 3)\n",
      "('movie', 6)\n",
      "('like', 3)\n",
      "('even', 3)\n",
      "('time', 0)\n",
      "('good', 2)\n",
      "('story', 0)\n",
      "('would', 1)\n",
      "('much', 0)\n",
      "('also', 1)\n",
      "('get', 3)\n",
      "('character', 1)\n",
      "('two', 2)\n",
      "('well', 1)\n",
      "('first', 0)\n",
      "('characters', 1)\n",
      "('see', 2)\n",
      "('way', 3)\n",
      "('make', 5)\n"
     ]
    }
   ],
   "source": [
    "features_sets = [document_features(d, word_features) for d in tokens]\n",
    "for i in range(20):\n",
    "    print((word_features[i], features_sets[0][i]))"
   ]
  },
  {
   "cell_type": "code",
   "execution_count": 36,
   "metadata": {},
   "outputs": [
    {
     "name": "stdout",
     "output_type": "stream",
     "text": [
      "[5, 3, 6, 3, 3, 0, 2, 0, 1, 0, 1, 3, 1, 2, 1, 0, 1, 2, 3, 5, 1, 2, 2, 1, 2, 1, 0, 2, 0, 0, 0, 0, 1, 2, 0, 1, 1, 1, 0, 0, 0, 0, 0, 0, 1, 0, 1, 0, 2, 1, 0, 1, 0, 2, 0, 1, 0, 0, 0, 0, 0, 0, 0, 2, 0, 2, 0, 0, 0, 0, 2, 0, 1, 0, 2, 0, 2, 0, 0, 0, 0, 0, 0, 0, 0, 1, 0, 1, 0, 0, 0, 1, 2, 0, 0, 0, 0, 0, 0, 0, 0, 2, 0, 0, 0, 1, 0, 0, 1, 0, 0, 0, 0, 0, 2, 0, 0, 0, 0, 2, 0, 0, 0, 0, 0, 0, 0, 0, 0, 0, 0, 0, 0, 1, 1, 1, 0, 0, 1, 1, 0, 1, 0, 0, 1, 0, 1, 1, 1, 1, 0, 2, 0, 0, 0, 0, 0, 1, 0, 0, 5, 0, 0, 0, 0, 1, 0, 0, 0, 0, 0, 0, 0, 1, 0, 0, 0, 0, 1, 0, 0, 0, 0, 1, 1, 0, 0, 0, 0, 0, 3, 0, 0, 0, 0, 0, 1, 0, 0, 1, 0, 1, 0, 0, 0, 0, 2, 0, 0, 0, 1, 0, 0, 0, 0, 0, 0, 0, 2, 0, 0, 0, 1, 0, 1, 0, 2, 0, 0, 0, 0, 0, 1, 0, 0, 0, 0, 2, 0, 0, 0, 0, 0, 0, 0, 2, 1, 0, 0, 0, 0, 0, 0, 1, 0, 1, 0, 0, 0, 0, 0, 0, 0, 0, 0, 0, 0, 0, 0, 0, 1, 0, 0, 0, 0, 0, 0, 0, 0, 0, 0, 0, 1, 0, 0, 0, 0, 0, 0, 0, 0, 0, 0, 0, 0, 0, 0, 0, 0, 0, 0, 0, 0, 1, 0, 0, 0, 0, 1, 0, 0, 0, 0, 1, 1, 0, 2, 1, 1, 0, 0, 0, 0, 0, 0, 0, 0, 0, 0, 0, 0, 0, 0, 0, 2, 0, 0, 1, 0, 0, 0, 0, 0, 1, 0, 0, 1, 0, 0, 0, 0, 0, 0, 0, 0, 0, 0, 0, 0, 0, 2, 0, 0, 0, 0, 0, 0, 0, 1, 0, 0, 0, 0, 0, 0, 0, 0, 0, 0, 2, 0, 0, 0, 0, 0, 0, 0, 0, 0, 0, 0, 0, 1, 0, 1, 0, 0, 0, 0, 0, 1, 0, 0, 0, 0, 0, 0, 0, 0, 0, 0, 0, 0, 0, 0, 0, 0, 0, 0, 0, 0, 0, 0, 0, 0, 0, 0, 0, 0, 0, 0, 0, 0, 0, 0, 0, 0, 0, 0, 0, 0, 1, 0, 0, 0, 0, 0, 0, 0, 0, 0, 0, 0, 0, 0, 0, 0, 0, 0, 0, 0, 0, 0, 0, 0, 0, 0, 0, 0, 0, 0, 0, 2, 0, 0, 0, 0, 0, 0, 0, 0, 1, 0, 0, 0, 0, 0, 2, 0, 1, 0, 1, 0, 0, 0, 0, 0, 0, 0, 0, 0, 0, 0, 0, 1, 1, 0, 0, 0, 0, 0, 0, 0, 0, 0, 1, 0, 0, 0, 0, 0, 0, 0, 0, 0, 0, 0, 0, 0, 0, 0, 1, 0, 0, 0, 0, 0, 0, 0, 0, 1, 0, 0, 1, 0, 0, 0, 0, 2, 0, 0, 0, 0, 0, 0, 0, 2, 0, 0, 0, 0, 0, 0, 0, 0, 0, 0, 0, 0, 0, 0, 0, 0, 0, 0, 0, 0, 0, 1, 0, 0, 0, 0, 0, 0, 0, 0, 0, 0, 0, 0, 0, 0, 1, 0, 0, 0, 0, 0, 0, 0, 0, 0, 0, 0, 0, 0, 0, 0, 0, 0, 0, 0, 0, 1, 0, 0, 0, 0, 0, 0, 0, 0, 0, 0, 0, 0, 0, 0, 0, 1, 1, 0, 0, 0, 0, 0, 0, 0, 0, 0, 0, 0, 0, 0, 0, 0, 0, 1, 0, 0, 0, 0, 0, 0, 0, 0, 0, 0, 2, 0, 0, 0, 0, 0, 0, 0, 0, 0, 0, 0, 0, 0, 0, 0, 0, 0, 0, 0, 0, 0, 0, 0, 0, 0, 1, 0, 0, 0, 0, 0, 0, 0, 0, 0, 0, 0, 0, 0, 0, 0, 0, 0, 0, 0, 0, 0, 0, 0, 0, 0, 0, 0, 0, 0, 0, 0, 0, 0, 0, 0, 0, 0, 0, 0, 0, 0, 1, 1, 0, 0, 0, 0, 0, 0, 0, 0, 0, 0, 0, 0, 0, 0, 0, 0, 0, 0, 1, 0, 0, 0, 1, 0, 0, 0, 0, 0, 0, 1, 0, 0, 0, 0, 0, 0, 0, 0, 0, 0, 0, 0, 0, 0, 0, 0, 0, 0, 0, 1, 0, 0, 0, 0, 0, 0, 0, 0, 0, 0, 0, 0, 0, 0, 0, 0, 4, 0, 0, 0, 0, 2, 0, 0, 0, 0, 0, 0, 0, 0, 1, 0, 0, 0, 0, 0, 0, 0, 0, 0, 0, 0, 0, 0, 0, 0, 0, 0, 0, 0, 0, 0, 0, 0, 0, 0, 0, 0, 0, 0, 0, 0, 0, 0, 0, 0, 0, 0, 0, 0, 0, 0, 0, 0, 0, 0, 0, 1, 0, 0, 0, 0, 0, 0, 0, 0, 0, 0, 0, 0, 0, 0, 0, 0, 0, 0, 0, 0, 0, 1, 0, 0, 0, 0, 0, 1, 0, 0, 0, 0, 0, 0, 0, 0, 0, 0, 0, 0, 0, 0, 0, 0, 0, 0, 0, 0, 0, 0, 0, 0, 0, 0, 0, 0, 0, 0, 1, 0, 0, 0, 0, 0, 0, 0, 0, 0, 0, 0, 0, 0, 0, 0, 0, 0, 0, 0, 0, 0, 0, 0, 0, 0, 0, 0, 0, 0, 0, 0, 1, 0, 0, 0, 0, 0, 0, 0, 0, 0, 0, 0, 0, 0, 1, 1, 0, 0, 0, 0, 0, 0, 0, 0, 1, 0, 0, 0, 0, 0, 0, 0, 0, 0, 0, 0, 0, 0, 0, 0, 0, 0, 0, 0, 0, 0, 0, 0, 0, 0, 0, 0, 0]\n"
     ]
    }
   ],
   "source": [
    "print(features_sets[0])"
   ]
  },
  {
   "cell_type": "code",
   "execution_count": 38,
   "metadata": {},
   "outputs": [],
   "source": [
    "from sklearn.feature_extraction.text import CountVectorizer"
   ]
  },
  {
   "cell_type": "code",
   "execution_count": 39,
   "metadata": {},
   "outputs": [
    {
     "data": {
      "text/html": [
       "<style>#sk-container-id-1 {color: black;background-color: white;}#sk-container-id-1 pre{padding: 0;}#sk-container-id-1 div.sk-toggleable {background-color: white;}#sk-container-id-1 label.sk-toggleable__label {cursor: pointer;display: block;width: 100%;margin-bottom: 0;padding: 0.3em;box-sizing: border-box;text-align: center;}#sk-container-id-1 label.sk-toggleable__label-arrow:before {content: \"▸\";float: left;margin-right: 0.25em;color: #696969;}#sk-container-id-1 label.sk-toggleable__label-arrow:hover:before {color: black;}#sk-container-id-1 div.sk-estimator:hover label.sk-toggleable__label-arrow:before {color: black;}#sk-container-id-1 div.sk-toggleable__content {max-height: 0;max-width: 0;overflow: hidden;text-align: left;background-color: #f0f8ff;}#sk-container-id-1 div.sk-toggleable__content pre {margin: 0.2em;color: black;border-radius: 0.25em;background-color: #f0f8ff;}#sk-container-id-1 input.sk-toggleable__control:checked~div.sk-toggleable__content {max-height: 200px;max-width: 100%;overflow: auto;}#sk-container-id-1 input.sk-toggleable__control:checked~label.sk-toggleable__label-arrow:before {content: \"▾\";}#sk-container-id-1 div.sk-estimator input.sk-toggleable__control:checked~label.sk-toggleable__label {background-color: #d4ebff;}#sk-container-id-1 div.sk-label input.sk-toggleable__control:checked~label.sk-toggleable__label {background-color: #d4ebff;}#sk-container-id-1 input.sk-hidden--visually {border: 0;clip: rect(1px 1px 1px 1px);clip: rect(1px, 1px, 1px, 1px);height: 1px;margin: -1px;overflow: hidden;padding: 0;position: absolute;width: 1px;}#sk-container-id-1 div.sk-estimator {font-family: monospace;background-color: #f0f8ff;border: 1px dotted black;border-radius: 0.25em;box-sizing: border-box;margin-bottom: 0.5em;}#sk-container-id-1 div.sk-estimator:hover {background-color: #d4ebff;}#sk-container-id-1 div.sk-parallel-item::after {content: \"\";width: 100%;border-bottom: 1px solid gray;flex-grow: 1;}#sk-container-id-1 div.sk-label:hover label.sk-toggleable__label {background-color: #d4ebff;}#sk-container-id-1 div.sk-serial::before {content: \"\";position: absolute;border-left: 1px solid gray;box-sizing: border-box;top: 0;bottom: 0;left: 50%;z-index: 0;}#sk-container-id-1 div.sk-serial {display: flex;flex-direction: column;align-items: center;background-color: white;padding-right: 0.2em;padding-left: 0.2em;position: relative;}#sk-container-id-1 div.sk-item {position: relative;z-index: 1;}#sk-container-id-1 div.sk-parallel {display: flex;align-items: stretch;justify-content: center;background-color: white;position: relative;}#sk-container-id-1 div.sk-item::before, #sk-container-id-1 div.sk-parallel-item::before {content: \"\";position: absolute;border-left: 1px solid gray;box-sizing: border-box;top: 0;bottom: 0;left: 50%;z-index: -1;}#sk-container-id-1 div.sk-parallel-item {display: flex;flex-direction: column;z-index: 1;position: relative;background-color: white;}#sk-container-id-1 div.sk-parallel-item:first-child::after {align-self: flex-end;width: 50%;}#sk-container-id-1 div.sk-parallel-item:last-child::after {align-self: flex-start;width: 50%;}#sk-container-id-1 div.sk-parallel-item:only-child::after {width: 0;}#sk-container-id-1 div.sk-dashed-wrapped {border: 1px dashed gray;margin: 0 0.4em 0.5em 0.4em;box-sizing: border-box;padding-bottom: 0.4em;background-color: white;}#sk-container-id-1 div.sk-label label {font-family: monospace;font-weight: bold;display: inline-block;line-height: 1.2em;}#sk-container-id-1 div.sk-label-container {text-align: center;}#sk-container-id-1 div.sk-container {/* jupyter's `normalize.less` sets `[hidden] { display: none; }` but bootstrap.min.css set `[hidden] { display: none !important; }` so we also need the `!important` here to be able to override the default hidden behavior on the sphinx rendered scikit-learn.org. See: https://github.com/scikit-learn/scikit-learn/issues/21755 */display: inline-block !important;position: relative;}#sk-container-id-1 div.sk-text-repr-fallback {display: none;}</style><div id=\"sk-container-id-1\" class=\"sk-top-container\"><div class=\"sk-text-repr-fallback\"><pre>CountVectorizer()</pre><b>In a Jupyter environment, please rerun this cell to show the HTML representation or trust the notebook. <br />On GitHub, the HTML representation is unable to render, please try loading this page with nbviewer.org.</b></div><div class=\"sk-container\" hidden><div class=\"sk-item\"><div class=\"sk-estimator sk-toggleable\"><input class=\"sk-toggleable__control sk-hidden--visually\" id=\"sk-estimator-id-1\" type=\"checkbox\" checked><label for=\"sk-estimator-id-1\" class=\"sk-toggleable__label sk-toggleable__label-arrow\">CountVectorizer</label><div class=\"sk-toggleable__content\"><pre>CountVectorizer()</pre></div></div></div></div></div>"
      ],
      "text/plain": [
       "CountVectorizer()"
      ]
     },
     "execution_count": 39,
     "metadata": {},
     "output_type": "execute_result"
    }
   ],
   "source": [
    "cv = CountVectorizer()\n",
    "cv"
   ]
  },
  {
   "cell_type": "code",
   "execution_count": 45,
   "metadata": {},
   "outputs": [
    {
     "data": {
      "text/html": [
       "<style>#sk-container-id-7 {color: black;background-color: white;}#sk-container-id-7 pre{padding: 0;}#sk-container-id-7 div.sk-toggleable {background-color: white;}#sk-container-id-7 label.sk-toggleable__label {cursor: pointer;display: block;width: 100%;margin-bottom: 0;padding: 0.3em;box-sizing: border-box;text-align: center;}#sk-container-id-7 label.sk-toggleable__label-arrow:before {content: \"▸\";float: left;margin-right: 0.25em;color: #696969;}#sk-container-id-7 label.sk-toggleable__label-arrow:hover:before {color: black;}#sk-container-id-7 div.sk-estimator:hover label.sk-toggleable__label-arrow:before {color: black;}#sk-container-id-7 div.sk-toggleable__content {max-height: 0;max-width: 0;overflow: hidden;text-align: left;background-color: #f0f8ff;}#sk-container-id-7 div.sk-toggleable__content pre {margin: 0.2em;color: black;border-radius: 0.25em;background-color: #f0f8ff;}#sk-container-id-7 input.sk-toggleable__control:checked~div.sk-toggleable__content {max-height: 200px;max-width: 100%;overflow: auto;}#sk-container-id-7 input.sk-toggleable__control:checked~label.sk-toggleable__label-arrow:before {content: \"▾\";}#sk-container-id-7 div.sk-estimator input.sk-toggleable__control:checked~label.sk-toggleable__label {background-color: #d4ebff;}#sk-container-id-7 div.sk-label input.sk-toggleable__control:checked~label.sk-toggleable__label {background-color: #d4ebff;}#sk-container-id-7 input.sk-hidden--visually {border: 0;clip: rect(1px 1px 1px 1px);clip: rect(1px, 1px, 1px, 1px);height: 1px;margin: -1px;overflow: hidden;padding: 0;position: absolute;width: 1px;}#sk-container-id-7 div.sk-estimator {font-family: monospace;background-color: #f0f8ff;border: 1px dotted black;border-radius: 0.25em;box-sizing: border-box;margin-bottom: 0.5em;}#sk-container-id-7 div.sk-estimator:hover {background-color: #d4ebff;}#sk-container-id-7 div.sk-parallel-item::after {content: \"\";width: 100%;border-bottom: 1px solid gray;flex-grow: 1;}#sk-container-id-7 div.sk-label:hover label.sk-toggleable__label {background-color: #d4ebff;}#sk-container-id-7 div.sk-serial::before {content: \"\";position: absolute;border-left: 1px solid gray;box-sizing: border-box;top: 0;bottom: 0;left: 50%;z-index: 0;}#sk-container-id-7 div.sk-serial {display: flex;flex-direction: column;align-items: center;background-color: white;padding-right: 0.2em;padding-left: 0.2em;position: relative;}#sk-container-id-7 div.sk-item {position: relative;z-index: 1;}#sk-container-id-7 div.sk-parallel {display: flex;align-items: stretch;justify-content: center;background-color: white;position: relative;}#sk-container-id-7 div.sk-item::before, #sk-container-id-7 div.sk-parallel-item::before {content: \"\";position: absolute;border-left: 1px solid gray;box-sizing: border-box;top: 0;bottom: 0;left: 50%;z-index: -1;}#sk-container-id-7 div.sk-parallel-item {display: flex;flex-direction: column;z-index: 1;position: relative;background-color: white;}#sk-container-id-7 div.sk-parallel-item:first-child::after {align-self: flex-end;width: 50%;}#sk-container-id-7 div.sk-parallel-item:last-child::after {align-self: flex-start;width: 50%;}#sk-container-id-7 div.sk-parallel-item:only-child::after {width: 0;}#sk-container-id-7 div.sk-dashed-wrapped {border: 1px dashed gray;margin: 0 0.4em 0.5em 0.4em;box-sizing: border-box;padding-bottom: 0.4em;background-color: white;}#sk-container-id-7 div.sk-label label {font-family: monospace;font-weight: bold;display: inline-block;line-height: 1.2em;}#sk-container-id-7 div.sk-label-container {text-align: center;}#sk-container-id-7 div.sk-container {/* jupyter's `normalize.less` sets `[hidden] { display: none; }` but bootstrap.min.css set `[hidden] { display: none !important; }` so we also need the `!important` here to be able to override the default hidden behavior on the sphinx rendered scikit-learn.org. See: https://github.com/scikit-learn/scikit-learn/issues/21755 */display: inline-block !important;position: relative;}#sk-container-id-7 div.sk-text-repr-fallback {display: none;}</style><div id=\"sk-container-id-7\" class=\"sk-top-container\"><div class=\"sk-text-repr-fallback\"><pre>CountVectorizer(vocabulary=[&#x27;film&#x27;, &#x27;one&#x27;, &#x27;movie&#x27;, &#x27;like&#x27;, &#x27;even&#x27;, &#x27;time&#x27;,\n",
       "                            &#x27;good&#x27;, &#x27;story&#x27;, &#x27;would&#x27;, &#x27;much&#x27;, &#x27;also&#x27;, &#x27;get&#x27;,\n",
       "                            &#x27;character&#x27;, &#x27;two&#x27;, &#x27;well&#x27;, &#x27;first&#x27;, &#x27;characters&#x27;,\n",
       "                            &#x27;see&#x27;, &#x27;way&#x27;, &#x27;make&#x27;, &#x27;life&#x27;, &#x27;really&#x27;, &#x27;films&#x27;,\n",
       "                            &#x27;plot&#x27;, &#x27;little&#x27;, &#x27;people&#x27;, &#x27;could&#x27;, &#x27;bad&#x27;, &#x27;scene&#x27;,\n",
       "                            &#x27;never&#x27;, ...])</pre><b>In a Jupyter environment, please rerun this cell to show the HTML representation or trust the notebook. <br />On GitHub, the HTML representation is unable to render, please try loading this page with nbviewer.org.</b></div><div class=\"sk-container\" hidden><div class=\"sk-item\"><div class=\"sk-estimator sk-toggleable\"><input class=\"sk-toggleable__control sk-hidden--visually\" id=\"sk-estimator-id-7\" type=\"checkbox\" checked><label for=\"sk-estimator-id-7\" class=\"sk-toggleable__label sk-toggleable__label-arrow\">CountVectorizer</label><div class=\"sk-toggleable__content\"><pre>CountVectorizer(vocabulary=[&#x27;film&#x27;, &#x27;one&#x27;, &#x27;movie&#x27;, &#x27;like&#x27;, &#x27;even&#x27;, &#x27;time&#x27;,\n",
       "                            &#x27;good&#x27;, &#x27;story&#x27;, &#x27;would&#x27;, &#x27;much&#x27;, &#x27;also&#x27;, &#x27;get&#x27;,\n",
       "                            &#x27;character&#x27;, &#x27;two&#x27;, &#x27;well&#x27;, &#x27;first&#x27;, &#x27;characters&#x27;,\n",
       "                            &#x27;see&#x27;, &#x27;way&#x27;, &#x27;make&#x27;, &#x27;life&#x27;, &#x27;really&#x27;, &#x27;films&#x27;,\n",
       "                            &#x27;plot&#x27;, &#x27;little&#x27;, &#x27;people&#x27;, &#x27;could&#x27;, &#x27;bad&#x27;, &#x27;scene&#x27;,\n",
       "                            &#x27;never&#x27;, ...])</pre></div></div></div></div></div>"
      ],
      "text/plain": [
       "CountVectorizer(vocabulary=['film', 'one', 'movie', 'like', 'even', 'time',\n",
       "                            'good', 'story', 'would', 'much', 'also', 'get',\n",
       "                            'character', 'two', 'well', 'first', 'characters',\n",
       "                            'see', 'way', 'make', 'life', 'really', 'films',\n",
       "                            'plot', 'little', 'people', 'could', 'bad', 'scene',\n",
       "                            'never', ...])"
      ]
     },
     "execution_count": 45,
     "metadata": {},
     "output_type": "execute_result"
    }
   ],
   "source": [
    "cv = CountVectorizer(vocabulary=word_features)\n",
    "cv"
   ]
  },
  {
   "cell_type": "code",
   "execution_count": 44,
   "metadata": {},
   "outputs": [
    {
     "data": {
      "text/html": [
       "<style>#sk-container-id-6 {color: black;background-color: white;}#sk-container-id-6 pre{padding: 0;}#sk-container-id-6 div.sk-toggleable {background-color: white;}#sk-container-id-6 label.sk-toggleable__label {cursor: pointer;display: block;width: 100%;margin-bottom: 0;padding: 0.3em;box-sizing: border-box;text-align: center;}#sk-container-id-6 label.sk-toggleable__label-arrow:before {content: \"▸\";float: left;margin-right: 0.25em;color: #696969;}#sk-container-id-6 label.sk-toggleable__label-arrow:hover:before {color: black;}#sk-container-id-6 div.sk-estimator:hover label.sk-toggleable__label-arrow:before {color: black;}#sk-container-id-6 div.sk-toggleable__content {max-height: 0;max-width: 0;overflow: hidden;text-align: left;background-color: #f0f8ff;}#sk-container-id-6 div.sk-toggleable__content pre {margin: 0.2em;color: black;border-radius: 0.25em;background-color: #f0f8ff;}#sk-container-id-6 input.sk-toggleable__control:checked~div.sk-toggleable__content {max-height: 200px;max-width: 100%;overflow: auto;}#sk-container-id-6 input.sk-toggleable__control:checked~label.sk-toggleable__label-arrow:before {content: \"▾\";}#sk-container-id-6 div.sk-estimator input.sk-toggleable__control:checked~label.sk-toggleable__label {background-color: #d4ebff;}#sk-container-id-6 div.sk-label input.sk-toggleable__control:checked~label.sk-toggleable__label {background-color: #d4ebff;}#sk-container-id-6 input.sk-hidden--visually {border: 0;clip: rect(1px 1px 1px 1px);clip: rect(1px, 1px, 1px, 1px);height: 1px;margin: -1px;overflow: hidden;padding: 0;position: absolute;width: 1px;}#sk-container-id-6 div.sk-estimator {font-family: monospace;background-color: #f0f8ff;border: 1px dotted black;border-radius: 0.25em;box-sizing: border-box;margin-bottom: 0.5em;}#sk-container-id-6 div.sk-estimator:hover {background-color: #d4ebff;}#sk-container-id-6 div.sk-parallel-item::after {content: \"\";width: 100%;border-bottom: 1px solid gray;flex-grow: 1;}#sk-container-id-6 div.sk-label:hover label.sk-toggleable__label {background-color: #d4ebff;}#sk-container-id-6 div.sk-serial::before {content: \"\";position: absolute;border-left: 1px solid gray;box-sizing: border-box;top: 0;bottom: 0;left: 50%;z-index: 0;}#sk-container-id-6 div.sk-serial {display: flex;flex-direction: column;align-items: center;background-color: white;padding-right: 0.2em;padding-left: 0.2em;position: relative;}#sk-container-id-6 div.sk-item {position: relative;z-index: 1;}#sk-container-id-6 div.sk-parallel {display: flex;align-items: stretch;justify-content: center;background-color: white;position: relative;}#sk-container-id-6 div.sk-item::before, #sk-container-id-6 div.sk-parallel-item::before {content: \"\";position: absolute;border-left: 1px solid gray;box-sizing: border-box;top: 0;bottom: 0;left: 50%;z-index: -1;}#sk-container-id-6 div.sk-parallel-item {display: flex;flex-direction: column;z-index: 1;position: relative;background-color: white;}#sk-container-id-6 div.sk-parallel-item:first-child::after {align-self: flex-end;width: 50%;}#sk-container-id-6 div.sk-parallel-item:last-child::after {align-self: flex-start;width: 50%;}#sk-container-id-6 div.sk-parallel-item:only-child::after {width: 0;}#sk-container-id-6 div.sk-dashed-wrapped {border: 1px dashed gray;margin: 0 0.4em 0.5em 0.4em;box-sizing: border-box;padding-bottom: 0.4em;background-color: white;}#sk-container-id-6 div.sk-label label {font-family: monospace;font-weight: bold;display: inline-block;line-height: 1.2em;}#sk-container-id-6 div.sk-label-container {text-align: center;}#sk-container-id-6 div.sk-container {/* jupyter's `normalize.less` sets `[hidden] { display: none; }` but bootstrap.min.css set `[hidden] { display: none !important; }` so we also need the `!important` here to be able to override the default hidden behavior on the sphinx rendered scikit-learn.org. See: https://github.com/scikit-learn/scikit-learn/issues/21755 */display: inline-block !important;position: relative;}#sk-container-id-6 div.sk-text-repr-fallback {display: none;}</style><div id=\"sk-container-id-6\" class=\"sk-top-container\"><div class=\"sk-text-repr-fallback\"><pre>CountVectorizer(max_features=1000)</pre><b>In a Jupyter environment, please rerun this cell to show the HTML representation or trust the notebook. <br />On GitHub, the HTML representation is unable to render, please try loading this page with nbviewer.org.</b></div><div class=\"sk-container\" hidden><div class=\"sk-item\"><div class=\"sk-estimator sk-toggleable\"><input class=\"sk-toggleable__control sk-hidden--visually\" id=\"sk-estimator-id-6\" type=\"checkbox\" checked><label for=\"sk-estimator-id-6\" class=\"sk-toggleable__label sk-toggleable__label-arrow\">CountVectorizer</label><div class=\"sk-toggleable__content\"><pre>CountVectorizer(max_features=1000)</pre></div></div></div></div></div>"
      ],
      "text/plain": [
       "CountVectorizer(max_features=1000)"
      ]
     },
     "execution_count": 44,
     "metadata": {},
     "output_type": "execute_result"
    }
   ],
   "source": [
    "cv = CountVectorizer(max_features=1000)\n",
    "cv"
   ]
  },
  {
   "cell_type": "code",
   "execution_count": 47,
   "metadata": {},
   "outputs": [
    {
     "data": {
      "text/plain": [
       "array(['film', 'one', 'movie', 'like', 'even', 'time', 'good', 'story',\n",
       "       'would', 'much', 'also', 'get', 'character', 'two', 'well',\n",
       "       'first', 'characters', 'see', 'way', 'make', 'life', 'really',\n",
       "       'films', 'plot', 'little', 'people', 'could', 'bad', 'scene',\n",
       "       'never', 'best', 'man', 'new', 'scenes', 'many', 'know', 'movies',\n",
       "       'director', 'action', \"he's\", 'great', 'another', 'love', 'made',\n",
       "       'big', 'end', 'back', 'something', 'still', 'seems', 'work',\n",
       "       'makes', \"there's\", 'world', 'however', 'every', 'though',\n",
       "       'better', 'real', 'seen', 'enough', 'take', 'around', 'going',\n",
       "       'performance', 'audience', 'role', 'old', 'gets', 'may', 'things',\n",
       "       'think', 'years', 'last', 'actually', 'comedy', 'look', 'funny',\n",
       "       'long', 'almost', 'thing', 'fact', 'nothing', 'say', 'right',\n",
       "       'although', 'played', 'find', \"that's\", 'john', 'come', 'ever',\n",
       "       'since', 'cast', 'script', 'year', 'plays', 'star', 'young',\n",
       "       'comes', 'show', 'part', 'screen', 'original', 'without', 'actors',\n",
       "       'acting', 'three', 'point', 'least', 'lot', 'takes', 'day',\n",
       "       'quite', 'away', 'effects', 'course', 'goes', \"can't\", 'minutes',\n",
       "       'guy', 'interesting', 'far', 'family', \"i'm\", 'might', 'high',\n",
       "       'rather', 'anything', 'must', 'place', 'set', 'yet', 'watch',\n",
       "       'making', 'always', 'hard', 'fun', \"film's\", 'seem', 'special',\n",
       "       'bit', 'times', 'wife', 'trying', 'instead', 'give', 'want',\n",
       "       'kind', 'american', 'job', 'sense', 'picture', 'home', 'probably',\n",
       "       'series', 'help', 'half', 'along', 'hollywood', 'pretty',\n",
       "       'becomes', 'everything', 'actor', 'woman', 'sure', 'together',\n",
       "       'men', 'black', 'dialogue', 'become', 'money', 'gives', 'given',\n",
       "       'looking', 'whole', 'watching', 'feel', 'music', 'wants', 'less',\n",
       "       'sex', 'done', 'got', 'horror', 'death', 'perhaps', 'next',\n",
       "       'especially', 'play', 'mind', 'moments', 'everyone', 'father',\n",
       "       'looks', 'city', 'completely', 'reason', 'whose', 'line',\n",
       "       'performances', 'different', 'rest', 'human', 'girl', 'small',\n",
       "       'simply', 'night', 'put', 'james', 'ending', 'couple', 'case',\n",
       "       'several', 'evil', \"they're\", 'left', 'thought', 'dead', 'anyone',\n",
       "       'michael', 'humor', 'shows', 'written', 'entire', 'true', 'lost',\n",
       "       'mother', 'getting', 'turns', 'soon', 'second', 'main', 'stars',\n",
       "       'found', 'use', 'school', 'problem', 'begins', 'friends', 'name',\n",
       "       'called', 'top', 'comic', 'based', 'idea', 'head', 'wrong', 'town',\n",
       "       'either', \"i've\", 'unfortunately', 'later', 'final', 'friend',\n",
       "       'someone', 'hand', 'alien', 'else', 'full', 'david', 'house',\n",
       "       'used', 'tries', 'often', 'group', 'war', 'sequence', 'keep',\n",
       "       'turn', 'playing', 'behind', 'named', 'certainly', 'live',\n",
       "       'believe', 'works', 'relationship', 'hour', 'face', 'style',\n",
       "       'said', 'despite', 'boy', 'finally', 'run', 'shot', 'tell', 'nice',\n",
       "       'maybe', 'book', 'perfect', 'side', 'seeing', 'able', 'finds',\n",
       "       'past', 'camera', 'person', 'including', 'days', 'lives',\n",
       "       'directed', 'running', 'fight', 'supposed', 'matter', 'moment',\n",
       "       'video', 'lines', 'car', 'worth', 'game', 'starts', 'need', 'son',\n",
       "       'entertaining', 'kids', 'start', 'summer', 'short', 'self',\n",
       "       'worst', 'nearly', 'white', 'dark', 'daughter', 'opening', 'try',\n",
       "       'upon', 'kevin', 'care', 'early', 'violence', 'throughout',\n",
       "       'writer', 'example', 'production', 'title', 'exactly', 'beautiful',\n",
       "       'earth', 'let', 'review', 'drama', 'major', 'problems',\n",
       "       'sequences', 'obvious', 'known', 'version', 'robert', 'joe',\n",
       "       'already', 'classic', 'screenplay', 'team', \"who's\", 'close',\n",
       "       'kill', 'others', 'hit', 'children', 'order', 'simple', 'fine',\n",
       "       'deep', 'direction', 'five', 'roles', 'act', 'four', 'eyes',\n",
       "       'sort', 'sometimes', 'question', 'knows', 'jack', 'supporting',\n",
       "       'coming', 'voice', 'heart', 'truly', 'save', 'jokes', 'computer',\n",
       "       'boring', 'level', 'killer', 'strong', 'stop', 'jackie', 'guys',\n",
       "       'room', 'genre', 'body', 'women', 'beginning', 'ends', 'space',\n",
       "       'attempt', 'thriller', 'tom', 'happens', 'fiction', 'note', 'yes',\n",
       "       'says', 'york', 'tells', 'quickly', 'novel', 'hope', 'romantic',\n",
       "       'stupid', 'possible', 'saw', 'peter', 'oscar', 'scream', 'lead',\n",
       "       'career', 'murder', 'hero', 'child', 'extremely', 'manages', 'lee',\n",
       "       'mostly', 'wonder', 'ship', 'particularly', 'dog', 'future',\n",
       "       'sound', 'worse', 'piece', 'fans', 'involving', 'appears',\n",
       "       'involved', 'mean', 'none', 'taking', \"we're\", 'brother', 'police',\n",
       "       'sets', 'attention', 'laugh', 'eventually', 'single', 'falls',\n",
       "       'emotional', 'late', 'hours', 'material', 'power', 'lack', 'fall',\n",
       "       'van', 'result', 'elements', 'planet', 'meet', 'science', 'bring',\n",
       "       'wild', 'living', 'hell', 'husband', 'experience', \"what's\",\n",
       "       'interest', 'theater', 'paul', 'leads', \"movie's\", 'word',\n",
       "       'feature', 'battle', 'obviously', 'alone', 'within', 'god',\n",
       "       'usually', 'enjoy', 'guess', 'among', 'feeling', 'laughs', 'taken',\n",
       "       'king', 'george', 'talk', 'chance', 'disney', 'talent', 'middle',\n",
       "       'easy', 'across', 'number', 'needs', 'attempts', 'happen', 'deal',\n",
       "       'poor', 'form', 'release', 'killed', 'forced', 'aliens', 'girls',\n",
       "       'whether', 'wonderful', 'feels', 'tale', 'serious', 'expect',\n",
       "       'except', 'light', 'success', 'features', 'premise', 'happy',\n",
       "       'television', 'leave', 'chris', 'important', 'meets', 'history',\n",
       "       'giving', 'type', 'words', 'call', 'turned', 'released', 'art',\n",
       "       'impressive', 'working', 'seemed', 'score', 'told', 'girlfriend',\n",
       "       'recent', 'mission', 'basically', 'entertainment', 'apparently',\n",
       "       'easily', 'crew', 'stuff', 'change', 'crime', 'office', 'surprise',\n",
       "       'cool', 'parts', 'somehow', 'parents', 'robin', 'cut', 'credits',\n",
       "       'brings', 'sequel', 'cop', 'suspense', 'events', 'die', 'reality',\n",
       "       'local', 'talking', 'difficult', 'using', 'went', 'writing',\n",
       "       'remember', 'near', 'ago', 'certain', 'hilarious', 'slow', 'blood',\n",
       "       'straight', 'ryan', 'complete', 'popular', 'effective', 'mystery',\n",
       "       'fast', 'william', 'due', 'runs', 'flick', 'gone', 'return', 'red',\n",
       "       'quality', 'smith', 'viewer', 'dramatic', 'ben', 'age', 'business',\n",
       "       'presence', 'batman', 'sexual', 'present', 'surprisingly',\n",
       "       'anyway', 'uses', 'filmmakers', 'personal', 'figure', 'ways',\n",
       "       'decides', 'begin', 'smart', 'somewhat', 'annoying', 'shots',\n",
       "       'rich', 'previous', 'rock', 'successful', 'minute', 'similar',\n",
       "       'absolutely', 'motion', 'former', 'strange', 'came', 'follow',\n",
       "       'read', 'million', 'starring', 'clear', 'williams', 'familiar',\n",
       "       'kid', 'romance', 'intelligent', 'third', 'project', 'excellent',\n",
       "       'budget', 'jones', 'latest', 'party', 'towards', 'predictable',\n",
       "       'powerful', 'water', 'means', 'law', 'beyond', 'visual', 'amazing',\n",
       "       'leaves', 'secret', 'following', 'jim', 'eye', 'prison',\n",
       "       'animated', 'low', 'actress', 'filled', 'leaving', 'questions',\n",
       "       'nature', 'message', 'box', 'villain', 'definitely', 'add',\n",
       "       'large', 'moving', 'clever', 'create', 'felt', 'usual', 'stories',\n",
       "       'brilliant', 'situation', 'break', 'opens', 'scary', 'cinema',\n",
       "       'ones', 'drug', 'bunch', 'thinking', 'solid', 'giant', 'doubt',\n",
       "       'effect', 'bill', 'learn', 'move', 'company', \"i'd\", 'potential',\n",
       "       'seriously', 'wars', 'follows', 'saying', 'country', 'brothers',\n",
       "       'bob', 'huge', \"i'll\", 'plan', 'america', 'agent', 'class',\n",
       "       'force', 'created', 'unlike', 'pay', 'non', 'married', 'sweet',\n",
       "       'perfectly', 'general', 'realize', 'mark', 'took', 'decent',\n",
       "       'likely', 'dream', 'view', 'subject', 'understand', 'martin',\n",
       "       'happened', 'enjoyable', 'immediately', 'open', 'points', 'heard',\n",
       "       'sam', 'private', 'stay', 'viewers', 'fails', 'cold', 'overall',\n",
       "       'impossible', 'audiences', 'merely', 'mess', 'free', 'bruce',\n",
       "       'wanted', 'gun', 'appear', 'exciting', 'chase', 'escape',\n",
       "       'ultimately', 'ten', 'neither', 'fan', 'inside', 'scott',\n",
       "       'favorite', 'modern', 'wedding', 'brought', 'richard', 'trouble',\n",
       "       'otherwise', 'liked', 'tim', 'trek', 'dumb', 'murphy', 'studio',\n",
       "       'musical', 'political', 'various', 'talented', 'particular',\n",
       "       'stand', 'harry', 'keeps', 'english', 'silly', 'state',\n",
       "       'situations', 'rating', 'slightly', 'steve', 'truth', 'teen',\n",
       "       'bond', 'joke', 'spend', 'frank', 'biggest', 'society', 'air',\n",
       "       'effort', 'focus', 'element', 'earlier', 'members', 'purpose',\n",
       "       'showing', 'soundtrack', 'memorable', 'six', 'hands', 'cannot',\n",
       "       'offers', 'government', 'key', 'rated', 'heavy', 'totally', 'park',\n",
       "       'control', 'credit', 'west', 'ideas', 'wait', 'sit', 'eddie',\n",
       "       'female', 'ask', 'waste', 'terrible', 'depth', 'sci', 'aspect',\n",
       "       'list', 'animation', 'entirely', 'moves', 'actual', 'british',\n",
       "       'constantly', 'fire', 'convincing', 'gave', 'tension', 'brief',\n",
       "       'ridiculous', 'fear', 'cinematography', 'typical', 'ability',\n",
       "       'carter', 'setting', 'spent', 'street', 'quick', 'violent',\n",
       "       'screenwriter', 'subtle', 'expected', 'fairly', 'killing', 'army',\n",
       "       'tone', 'lots', 'thinks', 'cheap', 'suddenly', 'atmosphere',\n",
       "       'background', 'sister', 'highly', 'mars', 'sees', 'complex',\n",
       "       'disaster', 'beauty', 'front', 'seven', 'indeed', 'flat', 'wrote',\n",
       "       'whatever', 'dull', 'humans', 'recently', 'hate', 'steven',\n",
       "       'outside', 'wish', 'greatest', 'master', 'impact', 'amusing',\n",
       "       'sounds', 'telling', 'minor', 'sight', 'cinematic', 'stone',\n",
       "       'hold', 'mary', 'meanwhile', 'cute', 'awful', 'clearly', 'song',\n",
       "       'plenty', 'theme', 'hear', 'college', 'amount', 'truman', 'dreams',\n",
       "       'shown', 'double', 'queen', 'reasons', 'miss', 'allen', 'woody',\n",
       "       'longer', 'approach', \"let's\", 'common', 'max', 'island',\n",
       "       'believable', 'charm', \"year's\", 'godzilla', 'club', 'chemistry',\n",
       "       'possibly', 'casting', 'nick', 'realistic', 'cameron', 'french',\n",
       "       'trailer', 'produced', 'imagine', 'choice', 'ride', 'titanic',\n",
       "       'somewhere', 'road', 'sean', 'leader', 'carry', 'tough', 'thin',\n",
       "       'slowly', 'delivers', 'provide', 'puts', 'asks', 'appearance',\n",
       "       'famous', 'member', 'okay', 'race', 'energy', 'sent', 'detective',\n",
       "       'development', 'etc', 'language', 'proves', 'hot', 'seemingly',\n",
       "       'intelligence', 'caught', 'decide', 'opportunity', 'incredibly',\n",
       "       'brown', 'images', 'blue', 'basic', 'knew', 'interested',\n",
       "       'considering', 'thanks', 'remains', 'climax', 'event', 'critics',\n",
       "       'directing', 'mike', 'leading', 'ground', 'lies', 'forget',\n",
       "       'alive', 'baby', 'vampire', 'conclusion'], dtype=object)"
      ]
     },
     "execution_count": 47,
     "metadata": {},
     "output_type": "execute_result"
    }
   ],
   "source": [
    "cv.get_feature_names_out()"
   ]
  },
  {
   "cell_type": "code",
   "execution_count": 132,
   "metadata": {},
   "outputs": [
    {
     "data": {
      "text/plain": [
       "'plot : two teen couples go to a church party , drink and then drive . \\nthey get into an accident . \\none of the guys dies , but his girlfriend continues to see him in her life , and has nightmares . \\nwhat\\'s the deal ? \\nwatch the movie and \" sorta \" find out . . . \\ncritique : a mind-fuck movie for the teen generation that touches on a very cool idea , but presents it in a very bad package . \\nwhich is what makes this review an even harder one to write , since i generally applaud films which attempt to break the mold , mess with your head and such ( lost highway & memento ) , but there are good and bad ways of making all types of films , and these folks just didn\\'t snag this one correctly . \\nthey seem to have taken this pretty neat concept , but executed it terribly . \\nso what are the problems with the movie ? \\nwell , its main problem is that it\\'s simply too jumbled . \\nit starts off \" normal \" but then downshifts into this \" fantasy \" world in which you , as an audience member , have no idea what\\'s going on . \\nthere are dreams , there are characters coming back from the dead , there are others who look like the dead , there are strange apparitions , there are disappearances , there are a looooot of chase scenes , there are tons of weird things that happen , and most of it is simply not explained . \\nnow i personally don\\'t mind trying to unravel a film every now and then , but when all it does is give me the same clue over and over again , i get kind of fed up after a while , which is this film\\'s biggest problem . \\nit\\'s obviously got this big secret to hide , but it seems to want to hide it completely until its final five minutes . \\nand do they make things entertaining , thrilling or even engaging , in the meantime ? \\nnot really . \\nthe sad part is that the arrow and i both dig on flicks like this , so we actually figured most of it out by the half-way point , so all of the strangeness after that did start to make a little bit of sense , but it still didn\\'t the make the film all that more entertaining . \\ni guess the bottom line with movies like this is that you should always make sure that the audience is \" into it \" even before they are given the secret password to enter your world of understanding . \\ni mean , showing melissa sagemiller running away from visions for about 20 minutes throughout the movie is just plain lazy ! ! \\nokay , we get it . . . there \\nare people chasing her and we don\\'t know who they are . \\ndo we really need to see it over and over again ? \\nhow about giving us different scenes offering further insight into all of the strangeness going down in the movie ? \\napparently , the studio took this film away from its director and chopped it up themselves , and it shows . \\nthere might\\'ve been a pretty decent teen mind-fuck movie in here somewhere , but i guess \" the suits \" decided that turning it into a music video with little edge , would make more sense . \\nthe actors are pretty good for the most part , although wes bentley just seemed to be playing the exact same character that he did in american beauty , only in a new neighborhood . \\nbut my biggest kudos go out to sagemiller , who holds her own throughout the entire film , and actually has you feeling her character\\'s unraveling . \\noverall , the film doesn\\'t stick because it doesn\\'t entertain , it\\'s confusing , it rarely excites and it feels pretty redundant for most of its runtime , despite a pretty cool ending and explanation to all of the craziness that came before it . \\noh , and by the way , this is not a horror or teen slasher flick . . . it\\'s \\njust packaged to look that way because someone is apparently assuming that the genre is still hot with the kids . \\nit also wrapped production two years ago and has been sitting on the shelves ever since . \\nwhatever . . . skip \\nit ! \\nwhere\\'s joblo coming from ? \\na nightmare of elm street 3 ( 7/10 ) - blair witch 2 ( 7/10 ) - the crow ( 9/10 ) - the crow : salvation ( 4/10 ) - lost highway ( 10/10 ) - memento ( 10/10 ) - the others ( 9/10 ) - stir of echoes ( 8/10 ) \\n'"
      ]
     },
     "execution_count": 132,
     "metadata": {},
     "output_type": "execute_result"
    }
   ],
   "source": [
    "reviews = [movie_reviews.raw(fileid) for fileid in movie_reviews.fileids()]\n",
    "reviews[0]"
   ]
  },
  {
   "cell_type": "code",
   "execution_count": 49,
   "metadata": {},
   "outputs": [
    {
     "data": {
      "text/plain": [
       "<2000x1000 sparse matrix of type '<class 'numpy.int64'>'\n",
       "\twith 252984 stored elements in Compressed Sparse Row format>"
      ]
     },
     "execution_count": 49,
     "metadata": {},
     "output_type": "execute_result"
    }
   ],
   "source": [
    "reviews_cv = cv.fit_transform(reviews)\n",
    "reviews_cv"
   ]
  },
  {
   "cell_type": "code",
   "execution_count": 78,
   "metadata": {},
   "outputs": [
    {
     "data": {
      "text/plain": [
       "array([[ 6,  3,  6, ...,  0,  0,  0],\n",
       "       [ 0,  0,  5, ...,  0,  0,  0],\n",
       "       [ 8,  5,  2, ...,  0,  0,  0],\n",
       "       ...,\n",
       "       [ 8,  5,  5, ...,  0,  0,  0],\n",
       "       [15,  4,  3, ...,  0,  0,  0],\n",
       "       [ 9,  5,  8, ...,  0,  0,  0]])"
      ]
     },
     "execution_count": 78,
     "metadata": {},
     "output_type": "execute_result"
    }
   ],
   "source": [
    "reviews_cv.toarray()"
   ]
  },
  {
   "cell_type": "code",
   "execution_count": 79,
   "metadata": {},
   "outputs": [
    {
     "data": {
      "text/plain": [
       "(2000, 1000)"
      ]
     },
     "execution_count": 79,
     "metadata": {},
     "output_type": "execute_result"
    }
   ],
   "source": [
    "reviews_cv.shape"
   ]
  },
  {
   "cell_type": "code",
   "execution_count": 77,
   "metadata": {},
   "outputs": [
    {
     "data": {
      "text/plain": [
       "<2000x1000 sparse matrix of type '<class 'numpy.int64'>'\n",
       "\twith 252984 stored elements in Compressed Sparse Row format>"
      ]
     },
     "execution_count": 77,
     "metadata": {},
     "output_type": "execute_result"
    }
   ],
   "source": [
    "reviews_cv"
   ]
  },
  {
   "cell_type": "code",
   "execution_count": 80,
   "metadata": {},
   "outputs": [
    {
     "name": "stdout",
     "output_type": "stream",
     "text": [
      "  (0, 0)\t6\n",
      "  (0, 1)\t3\n",
      "  (0, 2)\t6\n",
      "  (0, 3)\t3\n",
      "  (0, 4)\t3\n",
      "  (0, 6)\t2\n",
      "  (0, 8)\t1\n"
     ]
    }
   ],
   "source": [
    "print(reviews_cv[0, :10])"
   ]
  },
  {
   "cell_type": "code",
   "execution_count": 81,
   "metadata": {},
   "outputs": [
    {
     "data": {
      "text/plain": [
       "array([[6, 3, 6, 3, 3, 0, 2, 0, 1, 0]])"
      ]
     },
     "execution_count": 81,
     "metadata": {},
     "output_type": "execute_result"
    }
   ],
   "source": [
    "reviews_cv[0, :10].toarray()"
   ]
  },
  {
   "cell_type": "code",
   "execution_count": 82,
   "metadata": {},
   "outputs": [
    {
     "data": {
      "text/plain": [
       "<1x10 sparse matrix of type '<class 'numpy.int64'>'\n",
       "\twith 7 stored elements in Compressed Sparse Row format>"
      ]
     },
     "execution_count": 82,
     "metadata": {},
     "output_type": "execute_result"
    }
   ],
   "source": [
    "reviews_cv[0, :10]"
   ]
  },
  {
   "cell_type": "code",
   "execution_count": 86,
   "metadata": {},
   "outputs": [
    {
     "name": "stdout",
     "output_type": "stream",
     "text": [
      "[5, 3, 6, 3, 3, 0, 2, 0, 1, 0, 1, 3, 1, 2, 1, 0, 1, 2, 3, 5]\n",
      "[6, 3, 6, 3, 3, 0, 2, 0, 1, 0, 1, 3, 2, 2, 1, 0, 1, 2, 3, 5]\n"
     ]
    }
   ],
   "source": [
    "print(features_sets[0][:20])\n",
    "print(list(reviews_cv.toarray()[0, :20]))"
   ]
  },
  {
   "cell_type": "code",
   "execution_count": 87,
   "metadata": {},
   "outputs": [
    {
     "name": "stdout",
     "output_type": "stream",
     "text": [
      "film 6\n",
      "one 3\n",
      "movie 6\n",
      "like 3\n",
      "even 3\n",
      "time 0\n",
      "good 2\n",
      "story 0\n",
      "would 1\n",
      "much 0\n",
      "also 1\n",
      "get 3\n",
      "character 2\n",
      "two 2\n",
      "well 1\n",
      "first 0\n",
      "characters 1\n",
      "see 2\n",
      "way 3\n",
      "make 5\n"
     ]
    }
   ],
   "source": [
    "for word, count in zip(cv.get_feature_names_out()[:20], reviews_cv.toarray()[0,:20]):\n",
    "    print(word, count)"
   ]
  },
  {
   "cell_type": "code",
   "execution_count": 88,
   "metadata": {},
   "outputs": [
    {
     "data": {
      "text/html": [
       "<div>\n",
       "<style scoped>\n",
       "    .dataframe tbody tr th:only-of-type {\n",
       "        vertical-align: middle;\n",
       "    }\n",
       "\n",
       "    .dataframe tbody tr th {\n",
       "        vertical-align: top;\n",
       "    }\n",
       "\n",
       "    .dataframe thead th {\n",
       "        text-align: right;\n",
       "    }\n",
       "</style>\n",
       "<table border=\"1\" class=\"dataframe\">\n",
       "  <thead>\n",
       "    <tr style=\"text-align: right;\">\n",
       "      <th></th>\n",
       "      <th>review</th>\n",
       "      <th>rating</th>\n",
       "      <th>date</th>\n",
       "      <th>title</th>\n",
       "    </tr>\n",
       "  </thead>\n",
       "  <tbody>\n",
       "    <tr>\n",
       "      <th>0</th>\n",
       "      <td>돈 들인건 티가 나지만 보는 내내 하품만</td>\n",
       "      <td>1</td>\n",
       "      <td>2018.10.29</td>\n",
       "      <td>인피니티 워</td>\n",
       "    </tr>\n",
       "    <tr>\n",
       "      <th>1</th>\n",
       "      <td>몰입할수밖에 없다. 어렵게 생각할 필요없다. 내가 전투에 참여한듯 손에 땀이남.</td>\n",
       "      <td>10</td>\n",
       "      <td>2018.10.26</td>\n",
       "      <td>인피니티 워</td>\n",
       "    </tr>\n",
       "    <tr>\n",
       "      <th>2</th>\n",
       "      <td>이전 작품에 비해 더 화려하고 스케일도 커졌지만.... 전국 맛집의 음식들을 한데 ...</td>\n",
       "      <td>8</td>\n",
       "      <td>2018.10.24</td>\n",
       "      <td>인피니티 워</td>\n",
       "    </tr>\n",
       "    <tr>\n",
       "      <th>3</th>\n",
       "      <td>이 정도면 볼만하다고 할 수 있음!</td>\n",
       "      <td>8</td>\n",
       "      <td>2018.10.22</td>\n",
       "      <td>인피니티 워</td>\n",
       "    </tr>\n",
       "    <tr>\n",
       "      <th>4</th>\n",
       "      <td>재미있다</td>\n",
       "      <td>10</td>\n",
       "      <td>2018.10.20</td>\n",
       "      <td>인피니티 워</td>\n",
       "    </tr>\n",
       "    <tr>\n",
       "      <th>5</th>\n",
       "      <td>나는 재밌게 봄</td>\n",
       "      <td>10</td>\n",
       "      <td>2018.10.14</td>\n",
       "      <td>인피니티 워</td>\n",
       "    </tr>\n",
       "    <tr>\n",
       "      <th>6</th>\n",
       "      <td>0.5점은 줄 수 없냐?</td>\n",
       "      <td>0</td>\n",
       "      <td>2018.10.10</td>\n",
       "      <td>인피니티 워</td>\n",
       "    </tr>\n",
       "    <tr>\n",
       "      <th>7</th>\n",
       "      <td>헐..다 죽었어....나중에 앤트맨 보다가도 깜놀...</td>\n",
       "      <td>10</td>\n",
       "      <td>2018.10.08</td>\n",
       "      <td>인피니티 워</td>\n",
       "    </tr>\n",
       "    <tr>\n",
       "      <th>8</th>\n",
       "      <td>충격 결말</td>\n",
       "      <td>9</td>\n",
       "      <td>2018.10.06</td>\n",
       "      <td>인피니티 워</td>\n",
       "    </tr>\n",
       "    <tr>\n",
       "      <th>9</th>\n",
       "      <td>응집력</td>\n",
       "      <td>8</td>\n",
       "      <td>2018.10.05</td>\n",
       "      <td>인피니티 워</td>\n",
       "    </tr>\n",
       "  </tbody>\n",
       "</table>\n",
       "</div>"
      ],
      "text/plain": [
       "                                              review  rating        date  \\\n",
       "0                             돈 들인건 티가 나지만 보는 내내 하품만       1  2018.10.29   \n",
       "1       몰입할수밖에 없다. 어렵게 생각할 필요없다. 내가 전투에 참여한듯 손에 땀이남.      10  2018.10.26   \n",
       "2  이전 작품에 비해 더 화려하고 스케일도 커졌지만.... 전국 맛집의 음식들을 한데 ...       8  2018.10.24   \n",
       "3                                이 정도면 볼만하다고 할 수 있음!       8  2018.10.22   \n",
       "4                                               재미있다      10  2018.10.20   \n",
       "5                                           나는 재밌게 봄      10  2018.10.14   \n",
       "6                                      0.5점은 줄 수 없냐?       0  2018.10.10   \n",
       "7                     헐..다 죽었어....나중에 앤트맨 보다가도 깜놀...      10  2018.10.08   \n",
       "8                                              충격 결말       9  2018.10.06   \n",
       "9                                                응집력       8  2018.10.05   \n",
       "\n",
       "    title  \n",
       "0  인피니티 워  \n",
       "1  인피니티 워  \n",
       "2  인피니티 워  \n",
       "3  인피니티 워  \n",
       "4  인피니티 워  \n",
       "5  인피니티 워  \n",
       "6  인피니티 워  \n",
       "7  인피니티 워  \n",
       "8  인피니티 워  \n",
       "9  인피니티 워  "
      ]
     },
     "execution_count": 88,
     "metadata": {},
     "output_type": "execute_result"
    }
   ],
   "source": [
    "import pandas as pd\n",
    "df = pd.read_csv('daum_movie_review.csv')\n",
    "df.head(10)"
   ]
  },
  {
   "cell_type": "code",
   "execution_count": 90,
   "metadata": {},
   "outputs": [
    {
     "data": {
      "text/plain": [
       "array(['10점', '18', '1987', '1도', '1점', '1점도', '2시간', '2시간이', '2편', '5점',\n",
       "       '6점', '7점', '8점', 'cg', 'cg가', 'cg는', 'cg도', 'cg만', 'good', 'of',\n",
       "       'ㅋㅋ', 'ㅋㅋㅋ', 'ㅋㅋㅋㅋ', 'ㅎㅎ', 'ㅎㅎㅎ', 'ㅜㅜ', 'ㅠㅠ', 'ㅠㅠㅠ', 'ㅡㅡ', '가는',\n",
       "       '가는줄', '가면', '가서', '가슴', '가슴아픈', '가슴이', '가장', '가족', '가족과', '가족들과',\n",
       "       '가족의', '가족이', '가지고', '간만에', '갈수록', '감독', '감독님', '감독은', '감독의',\n",
       "       '감독이', '감동', '감동과', '감동도', '감동은', '감동을', '감동이', '감동입니다', '감동적',\n",
       "       '감동적이고', '감동적인', '감사드립니다', '감사합니다', '감정이', '갑자기', '갔는데', '갔다가',\n",
       "       '강철비', '강추', '강추합니다', '같고', '같네요', '같다', '같습니다', '같아', '같아요', '같은',\n",
       "       '같은데', '같음', '같이', '개연성', '개연성이', '개인적으로', '거의', '겁나', '것도', '것은',\n",
       "       '것을', '것이', '것이다', '겨울왕국', '결국', '결말', '결말이', '계속', '고맙습니다', '곤지암',\n",
       "       '공포', '공포를', '공포영화', '관객'], dtype=object)"
      ]
     },
     "execution_count": 90,
     "metadata": {},
     "output_type": "execute_result"
    }
   ],
   "source": [
    "from sklearn.feature_extraction.text import CountVectorizer\n",
    "daum_cv = CountVectorizer(max_features=1000)\n",
    "daum_DTM = daum_cv.fit_transform(df.review)\n",
    "\n",
    "daum_cv.get_feature_names_out()[:100]"
   ]
  },
  {
   "cell_type": "code",
   "execution_count": 91,
   "metadata": {},
   "outputs": [],
   "source": [
    "from konlpy.tag import Okt\n",
    "twitter_tag = Okt()"
   ]
  },
  {
   "cell_type": "code",
   "execution_count": 92,
   "metadata": {},
   "outputs": [
    {
     "data": {
      "text/plain": [
       "['몰입',\n",
       " '할수밖에',\n",
       " '없다',\n",
       " '.',\n",
       " '어렵게',\n",
       " '생각',\n",
       " '할',\n",
       " '필요없다',\n",
       " '.',\n",
       " '내',\n",
       " '가',\n",
       " '전투',\n",
       " '에',\n",
       " '참여',\n",
       " '한',\n",
       " '듯',\n",
       " '손',\n",
       " '에',\n",
       " '땀',\n",
       " '이남',\n",
       " '.']"
      ]
     },
     "execution_count": 92,
     "metadata": {},
     "output_type": "execute_result"
    }
   ],
   "source": [
    "twitter_tag.morphs(df.review[1])"
   ]
  },
  {
   "cell_type": "code",
   "execution_count": 93,
   "metadata": {},
   "outputs": [
    {
     "data": {
      "text/plain": [
       "['몰입', '생각', '내', '전투', '참여', '듯', '손', '땀', '이남']"
      ]
     },
     "execution_count": 93,
     "metadata": {},
     "output_type": "execute_result"
    }
   ],
   "source": [
    "twitter_tag.nouns(df.review[1])"
   ]
  },
  {
   "cell_type": "code",
   "execution_count": 94,
   "metadata": {},
   "outputs": [
    {
     "data": {
      "text/plain": [
       "[('몰입', 'Noun'),\n",
       " ('할수밖에', 'Verb'),\n",
       " ('없다', 'Adjective'),\n",
       " ('.', 'Punctuation'),\n",
       " ('어렵게', 'Adjective'),\n",
       " ('생각', 'Noun'),\n",
       " ('할', 'Verb'),\n",
       " ('필요없다', 'Adjective'),\n",
       " ('.', 'Punctuation'),\n",
       " ('내', 'Noun'),\n",
       " ('가', 'Josa'),\n",
       " ('전투', 'Noun'),\n",
       " ('에', 'Josa'),\n",
       " ('참여', 'Noun'),\n",
       " ('한', 'Determiner'),\n",
       " ('듯', 'Noun'),\n",
       " ('손', 'Noun'),\n",
       " ('에', 'Josa'),\n",
       " ('땀', 'Noun'),\n",
       " ('이남', 'Noun'),\n",
       " ('.', 'Punctuation')]"
      ]
     },
     "execution_count": 94,
     "metadata": {},
     "output_type": "execute_result"
    }
   ],
   "source": [
    "twitter_tag.pos(df.review[1])"
   ]
  },
  {
   "cell_type": "code",
   "execution_count": 95,
   "metadata": {},
   "outputs": [],
   "source": [
    "def my_tokenizer(doc):\n",
    "    return [\n",
    "        token\n",
    "        for token, pos in twitter_tag.pos(doc)\n",
    "        if pos in ['Noun', 'Verb', 'Adjective']\n",
    "    ]"
   ]
  },
  {
   "cell_type": "code",
   "execution_count": 96,
   "metadata": {},
   "outputs": [
    {
     "data": {
      "text/plain": [
       "['몰입',\n",
       " '할수밖에',\n",
       " '없다',\n",
       " '어렵게',\n",
       " '생각',\n",
       " '할',\n",
       " '필요없다',\n",
       " '내',\n",
       " '전투',\n",
       " '참여',\n",
       " '듯',\n",
       " '손',\n",
       " '땀',\n",
       " '이남']"
      ]
     },
     "execution_count": 96,
     "metadata": {},
     "output_type": "execute_result"
    }
   ],
   "source": [
    "my_tokenizer(df.review[1])"
   ]
  },
  {
   "cell_type": "code",
   "execution_count": 100,
   "metadata": {},
   "outputs": [
    {
     "data": {
      "text/plain": [
       "array(['가', '가는', '가는줄', '가면', '가서', '가슴', '가장', '가족', '가족영화', '가지', '가치',\n",
       "       '각색', '간', '간다', '간만', '갈', '갈수록', '감', '감독', '감동', '감사', '감사합니다',\n",
       "       '감상', '감성', '감정', '감탄', '갑자기', '갔는데', '갔다', '갔다가', '강', '강철', '강추',\n",
       "       '같고', '같네요', '같다', '같습니다', '같아', '같아요', '같은', '같은데', '같음', '개',\n",
       "       '개그', '개봉', '개연', '개인', '거', '거기', '거리', '거의', '걱정', '건', '건가',\n",
       "       '건지', '걸', '겁니다', '것', '게', '겨울왕국', '결론', '결말', '경찰', '경험', '계속',\n",
       "       '고', '고맙습니다', '고민', '고생', '곤지암', '곳', '공감', '공포', '공포영화', '과',\n",
       "       '과거', '관', '관객', '관객수', '관람', '광주', '괜찮은', '교훈', '구성', '국내', '국민',\n",
       "       '군인', '군함도', '굿', '권선', '귀신', '그', '그것', '그게', '그날', '그냥', '그닥',\n",
       "       '그대로', '그때', '그래픽'], dtype=object)"
      ]
     },
     "execution_count": 100,
     "metadata": {},
     "output_type": "execute_result"
    }
   ],
   "source": [
    "from sklearn.feature_extraction.text import CountVectorizer\n",
    "\n",
    "daum_cv = CountVectorizer(max_features=1000, tokenizer=my_tokenizer)\n",
    "\n",
    "daum_DTM = daum_cv.fit_transform(df.review)"
   ]
  },
  {
   "cell_type": "code",
   "execution_count": 102,
   "metadata": {},
   "outputs": [
    {
     "data": {
      "text/plain": [
       "array(['가', '가는', '가는줄', '가면', '가서', '가슴', '가장', '가족', '가족영화', '가지', '가치',\n",
       "       '각색', '간', '간다', '간만', '갈', '갈수록', '감', '감독', '감동', '감사', '감사합니다',\n",
       "       '감상', '감성', '감정', '감탄', '갑자기', '갔는데', '갔다', '갔다가', '강', '강철', '강추',\n",
       "       '같고', '같네요', '같다', '같습니다', '같아', '같아요', '같은', '같은데', '같음', '개',\n",
       "       '개그', '개봉', '개연', '개인', '거', '거기', '거리', '거의', '걱정', '건', '건가',\n",
       "       '건지', '걸', '겁니다', '것', '게', '겨울왕국', '결론', '결말', '경찰', '경험', '계속',\n",
       "       '고', '고맙습니다', '고민', '고생', '곤지암', '곳', '공감', '공포', '공포영화', '과',\n",
       "       '과거', '관', '관객', '관객수', '관람', '광주', '괜찮은', '교훈', '구성', '국내', '국민',\n",
       "       '군인', '군함도', '굿', '권선', '귀신', '그', '그것', '그게', '그날', '그냥', '그닥',\n",
       "       '그대로', '그때', '그래픽'], dtype=object)"
      ]
     },
     "execution_count": 102,
     "metadata": {},
     "output_type": "execute_result"
    }
   ],
   "source": [
    "daum_cv.get_feature_names_out()[:100]"
   ]
  },
  {
   "cell_type": "code",
   "execution_count": 106,
   "metadata": {},
   "outputs": [
    {
     "data": {
      "text/plain": [
       "array([[0, 0, 0, ..., 0, 0, 0],\n",
       "       [0, 0, 0, ..., 0, 0, 0],\n",
       "       [0, 0, 0, ..., 0, 0, 0],\n",
       "       ...,\n",
       "       [0, 0, 0, ..., 0, 0, 0],\n",
       "       [0, 0, 0, ..., 0, 0, 0],\n",
       "       [0, 0, 0, ..., 0, 0, 0]])"
      ]
     },
     "execution_count": 106,
     "metadata": {},
     "output_type": "execute_result"
    }
   ],
   "source": [
    "daum_DTM.toarray()"
   ]
  },
  {
   "cell_type": "code",
   "execution_count": 107,
   "metadata": {},
   "outputs": [
    {
     "data": {
      "text/plain": [
       "<14725x1000 sparse matrix of type '<class 'numpy.int64'>'\n",
       "\twith 110800 stored elements in Compressed Sparse Row format>"
      ]
     },
     "execution_count": 107,
     "metadata": {},
     "output_type": "execute_result"
    }
   ],
   "source": [
    "daum_DTM"
   ]
  },
  {
   "cell_type": "code",
   "execution_count": 109,
   "metadata": {},
   "outputs": [
    {
     "data": {
      "text/plain": [
       "0.7524617996604415"
      ]
     },
     "execution_count": 109,
     "metadata": {},
     "output_type": "execute_result"
    }
   ],
   "source": [
    "110800/(14725*1000) * 100"
   ]
  },
  {
   "cell_type": "code",
   "execution_count": 105,
   "metadata": {},
   "outputs": [
    {
     "name": "stdout",
     "output_type": "stream",
     "text": [
      "내 1\n",
      "듯 1\n",
      "몰입 1\n",
      "생각 1\n",
      "손 1\n",
      "없다 1\n",
      "할 1\n"
     ]
    }
   ],
   "source": [
    "for word, count in zip(daum_cv.get_feature_names_out(), daum_DTM[1].toarray()[0]):\n",
    "    if count > 0:\n",
    "        print(word, count)"
   ]
  },
  {
   "cell_type": "code",
   "execution_count": 110,
   "metadata": {},
   "outputs": [
    {
     "data": {
      "text/plain": [
       "[<matplotlib.lines.Line2D at 0x7fa99b6c4760>]"
      ]
     },
     "execution_count": 110,
     "metadata": {},
     "output_type": "execute_result"
    },
    {
     "data": {
      "image/png": "[encoded data removed]",
      "text/plain": [
       "<Figure size 432x288 with 1 Axes>"
      ]
     },
     "metadata": {
      "needs_background": "light"
     },
     "output_type": "display_data"
    }
   ],
   "source": [
    "import matplotlib.pyplot as plt\n",
    "import matplotlib as mpl\n",
    "\n",
    "import numpy as np\n",
    "\n",
    "x = np.arange(0, 2*np.pi, 0.1)\n",
    "y = np.cos(x)\n",
    "\n",
    "plt.plot(x, y)"
   ]
  },
  {
   "cell_type": "code",
   "execution_count": 111,
   "metadata": {},
   "outputs": [
    {
     "data": {
      "text/plain": [
       "2021"
      ]
     },
     "execution_count": 111,
     "metadata": {},
     "output_type": "execute_result"
    }
   ],
   "source": [
    "start = len(reviews[0]) // 2\n",
    "start"
   ]
  },
  {
   "cell_type": "code",
   "execution_count": 112,
   "metadata": {},
   "outputs": [
    {
     "data": {
      "text/plain": [
       "'taining . \\ni guess the bottom line with movies like this is that you should always make sure that the audience is \" into it \" even before they are given the secret password to enter your world of understanding . \\ni mean , showing melissa sagemiller running away from visions for about 20 minutes throughout the movie is just plain lazy ! ! \\nokay , we get it . . . there \\nare people chasing her and we don\\'t know who they are . \\ndo we really need to see it over and over again ? \\nhow about giving us different scenes offering further insight into all of the strangeness going down in the movie ? \\napparently , the studio took this film away from its director and chopped it up themselves , and it shows . \\nthere might\\'ve been a pretty decent teen mind-fuck movie in here somewhere , but i guess \" the suits \" decided that turning it into a music video with little edge , would make more sense . \\nthe actors are pretty good for the most part , although wes bentley just seemed to be playing the exact same character that he did in american beauty , only in a new neighborhood . \\nbut my biggest kudos go out to sagemiller , who holds her own throughout the entire film , and actually has you feeling her character\\'s unraveling . \\noverall , the film doesn\\'t stick because it doesn\\'t entertain , it\\'s confusing , it rarely excites and it feels pretty redundant for most of its runtime , despite a pretty cool ending and explanation to all of the craziness that came before it . \\noh , and by the way , this is not a horror or teen slasher flick . . . it\\'s \\njust packaged to look that way because someone is apparently assuming that the genre is still hot with the kids . \\nit also wrapped production two years ago and has been sitting on the shelves ever since . \\nwhatever . . . skip \\nit ! \\nwhere\\'s joblo coming from ? \\na nightmare of elm street 3 ( 7/10 ) - blair witch 2 ( 7/10 ) - the crow ( 9/10 ) - the crow : salvation ( 4/10 ) - lost highway ( 10/10 ) - memento ( 10/10 ) - the others ( 9/10 ) - stir of echoes ( 8/10 ) \\n'"
      ]
     },
     "execution_count": 112,
     "metadata": {},
     "output_type": "execute_result"
    }
   ],
   "source": [
    "source = reviews[0][-start:]\n",
    "source"
   ]
  },
  {
   "cell_type": "code",
   "execution_count": 113,
   "metadata": {},
   "outputs": [
    {
     "data": {
      "text/plain": [
       "<1x1000 sparse matrix of type '<class 'numpy.int64'>'\n",
       "\twith 88 stored elements in Compressed Sparse Row format>"
      ]
     },
     "execution_count": 113,
     "metadata": {},
     "output_type": "execute_result"
    }
   ],
   "source": [
    "from sklearn.metrics.pairwise import cosine_similarity\n",
    "\n",
    "source_cv = cv.transform([source])\n",
    "source_cv"
   ]
  },
  {
   "cell_type": "code",
   "execution_count": 114,
   "metadata": {},
   "outputs": [
    {
     "data": {
      "text/plain": [
       "array(['film', 'one', 'movie', 'like', 'even', 'time', 'good', 'story',\n",
       "       'would', 'much', 'also', 'get', 'character', 'two', 'well',\n",
       "       'first', 'characters', 'see', 'way', 'make', 'life', 'really',\n",
       "       'films', 'plot', 'little', 'people', 'could', 'bad', 'scene',\n",
       "       'never', 'best', 'man', 'new', 'scenes', 'many', 'know', 'movies',\n",
       "       'director', 'action', \"he's\", 'great', 'another', 'love', 'made',\n",
       "       'big', 'end', 'back', 'something', 'still', 'seems', 'work',\n",
       "       'makes', \"there's\", 'world', 'however', 'every', 'though',\n",
       "       'better', 'real', 'seen', 'enough', 'take', 'around', 'going',\n",
       "       'performance', 'audience', 'role', 'old', 'gets', 'may', 'things',\n",
       "       'think', 'years', 'last', 'actually', 'comedy', 'look', 'funny',\n",
       "       'long', 'almost', 'thing', 'fact', 'nothing', 'say', 'right',\n",
       "       'although', 'played', 'find', \"that's\", 'john', 'come', 'ever',\n",
       "       'since', 'cast', 'script', 'year', 'plays', 'star', 'young',\n",
       "       'comes', 'show', 'part', 'screen', 'original', 'without', 'actors',\n",
       "       'acting', 'three', 'point', 'least', 'lot', 'takes', 'day',\n",
       "       'quite', 'away', 'effects', 'course', 'goes', \"can't\", 'minutes',\n",
       "       'guy', 'interesting', 'far', 'family', \"i'm\", 'might', 'high',\n",
       "       'rather', 'anything', 'must', 'place', 'set', 'yet', 'watch',\n",
       "       'making', 'always', 'hard', 'fun', \"film's\", 'seem', 'special',\n",
       "       'bit', 'times', 'wife', 'trying', 'instead', 'give', 'want',\n",
       "       'kind', 'american', 'job', 'sense', 'picture', 'home', 'probably',\n",
       "       'series', 'help', 'half', 'along', 'hollywood', 'pretty',\n",
       "       'becomes', 'everything', 'actor', 'woman', 'sure', 'together',\n",
       "       'men', 'black', 'dialogue', 'become', 'money', 'gives', 'given',\n",
       "       'looking', 'whole', 'watching', 'feel', 'music', 'wants', 'less',\n",
       "       'sex', 'done', 'got', 'horror', 'death', 'perhaps', 'next',\n",
       "       'especially', 'play', 'mind', 'moments', 'everyone', 'father',\n",
       "       'looks', 'city', 'completely', 'reason', 'whose', 'line',\n",
       "       'performances', 'different', 'rest', 'human', 'girl', 'small',\n",
       "       'simply', 'night', 'put', 'james', 'ending', 'couple', 'case',\n",
       "       'several', 'evil', \"they're\", 'left', 'thought', 'dead', 'anyone',\n",
       "       'michael', 'humor', 'shows', 'written', 'entire', 'true', 'lost',\n",
       "       'mother', 'getting', 'turns', 'soon', 'second', 'main', 'stars',\n",
       "       'found', 'use', 'school', 'problem', 'begins', 'friends', 'name',\n",
       "       'called', 'top', 'comic', 'based', 'idea', 'head', 'wrong', 'town',\n",
       "       'either', \"i've\", 'unfortunately', 'later', 'final', 'friend',\n",
       "       'someone', 'hand', 'alien', 'else', 'full', 'david', 'house',\n",
       "       'used', 'tries', 'often', 'group', 'war', 'sequence', 'keep',\n",
       "       'turn', 'playing', 'behind', 'named', 'certainly', 'live',\n",
       "       'believe', 'works', 'relationship', 'hour', 'face', 'style',\n",
       "       'said', 'despite', 'boy', 'finally', 'run', 'shot', 'tell', 'nice',\n",
       "       'maybe', 'book', 'perfect', 'side', 'seeing', 'able', 'finds',\n",
       "       'past', 'camera', 'person', 'including', 'days', 'lives',\n",
       "       'directed', 'running', 'fight', 'supposed', 'matter', 'moment',\n",
       "       'video', 'lines', 'car', 'worth', 'game', 'starts', 'need', 'son',\n",
       "       'entertaining', 'kids', 'start', 'summer', 'short', 'self',\n",
       "       'worst', 'nearly', 'white', 'dark', 'daughter', 'opening', 'try',\n",
       "       'upon', 'kevin', 'care', 'early', 'violence', 'throughout',\n",
       "       'writer', 'example', 'production', 'title', 'exactly', 'beautiful',\n",
       "       'earth', 'let', 'review', 'drama', 'major', 'problems',\n",
       "       'sequences', 'obvious', 'known', 'version', 'robert', 'joe',\n",
       "       'already', 'classic', 'screenplay', 'team', \"who's\", 'close',\n",
       "       'kill', 'others', 'hit', 'children', 'order', 'simple', 'fine',\n",
       "       'deep', 'direction', 'five', 'roles', 'act', 'four', 'eyes',\n",
       "       'sort', 'sometimes', 'question', 'knows', 'jack', 'supporting',\n",
       "       'coming', 'voice', 'heart', 'truly', 'save', 'jokes', 'computer',\n",
       "       'boring', 'level', 'killer', 'strong', 'stop', 'jackie', 'guys',\n",
       "       'room', 'genre', 'body', 'women', 'beginning', 'ends', 'space',\n",
       "       'attempt', 'thriller', 'tom', 'happens', 'fiction', 'note', 'yes',\n",
       "       'says', 'york', 'tells', 'quickly', 'novel', 'hope', 'romantic',\n",
       "       'stupid', 'possible', 'saw', 'peter', 'oscar', 'scream', 'lead',\n",
       "       'career', 'murder', 'hero', 'child', 'extremely', 'manages', 'lee',\n",
       "       'mostly', 'wonder', 'ship', 'particularly', 'dog', 'future',\n",
       "       'sound', 'worse', 'piece', 'fans', 'involving', 'appears',\n",
       "       'involved', 'mean', 'none', 'taking', \"we're\", 'brother', 'police',\n",
       "       'sets', 'attention', 'laugh', 'eventually', 'single', 'falls',\n",
       "       'emotional', 'late', 'hours', 'material', 'power', 'lack', 'fall',\n",
       "       'van', 'result', 'elements', 'planet', 'meet', 'science', 'bring',\n",
       "       'wild', 'living', 'hell', 'husband', 'experience', \"what's\",\n",
       "       'interest', 'theater', 'paul', 'leads', \"movie's\", 'word',\n",
       "       'feature', 'battle', 'obviously', 'alone', 'within', 'god',\n",
       "       'usually', 'enjoy', 'guess', 'among', 'feeling', 'laughs', 'taken',\n",
       "       'king', 'george', 'talk', 'chance', 'disney', 'talent', 'middle',\n",
       "       'easy', 'across', 'number', 'needs', 'attempts', 'happen', 'deal',\n",
       "       'poor', 'form', 'release', 'killed', 'forced', 'aliens', 'girls',\n",
       "       'whether', 'wonderful', 'feels', 'tale', 'serious', 'expect',\n",
       "       'except', 'light', 'success', 'features', 'premise', 'happy',\n",
       "       'television', 'leave', 'chris', 'important', 'meets', 'history',\n",
       "       'giving', 'type', 'words', 'call', 'turned', 'released', 'art',\n",
       "       'impressive', 'working', 'seemed', 'score', 'told', 'girlfriend',\n",
       "       'recent', 'mission', 'basically', 'entertainment', 'apparently',\n",
       "       'easily', 'crew', 'stuff', 'change', 'crime', 'office', 'surprise',\n",
       "       'cool', 'parts', 'somehow', 'parents', 'robin', 'cut', 'credits',\n",
       "       'brings', 'sequel', 'cop', 'suspense', 'events', 'die', 'reality',\n",
       "       'local', 'talking', 'difficult', 'using', 'went', 'writing',\n",
       "       'remember', 'near', 'ago', 'certain', 'hilarious', 'slow', 'blood',\n",
       "       'straight', 'ryan', 'complete', 'popular', 'effective', 'mystery',\n",
       "       'fast', 'william', 'due', 'runs', 'flick', 'gone', 'return', 'red',\n",
       "       'quality', 'smith', 'viewer', 'dramatic', 'ben', 'age', 'business',\n",
       "       'presence', 'batman', 'sexual', 'present', 'surprisingly',\n",
       "       'anyway', 'uses', 'filmmakers', 'personal', 'figure', 'ways',\n",
       "       'decides', 'begin', 'smart', 'somewhat', 'annoying', 'shots',\n",
       "       'rich', 'previous', 'rock', 'successful', 'minute', 'similar',\n",
       "       'absolutely', 'motion', 'former', 'strange', 'came', 'follow',\n",
       "       'read', 'million', 'starring', 'clear', 'williams', 'familiar',\n",
       "       'kid', 'romance', 'intelligent', 'third', 'project', 'excellent',\n",
       "       'budget', 'jones', 'latest', 'party', 'towards', 'predictable',\n",
       "       'powerful', 'water', 'means', 'law', 'beyond', 'visual', 'amazing',\n",
       "       'leaves', 'secret', 'following', 'jim', 'eye', 'prison',\n",
       "       'animated', 'low', 'actress', 'filled', 'leaving', 'questions',\n",
       "       'nature', 'message', 'box', 'villain', 'definitely', 'add',\n",
       "       'large', 'moving', 'clever', 'create', 'felt', 'usual', 'stories',\n",
       "       'brilliant', 'situation', 'break', 'opens', 'scary', 'cinema',\n",
       "       'ones', 'drug', 'bunch', 'thinking', 'solid', 'giant', 'doubt',\n",
       "       'effect', 'bill', 'learn', 'move', 'company', \"i'd\", 'potential',\n",
       "       'seriously', 'wars', 'follows', 'saying', 'country', 'brothers',\n",
       "       'bob', 'huge', \"i'll\", 'plan', 'america', 'agent', 'class',\n",
       "       'force', 'created', 'unlike', 'pay', 'non', 'married', 'sweet',\n",
       "       'perfectly', 'general', 'realize', 'mark', 'took', 'decent',\n",
       "       'likely', 'dream', 'view', 'subject', 'understand', 'martin',\n",
       "       'happened', 'enjoyable', 'immediately', 'open', 'points', 'heard',\n",
       "       'sam', 'private', 'stay', 'viewers', 'fails', 'cold', 'overall',\n",
       "       'impossible', 'audiences', 'merely', 'mess', 'free', 'bruce',\n",
       "       'wanted', 'gun', 'appear', 'exciting', 'chase', 'escape',\n",
       "       'ultimately', 'ten', 'neither', 'fan', 'inside', 'scott',\n",
       "       'favorite', 'modern', 'wedding', 'brought', 'richard', 'trouble',\n",
       "       'otherwise', 'liked', 'tim', 'trek', 'dumb', 'murphy', 'studio',\n",
       "       'musical', 'political', 'various', 'talented', 'particular',\n",
       "       'stand', 'harry', 'keeps', 'english', 'silly', 'state',\n",
       "       'situations', 'rating', 'slightly', 'steve', 'truth', 'teen',\n",
       "       'bond', 'joke', 'spend', 'frank', 'biggest', 'society', 'air',\n",
       "       'effort', 'focus', 'element', 'earlier', 'members', 'purpose',\n",
       "       'showing', 'soundtrack', 'memorable', 'six', 'hands', 'cannot',\n",
       "       'offers', 'government', 'key', 'rated', 'heavy', 'totally', 'park',\n",
       "       'control', 'credit', 'west', 'ideas', 'wait', 'sit', 'eddie',\n",
       "       'female', 'ask', 'waste', 'terrible', 'depth', 'sci', 'aspect',\n",
       "       'list', 'animation', 'entirely', 'moves', 'actual', 'british',\n",
       "       'constantly', 'fire', 'convincing', 'gave', 'tension', 'brief',\n",
       "       'ridiculous', 'fear', 'cinematography', 'typical', 'ability',\n",
       "       'carter', 'setting', 'spent', 'street', 'quick', 'violent',\n",
       "       'screenwriter', 'subtle', 'expected', 'fairly', 'killing', 'army',\n",
       "       'tone', 'lots', 'thinks', 'cheap', 'suddenly', 'atmosphere',\n",
       "       'background', 'sister', 'highly', 'mars', 'sees', 'complex',\n",
       "       'disaster', 'beauty', 'front', 'seven', 'indeed', 'flat', 'wrote',\n",
       "       'whatever', 'dull', 'humans', 'recently', 'hate', 'steven',\n",
       "       'outside', 'wish', 'greatest', 'master', 'impact', 'amusing',\n",
       "       'sounds', 'telling', 'minor', 'sight', 'cinematic', 'stone',\n",
       "       'hold', 'mary', 'meanwhile', 'cute', 'awful', 'clearly', 'song',\n",
       "       'plenty', 'theme', 'hear', 'college', 'amount', 'truman', 'dreams',\n",
       "       'shown', 'double', 'queen', 'reasons', 'miss', 'allen', 'woody',\n",
       "       'longer', 'approach', \"let's\", 'common', 'max', 'island',\n",
       "       'believable', 'charm', \"year's\", 'godzilla', 'club', 'chemistry',\n",
       "       'possibly', 'casting', 'nick', 'realistic', 'cameron', 'french',\n",
       "       'trailer', 'produced', 'imagine', 'choice', 'ride', 'titanic',\n",
       "       'somewhere', 'road', 'sean', 'leader', 'carry', 'tough', 'thin',\n",
       "       'slowly', 'delivers', 'provide', 'puts', 'asks', 'appearance',\n",
       "       'famous', 'member', 'okay', 'race', 'energy', 'sent', 'detective',\n",
       "       'development', 'etc', 'language', 'proves', 'hot', 'seemingly',\n",
       "       'intelligence', 'caught', 'decide', 'opportunity', 'incredibly',\n",
       "       'brown', 'images', 'blue', 'basic', 'knew', 'interested',\n",
       "       'considering', 'thanks', 'remains', 'climax', 'event', 'critics',\n",
       "       'directing', 'mike', 'leading', 'ground', 'lies', 'forget',\n",
       "       'alive', 'baby', 'vampire', 'conclusion'], dtype=object)"
      ]
     },
     "execution_count": 114,
     "metadata": {},
     "output_type": "execute_result"
    }
   ],
   "source": [
    "cv.get_feature_names_out()"
   ]
  },
  {
   "cell_type": "code",
   "execution_count": 115,
   "metadata": {},
   "outputs": [
    {
     "data": {
      "text/plain": [
       "(1, 1000)"
      ]
     },
     "execution_count": 115,
     "metadata": {},
     "output_type": "execute_result"
    }
   ],
   "source": [
    "source_cv.shape"
   ]
  },
  {
   "cell_type": "code",
   "execution_count": 116,
   "metadata": {},
   "outputs": [
    {
     "data": {
      "text/plain": [
       "(2000, 1000)"
      ]
     },
     "execution_count": 116,
     "metadata": {},
     "output_type": "execute_result"
    }
   ],
   "source": [
    "reviews_cv.shape"
   ]
  },
  {
   "cell_type": "code",
   "execution_count": 117,
   "metadata": {},
   "outputs": [
    {
     "data": {
      "text/plain": [
       "array([[0.83672056, 0.29618526, 0.3011952 , ..., 0.20387539, 0.28822896,\n",
       "        0.28244066]])"
      ]
     },
     "execution_count": 117,
     "metadata": {},
     "output_type": "execute_result"
    }
   ],
   "source": [
    "sim_result = cosine_similarity(source_cv, reviews_cv)\n",
    "sim_result"
   ]
  },
  {
   "cell_type": "code",
   "execution_count": 118,
   "metadata": {},
   "outputs": [
    {
     "data": {
      "text/plain": [
       "(1, 2000)"
      ]
     },
     "execution_count": 118,
     "metadata": {},
     "output_type": "execute_result"
    }
   ],
   "source": [
    "sim_result.shape"
   ]
  },
  {
   "cell_type": "code",
   "execution_count": 119,
   "metadata": {},
   "outputs": [
    {
     "data": {
      "text/plain": [
       "[0.8367205630128807,\n",
       " 0.43817531290756406,\n",
       " 0.4080451370075411,\n",
       " 0.40727044884302327,\n",
       " 0.4060219836225451,\n",
       " 0.3999621981759778,\n",
       " 0.39965783997760135,\n",
       " 0.39566661804603703,\n",
       " 0.3945302295079114,\n",
       " 0.3911637170821695]"
      ]
     },
     "execution_count": 119,
     "metadata": {},
     "output_type": "execute_result"
    }
   ],
   "source": [
    "sorted(sim_result[0], reverse=True)[:10]"
   ]
  },
  {
   "cell_type": "code",
   "execution_count": 120,
   "metadata": {},
   "outputs": [
    {
     "data": {
      "text/plain": [
       "array([   0, 1110, 1570,  687,  628,  112, 1712, 1393,  524, 1740])"
      ]
     },
     "execution_count": 120,
     "metadata": {},
     "output_type": "execute_result"
    }
   ],
   "source": [
    "import numpy as np\n",
    "\n",
    "(-sim_result[0]).argsort()[:10]"
   ]
  },
  {
   "cell_type": "code",
   "execution_count": 123,
   "metadata": {},
   "outputs": [
    {
     "data": {
      "text/html": [
       "<style>#sk-container-id-10 {color: black;background-color: white;}#sk-container-id-10 pre{padding: 0;}#sk-container-id-10 div.sk-toggleable {background-color: white;}#sk-container-id-10 label.sk-toggleable__label {cursor: pointer;display: block;width: 100%;margin-bottom: 0;padding: 0.3em;box-sizing: border-box;text-align: center;}#sk-container-id-10 label.sk-toggleable__label-arrow:before {content: \"▸\";float: left;margin-right: 0.25em;color: #696969;}#sk-container-id-10 label.sk-toggleable__label-arrow:hover:before {color: black;}#sk-container-id-10 div.sk-estimator:hover label.sk-toggleable__label-arrow:before {color: black;}#sk-container-id-10 div.sk-toggleable__content {max-height: 0;max-width: 0;overflow: hidden;text-align: left;background-color: #f0f8ff;}#sk-container-id-10 div.sk-toggleable__content pre {margin: 0.2em;color: black;border-radius: 0.25em;background-color: #f0f8ff;}#sk-container-id-10 input.sk-toggleable__control:checked~div.sk-toggleable__content {max-height: 200px;max-width: 100%;overflow: auto;}#sk-container-id-10 input.sk-toggleable__control:checked~label.sk-toggleable__label-arrow:before {content: \"▾\";}#sk-container-id-10 div.sk-estimator input.sk-toggleable__control:checked~label.sk-toggleable__label {background-color: #d4ebff;}#sk-container-id-10 div.sk-label input.sk-toggleable__control:checked~label.sk-toggleable__label {background-color: #d4ebff;}#sk-container-id-10 input.sk-hidden--visually {border: 0;clip: rect(1px 1px 1px 1px);clip: rect(1px, 1px, 1px, 1px);height: 1px;margin: -1px;overflow: hidden;padding: 0;position: absolute;width: 1px;}#sk-container-id-10 div.sk-estimator {font-family: monospace;background-color: #f0f8ff;border: 1px dotted black;border-radius: 0.25em;box-sizing: border-box;margin-bottom: 0.5em;}#sk-container-id-10 div.sk-estimator:hover {background-color: #d4ebff;}#sk-container-id-10 div.sk-parallel-item::after {content: \"\";width: 100%;border-bottom: 1px solid gray;flex-grow: 1;}#sk-container-id-10 div.sk-label:hover label.sk-toggleable__label {background-color: #d4ebff;}#sk-container-id-10 div.sk-serial::before {content: \"\";position: absolute;border-left: 1px solid gray;box-sizing: border-box;top: 0;bottom: 0;left: 50%;z-index: 0;}#sk-container-id-10 div.sk-serial {display: flex;flex-direction: column;align-items: center;background-color: white;padding-right: 0.2em;padding-left: 0.2em;position: relative;}#sk-container-id-10 div.sk-item {position: relative;z-index: 1;}#sk-container-id-10 div.sk-parallel {display: flex;align-items: stretch;justify-content: center;background-color: white;position: relative;}#sk-container-id-10 div.sk-item::before, #sk-container-id-10 div.sk-parallel-item::before {content: \"\";position: absolute;border-left: 1px solid gray;box-sizing: border-box;top: 0;bottom: 0;left: 50%;z-index: -1;}#sk-container-id-10 div.sk-parallel-item {display: flex;flex-direction: column;z-index: 1;position: relative;background-color: white;}#sk-container-id-10 div.sk-parallel-item:first-child::after {align-self: flex-end;width: 50%;}#sk-container-id-10 div.sk-parallel-item:last-child::after {align-self: flex-start;width: 50%;}#sk-container-id-10 div.sk-parallel-item:only-child::after {width: 0;}#sk-container-id-10 div.sk-dashed-wrapped {border: 1px dashed gray;margin: 0 0.4em 0.5em 0.4em;box-sizing: border-box;padding-bottom: 0.4em;background-color: white;}#sk-container-id-10 div.sk-label label {font-family: monospace;font-weight: bold;display: inline-block;line-height: 1.2em;}#sk-container-id-10 div.sk-label-container {text-align: center;}#sk-container-id-10 div.sk-container {/* jupyter's `normalize.less` sets `[hidden] { display: none; }` but bootstrap.min.css set `[hidden] { display: none !important; }` so we also need the `!important` here to be able to override the default hidden behavior on the sphinx rendered scikit-learn.org. See: https://github.com/scikit-learn/scikit-learn/issues/21755 */display: inline-block !important;position: relative;}#sk-container-id-10 div.sk-text-repr-fallback {display: none;}</style><div id=\"sk-container-id-10\" class=\"sk-top-container\"><div class=\"sk-text-repr-fallback\"><pre>TfidfTransformer()</pre><b>In a Jupyter environment, please rerun this cell to show the HTML representation or trust the notebook. <br />On GitHub, the HTML representation is unable to render, please try loading this page with nbviewer.org.</b></div><div class=\"sk-container\" hidden><div class=\"sk-item\"><div class=\"sk-estimator sk-toggleable\"><input class=\"sk-toggleable__control sk-hidden--visually\" id=\"sk-estimator-id-10\" type=\"checkbox\" checked><label for=\"sk-estimator-id-10\" class=\"sk-toggleable__label sk-toggleable__label-arrow\">TfidfTransformer</label><div class=\"sk-toggleable__content\"><pre>TfidfTransformer()</pre></div></div></div></div></div>"
      ],
      "text/plain": [
       "TfidfTransformer()"
      ]
     },
     "execution_count": 123,
     "metadata": {},
     "output_type": "execute_result"
    }
   ],
   "source": [
    "from sklearn.feature_extraction.text import TfidfTransformer\n",
    "\n",
    "transformer = TfidfTransformer()\n",
    "transformer"
   ]
  },
  {
   "cell_type": "code",
   "execution_count": 124,
   "metadata": {},
   "outputs": [
    {
     "data": {
      "text/plain": [
       "<2000x1000 sparse matrix of type '<class 'numpy.float64'>'\n",
       "\twith 252984 stored elements in Compressed Sparse Row format>"
      ]
     },
     "execution_count": 124,
     "metadata": {},
     "output_type": "execute_result"
    }
   ],
   "source": [
    "reviews_tfidf = transformer.fit_transform(reviews_cv)\n",
    "\n",
    "reviews_tfidf"
   ]
  },
  {
   "cell_type": "code",
   "execution_count": 125,
   "metadata": {},
   "outputs": [
    {
     "data": {
      "text/plain": [
       "array([[0.13556199, 0.06700076, 0.14998642, ..., 0.        , 0.        ,\n",
       "        0.        ],\n",
       "       [0.        , 0.        , 0.21872012, ..., 0.        , 0.        ,\n",
       "        0.        ],\n",
       "       [0.20129828, 0.1243632 , 0.05567934, ..., 0.        , 0.        ,\n",
       "        0.        ],\n",
       "       ...,\n",
       "       [0.11557537, 0.07140311, 0.07992071, ..., 0.        , 0.        ,\n",
       "        0.        ],\n",
       "       [0.2949473 , 0.07774724, 0.06526622, ..., 0.        , 0.        ,\n",
       "        0.        ],\n",
       "       [0.08333344, 0.04576343, 0.08195601, ..., 0.        , 0.        ,\n",
       "        0.        ]])"
      ]
     },
     "execution_count": 125,
     "metadata": {},
     "output_type": "execute_result"
    }
   ],
   "source": [
    "reviews_tfidf.toarray()"
   ]
  },
  {
   "cell_type": "code",
   "execution_count": 133,
   "metadata": {},
   "outputs": [
    {
     "data": {
      "text/plain": [
       "<2000x1000 sparse matrix of type '<class 'numpy.float64'>'\n",
       "\twith 252984 stored elements in Compressed Sparse Row format>"
      ]
     },
     "execution_count": 133,
     "metadata": {},
     "output_type": "execute_result"
    }
   ],
   "source": [
    "from sklearn.feature_extraction.text import TfidfVectorizer\n",
    "\n",
    "tf = TfidfVectorizer(vocabulary=word_features)\n",
    "\n",
    "reviews_tf = tf.fit_transform(reviews)\n",
    "reviews_tf"
   ]
  },
  {
   "cell_type": "code",
   "execution_count": 134,
   "metadata": {},
   "outputs": [
    {
     "data": {
      "text/plain": [
       "array(['film', 'one', 'movie', 'like', 'even', 'time', 'good', 'story',\n",
       "       'would', 'much', 'also', 'get', 'character', 'two', 'well',\n",
       "       'first', 'characters', 'see', 'way', 'make', 'life', 'really',\n",
       "       'films', 'plot', 'little', 'people', 'could', 'bad', 'scene',\n",
       "       'never', 'best', 'man', 'new', 'scenes', 'many', 'know', 'movies',\n",
       "       'director', 'action', \"he's\", 'great', 'another', 'love', 'made',\n",
       "       'big', 'end', 'back', 'something', 'still', 'seems', 'work',\n",
       "       'makes', \"there's\", 'world', 'however', 'every', 'though',\n",
       "       'better', 'real', 'seen', 'enough', 'take', 'around', 'going',\n",
       "       'performance', 'audience', 'role', 'old', 'gets', 'may', 'things',\n",
       "       'think', 'years', 'last', 'actually', 'comedy', 'look', 'funny',\n",
       "       'long', 'almost', 'thing', 'fact', 'nothing', 'say', 'right',\n",
       "       'although', 'played', 'find', \"that's\", 'john', 'come', 'ever',\n",
       "       'since', 'cast', 'script', 'year', 'plays', 'star', 'young',\n",
       "       'comes', 'show', 'part', 'screen', 'original', 'without', 'actors',\n",
       "       'acting', 'three', 'point', 'least', 'lot', 'takes', 'day',\n",
       "       'quite', 'away', 'effects', 'course', 'goes', \"can't\", 'minutes',\n",
       "       'guy', 'interesting', 'far', 'family', \"i'm\", 'might', 'high',\n",
       "       'rather', 'anything', 'must', 'place', 'set', 'yet', 'watch',\n",
       "       'making', 'always', 'hard', 'fun', \"film's\", 'seem', 'special',\n",
       "       'bit', 'times', 'wife', 'trying', 'instead', 'give', 'want',\n",
       "       'kind', 'american', 'job', 'sense', 'picture', 'home', 'probably',\n",
       "       'series', 'help', 'half', 'along', 'hollywood', 'pretty',\n",
       "       'becomes', 'everything', 'actor', 'woman', 'sure', 'together',\n",
       "       'men', 'black', 'dialogue', 'become', 'money', 'gives', 'given',\n",
       "       'looking', 'whole', 'watching', 'feel', 'music', 'wants', 'less',\n",
       "       'sex', 'done', 'got', 'horror', 'death', 'perhaps', 'next',\n",
       "       'especially', 'play', 'mind', 'moments', 'everyone', 'father',\n",
       "       'looks', 'city', 'completely', 'reason', 'whose', 'line',\n",
       "       'performances', 'different', 'rest', 'human', 'girl', 'small',\n",
       "       'simply', 'night', 'put', 'james', 'ending', 'couple', 'case',\n",
       "       'several', 'evil', \"they're\", 'left', 'thought', 'dead', 'anyone',\n",
       "       'michael', 'humor', 'shows', 'written', 'entire', 'true', 'lost',\n",
       "       'mother', 'getting', 'turns', 'soon', 'second', 'main', 'stars',\n",
       "       'found', 'use', 'school', 'problem', 'begins', 'friends', 'name',\n",
       "       'called', 'top', 'comic', 'based', 'idea', 'head', 'wrong', 'town',\n",
       "       'either', \"i've\", 'unfortunately', 'later', 'final', 'friend',\n",
       "       'someone', 'hand', 'alien', 'else', 'full', 'david', 'house',\n",
       "       'used', 'tries', 'often', 'group', 'war', 'sequence', 'keep',\n",
       "       'turn', 'playing', 'behind', 'named', 'certainly', 'live',\n",
       "       'believe', 'works', 'relationship', 'hour', 'face', 'style',\n",
       "       'said', 'despite', 'boy', 'finally', 'run', 'shot', 'tell', 'nice',\n",
       "       'maybe', 'book', 'perfect', 'side', 'seeing', 'able', 'finds',\n",
       "       'past', 'camera', 'person', 'including', 'days', 'lives',\n",
       "       'directed', 'running', 'fight', 'supposed', 'matter', 'moment',\n",
       "       'video', 'lines', 'car', 'worth', 'game', 'starts', 'need', 'son',\n",
       "       'entertaining', 'kids', 'start', 'summer', 'short', 'self',\n",
       "       'worst', 'nearly', 'white', 'dark', 'daughter', 'opening', 'try',\n",
       "       'upon', 'kevin', 'care', 'early', 'violence', 'throughout',\n",
       "       'writer', 'example', 'production', 'title', 'exactly', 'beautiful',\n",
       "       'earth', 'let', 'review', 'drama', 'major', 'problems',\n",
       "       'sequences', 'obvious', 'known', 'version', 'robert', 'joe',\n",
       "       'already', 'classic', 'screenplay', 'team', \"who's\", 'close',\n",
       "       'kill', 'others', 'hit', 'children', 'order', 'simple', 'fine',\n",
       "       'deep', 'direction', 'five', 'roles', 'act', 'four', 'eyes',\n",
       "       'sort', 'sometimes', 'question', 'knows', 'jack', 'supporting',\n",
       "       'coming', 'voice', 'heart', 'truly', 'save', 'jokes', 'computer',\n",
       "       'boring', 'level', 'killer', 'strong', 'stop', 'jackie', 'guys',\n",
       "       'room', 'genre', 'body', 'women', 'beginning', 'ends', 'space',\n",
       "       'attempt', 'thriller', 'tom', 'happens', 'fiction', 'note', 'yes',\n",
       "       'says', 'york', 'tells', 'quickly', 'novel', 'hope', 'romantic',\n",
       "       'stupid', 'possible', 'saw', 'peter', 'oscar', 'scream', 'lead',\n",
       "       'career', 'murder', 'hero', 'child', 'extremely', 'manages', 'lee',\n",
       "       'mostly', 'wonder', 'ship', 'particularly', 'dog', 'future',\n",
       "       'sound', 'worse', 'piece', 'fans', 'involving', 'appears',\n",
       "       'involved', 'mean', 'none', 'taking', \"we're\", 'brother', 'police',\n",
       "       'sets', 'attention', 'laugh', 'eventually', 'single', 'falls',\n",
       "       'emotional', 'late', 'hours', 'material', 'power', 'lack', 'fall',\n",
       "       'van', 'result', 'elements', 'planet', 'meet', 'science', 'bring',\n",
       "       'wild', 'living', 'hell', 'husband', 'experience', \"what's\",\n",
       "       'interest', 'theater', 'paul', 'leads', \"movie's\", 'word',\n",
       "       'feature', 'battle', 'obviously', 'alone', 'within', 'god',\n",
       "       'usually', 'enjoy', 'guess', 'among', 'feeling', 'laughs', 'taken',\n",
       "       'king', 'george', 'talk', 'chance', 'disney', 'talent', 'middle',\n",
       "       'easy', 'across', 'number', 'needs', 'attempts', 'happen', 'deal',\n",
       "       'poor', 'form', 'release', 'killed', 'forced', 'aliens', 'girls',\n",
       "       'whether', 'wonderful', 'feels', 'tale', 'serious', 'expect',\n",
       "       'except', 'light', 'success', 'features', 'premise', 'happy',\n",
       "       'television', 'leave', 'chris', 'important', 'meets', 'history',\n",
       "       'giving', 'type', 'words', 'call', 'turned', 'released', 'art',\n",
       "       'impressive', 'working', 'seemed', 'score', 'told', 'girlfriend',\n",
       "       'recent', 'mission', 'basically', 'entertainment', 'apparently',\n",
       "       'easily', 'crew', 'stuff', 'change', 'crime', 'office', 'surprise',\n",
       "       'cool', 'parts', 'somehow', 'parents', 'robin', 'cut', 'credits',\n",
       "       'brings', 'sequel', 'cop', 'suspense', 'events', 'die', 'reality',\n",
       "       'local', 'talking', 'difficult', 'using', 'went', 'writing',\n",
       "       'remember', 'near', 'ago', 'certain', 'hilarious', 'slow', 'blood',\n",
       "       'straight', 'ryan', 'complete', 'popular', 'effective', 'mystery',\n",
       "       'fast', 'william', 'due', 'runs', 'flick', 'gone', 'return', 'red',\n",
       "       'quality', 'smith', 'viewer', 'dramatic', 'ben', 'age', 'business',\n",
       "       'presence', 'batman', 'sexual', 'present', 'surprisingly',\n",
       "       'anyway', 'uses', 'filmmakers', 'personal', 'figure', 'ways',\n",
       "       'decides', 'begin', 'smart', 'somewhat', 'annoying', 'shots',\n",
       "       'rich', 'previous', 'rock', 'successful', 'minute', 'similar',\n",
       "       'absolutely', 'motion', 'former', 'strange', 'came', 'follow',\n",
       "       'read', 'million', 'starring', 'clear', 'williams', 'familiar',\n",
       "       'kid', 'romance', 'intelligent', 'third', 'project', 'excellent',\n",
       "       'budget', 'jones', 'latest', 'party', 'towards', 'predictable',\n",
       "       'powerful', 'water', 'means', 'law', 'beyond', 'visual', 'amazing',\n",
       "       'leaves', 'secret', 'following', 'jim', 'eye', 'prison',\n",
       "       'animated', 'low', 'actress', 'filled', 'leaving', 'questions',\n",
       "       'nature', 'message', 'box', 'villain', 'definitely', 'add',\n",
       "       'large', 'moving', 'clever', 'create', 'felt', 'usual', 'stories',\n",
       "       'brilliant', 'situation', 'break', 'opens', 'scary', 'cinema',\n",
       "       'ones', 'drug', 'bunch', 'thinking', 'solid', 'giant', 'doubt',\n",
       "       'effect', 'bill', 'learn', 'move', 'company', \"i'd\", 'potential',\n",
       "       'seriously', 'wars', 'follows', 'saying', 'country', 'brothers',\n",
       "       'bob', 'huge', \"i'll\", 'plan', 'america', 'agent', 'class',\n",
       "       'force', 'created', 'unlike', 'pay', 'non', 'married', 'sweet',\n",
       "       'perfectly', 'general', 'realize', 'mark', 'took', 'decent',\n",
       "       'likely', 'dream', 'view', 'subject', 'understand', 'martin',\n",
       "       'happened', 'enjoyable', 'immediately', 'open', 'points', 'heard',\n",
       "       'sam', 'private', 'stay', 'viewers', 'fails', 'cold', 'overall',\n",
       "       'impossible', 'audiences', 'merely', 'mess', 'free', 'bruce',\n",
       "       'wanted', 'gun', 'appear', 'exciting', 'chase', 'escape',\n",
       "       'ultimately', 'ten', 'neither', 'fan', 'inside', 'scott',\n",
       "       'favorite', 'modern', 'wedding', 'brought', 'richard', 'trouble',\n",
       "       'otherwise', 'liked', 'tim', 'trek', 'dumb', 'murphy', 'studio',\n",
       "       'musical', 'political', 'various', 'talented', 'particular',\n",
       "       'stand', 'harry', 'keeps', 'english', 'silly', 'state',\n",
       "       'situations', 'rating', 'slightly', 'steve', 'truth', 'teen',\n",
       "       'bond', 'joke', 'spend', 'frank', 'biggest', 'society', 'air',\n",
       "       'effort', 'focus', 'element', 'earlier', 'members', 'purpose',\n",
       "       'showing', 'soundtrack', 'memorable', 'six', 'hands', 'cannot',\n",
       "       'offers', 'government', 'key', 'rated', 'heavy', 'totally', 'park',\n",
       "       'control', 'credit', 'west', 'ideas', 'wait', 'sit', 'eddie',\n",
       "       'female', 'ask', 'waste', 'terrible', 'depth', 'sci', 'aspect',\n",
       "       'list', 'animation', 'entirely', 'moves', 'actual', 'british',\n",
       "       'constantly', 'fire', 'convincing', 'gave', 'tension', 'brief',\n",
       "       'ridiculous', 'fear', 'cinematography', 'typical', 'ability',\n",
       "       'carter', 'setting', 'spent', 'street', 'quick', 'violent',\n",
       "       'screenwriter', 'subtle', 'expected', 'fairly', 'killing', 'army',\n",
       "       'tone', 'lots', 'thinks', 'cheap', 'suddenly', 'atmosphere',\n",
       "       'background', 'sister', 'highly', 'mars', 'sees', 'complex',\n",
       "       'disaster', 'beauty', 'front', 'seven', 'indeed', 'flat', 'wrote',\n",
       "       'whatever', 'dull', 'humans', 'recently', 'hate', 'steven',\n",
       "       'outside', 'wish', 'greatest', 'master', 'impact', 'amusing',\n",
       "       'sounds', 'telling', 'minor', 'sight', 'cinematic', 'stone',\n",
       "       'hold', 'mary', 'meanwhile', 'cute', 'awful', 'clearly', 'song',\n",
       "       'plenty', 'theme', 'hear', 'college', 'amount', 'truman', 'dreams',\n",
       "       'shown', 'double', 'queen', 'reasons', 'miss', 'allen', 'woody',\n",
       "       'longer', 'approach', \"let's\", 'common', 'max', 'island',\n",
       "       'believable', 'charm', \"year's\", 'godzilla', 'club', 'chemistry',\n",
       "       'possibly', 'casting', 'nick', 'realistic', 'cameron', 'french',\n",
       "       'trailer', 'produced', 'imagine', 'choice', 'ride', 'titanic',\n",
       "       'somewhere', 'road', 'sean', 'leader', 'carry', 'tough', 'thin',\n",
       "       'slowly', 'delivers', 'provide', 'puts', 'asks', 'appearance',\n",
       "       'famous', 'member', 'okay', 'race', 'energy', 'sent', 'detective',\n",
       "       'development', 'etc', 'language', 'proves', 'hot', 'seemingly',\n",
       "       'intelligence', 'caught', 'decide', 'opportunity', 'incredibly',\n",
       "       'brown', 'images', 'blue', 'basic', 'knew', 'interested',\n",
       "       'considering', 'thanks', 'remains', 'climax', 'event', 'critics',\n",
       "       'directing', 'mike', 'leading', 'ground', 'lies', 'forget',\n",
       "       'alive', 'baby', 'vampire', 'conclusion'], dtype=object)"
      ]
     },
     "execution_count": 134,
     "metadata": {},
     "output_type": "execute_result"
    }
   ],
   "source": [
    "tf.get_feature_names_out()"
   ]
  },
  {
   "cell_type": "code",
   "execution_count": 136,
   "metadata": {},
   "outputs": [
    {
     "data": {
      "text/plain": [
       "<2000x1000 sparse matrix of type '<class 'numpy.float64'>'\n",
       "\twith 252984 stored elements in Compressed Sparse Row format>"
      ]
     },
     "execution_count": 136,
     "metadata": {},
     "output_type": "execute_result"
    }
   ],
   "source": [
    "reviews_tf"
   ]
  },
  {
   "cell_type": "code",
   "execution_count": 137,
   "metadata": {},
   "outputs": [
    {
     "data": {
      "text/plain": [
       "array([[0.13556199, 0.06700076, 0.14998642, ..., 0.        , 0.        ,\n",
       "        0.        ],\n",
       "       [0.        , 0.        , 0.21872012, ..., 0.        , 0.        ,\n",
       "        0.        ],\n",
       "       [0.20129828, 0.1243632 , 0.05567934, ..., 0.        , 0.        ,\n",
       "        0.        ],\n",
       "       ...,\n",
       "       [0.11557537, 0.07140311, 0.07992071, ..., 0.        , 0.        ,\n",
       "        0.        ],\n",
       "       [0.2949473 , 0.07774724, 0.06526622, ..., 0.        , 0.        ,\n",
       "        0.        ],\n",
       "       [0.08333344, 0.04576343, 0.08195601, ..., 0.        , 0.        ,\n",
       "        0.        ]])"
      ]
     },
     "execution_count": 137,
     "metadata": {},
     "output_type": "execute_result"
    }
   ],
   "source": [
    "reviews_tf.toarray()"
   ]
  },
  {
   "cell_type": "code",
   "execution_count": 139,
   "metadata": {},
   "outputs": [
    {
     "data": {
      "text/plain": [
       "'taining . \\ni guess the bottom line with movies like this is that you should always make sure that the audience is \" into it \" even before they are given the secret password to enter your world of understanding . \\ni mean , showing melissa sagemiller running away from visions for about 20 minutes throughout the movie is just plain lazy ! ! \\nokay , we get it . . . there \\nare people chasing her and we don\\'t know who they are . \\ndo we really need to see it over and over again ? \\nhow about giving us different scenes offering further insight into all of the strangeness going down in the movie ? \\napparently , the studio took this film away from its director and chopped it up themselves , and it shows . \\nthere might\\'ve been a pretty decent teen mind-fuck movie in here somewhere , but i guess \" the suits \" decided that turning it into a music video with little edge , would make more sense . \\nthe actors are pretty good for the most part , although wes bentley just seemed to be playing the exact same character that he did in american beauty , only in a new neighborhood . \\nbut my biggest kudos go out to sagemiller , who holds her own throughout the entire film , and actually has you feeling her character\\'s unraveling . \\noverall , the film doesn\\'t stick because it doesn\\'t entertain , it\\'s confusing , it rarely excites and it feels pretty redundant for most of its runtime , despite a pretty cool ending and explanation to all of the craziness that came before it . \\noh , and by the way , this is not a horror or teen slasher flick . . . it\\'s \\njust packaged to look that way because someone is apparently assuming that the genre is still hot with the kids . \\nit also wrapped production two years ago and has been sitting on the shelves ever since . \\nwhatever . . . skip \\nit ! \\nwhere\\'s joblo coming from ? \\na nightmare of elm street 3 ( 7/10 ) - blair witch 2 ( 7/10 ) - the crow ( 9/10 ) - the crow : salvation ( 4/10 ) - lost highway ( 10/10 ) - memento ( 10/10 ) - the others ( 9/10 ) - stir of echoes ( 8/10 ) \\n'"
      ]
     },
     "execution_count": 139,
     "metadata": {},
     "output_type": "execute_result"
    }
   ],
   "source": [
    "source"
   ]
  },
  {
   "cell_type": "code",
   "execution_count": 138,
   "metadata": {},
   "outputs": [
    {
     "data": {
      "text/plain": [
       "array([[0.10757296, 0.        , 0.11901924, 0.04085629, 0.04554351,\n",
       "        0.        , 0.04833602, 0.        , 0.04962048, 0.        ,\n",
       "        0.05145771, 0.05061199, 0.1043502 , 0.05172483, 0.        ,\n",
       "        0.        , 0.        , 0.05446269, 0.10625289, 0.10619061,\n",
       "        0.        , 0.05814575, 0.        , 0.        , 0.05623355,\n",
       "        0.05862386, 0.        , 0.        , 0.        , 0.        ,\n",
       "        0.        , 0.        , 0.06194146, 0.06169554, 0.        ,\n",
       "        0.06264881, 0.0633723 , 0.05703394, 0.        , 0.        ,\n",
       "        0.        , 0.        , 0.        , 0.        , 0.        ,\n",
       "        0.        , 0.        , 0.        , 0.06464596, 0.        ,\n",
       "        0.        , 0.        , 0.        , 0.0695823 , 0.        ,\n",
       "        0.        , 0.        , 0.        , 0.        , 0.        ,\n",
       "        0.        , 0.        , 0.        , 0.06809887, 0.        ,\n",
       "        0.0678996 , 0.        , 0.        , 0.        , 0.        ,\n",
       "        0.        , 0.        , 0.06932153, 0.        , 0.07113862,\n",
       "        0.        , 0.06926964, 0.        , 0.        , 0.        ,\n",
       "        0.        , 0.        , 0.        , 0.        , 0.        ,\n",
       "        0.07383549, 0.        , 0.        , 0.        , 0.        ,\n",
       "        0.        , 0.07081029, 0.0720878 , 0.        , 0.        ,\n",
       "        0.        , 0.        , 0.        , 0.        , 0.        ,\n",
       "        0.        , 0.07365632, 0.        , 0.        , 0.        ,\n",
       "        0.07437916, 0.        , 0.        , 0.        , 0.        ,\n",
       "        0.        , 0.        , 0.        , 0.        , 0.14912496,\n",
       "        0.        , 0.        , 0.        , 0.        , 0.07671778,\n",
       "        0.        , 0.        , 0.        , 0.        , 0.        ,\n",
       "        0.0758763 , 0.        , 0.        , 0.        , 0.        ,\n",
       "        0.        , 0.        , 0.        , 0.        , 0.        ,\n",
       "        0.07945672, 0.        , 0.        , 0.        , 0.        ,\n",
       "        0.        , 0.        , 0.        , 0.        , 0.        ,\n",
       "        0.        , 0.        , 0.        , 0.        , 0.08765509,\n",
       "        0.        , 0.08198679, 0.        , 0.        , 0.        ,\n",
       "        0.        , 0.        , 0.        , 0.        , 0.        ,\n",
       "        0.33204076, 0.        , 0.        , 0.        , 0.        ,\n",
       "        0.08137304, 0.        , 0.        , 0.        , 0.        ,\n",
       "        0.        , 0.        , 0.        , 0.0823765 , 0.        ,\n",
       "        0.        , 0.        , 0.        , 0.09056387, 0.        ,\n",
       "        0.        , 0.        , 0.        , 0.        , 0.09954351,\n",
       "        0.        , 0.        , 0.        , 0.        , 0.        ,\n",
       "        0.08516185, 0.        , 0.        , 0.        , 0.        ,\n",
       "        0.        , 0.        , 0.        , 0.        , 0.08594205,\n",
       "        0.        , 0.08756258, 0.        , 0.        , 0.        ,\n",
       "        0.        , 0.        , 0.        , 0.        , 0.        ,\n",
       "        0.0919123 , 0.        , 0.        , 0.        , 0.        ,\n",
       "        0.        , 0.        , 0.        , 0.        , 0.        ,\n",
       "        0.        , 0.        , 0.08831031, 0.        , 0.08878676,\n",
       "        0.        , 0.09288063, 0.        , 0.        , 0.        ,\n",
       "        0.        , 0.        , 0.        , 0.        , 0.        ,\n",
       "        0.        , 0.        , 0.        , 0.        , 0.        ,\n",
       "        0.        , 0.        , 0.        , 0.        , 0.        ,\n",
       "        0.        , 0.        , 0.        , 0.        , 0.        ,\n",
       "        0.        , 0.        , 0.        , 0.        , 0.        ,\n",
       "        0.08812172, 0.        , 0.        , 0.        , 0.        ,\n",
       "        0.        , 0.        , 0.        , 0.        , 0.        ,\n",
       "        0.        , 0.        , 0.        , 0.        , 0.        ,\n",
       "        0.09149125, 0.        , 0.        , 0.        , 0.        ,\n",
       "        0.        , 0.        , 0.        , 0.        , 0.        ,\n",
       "        0.        , 0.        , 0.09399244, 0.        , 0.        ,\n",
       "        0.        , 0.        , 0.        , 0.        , 0.        ,\n",
       "        0.        , 0.        , 0.        , 0.        , 0.        ,\n",
       "        0.        , 0.        , 0.        , 0.        , 0.        ,\n",
       "        0.        , 0.        , 0.        , 0.09467875, 0.        ,\n",
       "        0.        , 0.        , 0.        , 0.09900875, 0.        ,\n",
       "        0.        , 0.        , 0.        , 0.        , 0.0954987 ,\n",
       "        0.        , 0.        , 0.10163328, 0.        , 0.        ,\n",
       "        0.        , 0.        , 0.        , 0.        , 0.        ,\n",
       "        0.        , 0.        , 0.        , 0.        , 0.        ,\n",
       "        0.        , 0.        , 0.        , 0.        , 0.19171342,\n",
       "        0.        , 0.        , 0.09822317, 0.        , 0.        ,\n",
       "        0.        , 0.        , 0.        , 0.        , 0.        ,\n",
       "        0.        , 0.        , 0.        , 0.        , 0.        ,\n",
       "        0.        , 0.        , 0.        , 0.        , 0.        ,\n",
       "        0.        , 0.        , 0.        , 0.        , 0.        ,\n",
       "        0.09733063, 0.        , 0.        , 0.        , 0.        ,\n",
       "        0.        , 0.        , 0.        , 0.        , 0.        ,\n",
       "        0.        , 0.        , 0.        , 0.        , 0.        ,\n",
       "        0.        , 0.        , 0.        , 0.        , 0.09900875,\n",
       "        0.        , 0.        , 0.        , 0.        , 0.        ,\n",
       "        0.        , 0.        , 0.        , 0.        , 0.        ,\n",
       "        0.        , 0.        , 0.        , 0.        , 0.1031072 ,\n",
       "        0.        , 0.        , 0.        , 0.        , 0.        ,\n",
       "        0.        , 0.        , 0.        , 0.        , 0.        ,\n",
       "        0.        , 0.        , 0.        , 0.        , 0.        ,\n",
       "        0.        , 0.        , 0.        , 0.        , 0.        ,\n",
       "        0.        , 0.        , 0.        , 0.        , 0.        ,\n",
       "        0.        , 0.        , 0.        , 0.        , 0.        ,\n",
       "        0.        , 0.        , 0.        , 0.        , 0.        ,\n",
       "        0.        , 0.        , 0.        , 0.        , 0.        ,\n",
       "        0.        , 0.        , 0.        , 0.        , 0.        ,\n",
       "        0.        , 0.10325843, 0.        , 0.        , 0.        ,\n",
       "        0.        , 0.        , 0.        , 0.        , 0.        ,\n",
       "        0.        , 0.        , 0.        , 0.        , 0.        ,\n",
       "        0.        , 0.        , 0.        , 0.        , 0.        ,\n",
       "        0.        , 0.        , 0.        , 0.        , 0.        ,\n",
       "        0.        , 0.        , 0.        , 0.        , 0.        ,\n",
       "        0.        , 0.        , 0.        , 0.        , 0.        ,\n",
       "        0.        , 0.        , 0.        , 0.        , 0.        ,\n",
       "        0.        , 0.        , 0.        , 0.        , 0.        ,\n",
       "        0.        , 0.        , 0.21123617, 0.        , 0.10661346,\n",
       "        0.        , 0.        , 0.        , 0.        , 0.        ,\n",
       "        0.        , 0.        , 0.        , 0.        , 0.        ,\n",
       "        0.        , 0.        , 0.        , 0.        , 0.        ,\n",
       "        0.        , 0.        , 0.        , 0.        , 0.        ,\n",
       "        0.        , 0.        , 0.        , 0.        , 0.        ,\n",
       "        0.10661346, 0.        , 0.        , 0.        , 0.        ,\n",
       "        0.        , 0.        , 0.        , 0.        , 0.        ,\n",
       "        0.        , 0.        , 0.        , 0.        , 0.        ,\n",
       "        0.        , 0.10545519, 0.        , 0.        , 0.        ,\n",
       "        0.        , 0.        , 0.        , 0.        , 0.        ,\n",
       "        0.10834523, 0.        , 0.        , 0.        , 0.        ,\n",
       "        0.        , 0.        , 0.        , 0.2145897 , 0.        ,\n",
       "        0.        , 0.        , 0.        , 0.        , 0.        ,\n",
       "        0.        , 0.11212153, 0.        , 0.        , 0.        ,\n",
       "        0.        , 0.        , 0.        , 0.        , 0.        ,\n",
       "        0.        , 0.        , 0.        , 0.        , 0.        ,\n",
       "        0.        , 0.        , 0.        , 0.        , 0.        ,\n",
       "        0.        , 0.        , 0.        , 0.10816773, 0.        ,\n",
       "        0.        , 0.        , 0.        , 0.        , 0.        ,\n",
       "        0.        , 0.        , 0.        , 0.        , 0.        ,\n",
       "        0.        , 0.        , 0.        , 0.11113442, 0.        ,\n",
       "        0.        , 0.        , 0.        , 0.        , 0.        ,\n",
       "        0.        , 0.        , 0.        , 0.        , 0.        ,\n",
       "        0.        , 0.        , 0.        , 0.        , 0.        ,\n",
       "        0.        , 0.        , 0.        , 0.        , 0.        ,\n",
       "        0.        , 0.        , 0.        , 0.        , 0.        ,\n",
       "        0.        , 0.        , 0.        , 0.        , 0.        ,\n",
       "        0.        , 0.        , 0.        , 0.        , 0.        ,\n",
       "        0.        , 0.10998911, 0.        , 0.        , 0.        ,\n",
       "        0.        , 0.        , 0.        , 0.        , 0.        ,\n",
       "        0.        , 0.        , 0.        , 0.        , 0.        ,\n",
       "        0.        , 0.        , 0.        , 0.        , 0.        ,\n",
       "        0.        , 0.        , 0.        , 0.        , 0.        ,\n",
       "        0.        , 0.        , 0.        , 0.        , 0.11192163,\n",
       "        0.        , 0.        , 0.        , 0.        , 0.        ,\n",
       "        0.        , 0.        , 0.        , 0.        , 0.        ,\n",
       "        0.        , 0.        , 0.        , 0.        , 0.        ,\n",
       "        0.        , 0.        , 0.        , 0.        , 0.        ,\n",
       "        0.        , 0.        , 0.        , 0.        , 0.        ,\n",
       "        0.        , 0.        , 0.        , 0.        , 0.        ,\n",
       "        0.        , 0.        , 0.        , 0.        , 0.        ,\n",
       "        0.        , 0.        , 0.        , 0.        , 0.        ,\n",
       "        0.        , 0.        , 0.        , 0.        , 0.        ,\n",
       "        0.        , 0.        , 0.        , 0.        , 0.        ,\n",
       "        0.        , 0.        , 0.        , 0.        , 0.        ,\n",
       "        0.        , 0.        , 0.        , 0.        , 0.        ,\n",
       "        0.        , 0.        , 0.        , 0.        , 0.        ,\n",
       "        0.        , 0.        , 0.11462415, 0.11376779, 0.        ,\n",
       "        0.        , 0.        , 0.        , 0.        , 0.        ,\n",
       "        0.        , 0.        , 0.        , 0.        , 0.        ,\n",
       "        0.        , 0.        , 0.        , 0.        , 0.        ,\n",
       "        0.        , 0.        , 0.11440788, 0.        , 0.        ,\n",
       "        0.        , 0.        , 0.        , 0.        , 0.        ,\n",
       "        0.        , 0.        , 0.        , 0.        , 0.        ,\n",
       "        0.        , 0.        , 0.        , 0.        , 0.        ,\n",
       "        0.        , 0.        , 0.        , 0.        , 0.        ,\n",
       "        0.        , 0.        , 0.        , 0.        , 0.        ,\n",
       "        0.        , 0.        , 0.        , 0.12388391, 0.        ,\n",
       "        0.        , 0.        , 0.        , 0.        , 0.        ,\n",
       "        0.        , 0.        , 0.        , 0.        , 0.        ,\n",
       "        0.        , 0.        , 0.        , 0.        , 0.        ,\n",
       "        0.2495363 , 0.        , 0.        , 0.        , 0.        ,\n",
       "        0.11664003, 0.        , 0.        , 0.        , 0.        ,\n",
       "        0.        , 0.        , 0.        , 0.        , 0.11710597,\n",
       "        0.        , 0.        , 0.        , 0.        , 0.        ,\n",
       "        0.        , 0.        , 0.        , 0.        , 0.        ,\n",
       "        0.        , 0.        , 0.        , 0.        , 0.        ,\n",
       "        0.        , 0.        , 0.        , 0.        , 0.        ,\n",
       "        0.        , 0.        , 0.        , 0.        , 0.        ,\n",
       "        0.        , 0.        , 0.        , 0.        , 0.        ,\n",
       "        0.        , 0.        , 0.        , 0.        , 0.        ,\n",
       "        0.        , 0.        , 0.        , 0.        , 0.        ,\n",
       "        0.        , 0.        , 0.        , 0.        , 0.        ,\n",
       "        0.        , 0.12163989, 0.        , 0.        , 0.        ,\n",
       "        0.        , 0.        , 0.        , 0.        , 0.        ,\n",
       "        0.        , 0.        , 0.        , 0.        , 0.        ,\n",
       "        0.        , 0.        , 0.        , 0.        , 0.        ,\n",
       "        0.        , 0.        , 0.        , 0.12857473, 0.        ,\n",
       "        0.        , 0.        , 0.        , 0.        , 0.11781799,\n",
       "        0.        , 0.        , 0.        , 0.        , 0.        ,\n",
       "        0.        , 0.        , 0.        , 0.        , 0.        ,\n",
       "        0.        , 0.        , 0.        , 0.        , 0.        ,\n",
       "        0.        , 0.        , 0.        , 0.        , 0.        ,\n",
       "        0.        , 0.        , 0.        , 0.        , 0.        ,\n",
       "        0.        , 0.        , 0.        , 0.        , 0.        ,\n",
       "        0.        , 0.        , 0.        , 0.        , 0.        ,\n",
       "        0.        , 0.        , 0.        , 0.        , 0.        ,\n",
       "        0.        , 0.        , 0.        , 0.        , 0.        ,\n",
       "        0.        , 0.        , 0.        , 0.        , 0.        ,\n",
       "        0.        , 0.        , 0.        , 0.        , 0.        ,\n",
       "        0.        , 0.        , 0.        , 0.        , 0.        ,\n",
       "        0.        , 0.        , 0.1205748 , 0.        , 0.        ,\n",
       "        0.        , 0.        , 0.        , 0.        , 0.        ,\n",
       "        0.        , 0.        , 0.        , 0.        , 0.        ,\n",
       "        0.        , 0.        , 0.12447065, 0.        , 0.        ,\n",
       "        0.        , 0.        , 0.        , 0.        , 0.        ,\n",
       "        0.        , 0.12083774, 0.        , 0.        , 0.        ,\n",
       "        0.        , 0.        , 0.        , 0.        , 0.        ,\n",
       "        0.        , 0.        , 0.        , 0.        , 0.        ,\n",
       "        0.        , 0.        , 0.        , 0.        , 0.        ,\n",
       "        0.        , 0.        , 0.        , 0.        , 0.        ,\n",
       "        0.        , 0.        , 0.        , 0.        , 0.        ]])"
      ]
     },
     "execution_count": 138,
     "metadata": {},
     "output_type": "execute_result"
    }
   ],
   "source": [
    "source_tf = tf.transform([source])\n",
    "\n",
    "source_tf.toarray()"
   ]
  },
  {
   "cell_type": "code",
   "execution_count": 140,
   "metadata": {},
   "outputs": [
    {
     "data": {
      "text/plain": [
       "array([[0.82008717, 0.17235356, 0.17529066, ..., 0.07627288, 0.13467135,\n",
       "        0.11741512]])"
      ]
     },
     "execution_count": 140,
     "metadata": {},
     "output_type": "execute_result"
    }
   ],
   "source": [
    "sim_result_tf = cosine_similarity(source_tf, reviews_tf)\n",
    "sim_result_tf"
   ]
  },
  {
   "cell_type": "code",
   "execution_count": 142,
   "metadata": {},
   "outputs": [
    {
     "data": {
      "text/plain": [
       "array([   0, 1110, 1393, 1570,  645,  323, 1143,  628, 1676, 1391])"
      ]
     },
     "execution_count": 142,
     "metadata": {},
     "output_type": "execute_result"
    }
   ],
   "source": [
    "(-sim_result_tf[0]).argsort()[:10]"
   ]
  },
  {
   "cell_type": "code",
   "execution_count": 141,
   "metadata": {},
   "outputs": [
    {
     "data": {
      "text/plain": [
       "array([   0, 1110, 1570,  687,  628,  112, 1712, 1393,  524, 1740])"
      ]
     },
     "execution_count": 141,
     "metadata": {},
     "output_type": "execute_result"
    }
   ],
   "source": [
    "(-sim_result[0]).argsort()[:10]"
   ]
  },
  {
   "cell_type": "code",
   "execution_count": null,
   "metadata": {},
   "outputs": [],
   "source": []
  }
 ],
 "metadata": {
  "kernelspec": {
   "display_name": "Python 3.9.4 64-bit",
   "language": "python",
   "name": "python3"
  },
  "language_info": {
   "codemirror_mode": {
    "name": "ipython",
    "version": 3
   },
   "file_extension": ".py",
   "mimetype": "text/x-python",
   "name": "python",
   "nbconvert_exporter": "python",
   "pygments_lexer": "ipython3",
   "version": "3.9.4"
  },
  "orig_nbformat": 4,
  "vscode": {
   "interpreter": {
    "hash": "aee8b7b246df8f9039afb4144a1f6fd8d2ca17a180786b69acc140d282b71a49"
   }
  }
 },
 "nbformat": 4,
 "nbformat_minor": 2
}
