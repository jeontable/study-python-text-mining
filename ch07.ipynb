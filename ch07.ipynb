{
 "cells": [
  {
   "cell_type": "code",
   "execution_count": 3,
   "metadata": {},
   "outputs": [],
   "source": [
    "from sklearn.datasets import fetch_20newsgroups"
   ]
  },
  {
   "cell_type": "code",
   "execution_count": 4,
   "metadata": {},
   "outputs": [
    {
     "data": {
      "text/plain": [
       "<function sklearn.datasets._twenty_newsgroups.fetch_20newsgroups(*, data_home=None, subset='train', categories=None, shuffle=True, random_state=42, remove=(), download_if_missing=True, return_X_y=False)>"
      ]
     },
     "execution_count": 4,
     "metadata": {},
     "output_type": "execute_result"
    }
   ],
   "source": [
    "fetch_20newsgroups"
   ]
  },
  {
   "cell_type": "code",
   "execution_count": 7,
   "metadata": {},
   "outputs": [
    {
     "data": {
      "text/plain": [
       "['alt.atheism',\n",
       " 'talk.religion.misc',\n",
       " 'comp.graphics',\n",
       " 'sci.space',\n",
       " 'comp.sys.ibm.pc.hardware',\n",
       " 'sci.crypt']"
      ]
     },
     "execution_count": 7,
     "metadata": {},
     "output_type": "execute_result"
    }
   ],
   "source": [
    "categories = ['alt.atheism', 'talk.religion.misc', 'comp.graphics', 'sci.space', 'comp.sys.ibm.pc.hardware', 'sci.crypt']\n",
    "categories"
   ]
  },
  {
   "cell_type": "code",
   "execution_count": 9,
   "metadata": {},
   "outputs": [],
   "source": [
    "newsgroups_train = fetch_20newsgroups(subset='train', categories=categories)"
   ]
  },
  {
   "cell_type": "code",
   "execution_count": 10,
   "metadata": {},
   "outputs": [
    {
     "data": {
      "text/plain": [
       "['alt.atheism',\n",
       " 'comp.graphics',\n",
       " 'comp.sys.ibm.pc.hardware',\n",
       " 'sci.crypt',\n",
       " 'sci.space',\n",
       " 'talk.religion.misc']"
      ]
     },
     "execution_count": 10,
     "metadata": {},
     "output_type": "execute_result"
    }
   ],
   "source": [
    "newsgroups_train.target_names"
   ]
  },
  {
   "cell_type": "code",
   "execution_count": 11,
   "metadata": {},
   "outputs": [
    {
     "data": {
      "text/plain": [
       "array([0, 4, 2, ..., 3, 1, 0], dtype=int64)"
      ]
     },
     "execution_count": 11,
     "metadata": {},
     "output_type": "execute_result"
    }
   ],
   "source": [
    "newsgroups_train.target"
   ]
  },
  {
   "cell_type": "code",
   "execution_count": 12,
   "metadata": {},
   "outputs": [],
   "source": [
    "from sklearn.feature_extraction.text import CountVectorizer"
   ]
  },
  {
   "cell_type": "code",
   "execution_count": 13,
   "metadata": {},
   "outputs": [],
   "source": [
    "cv = CountVectorizer(token_pattern=\"[\\w']{3,}\", stop_words='english', max_features=2000, min_df=5, max_df=0.5)"
   ]
  },
  {
   "cell_type": "code",
   "execution_count": 14,
   "metadata": {},
   "outputs": [
    {
     "data": {
      "text/html": [
       "<style>#sk-container-id-1 {color: black;background-color: white;}#sk-container-id-1 pre{padding: 0;}#sk-container-id-1 div.sk-toggleable {background-color: white;}#sk-container-id-1 label.sk-toggleable__label {cursor: pointer;display: block;width: 100%;margin-bottom: 0;padding: 0.3em;box-sizing: border-box;text-align: center;}#sk-container-id-1 label.sk-toggleable__label-arrow:before {content: \"▸\";float: left;margin-right: 0.25em;color: #696969;}#sk-container-id-1 label.sk-toggleable__label-arrow:hover:before {color: black;}#sk-container-id-1 div.sk-estimator:hover label.sk-toggleable__label-arrow:before {color: black;}#sk-container-id-1 div.sk-toggleable__content {max-height: 0;max-width: 0;overflow: hidden;text-align: left;background-color: #f0f8ff;}#sk-container-id-1 div.sk-toggleable__content pre {margin: 0.2em;color: black;border-radius: 0.25em;background-color: #f0f8ff;}#sk-container-id-1 input.sk-toggleable__control:checked~div.sk-toggleable__content {max-height: 200px;max-width: 100%;overflow: auto;}#sk-container-id-1 input.sk-toggleable__control:checked~label.sk-toggleable__label-arrow:before {content: \"▾\";}#sk-container-id-1 div.sk-estimator input.sk-toggleable__control:checked~label.sk-toggleable__label {background-color: #d4ebff;}#sk-container-id-1 div.sk-label input.sk-toggleable__control:checked~label.sk-toggleable__label {background-color: #d4ebff;}#sk-container-id-1 input.sk-hidden--visually {border: 0;clip: rect(1px 1px 1px 1px);clip: rect(1px, 1px, 1px, 1px);height: 1px;margin: -1px;overflow: hidden;padding: 0;position: absolute;width: 1px;}#sk-container-id-1 div.sk-estimator {font-family: monospace;background-color: #f0f8ff;border: 1px dotted black;border-radius: 0.25em;box-sizing: border-box;margin-bottom: 0.5em;}#sk-container-id-1 div.sk-estimator:hover {background-color: #d4ebff;}#sk-container-id-1 div.sk-parallel-item::after {content: \"\";width: 100%;border-bottom: 1px solid gray;flex-grow: 1;}#sk-container-id-1 div.sk-label:hover label.sk-toggleable__label {background-color: #d4ebff;}#sk-container-id-1 div.sk-serial::before {content: \"\";position: absolute;border-left: 1px solid gray;box-sizing: border-box;top: 0;bottom: 0;left: 50%;z-index: 0;}#sk-container-id-1 div.sk-serial {display: flex;flex-direction: column;align-items: center;background-color: white;padding-right: 0.2em;padding-left: 0.2em;position: relative;}#sk-container-id-1 div.sk-item {position: relative;z-index: 1;}#sk-container-id-1 div.sk-parallel {display: flex;align-items: stretch;justify-content: center;background-color: white;position: relative;}#sk-container-id-1 div.sk-item::before, #sk-container-id-1 div.sk-parallel-item::before {content: \"\";position: absolute;border-left: 1px solid gray;box-sizing: border-box;top: 0;bottom: 0;left: 50%;z-index: -1;}#sk-container-id-1 div.sk-parallel-item {display: flex;flex-direction: column;z-index: 1;position: relative;background-color: white;}#sk-container-id-1 div.sk-parallel-item:first-child::after {align-self: flex-end;width: 50%;}#sk-container-id-1 div.sk-parallel-item:last-child::after {align-self: flex-start;width: 50%;}#sk-container-id-1 div.sk-parallel-item:only-child::after {width: 0;}#sk-container-id-1 div.sk-dashed-wrapped {border: 1px dashed gray;margin: 0 0.4em 0.5em 0.4em;box-sizing: border-box;padding-bottom: 0.4em;background-color: white;}#sk-container-id-1 div.sk-label label {font-family: monospace;font-weight: bold;display: inline-block;line-height: 1.2em;}#sk-container-id-1 div.sk-label-container {text-align: center;}#sk-container-id-1 div.sk-container {/* jupyter's `normalize.less` sets `[hidden] { display: none; }` but bootstrap.min.css set `[hidden] { display: none !important; }` so we also need the `!important` here to be able to override the default hidden behavior on the sphinx rendered scikit-learn.org. See: https://github.com/scikit-learn/scikit-learn/issues/21755 */display: inline-block !important;position: relative;}#sk-container-id-1 div.sk-text-repr-fallback {display: none;}</style><div id=\"sk-container-id-1\" class=\"sk-top-container\"><div class=\"sk-text-repr-fallback\"><pre>CountVectorizer(max_df=0.5, max_features=2000, min_df=5, stop_words=&#x27;english&#x27;,\n",
       "                token_pattern=&quot;[\\\\w&#x27;]{3,}&quot;)</pre><b>In a Jupyter environment, please rerun this cell to show the HTML representation or trust the notebook. <br />On GitHub, the HTML representation is unable to render, please try loading this page with nbviewer.org.</b></div><div class=\"sk-container\" hidden><div class=\"sk-item\"><div class=\"sk-estimator sk-toggleable\"><input class=\"sk-toggleable__control sk-hidden--visually\" id=\"sk-estimator-id-1\" type=\"checkbox\" checked><label for=\"sk-estimator-id-1\" class=\"sk-toggleable__label sk-toggleable__label-arrow\">CountVectorizer</label><div class=\"sk-toggleable__content\"><pre>CountVectorizer(max_df=0.5, max_features=2000, min_df=5, stop_words=&#x27;english&#x27;,\n",
       "                token_pattern=&quot;[\\\\w&#x27;]{3,}&quot;)</pre></div></div></div></div></div>"
      ],
      "text/plain": [
       "CountVectorizer(max_df=0.5, max_features=2000, min_df=5, stop_words='english',\n",
       "                token_pattern=\"[\\\\w']{3,}\")"
      ]
     },
     "execution_count": 14,
     "metadata": {},
     "output_type": "execute_result"
    }
   ],
   "source": [
    "cv"
   ]
  },
  {
   "cell_type": "code",
   "execution_count": 18,
   "metadata": {},
   "outputs": [
    {
     "data": {
      "text/plain": [
       "<3219x2000 sparse matrix of type '<class 'numpy.int64'>'\n",
       "\twith 191709 stored elements in Compressed Sparse Row format>"
      ]
     },
     "execution_count": 18,
     "metadata": {},
     "output_type": "execute_result"
    }
   ],
   "source": [
    "review_cv = cv.fit_transform(newsgroups_train.data)\n",
    "review_cv"
   ]
  },
  {
   "cell_type": "code",
   "execution_count": 19,
   "metadata": {},
   "outputs": [
    {
     "data": {
      "text/plain": [
       "array([[0, 0, 0, ..., 0, 0, 0],\n",
       "       [0, 0, 0, ..., 0, 0, 0],\n",
       "       [0, 0, 0, ..., 0, 0, 0],\n",
       "       ...,\n",
       "       [0, 0, 0, ..., 0, 0, 0],\n",
       "       [0, 0, 0, ..., 0, 0, 0],\n",
       "       [0, 0, 0, ..., 0, 0, 0]], dtype=int64)"
      ]
     },
     "execution_count": 19,
     "metadata": {},
     "output_type": "execute_result"
    }
   ],
   "source": [
    "review_cv.toarray()"
   ]
  },
  {
   "cell_type": "code",
   "execution_count": 20,
   "metadata": {},
   "outputs": [],
   "source": [
    "from sklearn.decomposition import LatentDirichletAllocation"
   ]
  },
  {
   "cell_type": "code",
   "execution_count": 21,
   "metadata": {},
   "outputs": [],
   "source": [
    "import numpy as np"
   ]
  },
  {
   "cell_type": "code",
   "execution_count": 23,
   "metadata": {},
   "outputs": [],
   "source": [
    "np.set_printoptions(precision=3)"
   ]
  },
  {
   "cell_type": "code",
   "execution_count": 55,
   "metadata": {},
   "outputs": [],
   "source": [
    "lda = LatentDirichletAllocation(n_components=8,\n",
    "max_iter=5,\n",
    "topic_word_prior=0.1,\n",
    "doc_topic_prior=1.0,\n",
    "learning_method='online',\n",
    "n_jobs=-1,\n",
    "random_state=0\n",
    ")"
   ]
  },
  {
   "cell_type": "code",
   "execution_count": 56,
   "metadata": {},
   "outputs": [
    {
     "data": {
      "text/html": [
       "<style>#sk-container-id-5 {color: black;background-color: white;}#sk-container-id-5 pre{padding: 0;}#sk-container-id-5 div.sk-toggleable {background-color: white;}#sk-container-id-5 label.sk-toggleable__label {cursor: pointer;display: block;width: 100%;margin-bottom: 0;padding: 0.3em;box-sizing: border-box;text-align: center;}#sk-container-id-5 label.sk-toggleable__label-arrow:before {content: \"▸\";float: left;margin-right: 0.25em;color: #696969;}#sk-container-id-5 label.sk-toggleable__label-arrow:hover:before {color: black;}#sk-container-id-5 div.sk-estimator:hover label.sk-toggleable__label-arrow:before {color: black;}#sk-container-id-5 div.sk-toggleable__content {max-height: 0;max-width: 0;overflow: hidden;text-align: left;background-color: #f0f8ff;}#sk-container-id-5 div.sk-toggleable__content pre {margin: 0.2em;color: black;border-radius: 0.25em;background-color: #f0f8ff;}#sk-container-id-5 input.sk-toggleable__control:checked~div.sk-toggleable__content {max-height: 200px;max-width: 100%;overflow: auto;}#sk-container-id-5 input.sk-toggleable__control:checked~label.sk-toggleable__label-arrow:before {content: \"▾\";}#sk-container-id-5 div.sk-estimator input.sk-toggleable__control:checked~label.sk-toggleable__label {background-color: #d4ebff;}#sk-container-id-5 div.sk-label input.sk-toggleable__control:checked~label.sk-toggleable__label {background-color: #d4ebff;}#sk-container-id-5 input.sk-hidden--visually {border: 0;clip: rect(1px 1px 1px 1px);clip: rect(1px, 1px, 1px, 1px);height: 1px;margin: -1px;overflow: hidden;padding: 0;position: absolute;width: 1px;}#sk-container-id-5 div.sk-estimator {font-family: monospace;background-color: #f0f8ff;border: 1px dotted black;border-radius: 0.25em;box-sizing: border-box;margin-bottom: 0.5em;}#sk-container-id-5 div.sk-estimator:hover {background-color: #d4ebff;}#sk-container-id-5 div.sk-parallel-item::after {content: \"\";width: 100%;border-bottom: 1px solid gray;flex-grow: 1;}#sk-container-id-5 div.sk-label:hover label.sk-toggleable__label {background-color: #d4ebff;}#sk-container-id-5 div.sk-serial::before {content: \"\";position: absolute;border-left: 1px solid gray;box-sizing: border-box;top: 0;bottom: 0;left: 50%;z-index: 0;}#sk-container-id-5 div.sk-serial {display: flex;flex-direction: column;align-items: center;background-color: white;padding-right: 0.2em;padding-left: 0.2em;position: relative;}#sk-container-id-5 div.sk-item {position: relative;z-index: 1;}#sk-container-id-5 div.sk-parallel {display: flex;align-items: stretch;justify-content: center;background-color: white;position: relative;}#sk-container-id-5 div.sk-item::before, #sk-container-id-5 div.sk-parallel-item::before {content: \"\";position: absolute;border-left: 1px solid gray;box-sizing: border-box;top: 0;bottom: 0;left: 50%;z-index: -1;}#sk-container-id-5 div.sk-parallel-item {display: flex;flex-direction: column;z-index: 1;position: relative;background-color: white;}#sk-container-id-5 div.sk-parallel-item:first-child::after {align-self: flex-end;width: 50%;}#sk-container-id-5 div.sk-parallel-item:last-child::after {align-self: flex-start;width: 50%;}#sk-container-id-5 div.sk-parallel-item:only-child::after {width: 0;}#sk-container-id-5 div.sk-dashed-wrapped {border: 1px dashed gray;margin: 0 0.4em 0.5em 0.4em;box-sizing: border-box;padding-bottom: 0.4em;background-color: white;}#sk-container-id-5 div.sk-label label {font-family: monospace;font-weight: bold;display: inline-block;line-height: 1.2em;}#sk-container-id-5 div.sk-label-container {text-align: center;}#sk-container-id-5 div.sk-container {/* jupyter's `normalize.less` sets `[hidden] { display: none; }` but bootstrap.min.css set `[hidden] { display: none !important; }` so we also need the `!important` here to be able to override the default hidden behavior on the sphinx rendered scikit-learn.org. See: https://github.com/scikit-learn/scikit-learn/issues/21755 */display: inline-block !important;position: relative;}#sk-container-id-5 div.sk-text-repr-fallback {display: none;}</style><div id=\"sk-container-id-5\" class=\"sk-top-container\"><div class=\"sk-text-repr-fallback\"><pre>LatentDirichletAllocation(doc_topic_prior=1.0, learning_method=&#x27;online&#x27;,\n",
       "                          max_iter=5, n_components=8, n_jobs=-1, random_state=0,\n",
       "                          topic_word_prior=0.1)</pre><b>In a Jupyter environment, please rerun this cell to show the HTML representation or trust the notebook. <br />On GitHub, the HTML representation is unable to render, please try loading this page with nbviewer.org.</b></div><div class=\"sk-container\" hidden><div class=\"sk-item\"><div class=\"sk-estimator sk-toggleable\"><input class=\"sk-toggleable__control sk-hidden--visually\" id=\"sk-estimator-id-5\" type=\"checkbox\" checked><label for=\"sk-estimator-id-5\" class=\"sk-toggleable__label sk-toggleable__label-arrow\">LatentDirichletAllocation</label><div class=\"sk-toggleable__content\"><pre>LatentDirichletAllocation(doc_topic_prior=1.0, learning_method=&#x27;online&#x27;,\n",
       "                          max_iter=5, n_components=8, n_jobs=-1, random_state=0,\n",
       "                          topic_word_prior=0.1)</pre></div></div></div></div></div>"
      ],
      "text/plain": [
       "LatentDirichletAllocation(doc_topic_prior=1.0, learning_method='online',\n",
       "                          max_iter=5, n_components=8, n_jobs=-1, random_state=0,\n",
       "                          topic_word_prior=0.1)"
      ]
     },
     "execution_count": 56,
     "metadata": {},
     "output_type": "execute_result"
    }
   ],
   "source": [
    "lda"
   ]
  },
  {
   "cell_type": "code",
   "execution_count": 57,
   "metadata": {},
   "outputs": [
    {
     "data": {
      "text/plain": [
       "array([[0.916, 0.007, 0.03 , ..., 0.008, 0.008, 0.008],\n",
       "       [0.073, 0.077, 0.374, ..., 0.043, 0.041, 0.175],\n",
       "       [0.031, 0.023, 0.052, ..., 0.062, 0.077, 0.667],\n",
       "       ...,\n",
       "       [0.038, 0.043, 0.043, ..., 0.039, 0.048, 0.037],\n",
       "       [0.021, 0.465, 0.029, ..., 0.289, 0.021, 0.091],\n",
       "       [0.436, 0.012, 0.017, ..., 0.012, 0.013, 0.012]])"
      ]
     },
     "execution_count": 57,
     "metadata": {},
     "output_type": "execute_result"
    }
   ],
   "source": [
    "review_topics = lda.fit_transform(review_cv)\n",
    "review_topics"
   ]
  },
  {
   "cell_type": "code",
   "execution_count": 58,
   "metadata": {},
   "outputs": [
    {
     "data": {
      "text/plain": [
       "(3219, 8)"
      ]
     },
     "execution_count": 58,
     "metadata": {},
     "output_type": "execute_result"
    }
   ],
   "source": [
    "review_topics.shape"
   ]
  },
  {
   "cell_type": "code",
   "execution_count": 59,
   "metadata": {},
   "outputs": [
    {
     "data": {
      "text/plain": [
       "array([0.916, 0.007, 0.03 , 0.017, 0.007, 0.008, 0.008, 0.008])"
      ]
     },
     "execution_count": 59,
     "metadata": {},
     "output_type": "execute_result"
    }
   ],
   "source": [
    "review_topics[0]"
   ]
  },
  {
   "cell_type": "code",
   "execution_count": 60,
   "metadata": {},
   "outputs": [
    {
     "data": {
      "text/plain": [
       "array([0.103, 0.099, 0.13 , 0.178, 0.139, 0.179, 0.09 , 0.081])"
      ]
     },
     "execution_count": 60,
     "metadata": {},
     "output_type": "execute_result"
    }
   ],
   "source": [
    "np.mean(review_topics, axis=0)"
   ]
  },
  {
   "cell_type": "code",
   "execution_count": null,
   "metadata": {},
   "outputs": [],
   "source": []
  },
  {
   "cell_type": "code",
   "execution_count": 61,
   "metadata": {},
   "outputs": [
    {
     "data": {
      "text/plain": [
       "(8, 2000)"
      ]
     },
     "execution_count": 61,
     "metadata": {},
     "output_type": "execute_result"
    }
   ],
   "source": [
    "lda.components_.shape"
   ]
  },
  {
   "cell_type": "code",
   "execution_count": 62,
   "metadata": {},
   "outputs": [
    {
     "data": {
      "text/plain": [
       "(8, 2000)"
      ]
     },
     "execution_count": 62,
     "metadata": {},
     "output_type": "execute_result"
    }
   ],
   "source": [
    "lda.components_.shape"
   ]
  },
  {
   "cell_type": "code",
   "execution_count": 63,
   "metadata": {},
   "outputs": [
    {
     "data": {
      "text/plain": [
       "array([0.94 , 0.139, 0.459, ..., 0.104, 0.102, 0.101])"
      ]
     },
     "execution_count": 63,
     "metadata": {},
     "output_type": "execute_result"
    }
   ],
   "source": [
    "lda.components_[0]"
   ]
  },
  {
   "cell_type": "code",
   "execution_count": 64,
   "metadata": {},
   "outputs": [
    {
     "name": "stdout",
     "output_type": "stream",
     "text": [
      "0\n",
      "['site', 'unable', 'machine', 'ibm', 'begin', 'compression', 'create', 'study', 'guide', 'range']\n",
      "1\n",
      "['old', 'modern', 'plan', 'pay', 'plaintext', 'jumpers', 'close', 'took', 'appreciated', 'max']\n",
      "2\n",
      "['ciphers', 'site', 'unable', 'willing', 'likely', 'ide', 'quantum', 'gods', 'launched', '1993apr5']\n",
      "3\n",
      "['orbiter', 'freedom', 'range', 'magazine', 'maps', 'begin', 'couple', 'theory', 'looked', 'reach']\n",
      "4\n",
      "['low', 'proton', 'solid', 'spencer', 'site', 'ontario', 'loving', 'appreciated', 'contains', 'effective']\n",
      "5\n",
      "['hardly', 'multiple', 'site', 'facility', 'areas', 'conversion', 'unable', 'looked', 'magazine', 'bell']\n",
      "6\n",
      "['ciphers', 'holland', 'open', 'statement', 'areas', 'words', 'deleted', 'robert', \"you're\", 'correct']\n",
      "7\n",
      "['quoted', 'site', 'recall', 'non', 'second', 'quicktime', 'ram', 'event', 'story', 'bought']\n"
     ]
    }
   ],
   "source": [
    "for idx, document in enumerate(lda.components_):\n",
    "    print(idx)\n",
    "    print([cv.get_feature_names_out()[i] for i in -document.argsort()[:-11:-1]])"
   ]
  },
  {
   "cell_type": "code",
   "execution_count": 40,
   "metadata": {},
   "outputs": [
    {
     "data": {
      "text/plain": [
       "'anon'"
      ]
     },
     "execution_count": 40,
     "metadata": {},
     "output_type": "execute_result"
    }
   ],
   "source": []
  },
  {
   "cell_type": "code",
   "execution_count": 52,
   "metadata": {},
   "outputs": [],
   "source": [
    "#7.2.3"
   ]
  },
  {
   "cell_type": "code",
   "execution_count": 53,
   "metadata": {},
   "outputs": [],
   "source": [
    "import matplotlib.pyplot as plt"
   ]
  },
  {
   "cell_type": "code",
   "execution_count": 54,
   "metadata": {},
   "outputs": [
    {
     "data": {
      "text/plain": [
       "953.0460843666867"
      ]
     },
     "execution_count": 54,
     "metadata": {},
     "output_type": "execute_result"
    }
   ],
   "source": [
    "lda.perplexity(review_cv)"
   ]
  },
  {
   "cell_type": "code",
   "execution_count": 69,
   "metadata": {},
   "outputs": [
    {
     "name": "stdout",
     "output_type": "stream",
     "text": [
      "n_components: 6, perplexity: 1058.260\n",
      "n_components: 7, perplexity: 1055.111\n",
      "n_components: 8, perplexity: 1018.328\n",
      "n_components: 9, perplexity: 1017.749\n",
      "n_components: 10, perplexity: 1028.686\n",
      "n_components: 11, perplexity: 1033.398\n",
      "n_components: 12, perplexity: 1032.112\n",
      "n_components: 13, perplexity: 1038.642\n",
      "n_components: 14, perplexity: 1038.627\n",
      "n_components: 15, perplexity: 1044.712\n"
     ]
    },
    {
     "data": {
      "image/png": "[encoded data removed]",
      "text/plain": [
       "<Figure size 432x288 with 1 Axes>"
      ]
     },
     "metadata": {
      "needs_background": "light"
     },
     "output_type": "display_data"
    },
    {
     "name": "stdout",
     "output_type": "stream",
     "text": [
      "n_components with minimum perplexity: 9\n"
     ]
    }
   ],
   "source": [
    "def show_perplexity(cv, start=10, end=30, max_iter=5, topic_word_prior= 0.1, \n",
    "                    doc_topic_prior=1.0):\n",
    "    iter_num = []\n",
    "    per_value = []\n",
    "\n",
    "    for i in range(start, end + 1):\n",
    "        lda = LatentDirichletAllocation(n_components = i, max_iter=max_iter, \n",
    "                                        topic_word_prior= topic_word_prior, \n",
    "                                        doc_topic_prior=doc_topic_prior,\n",
    "                                        learning_method='batch', n_jobs= -1,\n",
    "                                        random_state=7)    \n",
    "        lda.fit(cv)\n",
    "        iter_num.append(i)\n",
    "        pv = lda.perplexity(cv)\n",
    "        per_value.append(pv)\n",
    "        print(f'n_components: {i}, perplexity: {pv:0.3f}')\n",
    "\n",
    "    plt.plot(iter_num, per_value, 'g-')\n",
    "    plt.show()\n",
    "    return start + per_value.index(min(per_value))\n",
    "\n",
    "print(\"n_components with minimum perplexity:\",\n",
    "      show_perplexity(review_cv, start=6, end=15))"
   ]
  },
  {
   "cell_type": "code",
   "execution_count": null,
   "metadata": {},
   "outputs": [],
   "source": []
  },
  {
   "cell_type": "code",
   "execution_count": null,
   "metadata": {},
   "outputs": [],
   "source": []
  },
  {
   "cell_type": "code",
   "execution_count": 65,
   "metadata": {},
   "outputs": [],
   "source": [
    "#gensim"
   ]
  },
  {
   "cell_type": "code",
   "execution_count": 67,
   "metadata": {},
   "outputs": [
    {
     "name": "stdout",
     "output_type": "stream",
     "text": [
      "Collecting gensim\n",
      "  Using cached gensim-4.2.0-cp310-cp310-win_amd64.whl (23.9 MB)\n",
      "Requirement already satisfied: smart-open>=1.8.1 in c:\\python310\\lib\\site-packages (from gensim) (6.2.0)\n",
      "Requirement already satisfied: Cython==0.29.28 in c:\\python310\\lib\\site-packages (from gensim) (0.29.28)\n",
      "Requirement already satisfied: scipy>=0.18.1 in c:\\python310\\lib\\site-packages (from gensim) (1.9.1)\n",
      "Requirement already satisfied: numpy>=1.17.0 in c:\\python310\\lib\\site-packages (from gensim) (1.23.2)\n",
      "Installing collected packages: gensim\n",
      "Successfully installed gensim-4.2.0\n"
     ]
    }
   ],
   "source": [
    "!pip3 install gensim"
   ]
  },
  {
   "cell_type": "code",
   "execution_count": 68,
   "metadata": {},
   "outputs": [],
   "source": [
    "from gensim.corpora.dictionary import Dictionary"
   ]
  },
  {
   "cell_type": "code",
   "execution_count": 70,
   "metadata": {},
   "outputs": [],
   "source": [
    "# 필요한 library들을 import\n",
    "from nltk.corpus import stopwords\n",
    "from nltk.tokenize import RegexpTokenizer\n",
    "\n",
    "cachedStopWords = stopwords.words(\"english\")\n",
    "\n",
    "RegTok = RegexpTokenizer(\"[\\w']{3,}\") # 정규포현식으로 토크나이저를 정의\n",
    "english_stops = set(stopwords.words('english')) #영어 불용어를 가져옴\n",
    "\n",
    "def tokenizer(text):\n",
    "    tokens = RegTok.tokenize(text.lower()) \n",
    "    # stopwords 제외\n",
    "    words = [word for word in tokens if (word not in english_stops) and len(word) > 2]\n",
    "    return words\n",
    "\n",
    "texts = [tokenizer(news) for news in newsgroups_train.data]"
   ]
  },
  {
   "cell_type": "code",
   "execution_count": 71,
   "metadata": {},
   "outputs": [
    {
     "name": "stdout",
     "output_type": "stream",
     "text": [
      "#Number of initial unique words in documents: 46466\n",
      "#Number of unique words after removing rare and common words: 2000\n",
      "#Number of unique tokens: 2000\n",
      "#Number of documents: 3219\n"
     ]
    }
   ],
   "source": [
    "from gensim.corpora.dictionary import Dictionary\n",
    "\n",
    "# 토큰화 결과로부터 dictionay 생성\n",
    "dictionary = Dictionary(texts)\n",
    "print('#Number of initial unique words in documents:', len(dictionary))\n",
    "\n",
    "# 문서 빈도수가 너무 적거나 높은 단어를 필터링하고 특성을 단어의 빈도 순으로 선택\n",
    "dictionary.filter_extremes(keep_n=2000, no_below=5, no_above=0.5)\n",
    "print('#Number of unique words after removing rare and common words:', len(dictionary))\n",
    "\n",
    "# 카운트 벡터로 변환\n",
    "corpus = [dictionary.doc2bow(text) for text in texts]\n",
    "print('#Number of unique tokens: %d' % len(dictionary))\n",
    "print('#Number of documents: %d' % len(corpus))"
   ]
  },
  {
   "cell_type": "code",
   "execution_count": 72,
   "metadata": {},
   "outputs": [
    {
     "name": "stdout",
     "output_type": "stream",
     "text": [
      "CPU times: total: 10.1 s\n",
      "Wall time: 10.4 s\n"
     ]
    }
   ],
   "source": [
    "from gensim.models import LdaModel\n",
    "\n",
    "num_topics = 10\n",
    "passes = 5\n",
    "%time model = LdaModel(corpus=corpus, id2word=dictionary,\\\n",
    "                       passes=passes, num_topics=num_topics, \\\n",
    "                       random_state=7)"
   ]
  },
  {
   "cell_type": "code",
   "execution_count": 73,
   "metadata": {},
   "outputs": [
    {
     "data": {
      "text/plain": [
       "[(0,\n",
       "  '0.023*\"com\" + 0.018*\"keith\" + 0.016*\"caltech\" + 0.013*\"sgi\" + 0.013*\"nntp\" + 0.013*\"posting\" + 0.013*\"host\" + 0.012*\"would\" + 0.012*\"system\" + 0.011*\"livesey\"'),\n",
       " (1,\n",
       "  '0.020*\"morality\" + 0.018*\"objective\" + 0.015*\"one\" + 0.015*\"say\" + 0.014*\"uiuc\" + 0.012*\"frank\" + 0.012*\"values\" + 0.010*\"faq\" + 0.010*\"article\" + 0.008*\"cso\"'),\n",
       " (2,\n",
       "  '0.026*\"com\" + 0.025*\"access\" + 0.025*\"posting\" + 0.023*\"host\" + 0.023*\"nntp\" + 0.017*\"digex\" + 0.015*\"article\" + 0.013*\"cwru\" + 0.013*\"___\" + 0.013*\"net\"'),\n",
       " (3,\n",
       "  '0.021*\"university\" + 0.017*\"posting\" + 0.015*\"host\" + 0.015*\"nntp\" + 0.013*\"article\" + 0.010*\"com\" + 0.009*\"know\" + 0.009*\"i\\'m\" + 0.009*\"would\" + 0.009*\"thanks\"'),\n",
       " (4,\n",
       "  '0.032*\"com\" + 0.015*\"would\" + 0.011*\"article\" + 0.010*\"one\" + 0.010*\"get\" + 0.009*\"people\" + 0.009*\"ibm\" + 0.008*\"government\" + 0.007*\"good\" + 0.007*\"i\\'m\"'),\n",
       " (5,\n",
       "  '0.025*\"key\" + 0.017*\"encryption\" + 0.014*\"clipper\" + 0.014*\"chip\" + 0.009*\"keys\" + 0.009*\"use\" + 0.008*\"security\" + 0.008*\"government\" + 0.008*\"public\" + 0.007*\"escrow\"'),\n",
       " (6,\n",
       "  '0.024*\"scsi\" + 0.024*\"drive\" + 0.013*\"com\" + 0.012*\"ide\" + 0.011*\"controller\" + 0.010*\"bus\" + 0.010*\"card\" + 0.010*\"disk\" + 0.009*\"one\" + 0.009*\"drives\"'),\n",
       " (7,\n",
       "  '0.017*\"graphics\" + 0.012*\"image\" + 0.012*\"ftp\" + 0.011*\"file\" + 0.010*\"files\" + 0.009*\"available\" + 0.009*\"data\" + 0.009*\"pub\" + 0.008*\"software\" + 0.008*\"use\"'),\n",
       " (8,\n",
       "  '0.014*\"god\" + 0.013*\"people\" + 0.012*\"one\" + 0.009*\"would\" + 0.007*\"jesus\" + 0.007*\"com\" + 0.007*\"think\" + 0.006*\"many\" + 0.006*\"even\" + 0.006*\"say\"'),\n",
       " (9,\n",
       "  '0.033*\"space\" + 0.019*\"nasa\" + 0.009*\"gov\" + 0.007*\"first\" + 0.007*\"launch\" + 0.006*\"moon\" + 0.006*\"earth\" + 0.006*\"orbit\" + 0.006*\"shuttle\" + 0.006*\"would\"')]"
      ]
     },
     "execution_count": 73,
     "metadata": {},
     "output_type": "execute_result"
    }
   ],
   "source": [
    "model.print_topics(num_words=10)\n"
   ]
  },
  {
   "cell_type": "code",
   "execution_count": 74,
   "metadata": {},
   "outputs": [
    {
     "name": "stdout",
     "output_type": "stream",
     "text": [
      "#topic distribution of the first document:  [(0, 0.72576934), (8, 0.2699505)]\n"
     ]
    }
   ],
   "source": [
    "print(\"#topic distribution of the first document: \", model.get_document_topics(corpus)[0])\n"
   ]
  },
  {
   "cell_type": "code",
   "execution_count": 77,
   "metadata": {},
   "outputs": [
    {
     "name": "stdout",
     "output_type": "stream",
     "text": [
      "Collecting pyldavis\n",
      "  Using cached pyLDAvis-3.3.1-py2.py3-none-any.whl\n",
      "Requirement already satisfied: scipy in c:\\python310\\lib\\site-packages (from pyldavis) (1.9.1)\n",
      "Collecting numexpr\n",
      "  Using cached numexpr-2.8.3-cp310-cp310-win_amd64.whl (92 kB)\n",
      "Requirement already satisfied: gensim in c:\\python310\\lib\\site-packages (from pyldavis) (4.2.0)\n",
      "Requirement already satisfied: setuptools in c:\\python310\\lib\\site-packages (from pyldavis) (58.1.0)\n",
      "Requirement already satisfied: funcy in c:\\python310\\lib\\site-packages (from pyldavis) (1.17)\n",
      "Requirement already satisfied: sklearn in c:\\python310\\lib\\site-packages (from pyldavis) (0.0)\n",
      "Requirement already satisfied: pandas>=1.2.0 in c:\\python310\\lib\\site-packages (from pyldavis) (1.4.4)\n",
      "Requirement already satisfied: numpy>=1.20.0 in c:\\python310\\lib\\site-packages (from pyldavis) (1.23.2)\n",
      "Requirement already satisfied: scikit-learn in c:\\python310\\lib\\site-packages (from pyldavis) (1.1.2)\n",
      "Requirement already satisfied: future in c:\\python310\\lib\\site-packages (from pyldavis) (0.18.2)\n",
      "Requirement already satisfied: joblib in c:\\python310\\lib\\site-packages (from pyldavis) (1.1.0)\n",
      "Requirement already satisfied: jinja2 in c:\\python310\\lib\\site-packages (from pyldavis) (3.1.1)\n",
      "Requirement already satisfied: python-dateutil>=2.8.1 in c:\\python310\\lib\\site-packages (from pandas>=1.2.0->pyldavis) (2.8.2)\n",
      "Requirement already satisfied: pytz>=2020.1 in c:\\python310\\lib\\site-packages (from pandas>=1.2.0->pyldavis) (2022.2.1)\n",
      "Requirement already satisfied: smart-open>=1.8.1 in c:\\python310\\lib\\site-packages (from gensim->pyldavis) (6.2.0)\n",
      "Requirement already satisfied: Cython==0.29.28 in c:\\python310\\lib\\site-packages (from gensim->pyldavis) (0.29.28)\n",
      "Requirement already satisfied: MarkupSafe>=2.0 in c:\\python310\\lib\\site-packages (from jinja2->pyldavis) (2.1.1)\n",
      "Requirement already satisfied: packaging in c:\\python310\\lib\\site-packages (from numexpr->pyldavis) (21.3)\n",
      "Requirement already satisfied: threadpoolctl>=2.0.0 in c:\\python310\\lib\\site-packages (from scikit-learn->pyldavis) (3.1.0)\n",
      "Requirement already satisfied: six>=1.5 in c:\\python310\\lib\\site-packages (from python-dateutil>=2.8.1->pandas>=1.2.0->pyldavis) (1.16.0)\n",
      "Requirement already satisfied: pyparsing!=3.0.5,>=2.0.2 in c:\\python310\\lib\\site-packages (from packaging->numexpr->pyldavis) (3.0.6)\n",
      "Installing collected packages: numexpr, pyldavis\n",
      "Successfully installed numexpr-2.8.3 pyldavis-3.3.1\n"
     ]
    }
   ],
   "source": [
    "!pip3 install pyldavis"
   ]
  },
  {
   "cell_type": "code",
   "execution_count": 78,
   "metadata": {},
   "outputs": [
    {
     "name": "stderr",
     "output_type": "stream",
     "text": [
      "c:\\Python310\\lib\\site-packages\\past\\builtins\\misc.py:45: DeprecationWarning: the imp module is deprecated in favour of importlib and slated for removal in Python 3.12; see the module's documentation for alternative uses\n",
      "  from imp import reload\n",
      "c:\\Python310\\lib\\site-packages\\pyLDAvis\\_prepare.py:247: FutureWarning: In a future version of pandas all arguments of DataFrame.drop except for the argument 'labels' will be keyword-only.\n",
      "  by='saliency', ascending=False).head(R).drop('saliency', 1)\n"
     ]
    },
    {
     "data": {
      "text/html": [
       "\n",
       "<link rel=\"stylesheet\" type=\"text/css\" href=\"https://cdn.jsdelivr.net/gh/bmabey/pyLDAvis@3.3.1/pyLDAvis/js/ldavis.v1.0.0.css\">\n",
       "\n",
       "\n",
       "<div id=\"ldavis_el4904414176136299688685469008\"></div>\n",
       "<script type=\"text/javascript\">\n",
       "\n",
       "var ldavis_el4904414176136299688685469008_data = {\"mdsDat\": {\"x\": [-0.1372003241521423, 0.06598951251212938, 0.07213262449923208, 0.13831991361221696, -0.021828434431548603, 0.0727832623398145, 0.027374250322706427, -0.04078630480591686, 0.0053594934988313615, -0.18214399339532314], \"y\": [0.04024886602320191, 0.12361980426193493, 0.09287188530211987, 0.04360855923958373, 0.00749451553911701, -0.09470905073392978, -0.054949133198954656, -0.12997446722166495, -0.09197214681650659, 0.06376116760509863], \"topics\": [1, 2, 3, 4, 5, 6, 7, 8, 9, 10], \"cluster\": [1, 1, 1, 1, 1, 1, 1, 1, 1, 1], \"Freq\": [22.655416242418433, 14.522776134324907, 12.98743719933912, 11.02043717187974, 9.29836472992791, 9.118868849514786, 8.494164914699162, 4.524070752392074, 4.051826626501038, 3.3266373790028454]}, \"tinfo\": {\"Term\": [\"space\", \"com\", \"key\", \"scsi\", \"posting\", \"drive\", \"nntp\", \"host\", \"nasa\", \"encryption\", \"access\", \"god\", \"article\", \"university\", \"graphics\", \"clipper\", \"say\", \"morality\", \"chip\", \"image\", \"keith\", \"ide\", \"ftp\", \"keys\", \"one\", \"controller\", \"objective\", \"caltech\", \"card\", \"sgi\", \"sandvik\", \"christ\", \"religious\", \"koresh\", \"religions\", \"christians\", \"jaeger\", \"jesus\", \"gregg\", \"bible\", \"followers\", \"alink\", \"ksand\", \"jews\", \"faith\", \"rushdie\", \"tourist\", \"cookamunga\", \"newton\", \"buphy\", \"islamic\", \"jewish\", \"children\", \"muslim\", \"christianity\", \"church\", \"muslims\", \"god\", \"father\", \"beliefs\", \"religion\", \"atheist\", \"islam\", \"biblical\", \"belief\", \"kent\", \"argument\", \"evidence\", \"christian\", \"conclusion\", \"atheism\", \"atheists\", \"life\", \"people\", \"believe\", \"therefore\", \"true\", \"say\", \"one\", \"many\", \"think\", \"even\", \"would\", \"said\", \"see\", \"way\", \"good\", \"know\", \"com\", \"well\", \"like\", \"article\", \"things\", \"may\", \"time\", \"also\", \"enforcement\", \"encrypted\", \"wiretap\", \"rsa\", \"denning\", \"decrypt\", \"encryption\", \"keys\", \"escrow\", \"privacy\", \"encrypt\", \"nist\", \"toal\", \"gtoal\", \"9760\", \"conversations\", \"key\", \"hamburg\", \"dorothy\", \"pgp\", \"security\", \"ensure\", \"eff\", \"241\", \"secure\", \"strnlght\", \"des\", \"manufacturers\", \"sternlight\", \"clipper\", \"cryptography\", \"crypto\", \"chip\", \"agencies\", \"protect\", \"secret\", \"proposal\", \"algorithm\", \"administration\", \"public\", \"government\", \"law\", \"technology\", \"use\", \"information\", \"netcom\", \"communications\", \"system\", \"used\", \"would\", \"com\", \"two\", \"data\", \"one\", \"new\", \"bit\", \"henry\", \"zoo\", \"shuttle\", \"spencer\", \"satellites\", \"zoology\", \"propulsion\", \"toronto\", \"satellite\", \"utzoo\", \"launch\", \"missions\", \"flight\", \"fuel\", \"astronomy\", \"orbital\", \"mars\", \"mission\", \"vehicle\", \"rocket\", \"solar\", \"spacecraft\", \"nasa\", \"lunar\", \"rockets\", \"space\", \"baalke\", \"jet\", \"kelvin\", \"russian\", \"moon\", \"jpl\", \"orbit\", \"jsc\", \"planetary\", \"station\", \"gov\", \"earth\", \"year\", \"center\", \"first\", \"research\", \"cost\", \"sci\", \"1993\", \"also\", \"would\", \"data\", \"one\", \"new\", \"program\", \"system\", \"article\", \"packages\", \"package\", \"formats\", \"byte\", \"gif\", \"routines\", \"128\", \"ftp\", \"pub\", \"directory\", \"format\", \"image\", \"graphics\", \"drawing\", \"dec\", \"display\", \"files\", \"amiga\", \"comp\", \"contact\", \"processing\", \"functions\", \"file\", \"sites\", \"color\", \"objects\", \"animation\", \"256\", \"database\", \"images\", \"library\", \"server\", \"machines\", \"available\", \"version\", \"program\", \"software\", \"anonymous\", \"data\", \"mail\", \"send\", \"bits\", \"line\", \"code\", \"type\", \"use\", \"also\", \"unix\", \"system\", \"com\", \"get\", \"information\", \"one\", \"vnet\", \"tapped\", \"amendment\", \"brad\", \"dseg\", \"police\", \"bear\", \"warrant\", \"labs\", \"bet\", \"instruments\", \"constitution\", \"fred\", \"craig\", \"nuclear\", \"we're\", \"reverse\", \"trade\", \"phones\", \"trust\", \"ibm\", \"expressed\", \"concern\", \"governments\", \"represents\", \"rob\", \"measures\", \"they'll\", \"classified\", \"1993apr20\", \"berkeley\", \"let's\", \"money\", \"nsa\", \"buy\", \"monitor\", \"com\", \"market\", \"government\", \"uucp\", \"business\", \"right\", \"get\", \"would\", \"care\", \"i'd\", \"going\", \"article\", \"phone\", \"enough\", \"people\", \"i'm\", \"good\", \"even\", \"one\", \"can't\", \"think\", \"like\", \"sure\", \"state\", \"could\", \"know\", \"posting\", \"years\", \"time\", \"distribution\", \"nntp\", \"host\", \"may\", \"want\", \"scsi\", \"ide\", \"eisa\", \"isa\", \"controller\", \"drives\", \"cache\", \"motherboard\", \"bus\", \"drive\", \"boot\", \"vlb\", \"bios\", \"uwo\", \"sec\", \"cpu\", \"floppy\", \"486\", \"port\", \"pin\", \"mouse\", \"settings\", \"sys\", \"ports\", \"boards\", \"rom\", \"setup\", \"cards\", \"tape\", \"mhz\", \"disk\", \"drivers\", \"card\", \"modem\", \"board\", \"hard\", \"speed\", \"dos\", \"driver\", \"com\", \"bit\", \"problem\", \"system\", \"work\", \"use\", \"one\", \"get\", \"know\", \"like\", \"would\", \"two\", \"article\", \"thanks\", \"cis\", \"simon\", \"jeff\", \"tiff\", \"washington\", \"significance\", \"colorado\", \"thomas\", \"daniel\", \"umich\", \"michigan\", \"spot\", \"navy\", \"jupiter\", \"hello\", \"wondering\", \"univ\", \"appreciate\", \"diego\", \"print\", \"southern\", \"rice\", \"martin\", \"screen\", \"dan\", \"looking\", \"electrical\", \"visible\", \"mark\", \"los\", \"thanks\", \"university\", \"advance\", \"book\", \"dept\", \"posting\", \"nntp\", \"host\", \"anyone\", \"sun\", \"keywords\", \"i'm\", \"please\", \"science\", \"article\", \"reply\", \"post\", \"distribution\", \"mail\", \"know\", \"computer\", \"help\", \"i've\", \"like\", \"read\", \"would\", \"com\", \"one\", \"world\", \"get\", \"think\", \"allan\", \"schneider\", \"ico\", \"bobbe\", \"punisher\", \"beauchaine\", \"cco\", \"caltech\", \"livesey\", \"solntze\", \"wpd\", \"tek\", \"gap\", \"acad3\", \"keith\", \"vice\", \"eng\", \"fido\", \"jon\", \"van\", \"umd\", \"pasadena\", \"diamond\", \"adams\", \"sgi\", \"alaska\", \"vga\", \"nsmca\", \"animals\", \"goal\", \"points\", \"murder\", \"video\", \"political\", \"card\", \"moral\", \"com\", \"nntp\", \"host\", \"posting\", \"system\", \"would\", \"article\", \"know\", \"think\", \"one\", \"i'm\", \"prb\", \"digex\", \"cwru\", \"kmr4\", \"cleveland\", \"freenet\", \"ryan\", \"ins\", \"express\", \"reserve\", \"conner\", \"greenbelt\", \"pat\", \"___\", \"____\", \"split\", \"rit\", \"western\", \"ultb\", \"isc\", \"chris\", \"vnews\", \"access\", \"aspects\", \"vax\", \"forum\", \"mozumder\", \"student\", \"online\", \"mary\", \"net\", \"steve\", \"utexas\", \"nntp\", \"host\", \"posting\", \"usa\", \"com\", \"article\", \"university\", \"bill\", \"group\", \"case\", \"like\", \"news\", \"think\", \"would\", \"distribution\", \"one\", \"reply\", \"john\", \"d012s658\", \"o'dwyer\", \"rosenau\", \"benedikt\", \"i3150101\", \"frank\", \"dbstu1\", \"urbana\", \"cso\", \"uiuc\", \"objective\", \"values\", \"illinois\", \"morality\", \"psu\", \"2000\", \"psuvm\", \"attack\", \"mathematical\", \"absolute\", \"value\", \"mantis\", \"accurate\", \"depends\", \"mathew\", \"readers\", \"pad\", \"defined\", \"attacks\", \"faq\", \"alt\", \"crypt\", \"eric\", \"basis\", \"say\", \"atheism\", \"uucp\", \"exist\", \"one\", \"science\", \"news\", \"article\", \"christian\", \"years\", \"com\", \"would\", \"see\", \"people\", \"sci\", \"university\", \"time\", \"better\"], \"Freq\": [1487.0, 3752.0, 1316.0, 741.0, 1723.0, 796.0, 1433.0, 1471.0, 845.0, 847.0, 700.0, 1143.0, 2031.0, 1487.0, 781.0, 793.0, 868.0, 347.0, 857.0, 545.0, 338.0, 367.0, 494.0, 478.0, 2768.0, 347.0, 274.0, 258.0, 442.0, 344.0, 276.7060877453828, 157.48516965450597, 221.30966790959252, 148.40449273653917, 93.9118091944228, 217.0216723809331, 82.58064840074859, 548.4452457121654, 65.52194907669701, 407.9054483551312, 52.23535432056228, 48.313759805159215, 48.31224009407481, 111.56136155454355, 204.57785267995826, 80.92612166364455, 38.23986972661026, 36.72582543660007, 135.45468456541545, 40.860259255421745, 136.57017908523508, 76.95074355391618, 180.67629753149214, 79.45706170786161, 134.54508209834285, 126.67550414853173, 71.68917148136872, 1100.129257153224, 61.48321274974716, 110.14620482048906, 304.84723806132456, 135.34490205448438, 155.53075917093904, 103.71359123726141, 176.1387326560039, 174.8742621434671, 250.2862073962111, 323.5743674851124, 352.66530621429456, 123.96837146050609, 281.4499611542068, 269.73165063879736, 322.950780847027, 952.0208200862472, 430.1978288442191, 178.12181827116925, 312.526218543413, 437.7423304025938, 922.8865319306808, 444.7222615084348, 504.30188326772907, 440.6381996876265, 719.2006566137317, 308.66865127256017, 355.1531308578426, 340.5553267196977, 366.01040763185654, 390.54675008785813, 540.1392758569688, 320.9677306770181, 385.5126871828706, 393.3927125925564, 275.08241601700115, 309.7579518217355, 303.3540045088171, 305.59658411462783, 228.36343690143715, 186.84441799794058, 183.6782974713543, 152.71040069904154, 79.82530439186513, 66.11729229025885, 815.3780488625209, 459.8609231170908, 361.8645673944761, 340.99426286705074, 43.97913821176469, 119.23015671160022, 55.5511399734692, 105.99334604104465, 32.82215077569895, 80.1996332661049, 1227.7836205174078, 98.94231447896753, 41.89650036768768, 222.84071278366054, 406.3806371176913, 67.77003331198989, 149.60814994076665, 33.519350303693535, 259.9164430080333, 51.79281536512344, 244.27293948828583, 65.78421406147241, 74.85012550504185, 697.3975674469457, 157.12542399510616, 230.5380082447347, 665.8973885233179, 146.32841120840266, 144.61492460660028, 214.5294177675958, 136.3460049437553, 290.46012046008366, 142.08985342482129, 367.511895499951, 371.9992295529174, 316.02679563544694, 287.61685922656767, 424.4078167398149, 287.1993313494812, 202.61435457559227, 179.8839083700337, 340.343545579726, 258.2194293987695, 346.1062755184465, 355.22465628342223, 241.7262602845701, 238.9727030159397, 297.68631105592544, 220.56669000816842, 213.84820840304806, 240.25603927815774, 119.86232473509372, 257.0628471783301, 107.43428101502151, 103.32915657734773, 64.06162494725714, 102.62617045061373, 219.26067597703815, 199.43747097556607, 37.19062945384233, 289.367535606014, 111.49250855468384, 167.21694500523208, 59.37512019323672, 96.72841818223628, 105.15654053632203, 166.81544619402877, 203.53790165958273, 90.03594839801188, 108.3255557489579, 128.46045850411093, 150.21252194838274, 808.4813896662846, 223.00958311876795, 67.6550032408049, 1422.212722398799, 106.26543475799785, 64.55051698131454, 82.52019727021973, 64.12028670833126, 282.02697222970806, 168.87438866675456, 257.1711692594822, 99.09202793779728, 121.43869446981132, 157.32482869392106, 405.59310546479134, 259.3448039076091, 204.0061594649007, 189.26360752914817, 291.9214455774876, 209.91533116858247, 166.31646563750053, 156.27690247158813, 165.33022874894695, 220.00044000039293, 252.91397533102958, 192.80139735270683, 230.75445952654346, 182.0349017886971, 170.68999760302623, 173.64791581677088, 167.8234043927965, 73.97946182586396, 252.17230987480644, 107.65670287640222, 142.44608587705247, 171.30337845919294, 78.8326267039651, 140.07497044553665, 427.4758647766765, 324.9226266069057, 149.3278569840963, 235.7490582683336, 455.87776581296436, 637.3485036567313, 53.97913997236187, 73.72729125741526, 128.45968422687827, 372.54221639986207, 94.70192377155689, 229.4190088815585, 183.2485269889023, 93.96000728594288, 73.55444178569132, 389.4690505021594, 103.31491380696541, 152.7132410463983, 87.61472473126074, 69.63628478810058, 91.04797214852591, 45.258948780799386, 234.03723641285566, 107.30968493199808, 126.03840365441674, 125.71163625410632, 346.55089737272357, 280.5652968784877, 294.70329742942323, 313.04906620753025, 164.7720478023026, 331.7336027083736, 280.43953487881146, 191.73482396513603, 148.3213816661499, 187.76240688899014, 198.9602767200475, 152.7103616586898, 301.3365791014062, 277.3910219365635, 160.20973556644694, 231.25835140465446, 297.4511298791631, 176.99349685913177, 167.2142341088754, 164.44145271294255, 83.59987882520043, 88.88290618479563, 76.44380398407888, 108.10306785221528, 87.10652752275111, 117.49281797027996, 74.0184422210707, 69.02731978206428, 40.17261912401175, 35.88343305954517, 49.289234365782086, 41.6311763113807, 86.92860306877482, 40.53893866895785, 33.641669315539296, 67.96541025422604, 33.689629124512464, 23.680245693791814, 60.74345295769015, 94.00282582369405, 274.7846326231049, 36.37486198711634, 32.11684779818695, 25.216810763367885, 23.371791056760145, 40.79196512151575, 19.990073533702326, 20.57907323211843, 51.36376978064599, 48.89152836815999, 62.465907293682875, 59.4222142284542, 110.30741516225467, 122.9054208265079, 98.02501246327583, 78.25300931145986, 1000.9663035643212, 62.11053118281582, 247.3170422390007, 111.09622981970578, 68.40197653537572, 199.55451330511164, 300.69411657503747, 468.27505050957114, 74.48270713762948, 107.44457789293239, 134.58569097879567, 334.68543388290794, 129.75783628411497, 116.415371602832, 280.96573440971, 214.4272403071309, 214.69414517259858, 193.25513950911792, 311.35852763561485, 135.73861758249365, 188.7799187022084, 179.79985816943292, 123.05904351028938, 121.64477649912999, 154.4786501726856, 161.07251108873507, 165.9215761880515, 124.96278643336677, 137.8560502406152, 128.9984950695939, 134.92462102488858, 132.67573622939491, 123.98035773250204, 118.76283822755343, 736.6184340719179, 363.2859425121295, 105.63247422823854, 170.56141045910948, 337.00762664364464, 266.77271973593577, 74.684293260817, 130.58513560056406, 310.10742203886707, 725.3917373696104, 86.26156743311587, 101.4287118124643, 141.89261078474564, 67.74534034721755, 80.72209957796787, 89.3652259371864, 165.0364162475258, 137.87380284424785, 164.1558708746424, 75.18726129141191, 90.43149619121361, 62.20080065344252, 90.99262273140928, 49.20465287502938, 42.571583191030754, 122.84917641698007, 52.44895325022571, 121.06692804341051, 154.53715388534428, 45.37619938426742, 293.9362034125084, 138.81245679301838, 296.88788509245967, 97.77987702300827, 146.6001615706958, 250.7897654767282, 162.1979271629805, 198.43430953857626, 108.0871799232302, 386.2915171888133, 201.2362043444202, 173.6676013157997, 232.6233811218921, 182.5359715238044, 230.12436995613749, 285.5992991188046, 206.38943492465918, 175.86554072193087, 178.8763153852665, 191.23389656703532, 162.28173020122284, 160.5993492549084, 143.17858937873405, 50.33329962807666, 44.626569925678204, 44.97078545242227, 77.98490706572284, 156.04690597055313, 26.129794466662837, 80.86529924458709, 73.98421139044763, 36.65967454847088, 62.71837069773585, 25.259722162803925, 31.414834732812515, 45.205669043235076, 53.14352707025281, 34.116643885659485, 33.398627294020514, 46.61162165802142, 43.86204041611539, 24.429936690569615, 26.04813273336934, 29.083597319416025, 37.60105613903395, 31.21650697313656, 89.24632903123184, 54.44624094135592, 150.116283015377, 20.701849904894733, 20.46368549219265, 136.44129909409762, 22.551034081631148, 245.97694831645512, 604.3384089204823, 73.90223569495815, 119.3540610669, 67.04067662164414, 490.7967083925857, 417.03487526273193, 418.8995648528934, 229.06626003629128, 113.88707887758868, 115.04810775599323, 266.5256378273292, 188.09109038403668, 159.7842587939487, 367.02793352326785, 179.18778697613286, 126.94700255105353, 194.20252898529043, 178.7148436266833, 270.7314953388639, 186.09103491331174, 157.36276970802356, 140.90679171348313, 234.35020724886974, 139.59837004288053, 258.70777316150117, 274.57824654521636, 195.83955777632238, 136.40257376757472, 136.06827878175358, 125.17131210698805, 84.52719775763065, 92.7304923609899, 79.50485410463328, 64.83535530820129, 36.68698650233397, 63.37324045135285, 113.71946716642886, 245.11545491095657, 164.30941979998636, 114.47285587419353, 117.58997687935981, 86.37850682234406, 53.43745617671539, 40.04590819365825, 273.67140672460215, 82.24250615639221, 79.01500988338599, 40.23059955260279, 128.37071164608778, 59.28518656392784, 108.2860014756468, 60.480168357832405, 37.18735933785034, 26.822202247685127, 200.19146100542227, 89.09659511622755, 80.43821664434395, 41.68388452958524, 32.75163822065557, 37.281447989600764, 95.4939722537356, 52.596621576522324, 95.71031315802749, 66.72829752191012, 111.6476977664961, 91.5194221366762, 344.83459015262554, 198.5275506576083, 194.0702839257345, 198.30378486836295, 176.08476355971592, 184.31353210106133, 154.6118547131404, 115.63159800083244, 111.31203492650809, 89.28146696570242, 84.74111796539813, 79.99424050794697, 226.1613239029721, 179.56744828477616, 81.88824045023706, 89.3019118568429, 74.22311761124604, 65.39408259953585, 38.97776761496357, 66.86250546166293, 64.06856473514635, 42.28580943534614, 26.400199106894142, 159.89629610363292, 176.67961739628063, 51.02466589738167, 48.47766624944241, 41.77851349230618, 96.36350941926885, 35.06963320471578, 40.3458596693369, 49.199208752768804, 29.141383274060964, 341.64633724300023, 28.481993636383248, 46.21258748656213, 20.994197750402627, 24.615175081290268, 41.89933265354827, 57.62990947488411, 27.864629846307952, 174.70122344099846, 64.94898706628167, 60.071421360996986, 314.87340953395795, 316.47723175937637, 336.5754697546338, 117.67288042423019, 355.73098992069583, 197.95521304623395, 160.67148107206404, 74.77284828146763, 80.47879133579009, 78.02362477349716, 101.34996387698838, 77.16417257643964, 90.65329373182414, 104.1670110541439, 82.52214960002912, 99.77495973788122, 67.5291249777916, 66.2177372309533, 53.65543519428758, 56.90168603013978, 41.05990773307952, 70.97229825857646, 47.56348747133609, 137.85788553516866, 47.112937794464756, 44.61730989226784, 94.05518436476012, 156.33149964643113, 199.39378937793435, 133.5389853565554, 52.15629720433365, 221.085502451908, 46.221487834843636, 65.2225084746456, 39.7471581478077, 67.91554299476913, 36.291061615306944, 35.31904910357831, 91.82965101916372, 46.974504900805236, 21.19136154165438, 20.15147017440625, 42.59364353717743, 18.9427950818806, 21.330421593885447, 36.65276816507218, 21.90658124383003, 112.65546889356845, 59.942796159788884, 36.30600412367962, 32.016999371082605, 34.89177195411499, 164.0923085213125, 71.6615273124811, 61.506227011438284, 57.819455831224026, 171.22362714796728, 76.30771058200315, 76.30275576905616, 109.92658484447558, 65.75407350690847, 65.46242135028021, 81.93342185684149, 73.11550988528374, 60.95155860241947, 64.44577388494513, 53.26533735815071, 56.86273974307856, 55.767882220858695, 54.1931000592961], \"Total\": [1487.0, 3752.0, 1316.0, 741.0, 1723.0, 796.0, 1433.0, 1471.0, 845.0, 847.0, 700.0, 1143.0, 2031.0, 1487.0, 781.0, 793.0, 868.0, 347.0, 857.0, 545.0, 338.0, 367.0, 494.0, 478.0, 2768.0, 347.0, 274.0, 258.0, 442.0, 344.0, 278.191050583532, 158.87012792538644, 223.38185293360578, 150.01610349758553, 95.40718671290402, 220.64665125133433, 83.97151015960979, 557.9923145330565, 66.77317394128742, 415.77490053080413, 53.262289478870684, 49.270094936078685, 49.27020480763997, 113.88909071313469, 208.9380254876971, 82.85442989776251, 39.23614511661201, 37.683351327932144, 138.99379919231217, 41.97874163206759, 140.55464700234597, 79.19631920971054, 186.30162746694594, 82.17458878493893, 139.18113372861313, 131.21641379701813, 74.50339597789764, 1143.3398110264557, 63.898717838345014, 115.20997756958198, 321.59374649821814, 141.64736765122822, 163.36409994295235, 108.51866176288759, 187.17714140719696, 186.10386843505592, 285.5122857845463, 386.9016704384441, 426.6870962162971, 136.79682095176912, 357.17869881225727, 342.5545382145919, 436.08515414311097, 1672.5713263837831, 637.95695753833, 220.4136699723507, 479.5625428634562, 868.6639104238461, 2768.8461936083845, 956.3228310843077, 1309.600803001759, 1048.747117134641, 2737.2719390513, 629.1173946167343, 927.3587127619204, 870.688691591027, 1137.677709346226, 1488.4203816976467, 3752.0278216746137, 923.8668654420375, 1658.5208074832485, 2031.0404139270925, 608.3147060287231, 1085.1009117665076, 1187.7152971995922, 1381.2234143496328, 231.9009265219129, 190.31698864793034, 188.1823827620174, 157.5526765082041, 82.37388848037175, 68.51555093067746, 847.9803842060172, 478.4990740538991, 376.9718657786743, 355.8631893901544, 45.91237361258255, 124.60961403521986, 58.457626059137105, 112.0889733725331, 34.74050500797524, 85.07618782375009, 1316.3931180377156, 106.31658913059839, 45.154098588395584, 240.24912754217573, 438.20223191817206, 73.61487623019198, 164.84096378087938, 37.055415686850026, 290.4280739097278, 57.96709158596561, 274.1537718915695, 74.19302520877532, 84.65015028992197, 793.0416370936005, 178.71885085742713, 276.5126347698168, 857.0565963013099, 174.71227114098616, 177.336410614025, 276.421569728142, 167.76335688037088, 423.18952741296397, 182.46286865518235, 616.1565009516863, 732.2640357004683, 605.4131126548075, 601.4315322583856, 1397.1331785787795, 787.6200600251165, 383.84653630535564, 302.5651495841367, 1370.8382888368037, 819.7391675296503, 2737.2719390513, 3752.0278216746137, 928.2200018534204, 963.1894224153693, 2768.8461936083845, 963.5611138187103, 795.8943989277803, 242.24484395973457, 121.03034552046965, 259.75968602816386, 108.58647876285661, 104.50320438528317, 65.03829751333535, 104.48664041997864, 223.7085683226272, 203.98028360560406, 38.157550218864294, 296.91653572904687, 114.58533547101591, 171.91654274616238, 61.054057650709645, 99.97172081331745, 109.12497458113627, 173.30407160428095, 211.5698961802523, 93.71776126050585, 113.00595736107792, 134.1681479253779, 157.04173988975012, 845.2393386107738, 233.15124633418245, 70.7564234103144, 1487.7696811362778, 112.1169482782085, 68.6156622355965, 88.5721239593241, 68.94763896036142, 310.3163357416393, 185.31977971996713, 296.2809456513706, 107.62020137519721, 137.88930876751948, 192.11782689494444, 634.7870789570165, 388.1412476652398, 329.93435885039867, 364.21649483562726, 902.4473960578698, 486.0477856291985, 297.01534647343607, 309.4740529800478, 400.2546062450818, 1381.2234143496328, 2737.2719390513, 963.1894224153693, 2768.8461936083845, 963.5611138187103, 664.5599999478643, 1370.8382888368037, 2031.0404139270925, 78.02717936547786, 274.43208788248205, 117.391738664092, 159.11075240136773, 191.3655715129305, 88.32041963622322, 159.39129667561807, 494.43489229881504, 376.4048409696491, 176.51983016480804, 279.2929115153085, 545.2376064193102, 781.5929962215284, 66.8852581271945, 93.19403310590097, 162.7056704007312, 472.3504603656216, 120.59539912692661, 295.92737263897214, 237.16247689043902, 122.65658530584125, 99.87222565416688, 541.0433706813275, 144.8074985688704, 215.09131223532538, 123.55739167318683, 98.36635788474341, 128.82036715535384, 65.69034899308683, 341.7415262017499, 157.52855001608512, 185.67770190809568, 191.9973326800818, 682.5572240184383, 615.4219368558263, 664.5599999478643, 730.7888215029533, 297.1678382378613, 963.1894224153693, 745.8174921114495, 396.6430060426864, 260.8447637526968, 400.89326076081466, 488.2932760796245, 286.4443394343137, 1397.1331785787795, 1381.2234143496328, 332.29035137484794, 1370.8382888368037, 3752.0278216746137, 1328.2912935251802, 787.6200600251165, 2768.8461936083845, 90.09026597032424, 100.69898109413403, 90.41706714955092, 130.0471909943778, 106.82790471687815, 153.82809834092436, 113.3687027221246, 110.99430599074779, 65.35661878116312, 59.46185286483302, 81.91703707966451, 69.48012979079691, 145.62587656160937, 69.87329764812792, 58.51455266169619, 118.84577934442046, 59.9026072209622, 42.39020211640547, 109.18951057627822, 169.2192280721567, 495.1069677344523, 67.2431093025699, 60.719500925488525, 47.80893391901758, 44.66023718757577, 79.31536258444035, 41.135583701742426, 42.86702732489486, 108.72037037393677, 103.8495148650445, 132.98260740991657, 128.1125383560118, 250.5132370815843, 292.2134576418105, 229.15809757740024, 176.90712292934143, 3752.0278216746137, 135.38141542917916, 732.2640357004683, 291.2380822670003, 156.52560818076233, 707.8769067617451, 1328.2912935251802, 2737.2719390513, 177.65693146673524, 310.297046679136, 463.41833576795386, 2031.0404139270925, 442.84186026974925, 374.9644626455102, 1672.5713263837831, 1115.5566789289437, 1137.677709346226, 1048.747117134641, 2768.8461936083845, 570.4463284767447, 1309.600803001759, 1658.5208074832485, 486.9318653079447, 472.2953485355072, 1145.5420223459964, 1488.4203816976467, 1723.3546210996556, 535.8501058636082, 1187.7152971995922, 838.333656070211, 1433.8677427149478, 1471.5048609348216, 1085.1009117665076, 673.5756668151056, 741.3428383263514, 367.0342194133624, 108.25061757262434, 175.4572812573501, 347.189765589058, 281.4019275376021, 79.94154199697068, 141.30981892747852, 336.9813078129801, 796.5155906174314, 95.79466120731799, 112.83600883029065, 160.25040609161482, 77.3079649941383, 92.88277901940201, 103.30553599246625, 191.64392467601468, 160.82444912646056, 191.76293484315454, 89.16918854085404, 107.84170950508627, 74.46376220065997, 109.16670440098751, 61.62274357230823, 54.91351082624026, 158.77583170697767, 71.09352768968554, 164.18643218353068, 213.09502187874128, 62.717612292055186, 409.1006425631122, 192.78663190115273, 442.0710024002932, 136.10035339888827, 223.78801581472382, 459.99601176830737, 281.3884414631682, 390.45808795600385, 158.51568184842864, 3752.0278216746137, 795.8943989277803, 562.6999333152964, 1370.8382888368037, 727.3222372968542, 1397.1331785787795, 2768.8461936083845, 1328.2912935251802, 1488.4203816976467, 1658.5208074832485, 2737.2719390513, 928.2200018534204, 2031.0404139270925, 546.2692236415252, 69.37104760650816, 62.575448479464455, 63.21442999600163, 116.10729927833243, 246.23318520039422, 42.019902330649494, 130.04804530152174, 119.9876560741814, 59.49685300190056, 105.06050852865059, 42.37156138226159, 55.90994277446591, 82.48348121460742, 98.1782072565606, 63.70573151058153, 63.6054562896774, 89.14290638985295, 83.94340445299298, 47.53621802449804, 50.883138146222706, 57.66306246179457, 75.01731262227653, 62.551942279447495, 179.7701574566639, 111.83881592594753, 310.37913673754986, 42.9971612835734, 42.730259669561555, 296.79546352478405, 49.80040582748134, 546.2692236415252, 1487.2181026504838, 172.54061033645766, 293.26508427960977, 156.08097238849294, 1723.3546210996556, 1433.8677427149478, 1471.5048609348216, 755.6392034901472, 316.822037023362, 321.8543745699652, 1115.5566789289437, 694.6251666872434, 551.5466796289004, 2031.0404139270925, 692.169044378544, 420.6643426201214, 838.333656070211, 745.8174921114495, 1488.4203816976467, 829.6693807277114, 629.2089940658195, 527.5628811950293, 1658.5208074832485, 608.0790853973078, 2737.2719390513, 3752.0278216746137, 2768.8461936083845, 825.3515433327938, 1328.2912935251802, 1309.600803001759, 86.25909063052856, 94.97073183431887, 81.70577126277931, 66.68361347188618, 37.735662660716045, 65.21657071389484, 117.09034031969442, 258.4049595222961, 177.4488748185083, 123.74611010786708, 127.57492014331925, 102.42306338812624, 65.51398770044995, 49.36612178842724, 338.36890884119, 102.69399905606069, 101.65594285917038, 54.02716698470934, 175.5048718284115, 92.05609371338515, 169.32669132480677, 95.89830521689554, 61.324177099063775, 45.336645175119735, 344.3007484334091, 157.1506206568279, 145.3052845629022, 76.2316575632339, 61.77070215289307, 72.16476071888643, 187.5119415189643, 106.10718481126266, 265.73947493021996, 175.3550856893872, 442.0710024002932, 312.26693603978947, 3752.0278216746137, 1433.8677427149478, 1471.5048609348216, 1723.3546210996556, 1370.8382888368037, 2737.2719390513, 2031.0404139270925, 1488.4203816976467, 1309.600803001759, 2768.8461936083845, 1115.5566789289437, 81.27037125923893, 230.33620554662323, 184.65441855244708, 85.92929283746645, 99.70008349553419, 83.5587749397885, 76.0507277429585, 46.198756496940874, 84.3049604996272, 81.55272763820975, 58.01760467971053, 38.65931756211013, 234.28055300898407, 260.4672943798131, 78.50310165940017, 74.96925450979002, 69.050660933114, 169.93385748839106, 61.98715596783101, 73.01464537390954, 95.99733512850614, 58.71378573608385, 700.0804880405731, 60.04189189918921, 99.36576042918465, 45.5219979578209, 53.64057272421546, 91.62255326747159, 127.98663982092492, 62.49039047551373, 492.071260039889, 163.70716019479678, 153.32732322451741, 1433.8677427149478, 1471.5048609348216, 1723.3546210996556, 400.46375574474894, 3752.0278216746137, 2031.0404139270925, 1487.2181026504838, 292.7928416604164, 418.6215285056742, 505.0682141140412, 1658.5208074832485, 576.1308356238014, 1309.600803001759, 2737.2719390513, 838.333656070211, 2768.8461936083845, 692.169044378544, 454.75340598959286, 55.02350268356054, 58.51065223799448, 43.87807165053624, 75.98696621685946, 52.34203206809528, 152.59170237490005, 52.32817702157418, 51.838447222389625, 112.72079847077734, 190.08744082200832, 274.0025439375649, 196.56352053756194, 80.49748588502004, 347.11616847858494, 78.40365785446696, 110.78779256677939, 68.50409672035839, 129.69871817535076, 69.97993982668532, 75.74062026716064, 202.8460500524149, 108.06165283508535, 54.443131364046856, 60.46478551991163, 129.1117419316974, 58.36873332713945, 65.89121733943267, 114.38559498800646, 70.26471457813557, 372.3152135336712, 207.04650174463373, 121.45692756582432, 107.1564029224167, 119.13561154248066, 868.6639104238461, 357.17869881225727, 291.2380822670003, 267.24968460172875, 2768.8461936083845, 551.5466796289004, 576.1308356238014, 2031.0404139270925, 426.6870962162971, 535.8501058636082, 3752.0278216746137, 2737.2719390513, 927.3587127619204, 1672.5713263837831, 309.4740529800478, 1487.2181026504838, 1187.7152971995922, 564.5436763168774], \"Category\": [\"Default\", \"Default\", \"Default\", \"Default\", \"Default\", \"Default\", \"Default\", \"Default\", \"Default\", \"Default\", \"Default\", \"Default\", \"Default\", \"Default\", \"Default\", \"Default\", \"Default\", \"Default\", \"Default\", \"Default\", \"Default\", \"Default\", \"Default\", \"Default\", \"Default\", \"Default\", \"Default\", \"Default\", \"Default\", \"Default\", \"Topic1\", \"Topic1\", \"Topic1\", \"Topic1\", \"Topic1\", \"Topic1\", \"Topic1\", \"Topic1\", \"Topic1\", \"Topic1\", \"Topic1\", \"Topic1\", \"Topic1\", \"Topic1\", \"Topic1\", \"Topic1\", \"Topic1\", \"Topic1\", \"Topic1\", \"Topic1\", \"Topic1\", \"Topic1\", \"Topic1\", \"Topic1\", \"Topic1\", \"Topic1\", \"Topic1\", \"Topic1\", \"Topic1\", \"Topic1\", \"Topic1\", \"Topic1\", \"Topic1\", \"Topic1\", \"Topic1\", \"Topic1\", \"Topic1\", \"Topic1\", \"Topic1\", \"Topic1\", \"Topic1\", \"Topic1\", \"Topic1\", \"Topic1\", \"Topic1\", \"Topic1\", \"Topic1\", \"Topic1\", \"Topic1\", \"Topic1\", \"Topic1\", \"Topic1\", \"Topic1\", \"Topic1\", \"Topic1\", \"Topic1\", \"Topic1\", \"Topic1\", \"Topic1\", \"Topic1\", \"Topic1\", \"Topic1\", \"Topic1\", \"Topic1\", \"Topic1\", \"Topic1\", \"Topic2\", \"Topic2\", \"Topic2\", \"Topic2\", \"Topic2\", \"Topic2\", \"Topic2\", \"Topic2\", \"Topic2\", \"Topic2\", \"Topic2\", \"Topic2\", \"Topic2\", \"Topic2\", \"Topic2\", \"Topic2\", \"Topic2\", \"Topic2\", \"Topic2\", \"Topic2\", \"Topic2\", \"Topic2\", \"Topic2\", \"Topic2\", \"Topic2\", \"Topic2\", \"Topic2\", \"Topic2\", \"Topic2\", \"Topic2\", \"Topic2\", \"Topic2\", \"Topic2\", \"Topic2\", \"Topic2\", \"Topic2\", \"Topic2\", \"Topic2\", \"Topic2\", \"Topic2\", \"Topic2\", \"Topic2\", \"Topic2\", \"Topic2\", \"Topic2\", \"Topic2\", \"Topic2\", \"Topic2\", \"Topic2\", \"Topic2\", \"Topic2\", \"Topic2\", \"Topic2\", \"Topic2\", \"Topic2\", \"Topic2\", \"Topic3\", \"Topic3\", \"Topic3\", \"Topic3\", \"Topic3\", \"Topic3\", \"Topic3\", \"Topic3\", \"Topic3\", \"Topic3\", \"Topic3\", \"Topic3\", \"Topic3\", \"Topic3\", \"Topic3\", \"Topic3\", \"Topic3\", \"Topic3\", \"Topic3\", \"Topic3\", \"Topic3\", \"Topic3\", \"Topic3\", \"Topic3\", \"Topic3\", \"Topic3\", \"Topic3\", \"Topic3\", \"Topic3\", \"Topic3\", \"Topic3\", \"Topic3\", \"Topic3\", \"Topic3\", \"Topic3\", \"Topic3\", \"Topic3\", \"Topic3\", \"Topic3\", \"Topic3\", \"Topic3\", \"Topic3\", \"Topic3\", \"Topic3\", \"Topic3\", \"Topic3\", \"Topic3\", \"Topic3\", \"Topic3\", \"Topic3\", \"Topic3\", \"Topic3\", \"Topic3\", \"Topic4\", \"Topic4\", \"Topic4\", \"Topic4\", \"Topic4\", \"Topic4\", \"Topic4\", \"Topic4\", \"Topic4\", \"Topic4\", \"Topic4\", \"Topic4\", \"Topic4\", \"Topic4\", \"Topic4\", \"Topic4\", \"Topic4\", \"Topic4\", \"Topic4\", \"Topic4\", \"Topic4\", \"Topic4\", \"Topic4\", \"Topic4\", \"Topic4\", \"Topic4\", \"Topic4\", \"Topic4\", \"Topic4\", \"Topic4\", \"Topic4\", \"Topic4\", \"Topic4\", \"Topic4\", \"Topic4\", \"Topic4\", \"Topic4\", \"Topic4\", \"Topic4\", \"Topic4\", \"Topic4\", \"Topic4\", \"Topic4\", \"Topic4\", \"Topic4\", \"Topic4\", \"Topic4\", \"Topic4\", \"Topic4\", \"Topic4\", \"Topic4\", \"Topic4\", \"Topic4\", \"Topic5\", \"Topic5\", \"Topic5\", \"Topic5\", \"Topic5\", \"Topic5\", \"Topic5\", \"Topic5\", \"Topic5\", \"Topic5\", \"Topic5\", \"Topic5\", \"Topic5\", \"Topic5\", \"Topic5\", \"Topic5\", \"Topic5\", \"Topic5\", \"Topic5\", \"Topic5\", \"Topic5\", \"Topic5\", \"Topic5\", \"Topic5\", \"Topic5\", \"Topic5\", \"Topic5\", \"Topic5\", \"Topic5\", \"Topic5\", \"Topic5\", \"Topic5\", \"Topic5\", \"Topic5\", \"Topic5\", \"Topic5\", \"Topic5\", \"Topic5\", \"Topic5\", \"Topic5\", \"Topic5\", \"Topic5\", \"Topic5\", \"Topic5\", \"Topic5\", \"Topic5\", \"Topic5\", \"Topic5\", \"Topic5\", \"Topic5\", \"Topic5\", \"Topic5\", \"Topic5\", \"Topic5\", \"Topic5\", \"Topic5\", \"Topic5\", \"Topic5\", \"Topic5\", \"Topic5\", \"Topic5\", \"Topic5\", \"Topic5\", \"Topic5\", \"Topic5\", \"Topic5\", \"Topic5\", \"Topic5\", \"Topic5\", \"Topic5\", \"Topic6\", \"Topic6\", \"Topic6\", \"Topic6\", \"Topic6\", \"Topic6\", \"Topic6\", \"Topic6\", \"Topic6\", \"Topic6\", \"Topic6\", \"Topic6\", \"Topic6\", \"Topic6\", \"Topic6\", \"Topic6\", \"Topic6\", \"Topic6\", \"Topic6\", \"Topic6\", \"Topic6\", \"Topic6\", \"Topic6\", \"Topic6\", \"Topic6\", \"Topic6\", \"Topic6\", \"Topic6\", \"Topic6\", \"Topic6\", \"Topic6\", \"Topic6\", \"Topic6\", \"Topic6\", \"Topic6\", \"Topic6\", \"Topic6\", \"Topic6\", \"Topic6\", \"Topic6\", \"Topic6\", \"Topic6\", \"Topic6\", \"Topic6\", \"Topic6\", \"Topic6\", \"Topic6\", \"Topic6\", \"Topic6\", \"Topic6\", \"Topic6\", \"Topic6\", \"Topic6\", \"Topic7\", \"Topic7\", \"Topic7\", \"Topic7\", \"Topic7\", \"Topic7\", \"Topic7\", \"Topic7\", \"Topic7\", \"Topic7\", \"Topic7\", \"Topic7\", \"Topic7\", \"Topic7\", \"Topic7\", \"Topic7\", \"Topic7\", \"Topic7\", \"Topic7\", \"Topic7\", \"Topic7\", \"Topic7\", \"Topic7\", \"Topic7\", \"Topic7\", \"Topic7\", \"Topic7\", \"Topic7\", \"Topic7\", \"Topic7\", \"Topic7\", \"Topic7\", \"Topic7\", \"Topic7\", \"Topic7\", \"Topic7\", \"Topic7\", \"Topic7\", \"Topic7\", \"Topic7\", \"Topic7\", \"Topic7\", \"Topic7\", \"Topic7\", \"Topic7\", \"Topic7\", \"Topic7\", \"Topic7\", \"Topic7\", \"Topic7\", \"Topic7\", \"Topic7\", \"Topic7\", \"Topic7\", \"Topic7\", \"Topic7\", \"Topic7\", \"Topic7\", \"Topic7\", \"Topic7\", \"Topic7\", \"Topic8\", \"Topic8\", \"Topic8\", \"Topic8\", \"Topic8\", \"Topic8\", \"Topic8\", \"Topic8\", \"Topic8\", \"Topic8\", \"Topic8\", \"Topic8\", \"Topic8\", \"Topic8\", \"Topic8\", \"Topic8\", \"Topic8\", \"Topic8\", \"Topic8\", \"Topic8\", \"Topic8\", \"Topic8\", \"Topic8\", \"Topic8\", \"Topic8\", \"Topic8\", \"Topic8\", \"Topic8\", \"Topic8\", \"Topic8\", \"Topic8\", \"Topic8\", \"Topic8\", \"Topic8\", \"Topic8\", \"Topic8\", \"Topic8\", \"Topic8\", \"Topic8\", \"Topic8\", \"Topic8\", \"Topic8\", \"Topic8\", \"Topic8\", \"Topic8\", \"Topic8\", \"Topic8\", \"Topic9\", \"Topic9\", \"Topic9\", \"Topic9\", \"Topic9\", \"Topic9\", \"Topic9\", \"Topic9\", \"Topic9\", \"Topic9\", \"Topic9\", \"Topic9\", \"Topic9\", \"Topic9\", \"Topic9\", \"Topic9\", \"Topic9\", \"Topic9\", \"Topic9\", \"Topic9\", \"Topic9\", \"Topic9\", \"Topic9\", \"Topic9\", \"Topic9\", \"Topic9\", \"Topic9\", \"Topic9\", \"Topic9\", \"Topic9\", \"Topic9\", \"Topic9\", \"Topic9\", \"Topic9\", \"Topic9\", \"Topic9\", \"Topic9\", \"Topic9\", \"Topic9\", \"Topic9\", \"Topic9\", \"Topic9\", \"Topic9\", \"Topic9\", \"Topic9\", \"Topic9\", \"Topic9\", \"Topic9\", \"Topic9\", \"Topic9\", \"Topic9\", \"Topic10\", \"Topic10\", \"Topic10\", \"Topic10\", \"Topic10\", \"Topic10\", \"Topic10\", \"Topic10\", \"Topic10\", \"Topic10\", \"Topic10\", \"Topic10\", \"Topic10\", \"Topic10\", \"Topic10\", \"Topic10\", \"Topic10\", \"Topic10\", \"Topic10\", \"Topic10\", \"Topic10\", \"Topic10\", \"Topic10\", \"Topic10\", \"Topic10\", \"Topic10\", \"Topic10\", \"Topic10\", \"Topic10\", \"Topic10\", \"Topic10\", \"Topic10\", \"Topic10\", \"Topic10\", \"Topic10\", \"Topic10\", \"Topic10\", \"Topic10\", \"Topic10\", \"Topic10\", \"Topic10\", \"Topic10\", \"Topic10\", \"Topic10\", \"Topic10\", \"Topic10\", \"Topic10\", \"Topic10\", \"Topic10\", \"Topic10\", \"Topic10\", \"Topic10\"], \"logprob\": [30.0, 29.0, 28.0, 27.0, 26.0, 25.0, 24.0, 23.0, 22.0, 21.0, 20.0, 19.0, 18.0, 17.0, 16.0, 15.0, 14.0, 13.0, 12.0, 11.0, 10.0, 9.0, 8.0, 7.0, 6.0, 5.0, 4.0, 3.0, 2.0, 1.0, -5.6171, -6.1807, -5.8405, -6.2401, -6.6977, -5.86, -6.8263, -4.933, -7.0577, -5.229, -7.2843, -7.3623, -7.3624, -6.5255, -5.9191, -6.8465, -7.5962, -7.6366, -6.3314, -7.5299, -6.3232, -6.8969, -6.0433, -6.8648, -6.3381, -6.3984, -6.9677, -4.2369, -7.1213, -6.5382, -5.5202, -6.3322, -6.1932, -6.5984, -6.0688, -6.076, -5.7174, -5.4606, -5.3745, -6.42, -5.6001, -5.6426, -5.4625, -4.3815, -5.1758, -6.0576, -5.4954, -5.1584, -4.4125, -5.1426, -5.0169, -5.1518, -4.6619, -5.5078, -5.3675, -5.4095, -5.3374, -5.2725, -4.9482, -5.4687, -5.2855, -5.2652, -5.623, -5.5042, -5.5251, -5.5178, -5.3644, -5.5651, -5.5822, -5.7668, -6.4155, -6.6039, -4.0917, -4.6644, -4.9041, -4.9635, -7.0116, -6.0143, -6.7781, -6.132, -7.3043, -6.4108, -3.6824, -6.2008, -7.0602, -5.3889, -4.7881, -6.5792, -5.7873, -7.2832, -5.235, -6.8481, -5.2971, -6.609, -6.4799, -4.248, -5.7383, -5.3549, -4.2942, -5.8095, -5.8213, -5.4269, -5.8802, -5.1239, -5.8389, -4.8886, -4.8765, -5.0395, -5.1337, -4.7447, -5.1352, -5.4841, -5.603, -4.9654, -5.2415, -4.9486, -4.9226, -5.3076, -5.319, -5.0993, -5.3992, -5.4301, -5.2019, -5.8973, -5.1343, -6.0067, -6.0457, -6.5238, -6.0525, -5.2934, -5.3881, -7.0676, -5.0159, -5.9697, -5.5643, -6.5997, -6.1117, -6.0282, -5.5667, -5.3678, -6.1834, -5.9985, -5.828, -5.6716, -3.9885, -5.2764, -6.4692, -3.4237, -6.0177, -6.5162, -6.2706, -6.5229, -5.0416, -5.5545, -5.1339, -6.0876, -5.8842, -5.6253, -4.6783, -5.1255, -5.3655, -5.4405, -5.0071, -5.3369, -5.5697, -5.632, -5.5757, -5.29, -5.1506, -5.422, -5.2423, -5.4794, -5.5438, -5.5266, -5.5607, -6.2156, -4.9893, -5.8404, -5.5604, -5.376, -6.1521, -5.5772, -4.4615, -4.7358, -5.5132, -5.0566, -4.3972, -4.0621, -6.5308, -6.219, -5.6638, -4.599, -5.9687, -5.0838, -5.3085, -5.9765, -6.2214, -4.5546, -5.8816, -5.4908, -6.0464, -6.2761, -6.008, -6.707, -5.0639, -5.8437, -5.6828, -5.6854, -4.6714, -4.8826, -4.8334, -4.773, -5.4148, -4.7151, -4.883, -5.2633, -5.52, -5.2842, -5.2263, -5.4908, -4.8112, -4.894, -5.4429, -5.0759, -4.8241, -5.3433, -5.4001, -5.4168, -5.9234, -5.8622, -6.0129, -5.6664, -5.8823, -5.5831, -6.0452, -6.115, -6.6563, -6.7692, -6.4518, -6.6206, -5.8844, -6.6472, -6.8337, -6.1305, -6.8323, -7.1848, -6.2428, -5.8062, -4.7335, -6.7556, -6.8801, -7.122, -7.1979, -6.641, -7.3542, -7.3252, -6.4105, -6.4599, -6.2149, -6.2648, -5.6462, -5.5381, -5.7643, -5.9895, -3.4408, -6.2206, -4.8388, -5.6391, -6.1241, -5.0534, -4.6434, -4.2004, -6.0389, -5.6725, -5.4473, -4.5363, -5.4838, -5.5923, -4.7112, -4.9815, -4.9803, -5.0855, -4.6085, -5.4387, -5.1089, -5.1576, -5.5368, -5.5484, -5.3094, -5.2676, -5.238, -5.5215, -5.4233, -5.4897, -5.4448, -5.4616, -5.5294, -5.5723, -3.7279, -4.4348, -5.67, -5.1909, -4.5099, -4.7436, -6.0167, -5.458, -4.5931, -3.7433, -5.8726, -5.7106, -5.3749, -6.1142, -5.939, -5.8373, -5.2238, -5.4036, -5.2292, -6.01, -5.8254, -6.1996, -5.8192, -6.434, -6.5788, -5.519, -6.3701, -5.5336, -5.2896, -6.515, -4.6466, -5.3969, -4.6366, -5.7473, -5.3423, -4.8054, -5.2412, -5.0395, -5.647, -4.3734, -5.0255, -5.1728, -4.8806, -5.123, -4.8914, -4.6754, -5.0002, -5.1603, -5.1433, -5.0765, -5.2407, -5.2511, -5.3659, -6.3404, -6.4607, -6.453, -5.9025, -5.2089, -6.9959, -5.8662, -5.9552, -6.6573, -6.1204, -7.0298, -6.8117, -6.4478, -6.286, -6.7292, -6.7505, -6.4172, -6.478, -7.0632, -6.9991, -6.8888, -6.632, -6.8181, -5.7676, -6.2618, -5.2476, -7.2288, -7.2404, -5.3431, -7.1432, -4.7538, -3.8549, -5.9563, -5.4769, -6.0537, -4.063, -4.2258, -4.2214, -4.825, -5.5238, -5.5137, -4.6735, -5.0221, -5.1852, -4.3536, -5.0706, -5.4152, -4.9901, -5.0732, -4.6579, -5.0328, -5.2005, -5.3109, -4.8022, -5.3202, -4.7033, -4.6438, -4.9817, -5.3434, -5.3459, -5.4293, -5.192, -5.0994, -5.2532, -5.4572, -6.0266, -5.48, -4.8953, -4.1273, -4.5273, -4.8887, -4.8618, -5.1703, -5.6505, -5.939, -4.0171, -5.2194, -5.2594, -5.9344, -4.7741, -5.5467, -4.9443, -5.5267, -6.0131, -6.3398, -4.3298, -5.1393, -5.2416, -5.8989, -6.1401, -6.0106, -5.07, -5.6664, -5.0677, -5.4284, -4.9137, -5.1125, -3.786, -4.3381, -4.3608, -4.3393, -4.4581, -4.4124, -4.5881, -4.8786, -4.9167, -5.1373, -5.1895, -5.1369, -4.0976, -4.3283, -5.1135, -5.0268, -5.2117, -5.3384, -5.8558, -5.3162, -5.3589, -5.7744, -6.2454, -4.4443, -4.3445, -5.5865, -5.6377, -5.7864, -4.9507, -5.9615, -5.8213, -5.6229, -6.1466, -3.685, -6.1695, -5.6856, -6.4746, -6.3154, -5.7835, -5.4648, -6.1914, -4.3557, -5.3452, -5.4233, -3.7666, -3.7616, -3.7, -4.7509, -3.6446, -4.2308, -4.4394, -5.2044, -5.1308, -5.1618, -4.9002, -5.1729, -5.0118, -4.8728, -5.1057, -4.9159, -5.3062, -5.3259, -5.339, -5.2803, -5.6066, -5.0593, -5.4595, -4.3954, -5.4691, -5.5235, -4.7777, -4.2696, -4.0263, -4.4272, -5.3674, -3.9231, -5.4882, -5.1438, -5.6391, -5.1033, -5.73, -5.7572, -4.8017, -5.472, -6.268, -6.3183, -5.5699, -6.3802, -6.2615, -5.7201, -6.2348, -4.5973, -5.2282, -5.7296, -5.8553, -5.7694, -4.2212, -5.0496, -5.2025, -5.2643, -4.1786, -4.9868, -4.9869, -4.6218, -5.1357, -5.1401, -4.9157, -5.0296, -5.2115, -5.1558, -5.3463, -5.281, -5.3004, -5.329], \"loglift\": [30.0, 29.0, 28.0, 27.0, 26.0, 25.0, 24.0, 23.0, 22.0, 21.0, 20.0, 19.0, 18.0, 17.0, 16.0, 15.0, 14.0, 13.0, 12.0, 11.0, 10.0, 9.0, 8.0, 7.0, 6.0, 5.0, 4.0, 3.0, 2.0, 1.0, 1.4794, 1.476, 1.4755, 1.474, 1.469, 1.4682, 1.4681, 1.4675, 1.4659, 1.4657, 1.4653, 1.4652, 1.4651, 1.4641, 1.4637, 1.4612, 1.4591, 1.459, 1.459, 1.4578, 1.456, 1.456, 1.4541, 1.4511, 1.4509, 1.4496, 1.4463, 1.4462, 1.4462, 1.4398, 1.4313, 1.4393, 1.4356, 1.4395, 1.424, 1.4225, 1.3531, 1.306, 1.2942, 1.3863, 1.2465, 1.2458, 1.1844, 0.9212, 1.0907, 1.2717, 1.0566, 0.7994, 0.3861, 0.7191, 0.5305, 0.6176, 0.1482, 0.7727, 0.525, 0.5461, 0.3507, 0.1468, -0.4535, 0.4275, 0.0257, -0.1567, 0.6911, 0.2311, 0.1199, -0.0237, 1.9141, 1.911, 1.9052, 1.8982, 1.898, 1.8938, 1.8902, 1.8897, 1.8886, 1.8868, 1.8864, 1.8853, 1.8785, 1.8735, 1.8726, 1.8704, 1.8598, 1.8576, 1.8546, 1.8542, 1.8541, 1.8467, 1.8325, 1.8292, 1.8185, 1.8168, 1.814, 1.8092, 1.8064, 1.8009, 1.8007, 1.7476, 1.6771, 1.7522, 1.7255, 1.676, 1.7221, 1.5531, 1.6794, 1.4127, 1.2522, 1.2794, 1.1918, 0.738, 0.9206, 1.2905, 1.4095, 0.5362, 0.7743, -0.1385, -0.4278, 0.584, 0.5356, -0.3007, 0.455, 0.6153, 2.0329, 2.0315, 2.0308, 2.0305, 2.0299, 2.0261, 2.0232, 2.0211, 2.0187, 2.0155, 2.0154, 2.0138, 2.0135, 2.0133, 2.0082, 2.0041, 2.003, 2.0025, 2.0011, 1.9989, 1.9977, 1.9967, 1.9967, 1.9967, 1.9964, 1.9961, 1.9876, 1.9801, 1.9704, 1.9686, 1.9456, 1.9483, 1.8996, 1.9586, 1.9141, 1.8414, 1.5932, 1.638, 1.5604, 1.3866, 0.9126, 1.2016, 1.4613, 1.3579, 1.157, 0.2041, -0.3405, 0.4326, -0.4436, 0.3748, 0.6819, -0.025, -0.4522, 2.1521, 2.1208, 2.1188, 2.0948, 2.0947, 2.0918, 2.0762, 2.0599, 2.0583, 2.0381, 2.0359, 2.0264, 2.0014, 1.991, 1.9711, 1.9691, 1.968, 1.9637, 1.9509, 1.9475, 1.9389, 1.8996, 1.8767, 1.8678, 1.8629, 1.8617, 1.86, 1.8584, 1.8329, 1.8268, 1.8215, 1.818, 1.7819, 1.5276, 1.4199, 1.3923, 1.3577, 1.6157, 1.1395, 1.2273, 1.4785, 1.6409, 1.4469, 1.3076, 1.5764, 0.6715, 0.6001, 1.4759, 0.4258, -0.3294, 0.1899, 0.6557, -0.6182, 2.3006, 2.2505, 2.2075, 2.1905, 2.1712, 2.1059, 1.949, 1.9004, 1.8887, 1.8703, 1.8673, 1.8631, 1.8594, 1.8309, 1.8218, 1.8165, 1.7998, 1.7931, 1.7889, 1.7875, 1.7865, 1.7609, 1.7384, 1.7356, 1.7278, 1.7104, 1.6537, 1.6415, 1.6255, 1.622, 1.6197, 1.6071, 1.5551, 1.5093, 1.5261, 1.5597, 1.054, 1.5962, 1.2899, 1.4116, 1.5475, 1.1091, 0.8898, 0.6097, 1.506, 1.3148, 1.1389, 0.5722, 1.1478, 1.2057, 0.5914, 0.7262, 0.7078, 0.684, 0.1901, 0.9396, 0.4384, 0.1535, 0.9999, 1.0188, 0.3718, 0.1517, 0.0348, 0.9195, 0.2218, 0.5037, 0.0119, -0.0308, 0.206, 0.6399, 2.3884, 2.3846, 2.3703, 2.3665, 2.3651, 2.3414, 2.3268, 2.3159, 2.3117, 2.3013, 2.29, 2.2882, 2.2732, 2.2628, 2.2545, 2.2499, 2.2454, 2.2408, 2.2394, 2.2243, 2.2188, 2.2149, 2.2127, 2.1698, 2.1403, 2.1383, 2.0907, 2.0902, 2.0735, 2.0712, 2.0642, 2.0664, 1.9967, 2.0642, 1.9718, 1.7882, 1.8439, 1.718, 2.0119, 0.1214, 1.0198, 1.2192, 0.6211, 1.0124, 0.5913, 0.1232, 0.5329, 0.2591, 0.1678, -0.2664, 0.6509, -0.1426, 1.0558, 2.145, 2.1277, 2.1253, 2.0678, 2.0097, 1.9907, 1.9907, 1.9823, 1.9815, 1.9499, 1.9485, 1.8893, 1.8644, 1.852, 1.8413, 1.8216, 1.8174, 1.8167, 1.8001, 1.7962, 1.7813, 1.7751, 1.7707, 1.7655, 1.7459, 1.7394, 1.7349, 1.7295, 1.6886, 1.6735, 1.6679, 1.5653, 1.6179, 1.5668, 1.6207, 1.2098, 1.2308, 1.2094, 1.2722, 1.4427, 1.437, 1.0342, 1.1593, 1.2269, 0.7549, 1.1144, 1.2677, 1.0033, 1.0371, 0.7614, 0.971, 1.0799, 1.1456, 0.5089, 0.9943, 0.1068, -0.149, -0.1831, 0.6656, 0.1873, 0.118, 3.0755, 3.0719, 3.0685, 3.0676, 3.0676, 3.0671, 3.0665, 3.043, 3.0188, 3.0179, 3.0143, 2.9254, 2.892, 2.8865, 2.8835, 2.8737, 2.8438, 2.8009, 2.783, 2.6557, 2.6487, 2.6348, 2.5956, 2.5709, 2.5535, 2.5283, 2.5044, 2.4921, 2.4613, 2.4353, 2.421, 2.394, 2.0746, 2.1296, 1.7196, 1.8685, 0.7088, 1.1186, 1.0699, 0.9335, 1.0435, 0.3977, 0.5204, 0.5407, 0.6306, -0.3386, 0.5183, 3.1902, 3.1877, 3.1781, 3.1578, 3.0959, 3.0875, 3.055, 3.036, 2.9742, 2.9647, 2.8897, 2.8246, 2.824, 2.8179, 2.7752, 2.77, 2.7035, 2.6387, 2.6364, 2.6128, 2.5376, 2.5055, 2.4886, 2.4602, 2.4404, 2.4321, 2.4271, 2.4236, 2.4081, 2.3983, 2.1705, 2.2815, 2.269, 1.69, 1.6692, 1.5728, 1.9813, 0.8501, 0.8777, 0.9807, 1.841, 1.557, 1.3383, 0.4109, 1.1956, 0.5356, -0.0627, 0.8877, -0.1173, 0.8787, 1.2792, 3.378, 3.3753, 3.3368, 3.3349, 3.3075, 3.3017, 3.2982, 3.2532, 3.2222, 3.2077, 3.0854, 3.0166, 2.9692, 2.9521, 2.8748, 2.8734, 2.8589, 2.7563, 2.7466, 2.6403, 2.6107, 2.5701, 2.4596, 2.3044, 2.2942, 2.2779, 2.2753, 2.2651, 2.2377, 2.2078, 2.1637, 2.1956, 2.1952, 2.1752, 1.7367, 1.7969, 1.8482, 1.8724, 0.62, 1.4253, 1.3816, 0.4867, 1.5331, 1.3008, -0.4209, -0.2195, 0.6809, 0.1469, 1.6436, 0.1392, 0.3446, 1.0597]}, \"token.table\": {\"Topic\": [1, 2, 3, 4, 1, 2, 3, 4, 5, 6, 7, 8, 9, 10, 1, 2, 3, 4, 5, 6, 8, 9, 1, 2, 3, 5, 6, 7, 8, 10, 2, 3, 6, 2, 4, 5, 6, 7, 8, 2, 3, 4, 5, 6, 8, 9, 2, 6, 3, 6, 7, 9, 2, 3, 7, 9, 1, 2, 3, 4, 10, 3, 8, 1, 2, 3, 4, 5, 6, 7, 8, 9, 1, 2, 3, 4, 5, 10, 3, 7, 8, 1, 2, 3, 4, 5, 7, 9, 1, 2, 3, 4, 5, 6, 7, 8, 9, 2, 3, 4, 5, 3, 7, 8, 9, 1, 2, 3, 4, 5, 7, 8, 9, 1, 8, 1, 2, 3, 4, 5, 6, 7, 8, 9, 10, 1, 2, 3, 4, 5, 6, 7, 8, 9, 10, 1, 2, 5, 9, 2, 3, 4, 6, 9, 1, 4, 6, 8, 3, 4, 7, 9, 1, 2, 3, 4, 7, 9, 10, 1, 2, 3, 4, 5, 6, 7, 8, 9, 10, 1, 2, 4, 5, 6, 7, 8, 9, 1, 2, 4, 5, 6, 7, 9, 10, 1, 2, 3, 4, 5, 6, 7, 8, 9, 10, 1, 2, 3, 4, 5, 7, 9, 10, 3, 7, 1, 2, 7, 8, 10, 1, 4, 10, 1, 8, 9, 10, 1, 2, 3, 5, 10, 1, 2, 5, 10, 1, 2, 3, 4, 5, 6, 7, 8, 9, 10, 3, 7, 9, 1, 2, 3, 4, 8, 10, 1, 2, 3, 5, 7, 10, 1, 8, 1, 2, 8, 10, 1, 2, 10, 1, 2, 3, 4, 5, 6, 7, 8, 9, 10, 1, 7, 10, 1, 2, 3, 4, 5, 6, 7, 8, 10, 1, 2, 3, 4, 5, 6, 7, 9, 1, 2, 3, 4, 5, 6, 7, 8, 9, 10, 1, 6, 7, 10, 1, 6, 7, 10, 1, 2, 3, 4, 5, 6, 7, 8, 9, 10, 2, 4, 6, 8, 1, 2, 3, 4, 5, 6, 7, 8, 9, 10, 1, 2, 3, 4, 6, 7, 9, 1, 2, 3, 4, 6, 7, 8, 9, 3, 4, 5, 6, 7, 8, 9, 1, 8, 1, 2, 3, 4, 5, 6, 7, 8, 9, 10, 2, 3, 6, 7, 2, 4, 5, 9, 1, 1, 3, 5, 6, 7, 8, 1, 2, 3, 4, 5, 7, 9, 1, 2, 3, 4, 5, 6, 7, 8, 9, 10, 2, 4, 6, 10, 6, 8, 1, 2, 3, 4, 6, 8, 9, 1, 2, 3, 4, 5, 6, 7, 8, 9, 10, 2, 3, 4, 5, 6, 7, 8, 10, 1, 2, 4, 5, 6, 7, 8, 10, 1, 2, 3, 4, 5, 6, 7, 8, 9, 10, 1, 2, 3, 4, 5, 6, 7, 8, 9, 10, 2, 6, 8, 1, 2, 3, 4, 5, 6, 7, 8, 9, 1, 3, 4, 7, 9, 1, 2, 4, 5, 6, 7, 8, 9, 10, 1, 3, 4, 6, 7, 9, 1, 1, 4, 7, 8, 9, 10, 1, 10, 1, 8, 1, 9, 1, 2, 3, 4, 6, 7, 2, 4, 5, 3, 5, 7, 9, 1, 2, 3, 4, 5, 7, 9, 1, 2, 3, 4, 5, 6, 7, 8, 9, 10, 2, 3, 4, 7, 8, 10, 1, 2, 3, 4, 5, 6, 7, 1, 2, 3, 4, 5, 6, 7, 8, 9, 10, 1, 2, 3, 4, 5, 6, 8, 9, 2, 3, 4, 6, 7, 8, 9, 10, 1, 2, 3, 4, 5, 6, 7, 8, 9, 10, 1, 2, 3, 4, 5, 6, 1, 2, 6, 7, 10, 1, 2, 8, 9, 1, 2, 5, 8, 9, 1, 2, 3, 4, 5, 7, 9, 2, 3, 4, 6, 8, 2, 4, 5, 10, 1, 1, 2, 3, 4, 5, 6, 7, 8, 9, 10, 1, 2, 3, 4, 5, 6, 7, 8, 9, 10, 4, 6, 7, 8, 2, 3, 4, 5, 7, 8, 2, 4, 5, 10, 2, 4, 5, 7, 1, 2, 4, 5, 10, 3, 8, 10, 1, 5, 7, 8, 9, 10, 1, 2, 3, 4, 5, 6, 7, 8, 1, 2, 3, 4, 5, 7, 1, 2, 3, 4, 5, 6, 7, 8, 9, 10, 2, 3, 4, 1, 7, 10, 1, 2, 3, 4, 6, 7, 2, 10, 1, 2, 3, 4, 5, 6, 7, 8, 10, 2, 7, 1, 2, 3, 4, 6, 8, 9, 10, 1, 2, 3, 4, 5, 6, 7, 8, 9, 10, 2, 3, 4, 5, 10, 3, 5, 7, 8, 9, 2, 3, 4, 5, 7, 9, 3, 4, 9, 2, 3, 4, 6, 7, 2, 3, 4, 5, 6, 7, 8, 9, 1, 3, 4, 5, 7, 8, 9, 1, 2, 3, 4, 5, 6, 7, 8, 9, 10, 2, 7, 2, 3, 4, 5, 6, 7, 8, 9, 1, 2, 3, 4, 8, 10, 1, 2, 3, 4, 5, 6, 7, 8, 9, 2, 3, 4, 5, 6, 8, 9, 2, 3, 4, 5, 6, 7, 8, 1, 2, 3, 4, 6, 8, 10, 3, 5, 9, 1, 2, 3, 4, 5, 6, 7, 8, 9, 10, 2, 4, 5, 6, 9, 6, 9, 1, 2, 3, 4, 5, 6, 7, 8, 9, 2, 4, 2, 4, 9, 1, 2, 4, 5, 9, 10, 1, 2, 4, 2, 3, 4, 6, 7, 8, 10, 1, 2, 3, 4, 5, 6, 7, 8, 9, 10, 1, 2, 5, 8, 1, 2, 3, 4, 6, 7, 8, 10, 2, 4, 5, 9, 1, 2, 3, 4, 5, 6, 7, 8, 9, 10, 1, 2, 3, 5, 6, 7, 9, 10, 1, 2, 3, 4, 5, 6, 7, 8, 9, 10, 1, 2, 3, 4, 6, 9, 1, 2, 3, 4, 5, 6, 7, 8, 9, 1, 5, 9, 1, 2, 3, 4, 5, 6, 7, 8, 9, 10, 1, 7, 1, 3, 6, 8, 10, 1, 2, 3, 4, 5, 6, 7, 8, 9, 1, 2, 3, 4, 5, 6, 7, 8, 9, 10, 1, 2, 3, 4, 5, 6, 7, 8, 9, 10, 3, 5, 9, 2, 3, 4, 6, 8, 9, 1, 2, 3, 4, 6, 7, 8, 9, 2, 3, 4, 7, 2, 3, 4, 5, 9, 10, 1, 3, 6, 7, 10, 1, 3, 4, 5, 6, 7, 9, 1, 5, 7, 9, 2, 3, 4, 6, 7, 10, 3, 2, 3, 4, 9, 10, 2, 4, 6, 8, 10, 1, 2, 3, 4, 5, 6, 7, 8, 9, 10, 2, 3, 4, 7, 9, 1, 2, 3, 8, 10, 1, 4, 5, 6, 7, 8, 9, 10, 1, 2, 3, 4, 5, 6, 7, 8, 9, 10, 1, 2, 3, 4, 5, 6, 7, 8, 9, 10, 2, 3, 4, 5, 6, 7, 8, 9, 1, 2, 3, 4, 5, 6, 8, 9, 1, 2, 3, 5, 3, 4, 5, 6, 7, 8, 9, 3, 9, 1, 1, 2, 3, 4, 5, 6, 7, 8, 9, 10, 2, 7, 1, 2, 5, 7, 1, 2, 3, 4, 5, 6, 7, 8, 9, 4, 6, 7, 8, 1, 2, 3, 4, 5, 6, 7, 8, 9, 10, 3, 1, 2, 3, 4, 5, 6, 7, 8, 9, 10, 1, 2, 3, 4, 5, 6, 7, 8, 9, 10, 1, 2, 3, 4, 5, 6, 7, 8, 9, 10, 1, 2, 3, 4, 5, 6, 7, 8, 9, 10, 1, 7, 10, 1, 2, 3, 4, 5, 6, 7, 8, 9, 10, 1, 8, 10, 2, 6, 8, 10, 2, 3, 7, 8, 10, 1, 2, 3, 4, 5, 6, 7, 8, 2, 3, 4, 6, 7, 8, 9, 1, 2, 3, 4, 5, 6, 7, 8, 9, 10, 4, 5, 6, 7, 9, 2, 3, 4, 5, 7, 9, 6, 7, 8, 9, 1, 5, 6, 7, 9, 1, 7, 9, 1, 6, 7, 9, 1, 1, 2, 3, 4, 6, 7, 9, 1, 6, 7, 10, 3, 4, 7, 9, 1, 7, 1, 6, 1, 2, 3, 4, 5, 6, 7, 8, 9, 10, 1, 3, 4, 6, 7, 8, 10, 3, 4, 7, 8, 9, 3, 5, 3, 7, 1, 3, 4, 5, 6, 7, 8, 9, 3, 7, 9, 1, 2, 3, 8, 9, 1, 2, 3, 4, 5, 6, 7, 8, 9, 10, 2, 4, 5, 7, 9, 1, 2, 3, 4, 5, 6, 7, 8, 9, 10, 1, 8, 9, 1, 2, 3, 4, 5, 6, 7, 8, 9, 10, 1, 1, 2, 3, 4, 5, 7, 8, 9, 1, 3, 6, 8, 9, 1, 2, 3, 4, 5, 6, 8, 9, 10, 1, 2, 3, 4, 5, 7, 8, 10, 1, 2, 3, 4, 7, 1, 2, 3, 4, 5, 6, 7, 8, 9, 10, 1, 2, 3, 4, 5, 6, 7, 8, 9, 10, 1, 2, 3, 4, 5, 6, 7, 8, 9, 1, 4, 6, 8, 1, 2, 3, 4, 5, 6, 7, 8, 9, 10, 2, 3, 5, 6, 7, 9, 1, 3, 2, 3, 4, 5, 6, 7, 8, 1, 2, 3, 4, 5, 6, 7, 8, 9, 10, 1, 8, 10, 2, 4, 8, 9, 1, 2, 3, 4, 5, 6, 7, 8, 9, 10, 1, 2, 3, 4, 5, 6, 7, 8, 9, 10, 2, 3, 4, 5, 6, 7, 8, 3, 7, 8, 1, 2, 3, 4, 7, 8, 9, 1, 3, 5, 6, 9, 1, 2, 3, 4, 5, 7, 8, 9, 10, 1, 8, 10, 1, 2, 3, 4, 5, 6, 7, 8, 9, 10, 1, 2, 3, 4, 5, 9, 3, 4, 6, 8, 2, 4, 5, 6, 7, 9, 1, 3, 5, 9, 3, 9, 2, 3, 4, 6, 7, 9, 1, 2, 3, 4, 5, 6, 7, 8, 9, 2, 3, 4, 5, 6, 7, 8, 9, 1, 2, 3, 5, 7, 8, 10, 1, 4, 6, 8, 10, 1, 8, 10, 6, 8, 9, 4, 6, 7, 8, 1, 9, 1, 4, 5, 8, 1, 9, 1, 5, 7, 2, 3, 4, 5, 7, 8, 9, 1, 2, 3, 4, 7, 8, 9, 10, 1, 2, 3, 4, 5, 6, 7, 8, 9, 10, 1, 2, 3, 4, 5, 6, 7, 8, 9, 10, 1, 2, 3, 4, 5, 6, 7, 8, 9, 10, 1, 2, 3, 4, 5, 6, 7, 8, 9, 10, 1, 3, 7, 2, 4, 1, 2, 3, 4, 5, 6, 7, 8, 9, 10, 1, 2, 4, 5, 7, 9, 10, 3, 8, 9, 1, 3, 5, 6, 9, 1, 10, 1, 3, 4, 8, 10, 1, 2, 3, 4, 7, 1, 2, 3, 4, 5, 6, 7, 8, 9, 10, 1, 2, 3, 4, 9, 3, 7, 9, 1, 3, 8, 2, 3, 4, 7, 2, 4, 6, 7, 2, 3, 5, 8, 10, 3, 7, 8, 2, 3, 4, 5, 9, 1, 2, 3, 4, 5, 6, 7, 8, 9, 10, 1, 2, 4, 5, 1, 2, 3, 4, 5, 6, 7, 8, 9, 2, 4, 5, 1, 2, 6, 7, 8, 10, 1, 2, 3, 5, 7, 1, 2, 3, 4, 5, 6, 7, 8, 9, 10, 1, 2, 3, 4, 5, 7, 8, 10, 1, 2, 5, 7, 1, 2, 3, 4, 5, 8, 9, 10, 2, 4, 6, 2, 3, 6, 8, 1, 2, 3, 4, 5, 6, 7, 8, 9, 10, 1, 2, 3, 4, 5, 6, 7, 8, 9, 10, 9, 3, 4, 5, 6, 7, 8, 10, 1, 2, 4, 5, 10, 1, 2, 3, 4, 5, 6, 7, 8, 9, 10, 2, 3, 4, 1, 2, 3, 4, 5, 6, 7, 8, 9, 10, 1, 2, 3, 4, 5, 7, 9, 3, 7, 1, 2, 4, 5, 4, 5, 6, 8, 10, 5, 6, 8, 10, 2, 3, 4, 7, 10, 1, 2, 3, 4, 5, 6, 7, 8, 9, 10, 8, 1, 2, 3, 4, 5, 6, 7, 8, 9, 10, 1, 2, 3, 7, 10, 1, 5, 7, 8, 10, 1, 1, 1, 2, 3, 4, 5, 6, 7, 8, 9, 10, 1, 2, 3, 4, 5, 9, 10, 1, 2, 3, 4, 5, 6, 7, 8, 9, 10, 2, 5, 7, 9, 1, 2, 3, 4, 5, 7, 8, 1, 4, 6, 7, 9, 1, 2, 3, 4, 5, 6, 7, 8, 9, 10, 1, 5, 7, 9, 1, 2, 4, 5, 6, 7, 8, 9, 10, 3, 8, 9, 3, 6, 8, 1, 2, 3, 4, 5, 6, 9, 1, 7, 10, 2, 4, 6, 7, 10, 2, 4, 1, 3, 5, 8, 4, 7, 8, 9, 1, 2, 3, 4, 5, 6, 7, 8, 9, 10, 1, 3, 4, 5, 3, 1, 2, 3, 4, 5, 6, 7, 8, 9, 10, 4, 8, 2, 3, 4, 5, 7, 8, 9, 10, 1, 2, 3, 4, 5, 6, 7, 8, 9, 10, 2, 4, 5, 6, 7, 8, 9, 2, 4, 6, 10, 2, 3, 4, 5, 6, 7, 1, 2, 4, 5, 7, 9, 10, 1, 2, 4, 5, 10, 1, 2, 3, 4, 5, 10, 1, 2, 3, 4, 5, 6, 7, 8, 9, 10, 1, 2, 3, 4, 5, 6, 7, 8, 9, 10, 1, 2, 3, 4, 5, 7, 8, 10, 2, 3, 4, 6, 7, 2, 3, 4, 6, 8, 9, 1, 4, 5, 6, 8, 10, 3, 9, 1, 5, 6, 7, 8, 10, 1, 3, 4, 7, 8, 2, 3, 4, 5, 6, 7, 10, 1, 2, 3, 4, 5, 6, 7, 8, 9, 10, 3, 7, 1, 6, 8, 1, 3, 5, 7, 9, 1, 2, 3, 4, 5, 6, 7, 8, 9, 3, 9, 1, 2, 3, 4, 5, 6, 7, 8, 9, 10, 3, 1, 2, 3, 7, 9, 2, 3, 4, 5, 6, 7, 9, 1, 2, 3, 4, 5, 6, 7, 8, 9, 10, 2, 3, 4, 5, 6, 7, 8, 9, 2, 5, 1, 2, 3, 4, 5, 7, 8, 9, 10, 2, 5, 1, 2, 3, 4, 5, 7, 8, 9, 10, 1, 2, 3, 4, 6, 7, 8, 9, 10, 1, 2, 3, 4, 5, 6, 7, 8, 9, 10, 2, 4, 5, 6, 8, 9, 10, 1, 2, 3, 4, 5, 6, 7, 8, 9, 10, 1, 2, 3, 4, 5, 6, 8, 9, 2, 5, 7, 9, 1, 2, 3, 4, 5, 6, 7, 8, 9, 1, 4, 8, 9, 10, 1, 2, 3, 4, 5, 6, 7, 8, 9, 1, 2, 3, 4, 5, 6, 7, 8, 9, 10, 2, 4, 5, 6, 1, 2, 3, 4, 5, 6, 7, 8, 9, 10, 1, 2, 3, 4, 5, 6, 7, 8, 9, 10, 1, 2, 3, 4, 5, 6, 7, 8, 9, 4, 7, 1, 2, 3, 4, 5, 6, 7, 8, 9, 10, 2, 7, 2, 3, 4, 8, 1, 1, 2, 3, 4, 5, 8, 10, 1, 2, 3, 4, 5, 6, 7, 8, 9, 10, 1, 2, 3, 4, 5, 6, 7, 9, 10, 1, 2, 3, 4, 5, 6, 7, 8, 9, 10, 1, 2, 3, 4, 5, 6, 7, 8, 9, 1, 2, 3, 4, 7, 8, 10, 1, 5, 6, 7, 9, 1, 2, 3, 6, 7, 8, 9, 10, 4, 6, 7, 9, 1, 2, 3, 4, 5, 6, 7, 8, 9, 1, 2, 3, 4, 5, 6, 7, 8, 9, 10, 1, 2, 3, 4, 5, 6, 7, 8, 9, 10, 2, 3, 4, 10, 1, 2, 3, 4, 5, 6, 7, 8, 9, 1, 2, 3, 4, 5, 6, 7, 8, 9, 10, 1, 2, 3, 4, 5, 6, 7, 8, 9, 10, 1, 2, 3, 4, 5, 6, 7, 8, 9, 3, 1, 2, 3, 4, 5, 6, 7, 8, 9, 10, 3, 4, 6, 8, 9, 1, 2, 3, 4, 5, 6, 7, 8, 10, 1, 2, 3, 4, 7, 8, 9, 10, 2, 3, 4, 5, 7, 8, 1, 2, 3, 4, 7, 9, 3, 7, 9, 1, 2, 3, 4, 5, 6, 7, 8, 9, 10, 4, 5, 6, 7, 8, 10, 1, 2, 3, 4, 8, 10, 1, 2, 3, 4, 5, 6, 7, 8, 1, 3, 4, 5, 7, 8, 9, 6, 7, 8, 2, 4, 5, 7, 1, 3, 9, 1, 2, 3, 4, 5, 6, 7, 8, 9, 10, 1, 2, 4, 5, 1, 2, 3, 4, 5, 7, 8, 9, 1, 2, 3, 4, 5, 6, 7, 8, 9, 10, 1, 2, 3, 4, 5, 6, 8, 10, 1, 2, 3, 4, 5, 6, 7, 8, 9, 10, 1, 3, 4, 6, 7, 8, 9, 2, 4, 5, 2, 3, 4, 5, 6, 7, 8, 9, 1, 2, 3, 4, 5, 6, 7, 8, 9, 10, 1, 2, 3, 4, 5, 6, 7, 8, 9, 10, 1, 2, 3, 4, 5, 6, 7, 8, 9, 10, 1, 4, 6, 8, 1, 2, 3, 4, 5, 6, 7, 8, 9, 1, 2, 3, 4, 5, 6, 7, 8, 9, 10, 3, 3], \"Freq\": [0.006273868277984648, 0.06901255105783112, 0.037643209667907886, 0.8783415589178507, 0.0574634236336977, 0.17488868062429735, 0.4122376043287009, 0.0624602430801062, 0.019987277785633983, 0.08244752086574018, 0.08244752086574018, 0.01249204861602124, 0.052466604187289205, 0.03747614584806372, 0.0577759078393113, 0.12518113365184116, 0.15406908757149682, 0.02888795391965565, 0.47183658068770895, 0.009629317973218551, 0.07703454378574841, 0.0577759078393113, 0.045131326152077246, 0.13539397845623174, 0.08123638707373905, 0.00902626523041545, 0.09026265230415449, 0.027078795691246348, 0.00902626523041545, 0.5867072399770042, 0.9175446927199278, 0.026986608609409643, 0.026986608609409643, 0.00776274763131227, 0.7064100344494166, 0.06210198105049816, 0.06986472868181043, 0.03105099052524908, 0.11644121446968406, 0.0062179600516689675, 0.0062179600516689675, 0.04352572036168277, 0.0062179600516689675, 0.8580784871303175, 0.06839756056835865, 0.012435920103337935, 0.9498998357227197, 0.028784843506749085, 0.2841047670733405, 0.0038392536090991955, 0.02687477526369437, 0.6795478888105576, 0.012738350190782014, 0.25476700381564027, 0.07643010114469208, 0.6496558597298827, 0.4224945595524051, 0.039608864958037976, 0.05281181994405064, 0.01320295498601266, 0.46210342451044306, 0.16205445577204358, 0.8102722788602179, 0.009998850303044463, 0.27711099411294654, 0.041423808398327065, 0.0942748742858478, 0.011427257489193673, 0.05999310181826678, 0.011427257489193673, 0.004285221558447627, 0.4885152576630295, 0.23878126908374225, 0.11020673957711181, 0.07347115971807454, 0.14694231943614908, 0.018367789929518635, 0.38572358851989136, 0.19851490919180548, 0.19851490919180548, 0.5955447275754164, 0.005480567127823669, 0.7782405321509609, 0.06028623840606035, 0.021922268511294675, 0.10413077542864971, 0.005480567127823669, 0.021922268511294675, 0.028978685019427596, 0.017387211011656557, 0.005795737003885519, 0.12750621408548143, 0.011591474007771038, 0.31876553521370354, 0.4288845382875284, 0.04636589603108415, 0.023182948015542076, 0.8356596766015568, 0.08585544622618735, 0.02861848207539578, 0.03434217849047494, 0.38816264132488915, 0.0063633219889326085, 0.5663356570150022, 0.031816609944663045, 0.00472601487146048, 0.6852721563617695, 0.00236300743573024, 0.13232841640089343, 0.047260148714604794, 0.09688330486493983, 0.021267066921572157, 0.007089022307190719, 0.9742217883337456, 0.9854033862248607, 0.2215427256886491, 0.1230792920492495, 0.15927908382844053, 0.2005468464567183, 0.05502368350437036, 0.1020834128173187, 0.07601956273630116, 0.02533985424543372, 0.02171987506751462, 0.015203912547260232, 0.3235988023726004, 0.15938448475068379, 0.028978997227397052, 0.08210715881095831, 0.009659665742465684, 0.033808830098629894, 0.05312816158356126, 0.014489498613698526, 0.004829832871232842, 0.2897899722739705, 0.05529929423313344, 0.05529929423313344, 0.8405492723436283, 0.03317957653988007, 0.016584380618824446, 0.016584380618824446, 0.7877580793941611, 0.09121409340353445, 0.08292190309412223, 0.43710042235185176, 0.016188904531550065, 0.016188904531550065, 0.5342338495411522, 0.01016607732057852, 0.7116254124404964, 0.2643180103350415, 0.01016607732057852, 0.0033651017079431474, 0.3533356793340305, 0.06057183074297665, 0.5552417818106193, 0.020190610247658884, 0.0033651017079431474, 0.0033651017079431474, 0.15615918212684238, 0.0926368029566014, 0.0463184014783007, 0.04499501857892068, 0.054258698874580825, 0.16012933082498243, 0.3030546839580246, 0.062198996270860944, 0.07543282526466115, 0.00529353159752008, 0.09530230578722688, 0.035738364670210084, 0.14295345868084033, 0.01191278822340336, 0.16677903512764705, 0.5241626818297479, 0.01191278822340336, 0.02382557644680672, 0.8756190624618353, 0.003502476249847341, 0.010507428749542023, 0.024517333748931388, 0.007004952499694682, 0.021014857499084046, 0.010507428749542023, 0.045532191248015434, 0.19349688824759514, 0.048251132438331616, 0.0827162270371399, 0.023140849230628428, 0.16494009558001113, 0.07926971757725908, 0.18069556739660922, 0.07631556661164694, 0.0974869818652006, 0.05415943436955589, 0.19986045776419056, 0.0832751907350794, 0.18320541961717468, 0.01665503814701588, 0.03331007629403176, 0.01665503814701588, 0.4663410681164446, 0.01665503814701588, 0.9702743857048665, 0.02000565743721374, 0.7867210472920759, 0.0027997190295091672, 0.0027997190295091672, 0.0027997190295091672, 0.20157977012466002, 0.9530710117564929, 0.007059785272270317, 0.021179355816810953, 0.78819565902484, 0.19558929316542326, 0.0029192431815734813, 0.011676972726293925, 0.16191370504994743, 0.1773340579118472, 0.03855088215474939, 0.10023229360234841, 0.5242919973045918, 0.11385515543657213, 0.49811630503500304, 0.05692757771828606, 0.3131016774505733, 0.020511100765408952, 0.22855226567169976, 0.12013644734025243, 0.5083822832569219, 0.023441258017610232, 0.03662696565251598, 0.03809204427861663, 0.008790471756603836, 0.008790471756603836, 0.008790471756603836, 0.9454413594719879, 0.03567703243290521, 0.008919258108226302, 0.4196897917644994, 0.09233175418818987, 0.08393795835289988, 0.10072555002347985, 0.008393795835289987, 0.2937828542351496, 0.14995320217845579, 0.017641553197465385, 0.008820776598732693, 0.6527374683062193, 0.09702854258605963, 0.07056621278986154, 0.015333526265694052, 0.9660121547387253, 0.9402857564595375, 0.010685065414312925, 0.005342532707156462, 0.03739772895009524, 0.9547784169436595, 0.017359607580793808, 0.017359607580793808, 0.6740266642113776, 0.028215069664662314, 0.03448508514569838, 0.009405023221554105, 0.0987527438263181, 0.059565147069842665, 0.021945054183626245, 0.010972527091813122, 0.01724254257284919, 0.045457612237511505, 0.03948045499590403, 0.013160151665301345, 0.9343707682363954, 0.06015824291473049, 0.10527692510077837, 0.015039560728682623, 0.25567253238760457, 0.4662263825891613, 0.007519780364341312, 0.037598901821706554, 0.04511868218604787, 0.007519780364341312, 0.08408752433876988, 0.033635009735507954, 0.016817504867753977, 0.20181005841304772, 0.6054301752391431, 0.016817504867753977, 0.016817504867753977, 0.033635009735507954, 0.20016166107327593, 0.058454290401930134, 0.1363933442711703, 0.09210979093637477, 0.16473481840543946, 0.13107931787099486, 0.03011281626766098, 0.021256105600701868, 0.06908234320228107, 0.09565247520315841, 0.9813002167257374, 0.002405147590014062, 0.002405147590014062, 0.01202573795007031, 0.9583605097088201, 0.009215004901046348, 0.009215004901046348, 0.018430009802092695, 0.17418458631290662, 0.10587690540588442, 0.08538460113377776, 0.01366153618140444, 0.2015076586757155, 0.03073845640815999, 0.08196921708842664, 0.00341538404535111, 0.25615380340133326, 0.05123076068026665, 0.031201168982632782, 0.031201168982632782, 0.886113199106771, 0.03744140277915934, 0.0477450275453542, 0.2688798919659421, 0.0238725137726771, 0.15579956356905056, 0.049001475638653, 0.25254606675305774, 0.11433677649019033, 0.04397568326545782, 0.017590273306183127, 0.026385409959274693, 0.030669582493841763, 0.3335317096205292, 0.0038336978117302204, 0.5673872761360726, 0.04983807155249286, 0.011501093435190662, 0.0038336978117302204, 0.004468514528623862, 0.07596474698660566, 0.06702771792935792, 0.04021663075761476, 0.6568716357077077, 0.10277583415834883, 0.0357481162289909, 0.013405543585871586, 0.018210454675976626, 0.0728418187039065, 0.03642090935195325, 0.7830495510669949, 0.018210454675976626, 0.03642090935195325, 0.018210454675976626, 0.014996187937859728, 0.9747522159608824, 0.4262355346769491, 0.010229652832246777, 0.06137791699348066, 0.05455814843864948, 0.010229652832246777, 0.020459305664493554, 0.4057762290124555, 0.0034098842774155924, 0.0034098842774155924, 0.006819768554831185, 0.07307296577677393, 0.010438995110967703, 0.8977535795432225, 0.010438995110967703, 0.12303226142494468, 0.03075806535623617, 0.8304677646183767, 0.0076895163390590425, 0.9766848267952861, 0.005935047296777576, 0.03264276013227667, 0.005935047296777576, 0.9199323310005244, 0.002967523648388788, 0.026707712835499095, 0.11499715739301167, 0.23638304575230176, 0.1724957360895175, 0.019166192898835276, 0.43443370570693296, 0.006388730966278426, 0.006388730966278426, 0.030546596755699134, 0.14836918424196724, 0.004363799536528448, 0.026182797219170686, 0.4276523545797879, 0.20509857821683705, 0.021818997682642238, 0.1003673893401543, 0.021818997682642238, 0.013091398609585343, 0.0188547911107371, 0.8924601125748894, 0.0691342340727027, 0.0125698607404914, 0.9381855556756968, 0.0500365629693705, 0.003869894764592227, 0.01160968429377668, 0.015479579058368907, 0.015479579058368907, 0.003869894764592227, 0.9481242173250956, 0.003869894764592227, 0.22964474212641103, 0.05784943885627148, 0.043825332466872334, 0.09641573142711914, 0.2384098086197855, 0.17705434316616422, 0.04733135906422212, 0.04908437236289701, 0.04207231916819744, 0.017530132986748933, 0.00904832024331245, 0.0022620800608281126, 0.027144960729937353, 0.013572480364968676, 0.6718377780659495, 0.022620800608281127, 0.2533529668127486, 0.004524160121656225, 0.012181274502416633, 0.024362549004833266, 0.04263446075845822, 0.01827191175362495, 0.7369671073962063, 0.006090637251208317, 0.12181274502416634, 0.030453186256041584, 0.2364107026573525, 0.19138009262738062, 0.03940178377622542, 0.03940178377622542, 0.41653314277724013, 0.005628826253746488, 0.005628826253746488, 0.011257652507492976, 0.028144131268732442, 0.028144131268732442, 0.30490930867652616, 0.1465148626107983, 0.05939791727464795, 0.06929757015375594, 0.1286954874284039, 0.03563875036478877, 0.03761868094061037, 0.03959861151643197, 0.15443458491408468, 0.021779236334037583, 0.00854041415602412, 0.00854041415602412, 0.9736072137867496, 0.02471057771302133, 0.13178974780278044, 0.5189221319734479, 0.08511421212262903, 0.021964957967130074, 0.016473718475347555, 0.11531602932743289, 0.0604036344096077, 0.02471057771302133, 0.9715427742686437, 0.01073527927368667, 0.005367639636843335, 0.005367639636843335, 0.005367639636843335, 0.0011667840890736652, 0.7770782033230611, 0.004667136356294661, 0.08634202259145123, 0.11317805664014553, 0.0011667840890736652, 0.0070007045344419915, 0.0070007045344419915, 0.0023335681781473305, 0.1562543374763514, 0.01041695583175676, 0.07291869082229731, 0.052084779158783796, 0.19792216080337843, 0.5104308357560812, 0.9882285741831545, 0.8273041372243807, 0.002343637782505328, 0.007030913347515984, 0.002343637782505328, 0.009374551130021311, 0.15468009364535162, 0.9699590482086038, 0.02155464551574675, 0.9834728910198574, 0.009064266276680713, 0.9678667197570221, 0.022862993380087137, 0.028830471342231347, 0.043245707013347026, 0.07207617835557838, 0.10090664969780971, 0.014415235671115674, 0.7207617835557837, 0.505884957996657, 0.009197908327211946, 0.46909332468780923, 0.07021057309659673, 0.020060163741884778, 0.010030081870942389, 0.8926772865138727, 0.003782903519409938, 0.8788945843429089, 0.003782903519409938, 0.006304839199016563, 0.09709452366485508, 0.0012609678398033126, 0.008826774878623189, 0.07167823460729501, 0.13926057009417317, 0.006143848680625287, 0.4075419624814774, 0.18431546041875863, 0.002047949560208429, 0.10034952845021303, 0.006143848680625287, 0.05734258768583601, 0.026623344282709578, 0.004649188242926, 0.037193505943408, 0.711325801167678, 0.125528082559002, 0.11158051783022399, 0.004649188242926, 0.061515726602823374, 0.05382626077747045, 0.09227358990423506, 0.023068397476058766, 0.030757863301411687, 0.09996305572958798, 0.6228467318535866, 0.14392217373243943, 0.09461550310188148, 0.030650092554130617, 0.07915719555284169, 0.26678906649291084, 0.1028777019642993, 0.07329369958596452, 0.09195027766239185, 0.09488202564583044, 0.021854848603814876, 0.006610146617179531, 0.5949131955461578, 0.07271161278897484, 0.026440586468718125, 0.0859319060233339, 0.009915219925769297, 0.006610146617179531, 0.19830439851538595, 0.04392969762841048, 0.0033792075098777294, 0.773838519762, 0.023654452569144106, 0.07434256521731004, 0.0033792075098777294, 0.040550490118532755, 0.030412867588899564, 0.02772188601178275, 0.19646380086611254, 0.044596077497215725, 0.18802670512339603, 0.08075505925171497, 0.1687419148543298, 0.22418568687789528, 0.04339077810539909, 0.020490089660882903, 0.0048211975672665655, 0.3293834714574293, 0.06587669429148585, 0.032938347145742924, 0.016469173572871462, 0.5270135543318868, 0.016469173572871462, 0.9064538133069558, 0.021930334192910222, 0.014620222795273483, 0.021930334192910222, 0.021930334192910222, 0.17236147640368069, 0.06894459056147227, 0.017236147640368068, 0.7239182008954589, 0.08635562452266372, 0.01439260408711062, 0.604489371658646, 0.2158890613066593, 0.07196302043555311, 0.004216518620953541, 0.04638170483048895, 0.1433616331124204, 0.771622907634498, 0.021082593104767705, 0.008433037241907082, 0.004216518620953541, 0.005760538466929486, 0.008640807700394229, 0.002880269233464743, 0.9706507316776184, 0.011521076933858973, 0.940333623854112, 0.0117541702981764, 0.0235083405963528, 0.0117541702981764, 0.9818659619208119, 0.013467317589792435, 0.08753756433365083, 0.5588936799763861, 0.06733658794896218, 0.03366829397448109, 0.15824098168006112, 0.010100488192344326, 0.05386927035916974, 0.013467317589792435, 0.0033668293974481087, 0.23395038747784497, 0.1492743143981772, 0.09689736197776415, 0.05412285083442682, 0.13443417787906017, 0.0995162095987848, 0.09515146356375037, 0.06896298735354385, 0.0331720698662616, 0.034045019073268484, 0.03872009337710331, 0.8615220776405487, 0.02904007003282748, 0.04840011672137914, 0.014311618796580335, 0.07155809398290168, 0.08586971277948201, 0.5867763706597937, 0.07155809398290168, 0.17173942555896402, 0.6833698304694695, 0.00823337145143939, 0.00823337145143939, 0.2964013722518181, 0.8354048638402948, 0.028931770176287265, 0.1301929657932927, 0.003616471272035908, 0.02238152260273315, 0.8784747621572762, 0.011190761301366575, 0.016786141952049864, 0.06154918715751616, 0.15081511336532288, 0.0088714772567837, 0.8339188621376677, 0.005415521642207395, 0.005415521642207395, 0.01083104328441479, 0.005415521642207395, 0.9747938955973312, 0.9813988089881029, 0.21459454663657435, 0.09835583387509657, 0.008941439443190598, 0.053648636659143586, 0.026824318329571793, 0.08047295498871537, 0.4828377299322923, 0.03576575777276239, 0.033615223311661745, 0.05042283496749262, 0.21849895152580137, 0.05042283496749262, 0.016807611655830872, 0.6218816312657424, 0.008305739051762604, 0.2481339541714078, 0.20037595462377283, 0.34468817064814805, 0.021802565010876837, 0.1463886507873159, 0.015573260722054883, 0.0031146521444109765, 0.011420391196173581, 0.0010382173814703255, 0.27401285388047336, 0.015222936326692964, 0.6850321347011833, 0.057330489437137123, 0.019110163145712376, 0.8981776678484816, 0.021460601428498125, 0.021460601428498125, 0.1180333078567397, 0.7940422528544306, 0.010730300714249063, 0.03219090214274719, 0.9632849638292679, 0.014595226724685877, 0.31472494420101293, 0.00874235956113925, 0.0174847191222785, 0.10490831473367099, 0.00874235956113925, 0.069938876489114, 0.10490831473367099, 0.052454157366835494, 0.3234673037621522, 0.9711815415762799, 0.012139769269703499, 0.24807828012654337, 0.0661542080337449, 0.11576986405905357, 0.0661542080337449, 0.0661542080337449, 0.09923131205061735, 0.016538552008436225, 0.3307710401687245, 0.09610396302929411, 0.06406930868619608, 0.05125544694895686, 0.13454554824101175, 0.04484851608033725, 0.05125544694895686, 0.4292643681975137, 0.02562772347447843, 0.09610396302929411, 0.006406930868619608, 0.8900114644291832, 0.0036475879689720626, 0.036475879689720624, 0.04377105562766475, 0.018237939844860312, 0.01630678220735989, 0.04892034662207967, 0.27721529752511814, 0.603350941672316, 0.04892034662207967, 0.08414636599694529, 0.10518295749618162, 0.08414636599694529, 0.021036591499236323, 0.5048781959816717, 0.16829273199389058, 0.004341479871246668, 0.008682959742493336, 0.981174450901747, 0.09630646020975615, 0.022660343578766153, 0.8440977983090392, 0.005665085894691538, 0.028325429473457692, 0.2004396753968672, 0.004888772570655297, 0.06355404341851886, 0.0024443862853276484, 0.7186495678863287, 0.004888772570655297, 0.0024443862853276484, 0.0024443862853276484, 0.024584269190792898, 0.05531460567928402, 0.7866966141053727, 0.012292134595396449, 0.036876403786189345, 0.07375280757237869, 0.006146067297698224, 0.06679917905539744, 0.14552678294211585, 0.11332003589754923, 0.04652085684215179, 0.15387668032404053, 0.09662024113369988, 0.23141144172762687, 0.03578527449396292, 0.09900592609996407, 0.013121267314453068, 0.9301481219424415, 0.044292767711544834, 0.025610943423783766, 0.012805471711891883, 0.3713586796448646, 0.005122188684756753, 0.5070966797909185, 0.03073313210854052, 0.012805471711891883, 0.033294226450918896, 0.05980391063742733, 0.014950977659356832, 0.014950977659356832, 0.8073527936052689, 0.05980391063742733, 0.0448529329780705, 0.001255468206497797, 0.0414304508144273, 0.011299213858480173, 0.011299213858480173, 0.0075328092389867814, 0.9102144497109028, 0.002510936412995594, 0.011299213858480173, 0.001255468206497797, 0.018925572315731984, 0.006308524105243994, 0.09462786157865992, 0.006308524105243994, 0.6813206033663514, 0.18294719905207585, 0.006308524105243994, 0.010374163292740431, 0.010374163292740431, 0.07261914304918302, 0.11411579622014474, 0.7210043488454599, 0.005187081646370216, 0.0674320614028128, 0.010660907785001322, 0.02842908742667019, 0.003553635928333774, 0.003553635928333774, 0.9488207928651177, 0.003553635928333774, 0.003553635928333774, 0.009360850076113177, 0.8143939566218463, 0.16849530137003718, 0.14943013747929018, 0.012881908403387083, 0.667282855295451, 0.0025763816806774168, 0.010305526722709667, 0.010305526722709667, 0.092749740504387, 0.015458290084064501, 0.030916580168129003, 0.007729145042032251, 0.9099679870799151, 0.006066453247199434, 0.06673098571919378, 0.012132906494398868, 0.006066453247199434, 0.9792091941543482, 0.009237822586361775, 0.09302939730414614, 0.06977204797810961, 0.18605879460829228, 0.023257349326036535, 0.04651469865207307, 0.023257349326036535, 0.48840433584676723, 0.06977204797810961, 0.023257349326036535, 0.9583473155032339, 0.02178062080689168, 0.9825712424755392, 0.010508783341984376, 0.005254391670992188, 0.00117927256175427, 0.96110713782973, 0.00707563537052562, 0.02830254148210248, 0.00117927256175427, 0.00117927256175427, 0.004312186307308727, 0.9831784780663897, 0.008624372614617454, 0.019674206384281055, 0.029511309576421584, 0.029511309576421584, 0.019674206384281055, 0.019674206384281055, 0.7771311521791017, 0.1082081351135458, 0.18935127744925284, 0.11467753422982918, 0.1466805670381536, 0.07467374321942365, 0.3093626504804694, 0.01866843580485591, 0.05067146861318034, 0.02933611340763072, 0.02933611340763072, 0.034669952209018126, 0.027168421688926667, 0.9237263374235066, 0.013584210844463334, 0.027168421688926667, 0.03732861397835533, 0.009332153494588833, 0.018664306989177665, 0.25196814435389847, 0.12131799542965482, 0.13998230241883247, 0.13065014892424365, 0.29862891182684265, 0.960283864293829, 0.00795815357149582, 0.026527178571652734, 0.0026527178571652734, 0.4205017518473743, 0.13158558221074299, 0.03528019233186587, 0.043861860736914324, 0.18402911135270575, 0.049582973006946626, 0.06007167883533918, 0.01716333681009691, 0.027652042638489464, 0.03051259877350562, 0.8374220758283034, 0.0025846360365071094, 0.010338544146028437, 0.046523448657127965, 0.005169272073014219, 0.0025846360365071094, 0.020677088292056875, 0.07495444505870617, 0.6211419865560664, 0.04116001115732971, 0.0037418191961208825, 0.022450915176725292, 0.022450915176725292, 0.04116001115732971, 0.0037418191961208825, 0.01496727678448353, 0.011225457588362646, 0.21702551337501116, 0.08303188754866868, 0.023723396442476764, 0.011861698221238382, 0.07117018932743029, 0.011861698221238382, 0.7947337808229716, 0.13384271032892342, 0.13384271032892342, 0.04461423677630781, 0.014871412258769269, 0.5353708413156937, 0.059485649035077075, 0.014871412258769269, 0.029742824517538537, 0.029742824517538537, 0.9811521838664595, 0.00957221642796546, 0.00478610821398273, 0.0644615076891815, 0.12623711922464712, 0.24710244614186241, 0.21218579614355576, 0.002685896153715896, 0.010743584614863584, 0.013429480768579478, 0.010743584614863584, 0.013429480768579478, 0.3035062653698962, 0.9546357433074264, 0.0156497662837283, 0.07403682671593852, 0.03701841335796926, 0.12956444675289241, 0.7403682671593852, 0.01850920667898463, 0.007393122652926812, 0.1330762077526826, 0.003696561326463406, 0.7189811779971325, 0.007393122652926812, 0.029572490611707247, 0.0665381038763413, 0.007393122652926812, 0.02402764862201214, 0.002117072140092661, 0.11643896770509633, 0.008468288560370643, 0.7896679082545625, 0.004234144280185322, 0.02540486568111193, 0.042341442801853216, 0.002117072140092661, 0.008468288560370643, 0.002117072140092661, 0.21497097874894824, 0.14848510903277867, 0.32356456595202515, 0.06316157623036107, 0.060945380573155426, 0.05097250011572999, 0.05872918491594978, 0.025486250057864996, 0.01662146742904239, 0.036567228343893254, 0.9714015727187946, 0.005816775884543679, 0.01745032765363104, 0.05739811485595563, 0.005218010441450512, 0.026090052207252558, 0.8609717228393344, 0.005218010441450512, 0.041744083531604095, 0.9763005028281513, 0.021482822343921643, 0.010741411171960822, 0.8449910121942513, 0.1038336413289546, 0.014321881562614429, 0.003580470390653607, 0.003580470390653607, 0.01703697400481354, 0.00851848700240677, 0.9199965962599311, 0.05111092201444062, 0.06590220408998075, 0.10983700681663458, 0.08786960545330767, 0.24164141499659608, 0.46131542862986524, 0.021967401363326918, 0.058980926616101624, 0.019660308872033874, 0.006553436290677958, 0.006553436290677958, 0.9043742081135583, 0.2128742551251525, 0.061802203100850724, 0.034334557278250404, 0.5974212966415571, 0.006866911455650081, 0.061802203100850724, 0.013733822911300162, 0.05983811997726083, 0.02393524799090433, 0.02393524799090433, 0.8856041756634603, 0.06674286243547761, 0.03842770867497196, 0.8636121896954224, 0.014157576880252825, 0.008090043931573044, 0.004045021965786522, 0.9663567381145917, 0.0901151440357883, 0.04005117512701702, 0.740946739849815, 0.010012793781754256, 0.12015352538105106, 0.0305278318447751, 0.07631957961193775, 0.01526391592238755, 0.8089875438865402, 0.04579174776716265, 0.10765710857028152, 0.1091628023964393, 0.07829607896020474, 0.13325390361496384, 0.2266069208367464, 0.1550864640942517, 0.10238718017872928, 0.041406580219339045, 0.03161957034931345, 0.015056938261577835, 0.005225600363189835, 0.05225600363189835, 0.8935776621054619, 0.03135360217913901, 0.015676801089569505, 0.05542871562453819, 0.11085743124907638, 0.2910007570288255, 0.5127156195269783, 0.013857178906134547, 0.9620936745064912, 0.0008746306131877193, 0.0008746306131877193, 0.0008746306131877193, 0.0008746306131877193, 0.0017492612263754386, 0.013994089811003509, 0.017492612263754384, 0.21362987253394303, 0.09710448751542865, 0.08199934501302863, 0.02589453000411431, 0.291313462546286, 0.07336783501165721, 0.0949466100150858, 0.07768359001234293, 0.04315755000685718, 0.004315755000685718, 0.32170798196470274, 0.08086648726981599, 0.05801291478052016, 0.08438242149893842, 0.18898146481533085, 0.06943970102516807, 0.08877733928534147, 0.030764424504821298, 0.03515934229122434, 0.04219121074946921, 0.15123181170878947, 0.6395845370184221, 0.08664322545816064, 0.044109278415063596, 0.0015753313719665569, 0.06458858625062884, 0.0015753313719665569, 0.007876656859832784, 0.06281887100463342, 0.5080134785592094, 0.06828138152677546, 0.004096882891606528, 0.3373100247422708, 0.0013656276305355091, 0.008193765783213056, 0.009559393413748564, 0.14641614916277224, 0.2719157055880056, 0.020916592737538892, 0.5229148184384723, 0.0025588765632095505, 0.8150021853822419, 0.0025588765632095505, 0.0025588765632095505, 0.07292798205147219, 0.03582427188493371, 0.06525135236184354, 0.2845368385597438, 0.67254161841394, 0.9884208897727812, 0.1815482358761916, 0.07883015505150424, 0.10510687340200565, 0.14332755463909863, 0.05494222927832114, 0.07166377731954932, 0.09316291051541412, 0.023887925773183105, 0.19110340618546484, 0.05971981443295776, 0.9456773205309312, 0.044607420779760903, 0.03762347939028061, 0.9311811149094451, 0.009405869847570152, 0.018811739695140304, 0.16739275565455047, 0.08043547998984893, 0.034782910265880616, 0.021739318916175386, 0.11739232214734709, 0.5456569047960022, 0.006521795674852616, 0.013043591349705232, 0.015217523241322771, 0.1412745727361297, 0.26685197072380057, 0.5337039414476011, 0.04709152424537657, 0.06198258506762593, 0.08423274380985063, 0.04132172337841729, 0.22409088447526299, 0.03496453516635309, 0.20343002278605435, 0.24951963732351978, 0.07151836738572223, 0.027018049901272843, 0.0015892970530160496, 0.9907331610322831, 0.031260515150984276, 0.05232738405708237, 0.051647807640756625, 0.046211196310150665, 0.0903836633713241, 0.07747171146113495, 0.2847425184404872, 0.13183782476719455, 0.21474614755893545, 0.018348563240795118, 0.11601786219134066, 0.04834077591305861, 0.03867262073044689, 0.029004465547835166, 0.3448308681798181, 0.09668155182611722, 0.17724951168121492, 0.0837906782493016, 0.03544990233624298, 0.03544990233624298, 0.21782846590395258, 0.0439242585567641, 0.022410335998349032, 0.05109556607623579, 0.1918324761458677, 0.10756961279207536, 0.23934238846236766, 0.07619514239438671, 0.0277888166379528, 0.022410335998349032, 0.24072959741276923, 0.03980568146195397, 0.03791017282090854, 0.09477543205227135, 0.07771585428286251, 0.19144637274558812, 0.26726671838740523, 0.03411915553881769, 0.009477543205227135, 0.005686525923136281, 0.05731531393540659, 0.01910510464513553, 0.9170450229665055, 0.004039531112138757, 0.012118593336416272, 0.010098827780346892, 0.149462651149134, 0.5554355279190791, 0.1979370244947991, 0.06261273223815074, 0.0020197655560693787, 0.0020197655560693787, 0.008079062224277515, 0.01223903751895119, 0.9791230015160953, 0.01223903751895119, 0.002724541601593221, 0.9890086013783391, 0.002724541601593221, 0.002724541601593221, 0.037268244678909615, 0.19876397162085127, 0.037268244678909615, 0.06211374113151603, 0.6459829077677667, 0.0403493811523358, 0.0018340627796516273, 0.04951969505059394, 0.8363326275211421, 0.0018340627796516273, 0.0018340627796516273, 0.06786032284711022, 0.0018340627796516273, 0.023409505098532086, 0.1960546052002062, 0.6847280241320635, 0.0029261881373165107, 0.0819332678448623, 0.0029261881373165107, 0.0058523762746330215, 0.017775067841153708, 0.364388890743651, 0.19044715544093258, 0.21203116639090494, 0.06221273744403798, 0.02666260176173056, 0.09522357772046629, 0.011426829326455954, 0.005078590811758202, 0.013966124732335055, 0.02164560425054334, 0.04329120850108668, 0.06493681275163002, 0.02164560425054334, 0.8441785657711901, 0.036622418326513605, 0.26856440106109974, 0.036622418326513605, 0.5981661659997222, 0.012207472775504534, 0.04882989110201814, 0.974596202417998, 0.00569939299659648, 0.01139878599319296, 0.00569939299659648, 0.27391764895357057, 0.06847941223839264, 0.05478352979071412, 0.05478352979071412, 0.5478352979071411, 0.9549221649951003, 0.03672777557673463, 0.006121295929455772, 0.9747098578513264, 0.007114670495265156, 0.014229340990530312, 0.007114670495265156, 0.9884304788878611, 0.11073421053456872, 0.015819172933509817, 0.015819172933509817, 0.031638345867019635, 0.015819172933509817, 0.7118627820079417, 0.07909586466754909, 0.9820923796389233, 0.0017921393789031446, 0.0017921393789031446, 0.010752836273418867, 0.9473055842093037, 0.029147864129517035, 0.014573932064758518, 0.014573932064758518, 0.9722674079852787, 0.012626849454354269, 0.9834128914252819, 0.008780472244868588, 0.33644607821475325, 0.08136277708461354, 0.04617887348045633, 0.0615718313072751, 0.1319396385155895, 0.054974849381495626, 0.026387927703117903, 0.024188933727858075, 0.14513360236714845, 0.09015875298565283, 0.017093542582299684, 0.12535264560353102, 0.039884932692032596, 0.05697847527433228, 0.011395695054866456, 0.7293244835114532, 0.017093542582299684, 0.9119371944828145, 0.03777254651703965, 0.02158431229545123, 0.005396078073862808, 0.02158431229545123, 0.919901642395701, 0.07433548625419807, 0.4481646307211397, 0.539834668823191, 0.011821417084976207, 0.005910708542488104, 0.008866062813732156, 0.002955354271244052, 0.011821417084976207, 0.002955354271244052, 0.8097670703208701, 0.14776771356220259, 0.9370894169605434, 0.045160935757134625, 0.011290233939283656, 0.9403351014225113, 0.010746686873400128, 0.005373343436700064, 0.03761340405690045, 0.005373343436700064, 0.009875469433764952, 0.9328520357433355, 0.011394772423574945, 0.01671233288790992, 0.01443337840319493, 0.003798257474524982, 0.0007596514949049964, 0.0015193029898099928, 0.004557908969429978, 0.004557908969429978, 0.961339373350981, 0.01671894562349532, 0.01671894562349532, 0.002089868202936915, 0.002089868202936915, 0.03417694730636262, 0.10874483233842654, 0.1367077892254505, 0.11495882275776519, 0.015534976048346647, 0.09320985629007988, 0.3573044491119729, 0.0528189185643786, 0.0838888706610719, 0.0031069952096693296, 0.01163747503300743, 0.02327495006601486, 0.9542729527066093, 0.2626946021486466, 0.08263794389842335, 0.03493636652616272, 0.06315420102806338, 0.10816836559061918, 0.11824616362701228, 0.18207221785750186, 0.07793497148143991, 0.04165489855042478, 0.02956154090675307, 0.9865607528086611, 0.9742196158388404, 0.045902007416342205, 0.015300669138780736, 0.2142093679429303, 0.6120267655512295, 0.030601338277561473, 0.045902007416342205, 0.030601338277561473, 0.006735899686722444, 0.973337504731393, 0.003367949843361222, 0.006735899686722444, 0.006735899686722444, 0.40798587747278225, 0.5219576408153813, 0.0016517646861246244, 0.0033035293722492487, 0.049552940583738735, 0.0016517646861246244, 0.006607058744498497, 0.0033035293722492487, 0.0016517646861246244, 0.24978039160441293, 0.10927892132693065, 0.04683382342582742, 0.015611274475275808, 0.4605325970206363, 0.054639460663465325, 0.015611274475275808, 0.031222548950551616, 0.03808833382512151, 0.025392222550081004, 0.10156889020032402, 0.6792419532146668, 0.13965722402544553, 0.740681027389436, 0.013758780694540607, 0.11007024555632486, 0.009172520463027072, 0.01146565057878384, 0.009172520463027072, 0.06650077335694626, 0.034396951736351516, 0.002293130115756768, 0.004586260231513536, 0.23273750818100525, 0.10491276275516817, 0.0832066739092713, 0.08983908994551758, 0.10853044422948432, 0.10792749731709829, 0.14108957749832962, 0.04702985916610987, 0.06089763815098842, 0.023514929583054935, 0.11973261887442475, 0.12472147799419245, 0.05737187987732852, 0.4689527572581636, 0.04489973207790928, 0.02993315471860619, 0.07233845723663163, 0.06984402767674777, 0.012472147799419245, 0.022541703936365516, 0.005635425984091379, 0.04508340787273103, 0.924209861390986, 0.07732478494614121, 0.028996794354802954, 0.03866239247307061, 0.17075890008939518, 0.04188425851249316, 0.06765918682787356, 0.4832799059133826, 0.06121545474902846, 0.01610933019711275, 0.012887464157690202, 0.040160315297999856, 0.42168331062899844, 0.06024047294699978, 0.020080157648999928, 0.46184362592699835, 0.020080157648999928, 0.03431249082208794, 0.9564606816657014, 0.03645883983015455, 0.015625217070066234, 0.6562591169427819, 0.06770927397028702, 0.19791941622083897, 0.010416811380044157, 0.015625217070066234, 0.017430537815888845, 0.18905429477233285, 0.03620188623299991, 0.3754269683422213, 0.042905939239111, 0.04692837104277766, 0.24000509761877717, 0.016089727214666626, 0.024134590821999938, 0.01072648480977775, 0.44419087382694006, 0.11104771845673501, 0.4349368972888788, 0.8895714902348223, 0.026956711825297644, 0.026956711825297644, 0.05391342365059529, 0.4653240365446944, 0.12129795109929112, 0.06378599152635137, 0.13593735899058487, 0.08051674340211566, 0.042872551681646, 0.03659851972823439, 0.015685079883529025, 0.016730751875764293, 0.023004783829175902, 0.053909179776475635, 0.03369323736029727, 0.10444903581692154, 0.10107971208089181, 0.013477294944118909, 0.06064782724853509, 0.4582280281000429, 0.013477294944118909, 0.003369323736029727, 0.15498889185736744, 0.13295768804704347, 0.28807499076859416, 0.05170576757385024, 0.4579653699398164, 0.007386538224835749, 0.029546152899342995, 0.029546152899342995, 0.9636242152540101, 0.00577020488176054, 0.028851024408802696, 0.0319734276365889, 0.17585385200123893, 0.0319734276365889, 0.07993356909147224, 0.4955881283671279, 0.047960141454883344, 0.1278937105463556, 0.06400984166625368, 0.08001230208281708, 0.384059049997522, 0.01600246041656342, 0.44806889166377567, 0.028579618744361133, 0.014289809372180566, 0.0857388562330834, 0.1714777124661668, 0.014289809372180566, 0.0857388562330834, 0.0428694281165417, 0.028579618744361133, 0.5144331373985004, 0.48020419423044575, 0.17814026560161697, 0.3330448443856317, 0.28568771497512657, 0.1907656677414555, 0.14653015058401653, 0.09860834033012433, 0.11427508599005064, 0.04423551715743895, 0.04700023697977889, 0.008294159467019804, 0.032255064593965904, 0.033176637868079215, 0.12154926586803749, 0.21878867856246748, 0.09723941269443, 0.048619706347215, 0.48619706347214997, 0.0243098531736075, 0.0637779381870171, 0.047833453640262834, 0.7175018046039424, 0.15944484546754276, 0.023600735195437938, 0.047201470390875876, 0.07080220558631381, 0.23600735195437936, 0.5900183798859484, 0.023600735195437938, 0.023632851791637332, 0.9642203530988032, 0.004726570358327467, 0.004726570358327467, 0.968710346256107, 0.01745424047308301, 0.13960287042248928, 0.007347519495920489, 0.07347519495920489, 0.7200569106002079, 0.05143263647144342, 0.007347519495920489, 0.18761483643554364, 0.03193444024434785, 0.24350010686315238, 0.019959025152717406, 0.439098553359783, 0.04790166036652178, 0.011975415091630444, 0.007983610061086962, 0.011975415091630444, 0.011305367284723866, 0.0169580509270858, 0.022610734569447732, 0.4409093241042308, 0.084790254635429, 0.045221469138895465, 0.339161018541716, 0.03956878549653353, 0.025780144576921585, 0.003222518072115198, 0.9087500963364858, 0.006445036144230396, 0.012890072288460792, 0.03544769879326718, 0.006445036144230396, 0.5508107972663604, 0.00320238835619977, 0.00320238835619977, 0.2946197287703788, 0.1473098643851894, 0.1469248759674138, 0.2103042342278668, 0.6366744625254598, 0.92704102937978, 0.05661319263387969, 0.014153298158469923, 0.11127420044685057, 0.8345565033513793, 0.018545700074475095, 0.018545700074475095, 0.521992935160435, 0.46606512067895983, 0.4712216245199335, 0.00942443249039867, 0.01884886498079734, 0.4994949219911295, 0.961367755751754, 0.012169212098123468, 0.966398901083109, 0.013422206959487624, 0.013422206959487624, 0.0023661937023508376, 0.9559422557497383, 0.00946477480940335, 0.023661937023508377, 0.003549290553526256, 0.0011830968511754188, 0.003549290553526256, 0.04849455843883101, 0.012123639609707753, 0.09698911687766203, 0.1818545941456163, 0.5455637824368489, 0.024247279219415507, 0.08486547726795428, 0.012123639609707753, 0.17477143451342503, 0.05690232751599884, 0.091450169222141, 0.091450169222141, 0.05283787555057036, 0.10364352511842646, 0.060966779481427334, 0.006096677948142734, 0.3556395469749928, 0.006096677948142734, 0.1328655990774103, 0.528857188484594, 0.002605207825047261, 0.005210415650094522, 0.18496975557835552, 0.07555102692637056, 0.010420831300189044, 0.015631246950283565, 0.005210415650094522, 0.03907811737570891, 0.14114309725619312, 0.22935753304131384, 0.18888267426931726, 0.08302535132717243, 0.10585732294214484, 0.09029006956830002, 0.09340352024306899, 0.010378168915896553, 0.04047485877199656, 0.018680704048613796, 0.1110858784892228, 0.10761444478643459, 0.2187003232756574, 0.10761444478643459, 0.06075008979879372, 0.020828602216729275, 0.10240729423225227, 0.005207150554182319, 0.13365019755734617, 0.13191448070595208, 0.971266349898197, 0.014389131109602918, 0.007194565554801459, 0.9549824940984541, 0.03210025190246905, 0.030686233248185413, 0.05230607940031605, 0.05230607940031605, 0.03138364764018963, 0.09415094292056889, 0.07183368237643403, 0.2908218014657572, 0.13878546400883857, 0.2196855334813274, 0.018830188584113776, 0.0034221558721836153, 0.5646557189102965, 0.0034221558721836153, 0.42092517227858467, 0.0034221558721836153, 0.0034221558721836153, 0.0034221558721836153, 0.43289102001522944, 0.5509522072921101, 0.013117909697431195, 0.03417953156991673, 0.30761578412925056, 0.5810520366885844, 0.017089765784958365, 0.03417953156991673, 0.017090905019011907, 0.9741815860836787, 0.04379521382376055, 0.029196809215840367, 0.003649601151980046, 0.19342886105494245, 0.7262706292440292, 0.024280214719448707, 0.008093404906482903, 0.16996150303614097, 0.7122196317704954, 0.08902745397131193, 0.3333518496371004, 0.10762605762931303, 0.08342825272607822, 0.05923044782284341, 0.112321154103075, 0.1032921224227635, 0.07078760837364212, 0.032143352781908927, 0.03611612672124598, 0.06175857669333063, 0.023439946577217045, 0.17189294156625834, 0.09375978630886818, 0.2578394123493875, 0.4531723004928629, 0.8674199396622965, 0.10463042073747544, 0.023626224037494457, 0.018327610225585583, 0.9621995368432431, 0.009163805112792791, 0.00728777751695146, 0.04008277634323303, 0.918259967135884, 0.02915111006780584, 0.012816047025306638, 0.9483874798726911, 0.012816047025306638, 0.012816047025306638, 0.1214122355455769, 0.4856489421823076, 0.015176529443197112, 0.045529588329591336, 0.3187071183071393, 0.3441145276276061, 0.010427712958412305, 0.6256627775047383, 0.05548902729242526, 0.004268386714801943, 0.004268386714801943, 0.2475664294585127, 0.6829418743683109, 0.5691834990728264, 0.08310557391924671, 0.035872909605430235, 0.022121627590015312, 0.16800479331876492, 0.022121627590015312, 0.024513154897043993, 0.025708918550558336, 0.0101639910548719, 0.03826443691245891, 0.029136422144846914, 0.9282031626144089, 0.0041623460206924165, 0.03329876816553933, 0.0022581424425208306, 0.3229143692804788, 0.03838842152285412, 0.18516768028670813, 0.293558517527708, 0.03838842152285412, 0.0880675552583124, 0.011290712212604154, 0.020323281982687475, 0.4212858887014157, 0.018316777769626768, 0.5586617219736165, 0.011214636090826787, 0.0785024526357875, 0.841097706812009, 0.011214636090826787, 0.03364390827248036, 0.011214636090826787, 0.07977413258736347, 0.007252193871578497, 0.8775154584609982, 0.021756581614735492, 0.007252193871578497, 0.1497210365930007, 0.061903890129798377, 0.04030950985196173, 0.1756342929264047, 0.04750763661124061, 0.11660965350031786, 0.2706495661488859, 0.06766239153722148, 0.053266138018663714, 0.017275504222269315, 0.15998981055276368, 0.0479969431658291, 0.07999490527638184, 0.09066089264656609, 0.037330955795644855, 0.06932891790619759, 0.5066344000837516, 0.005332993685092122, 0.032503814673172766, 0.18202136216976747, 0.7605892633522426, 0.013001525869269106, 0.13116243483659623, 0.0285135727905644, 0.13116243483659623, 0.00570271455811288, 0.26232486967319246, 0.382081875393563, 0.03421628734867728, 0.02281085823245152, 0.010429544174612402, 0.11993975800804262, 0.855222622318217, 0.08113887357405616, 0.08113887357405616, 0.7951609610257505, 0.016227774714811235, 0.34469287103552165, 0.04516665206672353, 0.09984207298959938, 0.0736929586351805, 0.030903498782495046, 0.057052613136913934, 0.3019034111828362, 0.014263153284228483, 0.009508768856152322, 0.023771922140380805, 0.06382899877554515, 0.06382899877554515, 0.060347417024151785, 0.041778981016720465, 0.09632376178854996, 0.06092768064938401, 0.2849094399890243, 0.11489219779598128, 0.19554884170326106, 0.01798817238219909, 0.9843685805841017, 0.07861150364793172, 0.27514026276776105, 0.03930575182396586, 0.03930575182396586, 0.5109747737115562, 0.01965287591198293, 0.03930575182396586, 0.0028100686719345937, 0.9582334171296966, 0.016860412031607562, 0.016860412031607562, 0.0028100686719345937, 0.13328595857141395, 0.044428652857137985, 0.06753155234284974, 0.06753155234284974, 0.06753155234284974, 0.30922342388568036, 0.20437180314283473, 0.04976009119999455, 0.02310289948571175, 0.03554292228571039, 0.048917063727472475, 0.17120972304615364, 0.7663673317304021, 0.006019020103999346, 0.07975201637799134, 0.2573131094459721, 0.44390273266995184, 0.018057060311998042, 0.0782472613519915, 0.09329481161198987, 0.015047550259998366, 0.007523775129999183, 0.0015047550259998366, 0.011921554487170671, 0.8106657051276056, 0.07749010416660936, 0.023843108974341342, 0.05364699519226802, 0.0059607772435853355, 0.011921554487170671, 0.985771956931497, 0.009570601523606767, 0.05638999890307428, 0.817654984094577, 0.011277999780614856, 0.10714099791584114, 0.012754506962624144, 0.051018027850496576, 0.24233563228985874, 0.08928154873836901, 0.5867073202807106, 0.058390668463646205, 0.24816034097049636, 0.10218366981138086, 0.583906684636462, 0.09298498900767904, 0.034537281631423646, 0.8634320407855911, 0.005313427943295945, 0.0026567139716479724, 0.1119845362232255, 0.5972508598572027, 0.0714104288959699, 0.11685342910249619, 0.02759039298253382, 0.016229642930902247, 0.04382003591343607, 0.004868892879270674, 0.011360750051631573, 0.0016229642930902248, 0.9805048431948727, 0.2795688983266463, 0.08387066949799388, 0.03946855035199712, 0.10360494467399244, 0.11182755933065851, 0.07235900897866139, 0.23023321038664984, 0.013156183450665706, 0.016445229313332133, 0.05098021087132961, 0.08566230094417986, 0.08566230094417986, 0.1713246018883597, 0.32551674358788346, 0.32551674358788346, 0.9484015262146582, 0.0031095132007037977, 0.018657079204222785, 0.006219026401407595, 0.021766592404926583, 0.98525072626721, 0.9893373033559995, 0.17336805362011043, 0.09246296193072556, 0.026005208043016564, 0.05923408498687106, 0.11846816997374213, 0.09824189705139591, 0.25860734664999807, 0.049120948525697955, 0.09824189705139591, 0.026005208043016564, 0.1119564139124405, 0.1791302622599048, 0.0895651311299524, 0.0223912827824881, 0.5149995039972263, 0.0223912827824881, 0.0447825655649762, 0.03909080662800289, 0.08435384588147993, 0.43205628378318983, 0.12138724163432477, 0.09464090025727016, 0.04114821750316094, 0.1399039395107472, 0.008229643500632187, 0.024688930501896564, 0.012344465250948282, 0.036786016689825785, 0.14714406675930314, 0.024524011126550522, 0.7847683560496167, 0.033387528402939425, 0.15024387781322743, 0.016693764201469712, 0.18363140621616686, 0.5675879828499703, 0.033387528402939425, 0.016693764201469712, 0.35991691859116665, 0.05332102497646913, 0.05332102497646913, 0.5065497372764567, 0.013330256244117282, 0.29948709722685485, 0.13137877378347876, 0.03672954965989729, 0.05085629952908856, 0.2825349973838253, 0.060745024437522444, 0.049443624542169426, 0.055094324489845935, 0.01271407488227214, 0.022602799790706025, 0.27516029163579436, 0.04344636183723068, 0.05792848244964091, 0.6082490657212296, 0.21433426572187123, 0.17651057177095275, 0.012607897983639484, 0.5169238173292188, 0.012607897983639484, 0.050431591934557936, 0.012607897983639484, 0.012607897983639484, 0.012607897983639484, 0.9557018277799034, 0.00884909099796207, 0.01769818199592414, 0.9610434886691491, 0.028265984960857325, 0.014132992480428663, 0.044087314327022814, 0.0629818776100326, 0.00629818776100326, 0.09447281641504889, 0.00629818776100326, 0.774677094603401, 0.00629818776100326, 0.022790427254060486, 0.022790427254060486, 0.93440751741648, 0.03396722991530712, 0.8944703877697542, 0.02264481994353808, 0.03396722991530712, 0.01132240997176904, 0.9711037818645561, 0.025388334166393623, 0.9776182166716882, 0.9282406325297686, 0.0435112796498329, 0.014503759883277635, 0.02629823618203547, 0.06574559045508868, 0.02629823618203547, 0.8546926759161528, 0.49116429245808163, 0.03338009754569487, 0.13669944709189327, 0.011126699181898288, 0.04768585363670695, 0.06040208127316214, 0.06834972354594664, 0.06676019509138974, 0.03973821136392246, 0.042917268273036255, 0.9957185877078588, 0.9755844853356835, 0.004902434599676802, 0.009804869199353604, 0.9856157101198434, 0.5042226282732146, 0.06907159291413899, 0.017267898228534747, 0.009209545721885199, 0.0828859114969668, 0.017267898228534747, 0.040291762533247746, 0.051803694685604244, 0.019570284659006048, 0.1887956872986466, 0.010529559798955212, 0.9792490613028347, 0.1421767013302299, 0.5040810319889969, 0.0678570619985188, 0.01615644333298067, 0.0678570619985188, 0.006462577333192268, 0.01615644333298067, 0.1712582993295951, 0.1377943206024473, 0.03082241381896848, 0.2556447263808562, 0.07433640979868869, 0.014504665326573402, 0.025383164321503452, 0.29009330653146803, 0.009065415829108376, 0.02357008115568178, 0.1377943206024473, 0.01112531706204979, 0.2892582436132945, 0.01112531706204979, 0.08900253649639832, 0.4950766092612156, 0.08900253649639832, 0.01112531706204979, 0.0013489035683646592, 0.0013489035683646592, 0.9941419298847538, 0.0026978071367293184, 0.07536380881258721, 0.021532516803596347, 0.010766258401798174, 0.010766258401798174, 0.8720669305456521, 0.010766258401798174, 0.036176626917482975, 0.777797478725884, 0.025323638842238084, 0.13385351959468703, 0.018088313458741487, 0.0036176626917482978, 0.0072353253834965955, 0.003443193306136185, 0.8952302595954081, 0.010329579918408556, 0.08263663934726845, 0.003443193306136185, 0.0022820513615885362, 0.9265128528049457, 0.0045641027231770725, 0.01141025680794268, 0.04564102723177072, 0.0045641027231770725, 0.38280763971334864, 0.10351981242952527, 0.08842317311688616, 0.12724310277795814, 0.06685654552740174, 0.04960324345581419, 0.05607323173265952, 0.032349941384226644, 0.026958284486855538, 0.06577821414792752, 0.032775064231438764, 0.09832519269431629, 0.1487483684349913, 0.48406248711048017, 0.015126952722202505, 0.04285969937957376, 0.1285790981387213, 0.010084635148135004, 0.015126952722202505, 0.02773274665737126, 0.00538567630751358, 0.1615702892254074, 0.05924243938264938, 0.6785952147467111, 0.00538567630751358, 0.07001379199767654, 0.016157028922540742, 0.00538567630751358, 0.04028805302525275, 0.026858702016835163, 0.0671467550420879, 0.8326197625218901, 0.026858702016835163, 0.05626391220111492, 0.01406597805027873, 0.02813195610055746, 0.731430858614494, 0.07032989025139365, 0.08439586830167238, 0.014522187426981574, 0.32529699836438725, 0.014522187426981574, 0.05518431222252998, 0.580887497079263, 0.008713312456188945, 0.9893760033731153, 0.0038497120753817715, 0.023798246653005565, 0.09519298661202226, 0.023798246653005565, 0.6187544129781447, 0.1427894799180334, 0.0713947399590167, 0.1598070847751371, 0.06392283391005484, 0.01598070847751371, 0.7191318814881169, 0.03196141695502742, 0.10358579595839097, 0.12430295515006916, 0.711289132247618, 0.03452859865279699, 0.006905719730559398, 0.006905719730559398, 0.006905719730559398, 0.0095786905793163, 0.04926183726505526, 0.11904944005721688, 0.428304307332286, 0.13820682121584948, 0.1341016681104282, 0.05336699037047653, 0.010947074947790058, 0.054735374738950286, 0.0027367687369475144, 0.9540267342081183, 0.029813335444003698, 0.016162124193290914, 0.04848637257987275, 0.9212410790175821, 0.17342124356689578, 0.12139487049682704, 0.13873699485351662, 0.5029216063439977, 0.034684248713379155, 0.004705029339389266, 0.004705029339389266, 0.9557931029445051, 0.006721470484841808, 0.0020164411454525427, 0.006721470484841808, 0.007393617533325989, 0.0020164411454525427, 0.010082205727262712, 0.9551600746738178, 0.038206402986952714, 0.0035538062430716193, 0.04619948115993105, 0.15281366845207964, 0.05330709364607429, 0.05330709364607429, 0.5757166113776023, 0.04264567491685943, 0.06041470613221753, 0.007107612486143239, 0.0035538062430716193, 0.9853897208848502, 0.053355205759417705, 0.24009842591737965, 0.026677602879708853, 0.013338801439854426, 0.6402624691130124, 0.035771812682187196, 0.26828859511640396, 0.07154362536437439, 0.017885906341093598, 0.035771812682187196, 0.5544630965739015, 0.017885906341093598, 0.20537996044377205, 0.12280451243029669, 0.03175978769749052, 0.05081566031598484, 0.2583129399395896, 0.09104472473280617, 0.1460950234084564, 0.03599442605715593, 0.04234638359665403, 0.019055872618494313, 0.036435973241711724, 0.8172068284212486, 0.052051390345302456, 0.026025695172651228, 0.031230834207181476, 0.005205139034530246, 0.020820556138120984, 0.005205139034530246, 0.8859996083070054, 0.09450662488608057, 0.006108468308961502, 0.13438630279715305, 0.03054234154480751, 0.16492864434196056, 0.054976214780653516, 0.07941008801649953, 0.11606089787026853, 0.3970504400824976, 0.012216936617923004, 0.8970607042253211, 0.08625583694474241, 0.03274302988743579, 0.03274302988743579, 0.152800806141367, 0.03274302988743579, 0.03274302988743579, 0.13097211954974317, 0.06548605977487158, 0.45840241842410107, 0.05457171647905965, 0.041032499260906526, 0.022094422678949666, 0.17991172752859014, 0.24619499556543914, 0.009469038290978428, 0.3598234550571803, 0.006312692193985619, 0.041032499260906526, 0.09469038290978428, 0.28546088252428053, 0.09446906903681226, 0.03491248203534367, 0.0410735082768749, 0.2526020759027806, 0.07187863948453108, 0.14786462979674964, 0.03696615744918741, 0.02875145579381243, 0.00410735082768749, 0.027480906531541886, 0.0641221152402644, 0.03664120870872251, 0.8335874981234371, 0.009160302177180628, 0.009160302177180628, 0.027480906531541886, 0.053252087131256474, 0.2480234195154411, 0.12692963234025514, 0.16851002914137322, 0.06784170004392948, 0.16996899043264052, 0.009483248393237454, 0.12838859363152247, 0.005106364519435552, 0.02188441936900951, 0.07977661725797429, 0.07508387506632874, 0.004692742191645546, 0.0703911328746832, 0.02815645314987328, 0.7273750397050597, 0.009385484383291093, 0.004692742191645546, 0.04965293536908749, 0.8838222495697573, 0.019861174147634997, 0.039722348295269994, 0.008313498265089155, 0.47885750006913524, 0.2111628559332645, 0.059857187508641906, 0.021615095489231802, 0.03325399306035662, 0.03325399306035662, 0.11638897571124815, 0.03657939236639228, 0.11716111199024284, 0.009763425999186904, 0.8396546359300737, 0.009763425999186904, 0.009763425999186904, 0.012814194351526503, 0.012814194351526503, 0.021967190316902578, 0.11715834835681374, 0.007322396772300859, 0.2617756846097557, 0.4503274014965028, 0.07871576530223423, 0.03478138466842908, 0.8075724160952849, 0.0272215421155714, 0.0408323131733571, 0.009073847371857133, 0.022684618429642832, 0.009073847371857133, 0.0045369236859285665, 0.0045369236859285665, 0.0136107710577857, 0.058980007917071364, 0.3265913424295123, 0.13996771818407672, 0.4898870136442685, 0.02332795303067945, 0.4520686369647213, 0.041097148814974664, 0.07561875381955338, 0.04438492072017264, 0.13973030597091388, 0.04602880667277163, 0.05424823643576656, 0.03616549095717771, 0.06575543810395947, 0.04438492072017264, 0.38485010000358333, 0.06414168333393055, 0.03207084166696528, 0.029780067262182044, 0.14431878750134375, 0.056505768651319774, 0.09544893353263476, 0.08475865297697967, 0.0694868236117581, 0.038179573413053905, 0.02500257191577502, 0.0333367625543667, 0.10001028766310008, 0.08334190638591674, 0.04167095319295837, 0.05000514383155004, 0.6167301072557838, 0.01666838127718335, 0.04167095319295837, 0.3100580258412591, 0.671792389322728, 0.2551116422550224, 0.10103431376436531, 0.13808022881129928, 0.10608602945258358, 0.11618946082902011, 0.0799854983967892, 0.09935040853495923, 0.025258578441091327, 0.03199419935871568, 0.04714934642337048, 0.9579588460083734, 0.03421281592887048, 0.004470101469505735, 0.978952221821756, 0.004470101469505735, 0.004470101469505735, 0.9684947358376284, 0.04718071394205451, 0.09436142788410902, 0.16513249879719077, 0.07077107091308177, 0.5661685673046541, 0.04718071394205451, 0.023590356971027255, 0.6526781640014766, 0.06255701252410319, 0.018767103757230955, 0.025022805009641273, 0.06464224627490663, 0.04587514251767567, 0.008340935003213758, 0.05630131127169287, 0.03127850626205159, 0.03544897376365847, 0.08864240884968377, 0.27183672047236357, 0.005909493923312251, 0.005909493923312251, 0.5554924287913516, 0.011818987846624503, 0.005909493923312251, 0.005909493923312251, 0.05318544530981026, 0.1648316128660207, 0.26071405433710465, 0.13574368118378174, 0.05602120175838612, 0.0743358254101662, 0.17452759009343366, 0.07649048701625796, 0.02046928525787185, 0.008618646424367094, 0.02693327007614717, 0.07331267233792078, 0.045384035256808106, 0.052366194527086275, 0.5341351841762799, 0.045384035256808106, 0.1361521057704243, 0.059348353797364445, 0.04189295562166902, 0.01396431854055634, 0.0052607368255137245, 0.0052607368255137245, 0.12099694698681566, 0.036825157778596074, 0.0052607368255137245, 0.0052607368255137245, 0.820674944780141, 0.3387798596679965, 0.016132374269904593, 0.016132374269904593, 0.06452949707961837, 0.5646330994466608, 0.13583209959427373, 0.005905743460620597, 0.005905743460620597, 0.005905743460620597, 0.017717230381861793, 0.6378202937470245, 0.04134020422434418, 0.14764358651551493, 0.09518324382822632, 0.04759162191411316, 0.5996544361178259, 0.24747643395338845, 0.07852559764415312, 0.02243588504118661, 0.056089712602966524, 0.2355767929324594, 0.03365382756177991, 0.03365382756177991, 0.5272432984678853, 0.011217942520593304, 0.011217942520593304, 0.07127401139825382, 0.04908493237804272, 0.09010110874873596, 0.06589484072668748, 0.030930231361506372, 0.08673912707900701, 0.40612738570325757, 0.053119310381717466, 0.10825580976527231, 0.03832659103491007, 0.09329190532237189, 0.09931073792381523, 0.00902824890216502, 0.4815066081154678, 0.0030094163007216737, 0.1354237335324753, 0.06620715861587682, 0.00902824890216502, 0.09630132162309356, 0.0030094163007216737, 0.019290701276408768, 0.0578721038292263, 0.038581402552817536, 0.8680815574383944, 0.10987261485917119, 0.08739867091070434, 0.062427622079074534, 0.07491314649488943, 0.134843663690801, 0.07990735626121541, 0.11486682462549715, 0.042450783013770685, 0.2946583762132318, 0.08660591692703634, 0.3034785849344083, 0.08159565727010035, 0.2154411652482474, 0.051534099328484434, 0.16462281729932526, 0.04008207725548789, 0.03149306070074048, 0.012883524832121108, 0.01145202207299654, 0.19762383745576045, 0.31473425965176666, 0.07929351502854586, 0.12199002312083979, 0.025617904855376353, 0.09759201849667183, 0.08783281664700464, 0.02317810439295956, 0.02195820416175116, 0.030497505780209946, 0.01956598430670505, 0.0065219947689016825, 0.02608797907560673, 0.07174194245791851, 0.08478593199572187, 0.06521994768901682, 0.3260997384450841, 0.01956598430670505, 0.39131968613410095, 0.9696639272640719, 0.006867233791789792, 0.030902552063054065, 0.01716808447947448, 0.1716808447947448, 0.38113147544433346, 0.10300850687684689, 0.003433616895894896, 0.02746893516715917, 0.04463701964663365, 0.21288424754548355, 0.0388058332699285, 0.0388058332699285, 0.8795988874517127, 0.012935277756642834, 0.025870555513285667, 0.14296556424197795, 0.09859694085653652, 0.15775510537045845, 0.08873724677088286, 0.034508929299787786, 0.0049298470428268265, 0.009859694085653653, 0.009859694085653653, 0.453545927940068, 0.04578672571282199, 0.1119231072980093, 0.020349655872365327, 0.08139862348946131, 0.005087413968091332, 0.010174827936182664, 0.05087413968091332, 0.6817134717242385, 0.05431470963310047, 0.10862941926620094, 0.03258882577986028, 0.03258882577986028, 0.11949236119282103, 0.6409135736705855, 0.03019148635347103, 0.020127657568980686, 0.24153189082776824, 0.22140423325878755, 0.010063828784490343, 0.4629361240865558, 0.9603302382547141, 0.02134067196121587, 0.010670335980607935, 0.05849645234279917, 0.07312056542849896, 0.025998423263466297, 0.4565973085646268, 0.012999211631733149, 0.11049329886973176, 0.14786603231096457, 0.03412293053329951, 0.05524664943486588, 0.025998423263466297, 0.2546362997829086, 0.034410310781474135, 0.11699505665701206, 0.013764124312589653, 0.5505649725035862, 0.027528248625179306, 0.009737667333941291, 0.08763900600547163, 0.06816367133758904, 0.009737667333941291, 0.7984887213831859, 0.009737667333941291, 0.026341588888282846, 0.03763084126897549, 0.007526168253795099, 0.17686495396418483, 0.07902476666484853, 0.13547102856831178, 0.17686495396418483, 0.36125607618216476, 0.046805238616995315, 0.21062357377647892, 0.18722095446798126, 0.023402619308497657, 0.46805238616995315, 0.023402619308497657, 0.023402619308497657, 0.895104329256342, 0.00886241910154794, 0.08862419101547941, 0.011099978329838656, 0.03329993498951597, 0.9323981797064471, 0.022199956659677313, 0.06812710081376532, 0.40876260488259186, 0.4939214808997985, 0.2865305406778863, 0.10689222242905602, 0.04899226861331735, 0.10095376562744181, 0.17666908984802315, 0.11728452183188091, 0.0875922378238098, 0.023753827206456895, 0.028207669807667562, 0.023753827206456895, 0.018018942342562284, 0.30632201982355883, 0.03603788468512457, 0.6216535108183988, 0.008122382035436538, 0.020305955088591347, 0.22742669699222307, 0.07310143831892885, 0.004061191017718269, 0.6335457987640499, 0.028428337124027883, 0.004061191017718269, 0.39164399778396547, 0.11485161225336231, 0.09762387041535797, 0.04019806428867681, 0.08269316082242087, 0.08039612857735362, 0.045940644901344925, 0.04364361265627768, 0.04364361265627768, 0.06201987061681565, 0.19352811792621558, 0.016828531993583962, 0.05048559598075189, 0.025242797990375945, 0.5721700877818547, 0.033657063987167925, 0.016828531993583962, 0.07572839397112784, 0.3474526601258861, 0.07252127173967093, 0.07685089990323338, 0.08551015623035826, 0.12014718153885781, 0.07143886469878032, 0.08442774918946765, 0.0800981210259052, 0.017318512654249774, 0.04546109571740566, 0.14711606250513004, 0.06473106750225723, 0.005884642500205202, 0.11769285000410404, 0.07061571000246242, 0.017653927500615604, 0.5649256800196993, 0.977774844272715, 0.005313993718873451, 0.015941981156620353, 0.01572192164530217, 0.047165764935906504, 0.03144384329060434, 0.047165764935906504, 0.09433152987181301, 0.5188234142949716, 0.18866305974362602, 0.06288768658120868, 0.07974457128598351, 0.10586779291415052, 0.19936142821495878, 0.07974457128598351, 0.1553644233675196, 0.2516078714712928, 0.05637116246078144, 0.05774606886226392, 0.00962434481037732, 0.004124719204447423, 0.28472715886743616, 0.025443703558366636, 0.13569975231128872, 0.03634814794052377, 0.12721851779183319, 0.07269629588104753, 0.16477827066370773, 0.031501728215120595, 0.07148469094969674, 0.04846419725403169, 0.2626702848710002, 0.12640322470843682, 0.09242779147755639, 0.05078048622679976, 0.17097314787152726, 0.06977750265696946, 0.09461975491180674, 0.06722021198367738, 0.03799403286033939, 0.026668888450045915, 0.015677062527283382, 0.007838531263641691, 0.054869718845491834, 0.9249466891097196, 0.0454635887340288, 0.0151545295780096, 0.6183048067827916, 0.012123623662407679, 0.1970088845141248, 0.012123623662407679, 0.03940177690282496, 0.02727815324041728, 0.0303090591560192, 0.1791545787702713, 0.059718192923423764, 0.251936126395694, 0.03359148351942587, 0.23327419110712408, 0.018661935288569926, 0.07278154762542272, 0.022394322346283912, 0.005598580586570978, 0.12130257937570452, 0.9914868827644933, 0.9840355982085407], \"Term\": [\"128\", \"128\", \"128\", \"128\", \"1993\", \"1993\", \"1993\", \"1993\", \"1993\", \"1993\", \"1993\", \"1993\", \"1993\", \"1993\", \"1993apr20\", \"1993apr20\", \"1993apr20\", \"1993apr20\", \"1993apr20\", \"1993apr20\", \"1993apr20\", \"1993apr20\", \"2000\", \"2000\", \"2000\", \"2000\", \"2000\", \"2000\", \"2000\", \"2000\", \"241\", \"241\", \"241\", \"256\", \"256\", \"256\", \"256\", \"256\", \"256\", \"486\", \"486\", \"486\", \"486\", \"486\", \"486\", \"486\", \"9760\", \"9760\", \"___\", \"___\", \"___\", \"___\", \"____\", \"____\", \"____\", \"____\", \"absolute\", \"absolute\", \"absolute\", \"absolute\", \"absolute\", \"acad3\", \"acad3\", \"access\", \"access\", \"access\", \"access\", \"access\", \"access\", \"access\", \"access\", \"access\", \"accurate\", \"accurate\", \"accurate\", \"accurate\", \"accurate\", \"accurate\", \"adams\", \"adams\", \"adams\", \"administration\", \"administration\", \"administration\", \"administration\", \"administration\", \"administration\", \"administration\", \"advance\", \"advance\", \"advance\", \"advance\", \"advance\", \"advance\", \"advance\", \"advance\", \"advance\", \"agencies\", \"agencies\", \"agencies\", \"agencies\", \"alaska\", \"alaska\", \"alaska\", \"alaska\", \"algorithm\", \"algorithm\", \"algorithm\", \"algorithm\", \"algorithm\", \"algorithm\", \"algorithm\", \"algorithm\", \"alink\", \"allan\", \"also\", \"also\", \"also\", \"also\", \"also\", \"also\", \"also\", \"also\", \"also\", \"also\", \"alt\", \"alt\", \"alt\", \"alt\", \"alt\", \"alt\", \"alt\", \"alt\", \"alt\", \"alt\", \"amendment\", \"amendment\", \"amendment\", \"amendment\", \"amiga\", \"amiga\", \"amiga\", \"amiga\", \"amiga\", \"animals\", \"animals\", \"animals\", \"animals\", \"animation\", \"animation\", \"animation\", \"animation\", \"anonymous\", \"anonymous\", \"anonymous\", \"anonymous\", \"anonymous\", \"anonymous\", \"anonymous\", \"anyone\", \"anyone\", \"anyone\", \"anyone\", \"anyone\", \"anyone\", \"anyone\", \"anyone\", \"anyone\", \"anyone\", \"appreciate\", \"appreciate\", \"appreciate\", \"appreciate\", \"appreciate\", \"appreciate\", \"appreciate\", \"appreciate\", \"argument\", \"argument\", \"argument\", \"argument\", \"argument\", \"argument\", \"argument\", \"argument\", \"article\", \"article\", \"article\", \"article\", \"article\", \"article\", \"article\", \"article\", \"article\", \"article\", \"aspects\", \"aspects\", \"aspects\", \"aspects\", \"aspects\", \"aspects\", \"aspects\", \"aspects\", \"astronomy\", \"astronomy\", \"atheism\", \"atheism\", \"atheism\", \"atheism\", \"atheism\", \"atheist\", \"atheist\", \"atheist\", \"atheists\", \"atheists\", \"atheists\", \"atheists\", \"attack\", \"attack\", \"attack\", \"attack\", \"attack\", \"attacks\", \"attacks\", \"attacks\", \"attacks\", \"available\", \"available\", \"available\", \"available\", \"available\", \"available\", \"available\", \"available\", \"available\", \"available\", \"baalke\", \"baalke\", \"baalke\", \"basis\", \"basis\", \"basis\", \"basis\", \"basis\", \"basis\", \"bear\", \"bear\", \"bear\", \"bear\", \"bear\", \"bear\", \"beauchaine\", \"beauchaine\", \"belief\", \"belief\", \"belief\", \"belief\", \"beliefs\", \"beliefs\", \"beliefs\", \"believe\", \"believe\", \"believe\", \"believe\", \"believe\", \"believe\", \"believe\", \"believe\", \"believe\", \"believe\", \"benedikt\", \"benedikt\", \"benedikt\", \"berkeley\", \"berkeley\", \"berkeley\", \"berkeley\", \"berkeley\", \"berkeley\", \"berkeley\", \"berkeley\", \"berkeley\", \"bet\", \"bet\", \"bet\", \"bet\", \"bet\", \"bet\", \"bet\", \"bet\", \"better\", \"better\", \"better\", \"better\", \"better\", \"better\", \"better\", \"better\", \"better\", \"better\", \"bible\", \"bible\", \"bible\", \"bible\", \"biblical\", \"biblical\", \"biblical\", \"biblical\", \"bill\", \"bill\", \"bill\", \"bill\", \"bill\", \"bill\", \"bill\", \"bill\", \"bill\", \"bill\", \"bios\", \"bios\", \"bios\", \"bios\", \"bit\", \"bit\", \"bit\", \"bit\", \"bit\", \"bit\", \"bit\", \"bit\", \"bit\", \"bit\", \"bits\", \"bits\", \"bits\", \"bits\", \"bits\", \"bits\", \"bits\", \"board\", \"board\", \"board\", \"board\", \"board\", \"board\", \"board\", \"board\", \"boards\", \"boards\", \"boards\", \"boards\", \"boards\", \"boards\", \"boards\", \"bobbe\", \"bobbe\", \"book\", \"book\", \"book\", \"book\", \"book\", \"book\", \"book\", \"book\", \"book\", \"book\", \"boot\", \"boot\", \"boot\", \"boot\", \"brad\", \"brad\", \"brad\", \"brad\", \"buphy\", \"bus\", \"bus\", \"bus\", \"bus\", \"bus\", \"bus\", \"business\", \"business\", \"business\", \"business\", \"business\", \"business\", \"business\", \"buy\", \"buy\", \"buy\", \"buy\", \"buy\", \"buy\", \"buy\", \"buy\", \"buy\", \"buy\", \"byte\", \"byte\", \"byte\", \"byte\", \"cache\", \"cache\", \"caltech\", \"caltech\", \"caltech\", \"caltech\", \"caltech\", \"caltech\", \"caltech\", \"can't\", \"can't\", \"can't\", \"can't\", \"can't\", \"can't\", \"can't\", \"can't\", \"can't\", \"can't\", \"card\", \"card\", \"card\", \"card\", \"card\", \"card\", \"card\", \"card\", \"cards\", \"cards\", \"cards\", \"cards\", \"cards\", \"cards\", \"cards\", \"cards\", \"care\", \"care\", \"care\", \"care\", \"care\", \"care\", \"care\", \"care\", \"care\", \"care\", \"case\", \"case\", \"case\", \"case\", \"case\", \"case\", \"case\", \"case\", \"case\", \"case\", \"cco\", \"cco\", \"cco\", \"center\", \"center\", \"center\", \"center\", \"center\", \"center\", \"center\", \"center\", \"center\", \"children\", \"children\", \"children\", \"children\", \"children\", \"chip\", \"chip\", \"chip\", \"chip\", \"chip\", \"chip\", \"chip\", \"chip\", \"chip\", \"chris\", \"chris\", \"chris\", \"chris\", \"chris\", \"chris\", \"christ\", \"christian\", \"christian\", \"christian\", \"christian\", \"christian\", \"christian\", \"christianity\", \"christianity\", \"christians\", \"christians\", \"church\", \"church\", \"cis\", \"cis\", \"cis\", \"cis\", \"cis\", \"cis\", \"classified\", \"classified\", \"classified\", \"cleveland\", \"cleveland\", \"cleveland\", \"cleveland\", \"clipper\", \"clipper\", \"clipper\", \"clipper\", \"clipper\", \"clipper\", \"clipper\", \"code\", \"code\", \"code\", \"code\", \"code\", \"code\", \"code\", \"code\", \"code\", \"code\", \"color\", \"color\", \"color\", \"color\", \"color\", \"color\", \"colorado\", \"colorado\", \"colorado\", \"colorado\", \"colorado\", \"colorado\", \"colorado\", \"com\", \"com\", \"com\", \"com\", \"com\", \"com\", \"com\", \"com\", \"com\", \"com\", \"communications\", \"communications\", \"communications\", \"communications\", \"communications\", \"communications\", \"communications\", \"communications\", \"comp\", \"comp\", \"comp\", \"comp\", \"comp\", \"comp\", \"comp\", \"comp\", \"computer\", \"computer\", \"computer\", \"computer\", \"computer\", \"computer\", \"computer\", \"computer\", \"computer\", \"computer\", \"concern\", \"concern\", \"concern\", \"concern\", \"concern\", \"concern\", \"conclusion\", \"conclusion\", \"conclusion\", \"conclusion\", \"conclusion\", \"conner\", \"conner\", \"conner\", \"conner\", \"constitution\", \"constitution\", \"constitution\", \"constitution\", \"constitution\", \"contact\", \"contact\", \"contact\", \"contact\", \"contact\", \"contact\", \"contact\", \"controller\", \"controller\", \"controller\", \"controller\", \"controller\", \"conversations\", \"conversations\", \"conversations\", \"conversations\", \"cookamunga\", \"cost\", \"cost\", \"cost\", \"cost\", \"cost\", \"cost\", \"cost\", \"cost\", \"cost\", \"cost\", \"could\", \"could\", \"could\", \"could\", \"could\", \"could\", \"could\", \"could\", \"could\", \"could\", \"cpu\", \"cpu\", \"cpu\", \"cpu\", \"craig\", \"craig\", \"craig\", \"craig\", \"craig\", \"craig\", \"crypt\", \"crypt\", \"crypt\", \"crypt\", \"crypto\", \"crypto\", \"crypto\", \"crypto\", \"cryptography\", \"cryptography\", \"cryptography\", \"cryptography\", \"cryptography\", \"cso\", \"cso\", \"cso\", \"cwru\", \"cwru\", \"cwru\", \"cwru\", \"cwru\", \"d012s658\", \"dan\", \"dan\", \"dan\", \"dan\", \"dan\", \"dan\", \"dan\", \"dan\", \"daniel\", \"daniel\", \"daniel\", \"daniel\", \"daniel\", \"daniel\", \"data\", \"data\", \"data\", \"data\", \"data\", \"data\", \"data\", \"data\", \"data\", \"data\", \"database\", \"database\", \"database\", \"dbstu1\", \"dbstu1\", \"dbstu1\", \"dec\", \"dec\", \"dec\", \"dec\", \"dec\", \"dec\", \"decrypt\", \"decrypt\", \"defined\", \"defined\", \"defined\", \"defined\", \"defined\", \"defined\", \"defined\", \"defined\", \"defined\", \"denning\", \"denning\", \"depends\", \"depends\", \"depends\", \"depends\", \"depends\", \"depends\", \"depends\", \"depends\", \"dept\", \"dept\", \"dept\", \"dept\", \"dept\", \"dept\", \"dept\", \"dept\", \"dept\", \"dept\", \"des\", \"des\", \"des\", \"des\", \"des\", \"diamond\", \"diamond\", \"diamond\", \"diamond\", \"diamond\", \"diego\", \"diego\", \"diego\", \"diego\", \"diego\", \"diego\", \"digex\", \"digex\", \"digex\", \"directory\", \"directory\", \"directory\", \"directory\", \"directory\", \"disk\", \"disk\", \"disk\", \"disk\", \"disk\", \"disk\", \"disk\", \"disk\", \"display\", \"display\", \"display\", \"display\", \"display\", \"display\", \"display\", \"distribution\", \"distribution\", \"distribution\", \"distribution\", \"distribution\", \"distribution\", \"distribution\", \"distribution\", \"distribution\", \"distribution\", \"dorothy\", \"dorothy\", \"dos\", \"dos\", \"dos\", \"dos\", \"dos\", \"dos\", \"dos\", \"dos\", \"drawing\", \"drawing\", \"drawing\", \"drawing\", \"drawing\", \"drawing\", \"drive\", \"drive\", \"drive\", \"drive\", \"drive\", \"drive\", \"drive\", \"drive\", \"drive\", \"driver\", \"driver\", \"driver\", \"driver\", \"driver\", \"driver\", \"driver\", \"drivers\", \"drivers\", \"drivers\", \"drivers\", \"drivers\", \"drivers\", \"drivers\", \"drives\", \"drives\", \"drives\", \"drives\", \"drives\", \"drives\", \"drives\", \"dseg\", \"dseg\", \"dseg\", \"earth\", \"earth\", \"earth\", \"earth\", \"earth\", \"earth\", \"earth\", \"earth\", \"earth\", \"earth\", \"eff\", \"eff\", \"eff\", \"eff\", \"eff\", \"eisa\", \"eisa\", \"electrical\", \"electrical\", \"electrical\", \"electrical\", \"electrical\", \"electrical\", \"electrical\", \"electrical\", \"electrical\", \"encrypt\", \"encrypt\", \"encrypted\", \"encrypted\", \"encrypted\", \"encryption\", \"encryption\", \"encryption\", \"encryption\", \"encryption\", \"encryption\", \"enforcement\", \"enforcement\", \"enforcement\", \"eng\", \"eng\", \"eng\", \"eng\", \"eng\", \"eng\", \"eng\", \"enough\", \"enough\", \"enough\", \"enough\", \"enough\", \"enough\", \"enough\", \"enough\", \"enough\", \"enough\", \"ensure\", \"ensure\", \"ensure\", \"ensure\", \"eric\", \"eric\", \"eric\", \"eric\", \"eric\", \"eric\", \"eric\", \"eric\", \"escrow\", \"escrow\", \"escrow\", \"escrow\", \"even\", \"even\", \"even\", \"even\", \"even\", \"even\", \"even\", \"even\", \"even\", \"even\", \"evidence\", \"evidence\", \"evidence\", \"evidence\", \"evidence\", \"evidence\", \"evidence\", \"evidence\", \"exist\", \"exist\", \"exist\", \"exist\", \"exist\", \"exist\", \"exist\", \"exist\", \"exist\", \"exist\", \"express\", \"express\", \"express\", \"express\", \"express\", \"express\", \"expressed\", \"expressed\", \"expressed\", \"expressed\", \"expressed\", \"expressed\", \"expressed\", \"expressed\", \"expressed\", \"faith\", \"faith\", \"faith\", \"faq\", \"faq\", \"faq\", \"faq\", \"faq\", \"faq\", \"faq\", \"faq\", \"faq\", \"faq\", \"father\", \"father\", \"fido\", \"fido\", \"fido\", \"fido\", \"fido\", \"file\", \"file\", \"file\", \"file\", \"file\", \"file\", \"file\", \"file\", \"file\", \"files\", \"files\", \"files\", \"files\", \"files\", \"files\", \"files\", \"files\", \"files\", \"files\", \"first\", \"first\", \"first\", \"first\", \"first\", \"first\", \"first\", \"first\", \"first\", \"first\", \"flight\", \"flight\", \"flight\", \"floppy\", \"floppy\", \"floppy\", \"floppy\", \"floppy\", \"floppy\", \"followers\", \"format\", \"format\", \"format\", \"format\", \"format\", \"format\", \"format\", \"formats\", \"formats\", \"formats\", \"formats\", \"forum\", \"forum\", \"forum\", \"forum\", \"forum\", \"forum\", \"frank\", \"frank\", \"frank\", \"frank\", \"frank\", \"fred\", \"fred\", \"fred\", \"fred\", \"fred\", \"fred\", \"fred\", \"freenet\", \"freenet\", \"freenet\", \"freenet\", \"ftp\", \"ftp\", \"ftp\", \"ftp\", \"ftp\", \"ftp\", \"fuel\", \"functions\", \"functions\", \"functions\", \"functions\", \"functions\", \"gap\", \"gap\", \"gap\", \"gap\", \"gap\", \"get\", \"get\", \"get\", \"get\", \"get\", \"get\", \"get\", \"get\", \"get\", \"get\", \"gif\", \"gif\", \"gif\", \"gif\", \"gif\", \"goal\", \"goal\", \"goal\", \"goal\", \"goal\", \"god\", \"god\", \"god\", \"god\", \"god\", \"god\", \"god\", \"god\", \"going\", \"going\", \"going\", \"going\", \"going\", \"going\", \"going\", \"going\", \"going\", \"going\", \"good\", \"good\", \"good\", \"good\", \"good\", \"good\", \"good\", \"good\", \"good\", \"good\", \"gov\", \"gov\", \"gov\", \"gov\", \"gov\", \"gov\", \"gov\", \"gov\", \"government\", \"government\", \"government\", \"government\", \"government\", \"government\", \"government\", \"government\", \"governments\", \"governments\", \"governments\", \"governments\", \"graphics\", \"graphics\", \"graphics\", \"graphics\", \"graphics\", \"graphics\", \"graphics\", \"greenbelt\", \"greenbelt\", \"gregg\", \"group\", \"group\", \"group\", \"group\", \"group\", \"group\", \"group\", \"group\", \"group\", \"group\", \"gtoal\", \"gtoal\", \"hamburg\", \"hamburg\", \"hamburg\", \"hamburg\", \"hard\", \"hard\", \"hard\", \"hard\", \"hard\", \"hard\", \"hard\", \"hard\", \"hard\", \"hello\", \"hello\", \"hello\", \"hello\", \"help\", \"help\", \"help\", \"help\", \"help\", \"help\", \"help\", \"help\", \"help\", \"help\", \"henry\", \"host\", \"host\", \"host\", \"host\", \"host\", \"host\", \"host\", \"host\", \"host\", \"host\", \"i'd\", \"i'd\", \"i'd\", \"i'd\", \"i'd\", \"i'd\", \"i'd\", \"i'd\", \"i'd\", \"i'd\", \"i'm\", \"i'm\", \"i'm\", \"i'm\", \"i'm\", \"i'm\", \"i'm\", \"i'm\", \"i'm\", \"i'm\", \"i've\", \"i've\", \"i've\", \"i've\", \"i've\", \"i've\", \"i've\", \"i've\", \"i've\", \"i've\", \"i3150101\", \"i3150101\", \"i3150101\", \"ibm\", \"ibm\", \"ibm\", \"ibm\", \"ibm\", \"ibm\", \"ibm\", \"ibm\", \"ibm\", \"ibm\", \"ico\", \"ico\", \"ico\", \"ide\", \"ide\", \"ide\", \"ide\", \"illinois\", \"illinois\", \"illinois\", \"illinois\", \"illinois\", \"image\", \"image\", \"image\", \"image\", \"image\", \"image\", \"image\", \"image\", \"images\", \"images\", \"images\", \"images\", \"images\", \"images\", \"images\", \"information\", \"information\", \"information\", \"information\", \"information\", \"information\", \"information\", \"information\", \"information\", \"information\", \"ins\", \"ins\", \"ins\", \"ins\", \"ins\", \"instruments\", \"instruments\", \"instruments\", \"instruments\", \"instruments\", \"instruments\", \"isa\", \"isa\", \"isa\", \"isa\", \"isc\", \"isc\", \"isc\", \"isc\", \"isc\", \"islam\", \"islam\", \"islam\", \"islamic\", \"islamic\", \"islamic\", \"islamic\", \"jaeger\", \"jeff\", \"jeff\", \"jeff\", \"jeff\", \"jeff\", \"jeff\", \"jeff\", \"jesus\", \"jesus\", \"jesus\", \"jesus\", \"jet\", \"jet\", \"jet\", \"jet\", \"jewish\", \"jewish\", \"jews\", \"jews\", \"john\", \"john\", \"john\", \"john\", \"john\", \"john\", \"john\", \"john\", \"john\", \"john\", \"jon\", \"jon\", \"jon\", \"jon\", \"jon\", \"jon\", \"jon\", \"jpl\", \"jpl\", \"jpl\", \"jpl\", \"jpl\", \"jsc\", \"jsc\", \"jupiter\", \"jupiter\", \"keith\", \"keith\", \"keith\", \"keith\", \"keith\", \"keith\", \"keith\", \"keith\", \"kelvin\", \"kelvin\", \"kelvin\", \"kent\", \"kent\", \"kent\", \"kent\", \"kent\", \"key\", \"key\", \"key\", \"key\", \"key\", \"key\", \"key\", \"key\", \"key\", \"key\", \"keys\", \"keys\", \"keys\", \"keys\", \"keys\", \"keywords\", \"keywords\", \"keywords\", \"keywords\", \"keywords\", \"keywords\", \"keywords\", \"keywords\", \"keywords\", \"keywords\", \"kmr4\", \"kmr4\", \"kmr4\", \"know\", \"know\", \"know\", \"know\", \"know\", \"know\", \"know\", \"know\", \"know\", \"know\", \"koresh\", \"ksand\", \"labs\", \"labs\", \"labs\", \"labs\", \"labs\", \"labs\", \"labs\", \"launch\", \"launch\", \"launch\", \"launch\", \"launch\", \"law\", \"law\", \"law\", \"law\", \"law\", \"law\", \"law\", \"law\", \"law\", \"let's\", \"let's\", \"let's\", \"let's\", \"let's\", \"let's\", \"let's\", \"let's\", \"library\", \"library\", \"library\", \"library\", \"library\", \"life\", \"life\", \"life\", \"life\", \"life\", \"life\", \"life\", \"life\", \"life\", \"life\", \"like\", \"like\", \"like\", \"like\", \"like\", \"like\", \"like\", \"like\", \"like\", \"like\", \"line\", \"line\", \"line\", \"line\", \"line\", \"line\", \"line\", \"line\", \"line\", \"livesey\", \"livesey\", \"livesey\", \"livesey\", \"looking\", \"looking\", \"looking\", \"looking\", \"looking\", \"looking\", \"looking\", \"looking\", \"looking\", \"looking\", \"los\", \"los\", \"los\", \"los\", \"los\", \"los\", \"lunar\", \"lunar\", \"machines\", \"machines\", \"machines\", \"machines\", \"machines\", \"machines\", \"machines\", \"mail\", \"mail\", \"mail\", \"mail\", \"mail\", \"mail\", \"mail\", \"mail\", \"mail\", \"mail\", \"mantis\", \"mantis\", \"mantis\", \"manufacturers\", \"manufacturers\", \"manufacturers\", \"manufacturers\", \"many\", \"many\", \"many\", \"many\", \"many\", \"many\", \"many\", \"many\", \"many\", \"many\", \"mark\", \"mark\", \"mark\", \"mark\", \"mark\", \"mark\", \"mark\", \"mark\", \"mark\", \"mark\", \"market\", \"market\", \"market\", \"market\", \"market\", \"market\", \"market\", \"mars\", \"mars\", \"mars\", \"martin\", \"martin\", \"martin\", \"martin\", \"martin\", \"martin\", \"martin\", \"mary\", \"mary\", \"mary\", \"mary\", \"mary\", \"mathematical\", \"mathematical\", \"mathematical\", \"mathematical\", \"mathematical\", \"mathematical\", \"mathematical\", \"mathematical\", \"mathematical\", \"mathew\", \"mathew\", \"mathew\", \"may\", \"may\", \"may\", \"may\", \"may\", \"may\", \"may\", \"may\", \"may\", \"may\", \"measures\", \"measures\", \"measures\", \"measures\", \"measures\", \"measures\", \"mhz\", \"mhz\", \"mhz\", \"mhz\", \"michigan\", \"michigan\", \"michigan\", \"michigan\", \"michigan\", \"michigan\", \"mission\", \"mission\", \"mission\", \"mission\", \"missions\", \"missions\", \"modem\", \"modem\", \"modem\", \"modem\", \"modem\", \"modem\", \"money\", \"money\", \"money\", \"money\", \"money\", \"money\", \"money\", \"money\", \"money\", \"monitor\", \"monitor\", \"monitor\", \"monitor\", \"monitor\", \"monitor\", \"monitor\", \"monitor\", \"moon\", \"moon\", \"moon\", \"moon\", \"moon\", \"moon\", \"moon\", \"moral\", \"moral\", \"moral\", \"moral\", \"moral\", \"morality\", \"morality\", \"morality\", \"motherboard\", \"motherboard\", \"motherboard\", \"mouse\", \"mouse\", \"mouse\", \"mouse\", \"mozumder\", \"mozumder\", \"murder\", \"murder\", \"murder\", \"murder\", \"muslim\", \"muslim\", \"muslims\", \"muslims\", \"muslims\", \"nasa\", \"nasa\", \"nasa\", \"nasa\", \"nasa\", \"nasa\", \"nasa\", \"navy\", \"navy\", \"navy\", \"navy\", \"navy\", \"navy\", \"navy\", \"navy\", \"net\", \"net\", \"net\", \"net\", \"net\", \"net\", \"net\", \"net\", \"net\", \"net\", \"netcom\", \"netcom\", \"netcom\", \"netcom\", \"netcom\", \"netcom\", \"netcom\", \"netcom\", \"netcom\", \"netcom\", \"new\", \"new\", \"new\", \"new\", \"new\", \"new\", \"new\", \"new\", \"new\", \"new\", \"news\", \"news\", \"news\", \"news\", \"news\", \"news\", \"news\", \"news\", \"news\", \"news\", \"newton\", \"newton\", \"newton\", \"nist\", \"nist\", \"nntp\", \"nntp\", \"nntp\", \"nntp\", \"nntp\", \"nntp\", \"nntp\", \"nntp\", \"nntp\", \"nntp\", \"nsa\", \"nsa\", \"nsa\", \"nsa\", \"nsa\", \"nsa\", \"nsa\", \"nsmca\", \"nsmca\", \"nsmca\", \"nuclear\", \"nuclear\", \"nuclear\", \"nuclear\", \"nuclear\", \"o'dwyer\", \"o'dwyer\", \"objective\", \"objective\", \"objective\", \"objective\", \"objective\", \"objects\", \"objects\", \"objects\", \"objects\", \"objects\", \"one\", \"one\", \"one\", \"one\", \"one\", \"one\", \"one\", \"one\", \"one\", \"one\", \"online\", \"online\", \"online\", \"online\", \"online\", \"orbit\", \"orbit\", \"orbit\", \"orbital\", \"orbital\", \"orbital\", \"package\", \"package\", \"package\", \"package\", \"packages\", \"packages\", \"packages\", \"packages\", \"pad\", \"pad\", \"pad\", \"pad\", \"pad\", \"pasadena\", \"pasadena\", \"pasadena\", \"pat\", \"pat\", \"pat\", \"pat\", \"pat\", \"people\", \"people\", \"people\", \"people\", \"people\", \"people\", \"people\", \"people\", \"people\", \"people\", \"pgp\", \"pgp\", \"pgp\", \"pgp\", \"phone\", \"phone\", \"phone\", \"phone\", \"phone\", \"phone\", \"phone\", \"phone\", \"phone\", \"phones\", \"phones\", \"phones\", \"pin\", \"pin\", \"pin\", \"pin\", \"pin\", \"pin\", \"planetary\", \"planetary\", \"planetary\", \"planetary\", \"planetary\", \"please\", \"please\", \"please\", \"please\", \"please\", \"please\", \"please\", \"please\", \"please\", \"please\", \"points\", \"points\", \"points\", \"points\", \"points\", \"points\", \"points\", \"points\", \"police\", \"police\", \"police\", \"police\", \"political\", \"political\", \"political\", \"political\", \"political\", \"political\", \"political\", \"political\", \"port\", \"port\", \"port\", \"ports\", \"ports\", \"ports\", \"ports\", \"post\", \"post\", \"post\", \"post\", \"post\", \"post\", \"post\", \"post\", \"post\", \"post\", \"posting\", \"posting\", \"posting\", \"posting\", \"posting\", \"posting\", \"posting\", \"posting\", \"posting\", \"posting\", \"prb\", \"print\", \"print\", \"print\", \"print\", \"print\", \"print\", \"print\", \"privacy\", \"privacy\", \"privacy\", \"privacy\", \"privacy\", \"problem\", \"problem\", \"problem\", \"problem\", \"problem\", \"problem\", \"problem\", \"problem\", \"problem\", \"problem\", \"processing\", \"processing\", \"processing\", \"program\", \"program\", \"program\", \"program\", \"program\", \"program\", \"program\", \"program\", \"program\", \"program\", \"proposal\", \"proposal\", \"proposal\", \"proposal\", \"proposal\", \"proposal\", \"proposal\", \"propulsion\", \"propulsion\", \"protect\", \"protect\", \"protect\", \"protect\", \"psu\", \"psu\", \"psu\", \"psu\", \"psu\", \"psuvm\", \"psuvm\", \"psuvm\", \"psuvm\", \"pub\", \"pub\", \"pub\", \"pub\", \"pub\", \"public\", \"public\", \"public\", \"public\", \"public\", \"public\", \"public\", \"public\", \"public\", \"public\", \"punisher\", \"read\", \"read\", \"read\", \"read\", \"read\", \"read\", \"read\", \"read\", \"read\", \"read\", \"readers\", \"readers\", \"readers\", \"readers\", \"readers\", \"religion\", \"religion\", \"religion\", \"religion\", \"religion\", \"religions\", \"religious\", \"reply\", \"reply\", \"reply\", \"reply\", \"reply\", \"reply\", \"reply\", \"reply\", \"reply\", \"reply\", \"represents\", \"represents\", \"represents\", \"represents\", \"represents\", \"represents\", \"represents\", \"research\", \"research\", \"research\", \"research\", \"research\", \"research\", \"research\", \"research\", \"research\", \"research\", \"reserve\", \"reserve\", \"reserve\", \"reserve\", \"reverse\", \"reverse\", \"reverse\", \"reverse\", \"reverse\", \"reverse\", \"reverse\", \"rice\", \"rice\", \"rice\", \"rice\", \"rice\", \"right\", \"right\", \"right\", \"right\", \"right\", \"right\", \"right\", \"right\", \"right\", \"right\", \"rit\", \"rit\", \"rit\", \"rit\", \"rob\", \"rob\", \"rob\", \"rob\", \"rob\", \"rob\", \"rob\", \"rob\", \"rob\", \"rocket\", \"rocket\", \"rocket\", \"rockets\", \"rockets\", \"rockets\", \"rom\", \"rom\", \"rom\", \"rom\", \"rom\", \"rom\", \"rom\", \"rosenau\", \"rosenau\", \"rosenau\", \"routines\", \"routines\", \"routines\", \"routines\", \"routines\", \"rsa\", \"rsa\", \"rushdie\", \"russian\", \"russian\", \"russian\", \"ryan\", \"ryan\", \"ryan\", \"ryan\", \"said\", \"said\", \"said\", \"said\", \"said\", \"said\", \"said\", \"said\", \"said\", \"said\", \"sandvik\", \"satellite\", \"satellite\", \"satellite\", \"satellites\", \"say\", \"say\", \"say\", \"say\", \"say\", \"say\", \"say\", \"say\", \"say\", \"say\", \"schneider\", \"schneider\", \"sci\", \"sci\", \"sci\", \"sci\", \"sci\", \"sci\", \"sci\", \"sci\", \"science\", \"science\", \"science\", \"science\", \"science\", \"science\", \"science\", \"science\", \"science\", \"science\", \"screen\", \"screen\", \"screen\", \"screen\", \"screen\", \"screen\", \"screen\", \"scsi\", \"scsi\", \"scsi\", \"scsi\", \"sec\", \"sec\", \"sec\", \"sec\", \"sec\", \"sec\", \"secret\", \"secret\", \"secret\", \"secret\", \"secret\", \"secret\", \"secret\", \"secure\", \"secure\", \"secure\", \"secure\", \"secure\", \"security\", \"security\", \"security\", \"security\", \"security\", \"security\", \"see\", \"see\", \"see\", \"see\", \"see\", \"see\", \"see\", \"see\", \"see\", \"see\", \"send\", \"send\", \"send\", \"send\", \"send\", \"send\", \"send\", \"send\", \"send\", \"send\", \"server\", \"server\", \"server\", \"server\", \"server\", \"server\", \"server\", \"server\", \"settings\", \"settings\", \"settings\", \"settings\", \"settings\", \"setup\", \"setup\", \"setup\", \"setup\", \"setup\", \"setup\", \"sgi\", \"sgi\", \"sgi\", \"sgi\", \"sgi\", \"sgi\", \"shuttle\", \"shuttle\", \"significance\", \"significance\", \"significance\", \"significance\", \"significance\", \"significance\", \"simon\", \"simon\", \"simon\", \"simon\", \"simon\", \"sites\", \"sites\", \"sites\", \"sites\", \"sites\", \"sites\", \"sites\", \"software\", \"software\", \"software\", \"software\", \"software\", \"software\", \"software\", \"software\", \"software\", \"software\", \"solar\", \"solar\", \"solntze\", \"solntze\", \"solntze\", \"southern\", \"southern\", \"southern\", \"southern\", \"southern\", \"space\", \"space\", \"space\", \"space\", \"space\", \"space\", \"space\", \"space\", \"space\", \"spacecraft\", \"spacecraft\", \"speed\", \"speed\", \"speed\", \"speed\", \"speed\", \"speed\", \"speed\", \"speed\", \"speed\", \"speed\", \"spencer\", \"split\", \"split\", \"split\", \"split\", \"split\", \"spot\", \"spot\", \"spot\", \"spot\", \"spot\", \"spot\", \"spot\", \"state\", \"state\", \"state\", \"state\", \"state\", \"state\", \"state\", \"state\", \"state\", \"state\", \"station\", \"station\", \"station\", \"station\", \"station\", \"station\", \"station\", \"station\", \"sternlight\", \"sternlight\", \"steve\", \"steve\", \"steve\", \"steve\", \"steve\", \"steve\", \"steve\", \"steve\", \"steve\", \"strnlght\", \"strnlght\", \"student\", \"student\", \"student\", \"student\", \"student\", \"student\", \"student\", \"student\", \"student\", \"sun\", \"sun\", \"sun\", \"sun\", \"sun\", \"sun\", \"sun\", \"sun\", \"sun\", \"sure\", \"sure\", \"sure\", \"sure\", \"sure\", \"sure\", \"sure\", \"sure\", \"sure\", \"sure\", \"sys\", \"sys\", \"sys\", \"sys\", \"sys\", \"sys\", \"sys\", \"system\", \"system\", \"system\", \"system\", \"system\", \"system\", \"system\", \"system\", \"system\", \"system\", \"tape\", \"tape\", \"tape\", \"tape\", \"tape\", \"tape\", \"tape\", \"tape\", \"tapped\", \"tapped\", \"tapped\", \"tapped\", \"technology\", \"technology\", \"technology\", \"technology\", \"technology\", \"technology\", \"technology\", \"technology\", \"technology\", \"tek\", \"tek\", \"tek\", \"tek\", \"tek\", \"thanks\", \"thanks\", \"thanks\", \"thanks\", \"thanks\", \"thanks\", \"thanks\", \"thanks\", \"thanks\", \"therefore\", \"therefore\", \"therefore\", \"therefore\", \"therefore\", \"therefore\", \"therefore\", \"therefore\", \"therefore\", \"therefore\", \"they'll\", \"they'll\", \"they'll\", \"they'll\", \"things\", \"things\", \"things\", \"things\", \"things\", \"things\", \"things\", \"things\", \"things\", \"things\", \"think\", \"think\", \"think\", \"think\", \"think\", \"think\", \"think\", \"think\", \"think\", \"think\", \"thomas\", \"thomas\", \"thomas\", \"thomas\", \"thomas\", \"thomas\", \"thomas\", \"thomas\", \"thomas\", \"tiff\", \"tiff\", \"time\", \"time\", \"time\", \"time\", \"time\", \"time\", \"time\", \"time\", \"time\", \"time\", \"toal\", \"toal\", \"toronto\", \"toronto\", \"toronto\", \"toronto\", \"tourist\", \"trade\", \"trade\", \"trade\", \"trade\", \"trade\", \"trade\", \"trade\", \"true\", \"true\", \"true\", \"true\", \"true\", \"true\", \"true\", \"true\", \"true\", \"true\", \"trust\", \"trust\", \"trust\", \"trust\", \"trust\", \"trust\", \"trust\", \"trust\", \"trust\", \"two\", \"two\", \"two\", \"two\", \"two\", \"two\", \"two\", \"two\", \"two\", \"two\", \"type\", \"type\", \"type\", \"type\", \"type\", \"type\", \"type\", \"type\", \"type\", \"uiuc\", \"uiuc\", \"uiuc\", \"uiuc\", \"uiuc\", \"uiuc\", \"uiuc\", \"ultb\", \"ultb\", \"ultb\", \"ultb\", \"ultb\", \"umd\", \"umd\", \"umd\", \"umd\", \"umd\", \"umd\", \"umd\", \"umd\", \"umich\", \"umich\", \"umich\", \"umich\", \"univ\", \"univ\", \"univ\", \"univ\", \"univ\", \"univ\", \"univ\", \"univ\", \"univ\", \"university\", \"university\", \"university\", \"university\", \"university\", \"university\", \"university\", \"university\", \"university\", \"university\", \"unix\", \"unix\", \"unix\", \"unix\", \"unix\", \"unix\", \"unix\", \"unix\", \"unix\", \"unix\", \"urbana\", \"urbana\", \"urbana\", \"urbana\", \"usa\", \"usa\", \"usa\", \"usa\", \"usa\", \"usa\", \"usa\", \"usa\", \"usa\", \"use\", \"use\", \"use\", \"use\", \"use\", \"use\", \"use\", \"use\", \"use\", \"use\", \"used\", \"used\", \"used\", \"used\", \"used\", \"used\", \"used\", \"used\", \"used\", \"used\", \"utexas\", \"utexas\", \"utexas\", \"utexas\", \"utexas\", \"utexas\", \"utexas\", \"utexas\", \"utexas\", \"utzoo\", \"uucp\", \"uucp\", \"uucp\", \"uucp\", \"uucp\", \"uucp\", \"uucp\", \"uucp\", \"uucp\", \"uucp\", \"uwo\", \"uwo\", \"uwo\", \"uwo\", \"uwo\", \"value\", \"value\", \"value\", \"value\", \"value\", \"value\", \"value\", \"value\", \"value\", \"values\", \"values\", \"values\", \"values\", \"values\", \"values\", \"values\", \"values\", \"van\", \"van\", \"van\", \"van\", \"van\", \"van\", \"vax\", \"vax\", \"vax\", \"vax\", \"vax\", \"vax\", \"vehicle\", \"vehicle\", \"vehicle\", \"version\", \"version\", \"version\", \"version\", \"version\", \"version\", \"version\", \"version\", \"version\", \"version\", \"vga\", \"vga\", \"vga\", \"vga\", \"vga\", \"vga\", \"vice\", \"vice\", \"vice\", \"vice\", \"vice\", \"vice\", \"video\", \"video\", \"video\", \"video\", \"video\", \"video\", \"video\", \"video\", \"visible\", \"visible\", \"visible\", \"visible\", \"visible\", \"visible\", \"visible\", \"vlb\", \"vlb\", \"vlb\", \"vnet\", \"vnet\", \"vnet\", \"vnet\", \"vnews\", \"vnews\", \"vnews\", \"want\", \"want\", \"want\", \"want\", \"want\", \"want\", \"want\", \"want\", \"want\", \"want\", \"warrant\", \"warrant\", \"warrant\", \"warrant\", \"washington\", \"washington\", \"washington\", \"washington\", \"washington\", \"washington\", \"washington\", \"washington\", \"way\", \"way\", \"way\", \"way\", \"way\", \"way\", \"way\", \"way\", \"way\", \"way\", \"we're\", \"we're\", \"we're\", \"we're\", \"we're\", \"we're\", \"we're\", \"we're\", \"well\", \"well\", \"well\", \"well\", \"well\", \"well\", \"well\", \"well\", \"well\", \"well\", \"western\", \"western\", \"western\", \"western\", \"western\", \"western\", \"western\", \"wiretap\", \"wiretap\", \"wiretap\", \"wondering\", \"wondering\", \"wondering\", \"wondering\", \"wondering\", \"wondering\", \"wondering\", \"wondering\", \"work\", \"work\", \"work\", \"work\", \"work\", \"work\", \"work\", \"work\", \"work\", \"work\", \"world\", \"world\", \"world\", \"world\", \"world\", \"world\", \"world\", \"world\", \"world\", \"world\", \"would\", \"would\", \"would\", \"would\", \"would\", \"would\", \"would\", \"would\", \"would\", \"would\", \"wpd\", \"wpd\", \"wpd\", \"wpd\", \"year\", \"year\", \"year\", \"year\", \"year\", \"year\", \"year\", \"year\", \"year\", \"years\", \"years\", \"years\", \"years\", \"years\", \"years\", \"years\", \"years\", \"years\", \"years\", \"zoo\", \"zoology\"]}, \"R\": 30, \"lambda.step\": 0.01, \"plot.opts\": {\"xlab\": \"PC1\", \"ylab\": \"PC2\"}, \"topic.order\": [9, 6, 10, 8, 5, 7, 4, 1, 3, 2]};\n",
       "\n",
       "function LDAvis_load_lib(url, callback){\n",
       "  var s = document.createElement('script');\n",
       "  s.src = url;\n",
       "  s.async = true;\n",
       "  s.onreadystatechange = s.onload = callback;\n",
       "  s.onerror = function(){console.warn(\"failed to load library \" + url);};\n",
       "  document.getElementsByTagName(\"head\")[0].appendChild(s);\n",
       "}\n",
       "\n",
       "if(typeof(LDAvis) !== \"undefined\"){\n",
       "   // already loaded: just create the visualization\n",
       "   !function(LDAvis){\n",
       "       new LDAvis(\"#\" + \"ldavis_el4904414176136299688685469008\", ldavis_el4904414176136299688685469008_data);\n",
       "   }(LDAvis);\n",
       "}else if(typeof define === \"function\" && define.amd){\n",
       "   // require.js is available: use it to load d3/LDAvis\n",
       "   require.config({paths: {d3: \"https://d3js.org/d3.v5\"}});\n",
       "   require([\"d3\"], function(d3){\n",
       "      window.d3 = d3;\n",
       "      LDAvis_load_lib(\"https://cdn.jsdelivr.net/gh/bmabey/pyLDAvis@3.3.1/pyLDAvis/js/ldavis.v3.0.0.js\", function(){\n",
       "        new LDAvis(\"#\" + \"ldavis_el4904414176136299688685469008\", ldavis_el4904414176136299688685469008_data);\n",
       "      });\n",
       "    });\n",
       "}else{\n",
       "    // require.js not available: dynamically load d3 & LDAvis\n",
       "    LDAvis_load_lib(\"https://d3js.org/d3.v5.js\", function(){\n",
       "         LDAvis_load_lib(\"https://cdn.jsdelivr.net/gh/bmabey/pyLDAvis@3.3.1/pyLDAvis/js/ldavis.v3.0.0.js\", function(){\n",
       "                 new LDAvis(\"#\" + \"ldavis_el4904414176136299688685469008\", ldavis_el4904414176136299688685469008_data);\n",
       "            })\n",
       "         });\n",
       "}\n",
       "</script>"
      ],
      "text/plain": [
       "PreparedData(topic_coordinates=              x         y  topics  cluster       Freq\n",
       "topic                                                \n",
       "8     -0.137200  0.040249       1        1  22.655416\n",
       "5      0.065990  0.123620       2        1  14.522776\n",
       "9      0.072133  0.092872       3        1  12.987437\n",
       "7      0.138320  0.043609       4        1  11.020437\n",
       "4     -0.021828  0.007495       5        1   9.298365\n",
       "6      0.072783 -0.094709       6        1   9.118869\n",
       "3      0.027374 -0.054949       7        1   8.494165\n",
       "0     -0.040786 -0.129974       8        1   4.524071\n",
       "2      0.005359 -0.091972       9        1   4.051827\n",
       "1     -0.182144  0.063761      10        1   3.326637, topic_info=            Term         Freq        Total Category  logprob  loglift\n",
       "538        space  1487.000000  1487.000000  Default  30.0000  30.0000\n",
       "20           com  3752.000000  3752.000000  Default  29.0000  29.0000\n",
       "834          key  1316.000000  1316.000000  Default  28.0000  28.0000\n",
       "1551        scsi   741.000000   741.000000  Default  27.0000  27.0000\n",
       "70       posting  1723.000000  1723.000000  Default  26.0000  26.0000\n",
       "...          ...          ...          ...      ...      ...      ...\n",
       "65        people    64.445774  1672.571326  Topic10  -5.1558   0.1469\n",
       "789          sci    53.265337   309.474053  Topic10  -5.3463   1.6436\n",
       "602   university    56.862740  1487.218103  Topic10  -5.2810   0.1392\n",
       "294         time    55.767882  1187.715297  Topic10  -5.3004   0.3446\n",
       "315       better    54.193100   564.543676  Topic10  -5.3290   1.0597\n",
       "\n",
       "[592 rows x 6 columns], token_table=      Topic      Freq     Term\n",
       "term                          \n",
       "1359      1  0.006274      128\n",
       "1359      2  0.069013      128\n",
       "1359      3  0.037643      128\n",
       "1359      4  0.878342      128\n",
       "153       1  0.057463     1993\n",
       "...     ...       ...      ...\n",
       "343       8  0.022394    years\n",
       "343       9  0.005599    years\n",
       "343      10  0.121303    years\n",
       "704       3  0.991487      zoo\n",
       "705       3  0.984036  zoology\n",
       "\n",
       "[2804 rows x 3 columns], R=30, lambda_step=0.01, plot_opts={'xlab': 'PC1', 'ylab': 'PC2'}, topic_order=[9, 6, 10, 8, 5, 7, 4, 1, 3, 2])"
      ]
     },
     "execution_count": 78,
     "metadata": {},
     "output_type": "execute_result"
    }
   ],
   "source": [
    "import pyLDAvis\n",
    "import pyLDAvis.gensim_models as gensimvis\n",
    "pyLDAvis.enable_notebook()\n",
    "\n",
    "# feed the LDA model into the pyLDAvis instance\n",
    "lda_viz = gensimvis.prepare(model, corpus, dictionary)\n",
    "lda_viz"
   ]
  },
  {
   "cell_type": "code",
   "execution_count": 79,
   "metadata": {},
   "outputs": [
    {
     "name": "stdout",
     "output_type": "stream",
     "text": [
      "-1.7493528544065975\n"
     ]
    }
   ],
   "source": [
    "from gensim.models import CoherenceModel\n",
    "\n",
    "cm = CoherenceModel(model=model, corpus=corpus, coherence='u_mass')\n",
    "coherence = cm.get_coherence()\n",
    "print(coherence)"
   ]
  },
  {
   "cell_type": "code",
   "execution_count": 80,
   "metadata": {},
   "outputs": [],
   "source": [
    "def show_coherence(corpus, dictionary, start=6, end=15):\n",
    "    iter_num = []\n",
    "    per_value = []\n",
    "    coh_value = []\n",
    "\n",
    "    for i in range(start, end + 1):\n",
    "        model = LdaModel(corpus=corpus, id2word=dictionary,\n",
    "                 chunksize=1000, num_topics=i,\n",
    "                 random_state=7)\n",
    "        iter_num.append(i)\n",
    "        pv = model.log_perplexity(corpus)\n",
    "        per_value.append(pv)\n",
    "        \n",
    "        cm = CoherenceModel(model=model, corpus=corpus, \n",
    "                            coherence='u_mass')\n",
    "        cv = cm.get_coherence()\n",
    "        coh_value.append(cv)\n",
    "        print(f'num_topics: {i}, perplexity: {pv:0.3f}, coherence: {cv:0.3f}')\n",
    "\n",
    "    plt.plot(iter_num, per_value, 'g-')\n",
    "    plt.xlabel(\"num_topics\")\n",
    "    plt.ylabel(\"perplexity\")\n",
    "    plt.show()\n",
    "\n",
    "    plt.plot(iter_num, coh_value, 'r--')\n",
    "    plt.xlabel(\"num_topics\")\n",
    "    plt.ylabel(\"coherence\")\n",
    "    plt.show()"
   ]
  },
  {
   "cell_type": "code",
   "execution_count": 81,
   "metadata": {},
   "outputs": [
    {
     "name": "stdout",
     "output_type": "stream",
     "text": [
      "num_topics: 6, perplexity: -7.035, coherence: -1.701\n",
      "num_topics: 7, perplexity: -7.023, coherence: -1.735\n",
      "num_topics: 8, perplexity: -7.023, coherence: -1.547\n",
      "num_topics: 9, perplexity: -7.007, coherence: -1.891\n",
      "num_topics: 10, perplexity: -6.996, coherence: -1.888\n",
      "num_topics: 11, perplexity: -7.027, coherence: -2.164\n",
      "num_topics: 12, perplexity: -7.019, coherence: -2.018\n",
      "num_topics: 13, perplexity: -7.025, coherence: -2.255\n",
      "num_topics: 14, perplexity: -7.020, coherence: -2.082\n",
      "num_topics: 15, perplexity: -7.019, coherence: -2.521\n"
     ]
    },
    {
     "data": {
      "image/png": "[encoded data removed]",
      "text/plain": [
       "<Figure size 432x288 with 1 Axes>"
      ]
     },
     "metadata": {
      "needs_background": "light"
     },
     "output_type": "display_data"
    },
    {
     "data": {
      "image/png": "[encoded data removed]",
      "text/plain": [
       "<Figure size 432x288 with 1 Axes>"
      ]
     },
     "metadata": {
      "needs_background": "light"
     },
     "output_type": "display_data"
    }
   ],
   "source": [
    "show_coherence(corpus, dictionary, start=6, end=15)"
   ]
  },
  {
   "cell_type": "code",
   "execution_count": 82,
   "metadata": {},
   "outputs": [],
   "source": [
    "import os\n",
    "import wget\n",
    "import ssl"
   ]
  },
  {
   "cell_type": "code",
   "execution_count": 83,
   "metadata": {},
   "outputs": [],
   "source": [
    "data_dir = 'data'\n",
    "url = 'https://s3.ap-northeast-2.amazonaws.com/data10902/petition/petition_sampled.csv'\n",
    "ssl._create_default_https_context = ssl._create_unverified_context"
   ]
  },
  {
   "cell_type": "code",
   "execution_count": 84,
   "metadata": {},
   "outputs": [
    {
     "data": {
      "text/plain": [
       "False"
      ]
     },
     "execution_count": 84,
     "metadata": {},
     "output_type": "execute_result"
    }
   ],
   "source": [
    "os.path.exists(data_dir)"
   ]
  },
  {
   "cell_type": "code",
   "execution_count": 85,
   "metadata": {},
   "outputs": [],
   "source": [
    "if not os.path.exists(data_dir):\n",
    "    os.mkdir(data_dir)"
   ]
  },
  {
   "cell_type": "code",
   "execution_count": 86,
   "metadata": {},
   "outputs": [
    {
     "data": {
      "text/plain": [
       "'data/petition_sampled.csv'"
      ]
     },
     "execution_count": 86,
     "metadata": {},
     "output_type": "execute_result"
    }
   ],
   "source": [
    "wget.download(url, data_dir)"
   ]
  },
  {
   "cell_type": "code",
   "execution_count": 87,
   "metadata": {},
   "outputs": [],
   "source": [
    "import pandas as pd"
   ]
  },
  {
   "cell_type": "code",
   "execution_count": 88,
   "metadata": {},
   "outputs": [
    {
     "data": {
      "text/html": [
       "<div>\n",
       "<style scoped>\n",
       "    .dataframe tbody tr th:only-of-type {\n",
       "        vertical-align: middle;\n",
       "    }\n",
       "\n",
       "    .dataframe tbody tr th {\n",
       "        vertical-align: top;\n",
       "    }\n",
       "\n",
       "    .dataframe thead th {\n",
       "        text-align: right;\n",
       "    }\n",
       "</style>\n",
       "<table border=\"1\" class=\"dataframe\">\n",
       "  <thead>\n",
       "    <tr style=\"text-align: right;\">\n",
       "      <th></th>\n",
       "      <th>article_id</th>\n",
       "      <th>start</th>\n",
       "      <th>end</th>\n",
       "      <th>answered</th>\n",
       "      <th>votes</th>\n",
       "      <th>category</th>\n",
       "      <th>title</th>\n",
       "      <th>content</th>\n",
       "    </tr>\n",
       "  </thead>\n",
       "  <tbody>\n",
       "    <tr>\n",
       "      <th>0</th>\n",
       "      <td>58</td>\n",
       "      <td>2017-08-19</td>\n",
       "      <td>2017-11-17</td>\n",
       "      <td>0</td>\n",
       "      <td>21</td>\n",
       "      <td>일자리</td>\n",
       "      <td>국토교통부와 한국주택협회가 행한 부당한 행위와 권력남용에 대한 내용을 청원드립니다.</td>\n",
       "      <td>안녕하세요? 존경하고 지지하는 문재인 대통령님!\\n저는 성남시 분당구 정자동 주택전...</td>\n",
       "    </tr>\n",
       "    <tr>\n",
       "      <th>1</th>\n",
       "      <td>63</td>\n",
       "      <td>2017-08-20</td>\n",
       "      <td>2017-09-04</td>\n",
       "      <td>0</td>\n",
       "      <td>1</td>\n",
       "      <td>보건복지</td>\n",
       "      <td>살려주세요..</td>\n",
       "      <td>안녕하십니까?\\n저는 올해 63세된 홀로 사는 늙은 여자입니다...\\n작년 중복날 ...</td>\n",
       "    </tr>\n",
       "    <tr>\n",
       "      <th>2</th>\n",
       "      <td>136</td>\n",
       "      <td>2017-08-20</td>\n",
       "      <td>2017-11-18</td>\n",
       "      <td>0</td>\n",
       "      <td>4</td>\n",
       "      <td>육아/교육</td>\n",
       "      <td>고등학교 교육 내용 수준을 낮춰주시고 실용적인 내용을 담아주세요!</td>\n",
       "      <td>저는 광주에 사는 중3 학생입니다. 고등학교 가기 직전의 학년이라 어느 때보다 고등...</td>\n",
       "    </tr>\n",
       "    <tr>\n",
       "      <th>3</th>\n",
       "      <td>141</td>\n",
       "      <td>2017-08-20</td>\n",
       "      <td>2017-08-27</td>\n",
       "      <td>0</td>\n",
       "      <td>0</td>\n",
       "      <td>기타</td>\n",
       "      <td>한국문화에 창조적요소를 심자</td>\n",
       "      <td>안녕하십니까\\n저는 92년 한국을 알게된  종국동포 입니다.\\n[저는 한 중소기업에...</td>\n",
       "    </tr>\n",
       "    <tr>\n",
       "      <th>4</th>\n",
       "      <td>148</td>\n",
       "      <td>2017-08-20</td>\n",
       "      <td>2017-11-18</td>\n",
       "      <td>0</td>\n",
       "      <td>7</td>\n",
       "      <td>외교/통일/국방</td>\n",
       "      <td>다문화정책 및 할랄 인증 제도</td>\n",
       "      <td>대한민국과 국민을 위해 밤낮 없이 수고하시는 대통령을 비롯한 위정자 분들께\\n대한민...</td>\n",
       "    </tr>\n",
       "    <tr>\n",
       "      <th>...</th>\n",
       "      <td>...</td>\n",
       "      <td>...</td>\n",
       "      <td>...</td>\n",
       "      <td>...</td>\n",
       "      <td>...</td>\n",
       "      <td>...</td>\n",
       "      <td>...</td>\n",
       "      <td>...</td>\n",
       "    </tr>\n",
       "    <tr>\n",
       "      <th>18072</th>\n",
       "      <td>468520</td>\n",
       "      <td>2018-12-13</td>\n",
       "      <td>2019-01-12</td>\n",
       "      <td>0</td>\n",
       "      <td>9</td>\n",
       "      <td>정치개혁</td>\n",
       "      <td>자유당 의원정수 200명으로 줄이자</td>\n",
       "      <td>http://m.hani.co.kr/arti/politics/assembly/868...</td>\n",
       "    </tr>\n",
       "    <tr>\n",
       "      <th>18073</th>\n",
       "      <td>468529</td>\n",
       "      <td>2018-12-13</td>\n",
       "      <td>2019-01-12</td>\n",
       "      <td>0</td>\n",
       "      <td>48</td>\n",
       "      <td>외교/통일/국방</td>\n",
       "      <td>김정은 우상 숭배 단체 모두 처벌 청원...</td>\n",
       "      <td>솔직히 김정은이 남한에 온다고 특별히 달라지는 건 없지만...\\n기약 없는 김정은의...</td>\n",
       "    </tr>\n",
       "    <tr>\n",
       "      <th>18074</th>\n",
       "      <td>468582</td>\n",
       "      <td>2018-12-13</td>\n",
       "      <td>2019-01-12</td>\n",
       "      <td>0</td>\n",
       "      <td>36</td>\n",
       "      <td>외교/통일/국방</td>\n",
       "      <td>외국인 배우자 초청 비자 불허한 영사 직권남용 규탄</td>\n",
       "      <td>주우즈베키스탄 담당 한국인 영사 정길수에게 여러 차례 전화를 시도를 하여도 연결이 ...</td>\n",
       "    </tr>\n",
       "    <tr>\n",
       "      <th>18075</th>\n",
       "      <td>468598</td>\n",
       "      <td>2018-12-13</td>\n",
       "      <td>2019-01-12</td>\n",
       "      <td>0</td>\n",
       "      <td>18</td>\n",
       "      <td>외교/통일/국방</td>\n",
       "      <td>남북통일 이루는것 보다 (박근혜.이명박) 전 대통령님 두 분 석방 통일을 시키는 것...</td>\n",
       "      <td>존경하는 문재인 대통령님\\n남북통일을 빠르게 이루는 것 보다\\n박근혜 전 대통령님과...</td>\n",
       "    </tr>\n",
       "    <tr>\n",
       "      <th>18076</th>\n",
       "      <td>468651</td>\n",
       "      <td>2018-12-13</td>\n",
       "      <td>2019-01-12</td>\n",
       "      <td>0</td>\n",
       "      <td>50</td>\n",
       "      <td>교통/건축/국토</td>\n",
       "      <td>인천시민으로서 정부에 고합니다</td>\n",
       "      <td>저는 지하철3변을 환승하여 서울 출근하는 워킹 맘입니다\\n서울로 이사를 하고 싶지만...</td>\n",
       "    </tr>\n",
       "  </tbody>\n",
       "</table>\n",
       "<p>18077 rows × 8 columns</p>\n",
       "</div>"
      ],
      "text/plain": [
       "       article_id       start         end  answered  votes  category  \\\n",
       "0              58  2017-08-19  2017-11-17         0     21       일자리   \n",
       "1              63  2017-08-20  2017-09-04         0      1      보건복지   \n",
       "2             136  2017-08-20  2017-11-18         0      4     육아/교육   \n",
       "3             141  2017-08-20  2017-08-27         0      0        기타   \n",
       "4             148  2017-08-20  2017-11-18         0      7  외교/통일/국방   \n",
       "...           ...         ...         ...       ...    ...       ...   \n",
       "18072      468520  2018-12-13  2019-01-12         0      9      정치개혁   \n",
       "18073      468529  2018-12-13  2019-01-12         0     48  외교/통일/국방   \n",
       "18074      468582  2018-12-13  2019-01-12         0     36  외교/통일/국방   \n",
       "18075      468598  2018-12-13  2019-01-12         0     18  외교/통일/국방   \n",
       "18076      468651  2018-12-13  2019-01-12         0     50  교통/건축/국토   \n",
       "\n",
       "                                                   title  \\\n",
       "0         국토교통부와 한국주택협회가 행한 부당한 행위와 권력남용에 대한 내용을 청원드립니다.   \n",
       "1                                                살려주세요..   \n",
       "2                   고등학교 교육 내용 수준을 낮춰주시고 실용적인 내용을 담아주세요!   \n",
       "3                                        한국문화에 창조적요소를 심자   \n",
       "4                                       다문화정책 및 할랄 인증 제도   \n",
       "...                                                  ...   \n",
       "18072                                자유당 의원정수 200명으로 줄이자   \n",
       "18073                           김정은 우상 숭배 단체 모두 처벌 청원...   \n",
       "18074                       외국인 배우자 초청 비자 불허한 영사 직권남용 규탄   \n",
       "18075  남북통일 이루는것 보다 (박근혜.이명박) 전 대통령님 두 분 석방 통일을 시키는 것...   \n",
       "18076                                   인천시민으로서 정부에 고합니다   \n",
       "\n",
       "                                                 content  \n",
       "0      안녕하세요? 존경하고 지지하는 문재인 대통령님!\\n저는 성남시 분당구 정자동 주택전...  \n",
       "1      안녕하십니까?\\n저는 올해 63세된 홀로 사는 늙은 여자입니다...\\n작년 중복날 ...  \n",
       "2      저는 광주에 사는 중3 학생입니다. 고등학교 가기 직전의 학년이라 어느 때보다 고등...  \n",
       "3      안녕하십니까\\n저는 92년 한국을 알게된  종국동포 입니다.\\n[저는 한 중소기업에...  \n",
       "4      대한민국과 국민을 위해 밤낮 없이 수고하시는 대통령을 비롯한 위정자 분들께\\n대한민...  \n",
       "...                                                  ...  \n",
       "18072  http://m.hani.co.kr/arti/politics/assembly/868...  \n",
       "18073  솔직히 김정은이 남한에 온다고 특별히 달라지는 건 없지만...\\n기약 없는 김정은의...  \n",
       "18074  주우즈베키스탄 담당 한국인 영사 정길수에게 여러 차례 전화를 시도를 하여도 연결이 ...  \n",
       "18075  존경하는 문재인 대통령님\\n남북통일을 빠르게 이루는 것 보다\\n박근혜 전 대통령님과...  \n",
       "18076  저는 지하철3변을 환승하여 서울 출근하는 워킹 맘입니다\\n서울로 이사를 하고 싶지만...  \n",
       "\n",
       "[18077 rows x 8 columns]"
      ]
     },
     "execution_count": 88,
     "metadata": {},
     "output_type": "execute_result"
    }
   ],
   "source": [
    "df = pd.read_csv(\"./data/petition_sampled.csv\")\n",
    "df"
   ]
  },
  {
   "cell_type": "code",
   "execution_count": 90,
   "metadata": {},
   "outputs": [
    {
     "data": {
      "text/html": [
       "<div>\n",
       "<style scoped>\n",
       "    .dataframe tbody tr th:only-of-type {\n",
       "        vertical-align: middle;\n",
       "    }\n",
       "\n",
       "    .dataframe tbody tr th {\n",
       "        vertical-align: top;\n",
       "    }\n",
       "\n",
       "    .dataframe thead th {\n",
       "        text-align: right;\n",
       "    }\n",
       "</style>\n",
       "<table border=\"1\" class=\"dataframe\">\n",
       "  <thead>\n",
       "    <tr style=\"text-align: right;\">\n",
       "      <th></th>\n",
       "      <th>article_id</th>\n",
       "      <th>start</th>\n",
       "      <th>end</th>\n",
       "      <th>answered</th>\n",
       "      <th>votes</th>\n",
       "      <th>category</th>\n",
       "      <th>title</th>\n",
       "      <th>content</th>\n",
       "    </tr>\n",
       "  </thead>\n",
       "  <tbody>\n",
       "    <tr>\n",
       "      <th>2</th>\n",
       "      <td>136</td>\n",
       "      <td>2017-08-20</td>\n",
       "      <td>2017-11-18</td>\n",
       "      <td>0</td>\n",
       "      <td>4</td>\n",
       "      <td>육아/교육</td>\n",
       "      <td>고등학교 교육 내용 수준을 낮춰주시고 실용적인 내용을 담아주세요!</td>\n",
       "      <td>저는 광주에 사는 중3 학생입니다. 고등학교 가기 직전의 학년이라 어느 때보다 고등...</td>\n",
       "    </tr>\n",
       "  </tbody>\n",
       "</table>\n",
       "</div>"
      ],
      "text/plain": [
       "   article_id       start         end  answered  votes category  \\\n",
       "2         136  2017-08-20  2017-11-18         0      4    육아/교육   \n",
       "\n",
       "                                  title  \\\n",
       "2  고등학교 교육 내용 수준을 낮춰주시고 실용적인 내용을 담아주세요!   \n",
       "\n",
       "                                             content  \n",
       "2  저는 광주에 사는 중3 학생입니다. 고등학교 가기 직전의 학년이라 어느 때보다 고등...  "
      ]
     },
     "execution_count": 90,
     "metadata": {},
     "output_type": "execute_result"
    }
   ],
   "source": [
    "df.iloc[[2]]"
   ]
  },
  {
   "cell_type": "code",
   "execution_count": 92,
   "metadata": {},
   "outputs": [
    {
     "data": {
      "text/plain": [
       "0             일자리\n",
       "1            보건복지\n",
       "2           육아/교육\n",
       "3              기타\n",
       "4        외교/통일/국방\n",
       "           ...   \n",
       "18072        정치개혁\n",
       "18073    외교/통일/국방\n",
       "18074    외교/통일/국방\n",
       "18075    외교/통일/국방\n",
       "18076    교통/건축/국토\n",
       "Name: category, Length: 18077, dtype: object"
      ]
     },
     "execution_count": 92,
     "metadata": {},
     "output_type": "execute_result"
    }
   ],
   "source": [
    "df['category']"
   ]
  },
  {
   "cell_type": "code",
   "execution_count": 93,
   "metadata": {},
   "outputs": [],
   "source": [
    "from sklearn.feature_extraction.text import CountVectorizer\n",
    "from konlpy.tag import Okt"
   ]
  },
  {
   "cell_type": "code",
   "execution_count": 94,
   "metadata": {},
   "outputs": [],
   "source": [
    "twit = Okt()"
   ]
  },
  {
   "cell_type": "code",
   "execution_count": 95,
   "metadata": {},
   "outputs": [],
   "source": [
    "def tokenizer(doc):\n",
    "    return [token for token in twit.nouns(doc) if len(token) > 1]"
   ]
  },
  {
   "cell_type": "code",
   "execution_count": 96,
   "metadata": {},
   "outputs": [],
   "source": [
    "vec = CountVectorizer(tokenizer=tokenizer, max_df=0.5, min_df=5, max_features=1000)"
   ]
  },
  {
   "cell_type": "code",
   "execution_count": 97,
   "metadata": {},
   "outputs": [
    {
     "data": {
      "text/html": [
       "<style>#sk-container-id-6 {color: black;background-color: white;}#sk-container-id-6 pre{padding: 0;}#sk-container-id-6 div.sk-toggleable {background-color: white;}#sk-container-id-6 label.sk-toggleable__label {cursor: pointer;display: block;width: 100%;margin-bottom: 0;padding: 0.3em;box-sizing: border-box;text-align: center;}#sk-container-id-6 label.sk-toggleable__label-arrow:before {content: \"▸\";float: left;margin-right: 0.25em;color: #696969;}#sk-container-id-6 label.sk-toggleable__label-arrow:hover:before {color: black;}#sk-container-id-6 div.sk-estimator:hover label.sk-toggleable__label-arrow:before {color: black;}#sk-container-id-6 div.sk-toggleable__content {max-height: 0;max-width: 0;overflow: hidden;text-align: left;background-color: #f0f8ff;}#sk-container-id-6 div.sk-toggleable__content pre {margin: 0.2em;color: black;border-radius: 0.25em;background-color: #f0f8ff;}#sk-container-id-6 input.sk-toggleable__control:checked~div.sk-toggleable__content {max-height: 200px;max-width: 100%;overflow: auto;}#sk-container-id-6 input.sk-toggleable__control:checked~label.sk-toggleable__label-arrow:before {content: \"▾\";}#sk-container-id-6 div.sk-estimator input.sk-toggleable__control:checked~label.sk-toggleable__label {background-color: #d4ebff;}#sk-container-id-6 div.sk-label input.sk-toggleable__control:checked~label.sk-toggleable__label {background-color: #d4ebff;}#sk-container-id-6 input.sk-hidden--visually {border: 0;clip: rect(1px 1px 1px 1px);clip: rect(1px, 1px, 1px, 1px);height: 1px;margin: -1px;overflow: hidden;padding: 0;position: absolute;width: 1px;}#sk-container-id-6 div.sk-estimator {font-family: monospace;background-color: #f0f8ff;border: 1px dotted black;border-radius: 0.25em;box-sizing: border-box;margin-bottom: 0.5em;}#sk-container-id-6 div.sk-estimator:hover {background-color: #d4ebff;}#sk-container-id-6 div.sk-parallel-item::after {content: \"\";width: 100%;border-bottom: 1px solid gray;flex-grow: 1;}#sk-container-id-6 div.sk-label:hover label.sk-toggleable__label {background-color: #d4ebff;}#sk-container-id-6 div.sk-serial::before {content: \"\";position: absolute;border-left: 1px solid gray;box-sizing: border-box;top: 0;bottom: 0;left: 50%;z-index: 0;}#sk-container-id-6 div.sk-serial {display: flex;flex-direction: column;align-items: center;background-color: white;padding-right: 0.2em;padding-left: 0.2em;position: relative;}#sk-container-id-6 div.sk-item {position: relative;z-index: 1;}#sk-container-id-6 div.sk-parallel {display: flex;align-items: stretch;justify-content: center;background-color: white;position: relative;}#sk-container-id-6 div.sk-item::before, #sk-container-id-6 div.sk-parallel-item::before {content: \"\";position: absolute;border-left: 1px solid gray;box-sizing: border-box;top: 0;bottom: 0;left: 50%;z-index: -1;}#sk-container-id-6 div.sk-parallel-item {display: flex;flex-direction: column;z-index: 1;position: relative;background-color: white;}#sk-container-id-6 div.sk-parallel-item:first-child::after {align-self: flex-end;width: 50%;}#sk-container-id-6 div.sk-parallel-item:last-child::after {align-self: flex-start;width: 50%;}#sk-container-id-6 div.sk-parallel-item:only-child::after {width: 0;}#sk-container-id-6 div.sk-dashed-wrapped {border: 1px dashed gray;margin: 0 0.4em 0.5em 0.4em;box-sizing: border-box;padding-bottom: 0.4em;background-color: white;}#sk-container-id-6 div.sk-label label {font-family: monospace;font-weight: bold;display: inline-block;line-height: 1.2em;}#sk-container-id-6 div.sk-label-container {text-align: center;}#sk-container-id-6 div.sk-container {/* jupyter's `normalize.less` sets `[hidden] { display: none; }` but bootstrap.min.css set `[hidden] { display: none !important; }` so we also need the `!important` here to be able to override the default hidden behavior on the sphinx rendered scikit-learn.org. See: https://github.com/scikit-learn/scikit-learn/issues/21755 */display: inline-block !important;position: relative;}#sk-container-id-6 div.sk-text-repr-fallback {display: none;}</style><div id=\"sk-container-id-6\" class=\"sk-top-container\"><div class=\"sk-text-repr-fallback\"><pre>CountVectorizer(max_df=0.5, max_features=1000, min_df=5,\n",
       "                tokenizer=&lt;function tokenizer at 0x0000014A10663760&gt;)</pre><b>In a Jupyter environment, please rerun this cell to show the HTML representation or trust the notebook. <br />On GitHub, the HTML representation is unable to render, please try loading this page with nbviewer.org.</b></div><div class=\"sk-container\" hidden><div class=\"sk-item\"><div class=\"sk-estimator sk-toggleable\"><input class=\"sk-toggleable__control sk-hidden--visually\" id=\"sk-estimator-id-6\" type=\"checkbox\" checked><label for=\"sk-estimator-id-6\" class=\"sk-toggleable__label sk-toggleable__label-arrow\">CountVectorizer</label><div class=\"sk-toggleable__content\"><pre>CountVectorizer(max_df=0.5, max_features=1000, min_df=5,\n",
       "                tokenizer=&lt;function tokenizer at 0x0000014A10663760&gt;)</pre></div></div></div></div></div>"
      ],
      "text/plain": [
       "CountVectorizer(max_df=0.5, max_features=1000, min_df=5,\n",
       "                tokenizer=<function tokenizer at 0x0000014A10663760>)"
      ]
     },
     "execution_count": 97,
     "metadata": {},
     "output_type": "execute_result"
    }
   ],
   "source": [
    "vec"
   ]
  },
  {
   "cell_type": "code",
   "execution_count": 98,
   "metadata": {},
   "outputs": [
    {
     "data": {
      "text/plain": [
       "<18077x1000 sparse matrix of type '<class 'numpy.int64'>'\n",
       "\twith 459418 stored elements in Compressed Sparse Row format>"
      ]
     },
     "execution_count": 98,
     "metadata": {},
     "output_type": "execute_result"
    }
   ],
   "source": [
    "pet_cv = vec.fit_transform(df.content)\n",
    "pet_cv"
   ]
  },
  {
   "cell_type": "code",
   "execution_count": 99,
   "metadata": {},
   "outputs": [],
   "source": [
    "lda = LatentDirichletAllocation(n_components=15, n_jobs=-1, random_state=0)"
   ]
  },
  {
   "cell_type": "code",
   "execution_count": 100,
   "metadata": {},
   "outputs": [],
   "source": [
    "pet_topics = lda.fit_transform(pet_cv)"
   ]
  },
  {
   "cell_type": "code",
   "execution_count": 101,
   "metadata": {},
   "outputs": [
    {
     "data": {
      "text/plain": [
       "array([[3.072e-04, 3.072e-04, 3.072e-04, ..., 3.072e-04, 3.072e-04,\n",
       "        3.072e-04],\n",
       "       [8.130e-04, 8.130e-04, 2.324e-01, ..., 8.130e-04, 8.130e-04,\n",
       "        4.602e-01],\n",
       "       [1.449e-03, 1.449e-03, 1.449e-03, ..., 1.449e-03, 1.449e-03,\n",
       "        1.449e-03],\n",
       "       ...,\n",
       "       [6.246e-02, 6.539e-02, 6.944e-04, ..., 6.944e-04, 6.944e-04,\n",
       "        1.519e-01],\n",
       "       [3.030e-03, 7.967e-02, 3.030e-03, ..., 3.030e-03, 3.030e-03,\n",
       "        3.030e-03],\n",
       "       [7.576e-04, 3.366e-01, 7.576e-04, ..., 7.576e-04, 8.123e-02,\n",
       "        3.860e-01]])"
      ]
     },
     "execution_count": 101,
     "metadata": {},
     "output_type": "execute_result"
    }
   ],
   "source": [
    "pet_topics"
   ]
  },
  {
   "cell_type": "code",
   "execution_count": 102,
   "metadata": {},
   "outputs": [
    {
     "data": {
      "text/plain": [
       "(18077, 15)"
      ]
     },
     "execution_count": 102,
     "metadata": {},
     "output_type": "execute_result"
    }
   ],
   "source": [
    "pet_topics.shape"
   ]
  },
  {
   "cell_type": "code",
   "execution_count": 103,
   "metadata": {},
   "outputs": [
    {
     "data": {
      "text/plain": [
       "(15, 1000)"
      ]
     },
     "execution_count": 103,
     "metadata": {},
     "output_type": "execute_result"
    }
   ],
   "source": [
    "lda.components_.shape"
   ]
  },
  {
   "cell_type": "code",
   "execution_count": 105,
   "metadata": {},
   "outputs": [
    {
     "name": "stdout",
     "output_type": "stream",
     "text": [
      "['사람', '생각', '피해자', '처벌', '사건', '병원', '가해자', '자신', '피해', '환자']\n",
      "['북한', '한국', '우리', '대통령', '정부', '미국', '대한민국', '국민', '일본', '국가']\n",
      "['아이', '부모', '생각', '어린이집', '엄마', '교사', '우리', '유치원', '자녀', '가정']\n",
      "['청소년', '불법', '보호', '폐지', '장애인', '조직', '사찰', '게임', '생각', '이용']\n",
      "['국민', '대통령', '정부', '나라', '정책', '주택', '부동산', '서민', '사람', '지금']\n",
      "['일자리', '기업', '정부', '근무', '생각', '근로자', '지원', '임금', '최저임금', '정책']\n",
      "['국민', '청원', '국회의원', '국회', '의원', '생각', '반대', '청와대', '세금', '제도']\n",
      "['대한', '관리', '내용', '조사', '판결', '관련', '공사', '업무', '판사', '사실']\n",
      "['학생', '학교', '교육', '선수', '시험', '생각', '대학', '공부', '교사', '선생님']\n",
      "['보험', '연금', '국민연금', '공무원', '지급', '방송', '국민', '소득', '가입', '의료']\n",
      "['여성', '공무원', '사회', '남성', '생각', '의무', '남자', '대한민국', '여자', '행정']\n",
      "['경찰', '범죄', '국민', '위해', '대한민국', '조직', '불법', '만행', '사건', '수사']\n",
      "['차량', '사고', '처벌', '사건', '신고', '주차', '증거', '기사', '경우', '택시']\n",
      "['민원', '화폐', '가상', '정부', '투자', '거래', '시장', '규제', '계획', '주식']\n",
      "['사람', '지역', '회사', '저희', '대출', '생각', '미세먼지', '서울', '사용', '지금']\n"
     ]
    }
   ],
   "source": [
    "for i in lda.components_:\n",
    "    print([vec.get_feature_names_out()[m] for m in (-i).argsort()[:10]])"
   ]
  },
  {
   "cell_type": "code",
   "execution_count": 106,
   "metadata": {},
   "outputs": [
    {
     "data": {
      "text/plain": [
       "0        2017-08-19\n",
       "1        2017-08-20\n",
       "2        2017-08-20\n",
       "3        2017-08-20\n",
       "4        2017-08-20\n",
       "            ...    \n",
       "18072    2018-12-13\n",
       "18073    2018-12-13\n",
       "18074    2018-12-13\n",
       "18075    2018-12-13\n",
       "18076    2018-12-13\n",
       "Name: start, Length: 18077, dtype: object"
      ]
     },
     "execution_count": 106,
     "metadata": {},
     "output_type": "execute_result"
    }
   ],
   "source": [
    "df['start']"
   ]
  },
  {
   "cell_type": "code",
   "execution_count": 107,
   "metadata": {},
   "outputs": [],
   "source": [
    "from sklearn.feature_extraction.text import CountVectorizer\n",
    "from konlpy.tag import Okt"
   ]
  },
  {
   "cell_type": "code",
   "execution_count": 109,
   "metadata": {},
   "outputs": [
    {
     "data": {
      "text/plain": [
       "(18077, 15)"
      ]
     },
     "execution_count": 109,
     "metadata": {},
     "output_type": "execute_result"
    }
   ],
   "source": [
    "pet_topics.shape"
   ]
  },
  {
   "cell_type": "code",
   "execution_count": 110,
   "metadata": {},
   "outputs": [
    {
     "data": {
      "text/html": [
       "<div>\n",
       "<style scoped>\n",
       "    .dataframe tbody tr th:only-of-type {\n",
       "        vertical-align: middle;\n",
       "    }\n",
       "\n",
       "    .dataframe tbody tr th {\n",
       "        vertical-align: top;\n",
       "    }\n",
       "\n",
       "    .dataframe thead th {\n",
       "        text-align: right;\n",
       "    }\n",
       "</style>\n",
       "<table border=\"1\" class=\"dataframe\">\n",
       "  <thead>\n",
       "    <tr style=\"text-align: right;\">\n",
       "      <th></th>\n",
       "      <th>Topic1</th>\n",
       "      <th>Topic2</th>\n",
       "      <th>Topic3</th>\n",
       "      <th>Topic4</th>\n",
       "      <th>Topic5</th>\n",
       "      <th>Topic6</th>\n",
       "      <th>Topic7</th>\n",
       "      <th>Topic8</th>\n",
       "      <th>Topic9</th>\n",
       "      <th>Topic10</th>\n",
       "      <th>Topic11</th>\n",
       "      <th>Topic12</th>\n",
       "      <th>Topic13</th>\n",
       "      <th>Topic14</th>\n",
       "      <th>Topic15</th>\n",
       "    </tr>\n",
       "  </thead>\n",
       "  <tbody>\n",
       "    <tr>\n",
       "      <th>0</th>\n",
       "      <td>0.000307</td>\n",
       "      <td>0.000307</td>\n",
       "      <td>0.000307</td>\n",
       "      <td>0.060031</td>\n",
       "      <td>0.182109</td>\n",
       "      <td>0.000307</td>\n",
       "      <td>0.000307</td>\n",
       "      <td>0.754173</td>\n",
       "      <td>0.000307</td>\n",
       "      <td>0.000307</td>\n",
       "      <td>0.000307</td>\n",
       "      <td>0.000307</td>\n",
       "      <td>0.000307</td>\n",
       "      <td>0.000307</td>\n",
       "      <td>0.000307</td>\n",
       "    </tr>\n",
       "    <tr>\n",
       "      <th>1</th>\n",
       "      <td>0.000813</td>\n",
       "      <td>0.000813</td>\n",
       "      <td>0.232351</td>\n",
       "      <td>0.000813</td>\n",
       "      <td>0.000813</td>\n",
       "      <td>0.082254</td>\n",
       "      <td>0.000813</td>\n",
       "      <td>0.000813</td>\n",
       "      <td>0.000813</td>\n",
       "      <td>0.153684</td>\n",
       "      <td>0.063374</td>\n",
       "      <td>0.000813</td>\n",
       "      <td>0.000813</td>\n",
       "      <td>0.000813</td>\n",
       "      <td>0.460206</td>\n",
       "    </tr>\n",
       "    <tr>\n",
       "      <th>2</th>\n",
       "      <td>0.001449</td>\n",
       "      <td>0.001449</td>\n",
       "      <td>0.001449</td>\n",
       "      <td>0.001449</td>\n",
       "      <td>0.001449</td>\n",
       "      <td>0.001449</td>\n",
       "      <td>0.001449</td>\n",
       "      <td>0.001449</td>\n",
       "      <td>0.979710</td>\n",
       "      <td>0.001449</td>\n",
       "      <td>0.001449</td>\n",
       "      <td>0.001449</td>\n",
       "      <td>0.001449</td>\n",
       "      <td>0.001449</td>\n",
       "      <td>0.001449</td>\n",
       "    </tr>\n",
       "    <tr>\n",
       "      <th>3</th>\n",
       "      <td>0.068723</td>\n",
       "      <td>0.630512</td>\n",
       "      <td>0.000227</td>\n",
       "      <td>0.000227</td>\n",
       "      <td>0.022403</td>\n",
       "      <td>0.245797</td>\n",
       "      <td>0.000227</td>\n",
       "      <td>0.000227</td>\n",
       "      <td>0.000227</td>\n",
       "      <td>0.000227</td>\n",
       "      <td>0.030297</td>\n",
       "      <td>0.000227</td>\n",
       "      <td>0.000227</td>\n",
       "      <td>0.000227</td>\n",
       "      <td>0.000227</td>\n",
       "    </tr>\n",
       "    <tr>\n",
       "      <th>4</th>\n",
       "      <td>0.065132</td>\n",
       "      <td>0.401455</td>\n",
       "      <td>0.000447</td>\n",
       "      <td>0.000447</td>\n",
       "      <td>0.000447</td>\n",
       "      <td>0.036019</td>\n",
       "      <td>0.267423</td>\n",
       "      <td>0.000447</td>\n",
       "      <td>0.000447</td>\n",
       "      <td>0.000447</td>\n",
       "      <td>0.225496</td>\n",
       "      <td>0.000447</td>\n",
       "      <td>0.000447</td>\n",
       "      <td>0.000447</td>\n",
       "      <td>0.000447</td>\n",
       "    </tr>\n",
       "    <tr>\n",
       "      <th>...</th>\n",
       "      <td>...</td>\n",
       "      <td>...</td>\n",
       "      <td>...</td>\n",
       "      <td>...</td>\n",
       "      <td>...</td>\n",
       "      <td>...</td>\n",
       "      <td>...</td>\n",
       "      <td>...</td>\n",
       "      <td>...</td>\n",
       "      <td>...</td>\n",
       "      <td>...</td>\n",
       "      <td>...</td>\n",
       "      <td>...</td>\n",
       "      <td>...</td>\n",
       "      <td>...</td>\n",
       "    </tr>\n",
       "    <tr>\n",
       "      <th>18072</th>\n",
       "      <td>0.033333</td>\n",
       "      <td>0.033333</td>\n",
       "      <td>0.033333</td>\n",
       "      <td>0.033333</td>\n",
       "      <td>0.033333</td>\n",
       "      <td>0.033333</td>\n",
       "      <td>0.533333</td>\n",
       "      <td>0.033333</td>\n",
       "      <td>0.033333</td>\n",
       "      <td>0.033333</td>\n",
       "      <td>0.033333</td>\n",
       "      <td>0.033333</td>\n",
       "      <td>0.033333</td>\n",
       "      <td>0.033333</td>\n",
       "      <td>0.033333</td>\n",
       "    </tr>\n",
       "    <tr>\n",
       "      <th>18073</th>\n",
       "      <td>0.297230</td>\n",
       "      <td>0.593400</td>\n",
       "      <td>0.001235</td>\n",
       "      <td>0.001235</td>\n",
       "      <td>0.001235</td>\n",
       "      <td>0.001235</td>\n",
       "      <td>0.038725</td>\n",
       "      <td>0.001235</td>\n",
       "      <td>0.001235</td>\n",
       "      <td>0.001235</td>\n",
       "      <td>0.001235</td>\n",
       "      <td>0.057065</td>\n",
       "      <td>0.001235</td>\n",
       "      <td>0.001235</td>\n",
       "      <td>0.001235</td>\n",
       "    </tr>\n",
       "    <tr>\n",
       "      <th>18074</th>\n",
       "      <td>0.062460</td>\n",
       "      <td>0.065388</td>\n",
       "      <td>0.000694</td>\n",
       "      <td>0.000694</td>\n",
       "      <td>0.000694</td>\n",
       "      <td>0.000694</td>\n",
       "      <td>0.000694</td>\n",
       "      <td>0.712655</td>\n",
       "      <td>0.000694</td>\n",
       "      <td>0.000694</td>\n",
       "      <td>0.000694</td>\n",
       "      <td>0.000694</td>\n",
       "      <td>0.000694</td>\n",
       "      <td>0.000694</td>\n",
       "      <td>0.151858</td>\n",
       "    </tr>\n",
       "    <tr>\n",
       "      <th>18075</th>\n",
       "      <td>0.003030</td>\n",
       "      <td>0.079670</td>\n",
       "      <td>0.003030</td>\n",
       "      <td>0.003030</td>\n",
       "      <td>0.712259</td>\n",
       "      <td>0.003030</td>\n",
       "      <td>0.003030</td>\n",
       "      <td>0.003030</td>\n",
       "      <td>0.003030</td>\n",
       "      <td>0.003030</td>\n",
       "      <td>0.171708</td>\n",
       "      <td>0.003030</td>\n",
       "      <td>0.003030</td>\n",
       "      <td>0.003030</td>\n",
       "      <td>0.003030</td>\n",
       "    </tr>\n",
       "    <tr>\n",
       "      <th>18076</th>\n",
       "      <td>0.000758</td>\n",
       "      <td>0.336585</td>\n",
       "      <td>0.000758</td>\n",
       "      <td>0.057815</td>\n",
       "      <td>0.130808</td>\n",
       "      <td>0.000758</td>\n",
       "      <td>0.000758</td>\n",
       "      <td>0.000758</td>\n",
       "      <td>0.000758</td>\n",
       "      <td>0.000758</td>\n",
       "      <td>0.000758</td>\n",
       "      <td>0.000758</td>\n",
       "      <td>0.000758</td>\n",
       "      <td>0.081230</td>\n",
       "      <td>0.385986</td>\n",
       "    </tr>\n",
       "  </tbody>\n",
       "</table>\n",
       "<p>18077 rows × 15 columns</p>\n",
       "</div>"
      ],
      "text/plain": [
       "         Topic1    Topic2    Topic3    Topic4    Topic5    Topic6    Topic7  \\\n",
       "0      0.000307  0.000307  0.000307  0.060031  0.182109  0.000307  0.000307   \n",
       "1      0.000813  0.000813  0.232351  0.000813  0.000813  0.082254  0.000813   \n",
       "2      0.001449  0.001449  0.001449  0.001449  0.001449  0.001449  0.001449   \n",
       "3      0.068723  0.630512  0.000227  0.000227  0.022403  0.245797  0.000227   \n",
       "4      0.065132  0.401455  0.000447  0.000447  0.000447  0.036019  0.267423   \n",
       "...         ...       ...       ...       ...       ...       ...       ...   \n",
       "18072  0.033333  0.033333  0.033333  0.033333  0.033333  0.033333  0.533333   \n",
       "18073  0.297230  0.593400  0.001235  0.001235  0.001235  0.001235  0.038725   \n",
       "18074  0.062460  0.065388  0.000694  0.000694  0.000694  0.000694  0.000694   \n",
       "18075  0.003030  0.079670  0.003030  0.003030  0.712259  0.003030  0.003030   \n",
       "18076  0.000758  0.336585  0.000758  0.057815  0.130808  0.000758  0.000758   \n",
       "\n",
       "         Topic8    Topic9   Topic10   Topic11   Topic12   Topic13   Topic14  \\\n",
       "0      0.754173  0.000307  0.000307  0.000307  0.000307  0.000307  0.000307   \n",
       "1      0.000813  0.000813  0.153684  0.063374  0.000813  0.000813  0.000813   \n",
       "2      0.001449  0.979710  0.001449  0.001449  0.001449  0.001449  0.001449   \n",
       "3      0.000227  0.000227  0.000227  0.030297  0.000227  0.000227  0.000227   \n",
       "4      0.000447  0.000447  0.000447  0.225496  0.000447  0.000447  0.000447   \n",
       "...         ...       ...       ...       ...       ...       ...       ...   \n",
       "18072  0.033333  0.033333  0.033333  0.033333  0.033333  0.033333  0.033333   \n",
       "18073  0.001235  0.001235  0.001235  0.001235  0.057065  0.001235  0.001235   \n",
       "18074  0.712655  0.000694  0.000694  0.000694  0.000694  0.000694  0.000694   \n",
       "18075  0.003030  0.003030  0.003030  0.171708  0.003030  0.003030  0.003030   \n",
       "18076  0.000758  0.000758  0.000758  0.000758  0.000758  0.000758  0.081230   \n",
       "\n",
       "        Topic15  \n",
       "0      0.000307  \n",
       "1      0.460206  \n",
       "2      0.001449  \n",
       "3      0.000227  \n",
       "4      0.000447  \n",
       "...         ...  \n",
       "18072  0.033333  \n",
       "18073  0.001235  \n",
       "18074  0.151858  \n",
       "18075  0.003030  \n",
       "18076  0.385986  \n",
       "\n",
       "[18077 rows x 15 columns]"
      ]
     },
     "execution_count": 110,
     "metadata": {},
     "output_type": "execute_result"
    }
   ],
   "source": [
    "trend_data = pd.DataFrame(pet_topics, columns=['Topic' + str(i) for i in range(1, 16)])\n",
    "trend_data"
   ]
  },
  {
   "cell_type": "code",
   "execution_count": 112,
   "metadata": {},
   "outputs": [
    {
     "data": {
      "text/plain": [
       "0        2017-08-19\n",
       "1        2017-08-20\n",
       "2        2017-08-20\n",
       "3        2017-08-20\n",
       "4        2017-08-20\n",
       "            ...    \n",
       "18072    2018-12-13\n",
       "18073    2018-12-13\n",
       "18074    2018-12-13\n",
       "18075    2018-12-13\n",
       "18076    2018-12-13\n",
       "Name: start, Length: 18077, dtype: object"
      ]
     },
     "execution_count": 112,
     "metadata": {},
     "output_type": "execute_result"
    }
   ],
   "source": [
    "df.start"
   ]
  },
  {
   "cell_type": "code",
   "execution_count": 113,
   "metadata": {},
   "outputs": [
    {
     "data": {
      "text/plain": [
       "0        2017-08\n",
       "1        2017-08\n",
       "2        2017-08\n",
       "3        2017-08\n",
       "4        2017-08\n",
       "          ...   \n",
       "18072    2018-12\n",
       "18073    2018-12\n",
       "18074    2018-12\n",
       "18075    2018-12\n",
       "18076    2018-12\n",
       "Name: start, Length: 18077, dtype: object"
      ]
     },
     "execution_count": 113,
     "metadata": {},
     "output_type": "execute_result"
    }
   ],
   "source": [
    "df.start.map(lambda x: x[:7])"
   ]
  },
  {
   "cell_type": "code",
   "execution_count": 116,
   "metadata": {},
   "outputs": [
    {
     "data": {
      "text/html": [
       "<div>\n",
       "<style scoped>\n",
       "    .dataframe tbody tr th:only-of-type {\n",
       "        vertical-align: middle;\n",
       "    }\n",
       "\n",
       "    .dataframe tbody tr th {\n",
       "        vertical-align: top;\n",
       "    }\n",
       "\n",
       "    .dataframe thead th {\n",
       "        text-align: right;\n",
       "    }\n",
       "</style>\n",
       "<table border=\"1\" class=\"dataframe\">\n",
       "  <thead>\n",
       "    <tr style=\"text-align: right;\">\n",
       "      <th></th>\n",
       "      <th>Topic1</th>\n",
       "      <th>Topic2</th>\n",
       "      <th>Topic3</th>\n",
       "      <th>Topic4</th>\n",
       "      <th>Topic5</th>\n",
       "      <th>Topic6</th>\n",
       "      <th>Topic7</th>\n",
       "      <th>Topic8</th>\n",
       "      <th>Topic9</th>\n",
       "      <th>Topic10</th>\n",
       "      <th>Topic11</th>\n",
       "      <th>Topic12</th>\n",
       "      <th>Topic13</th>\n",
       "      <th>Topic14</th>\n",
       "      <th>Topic15</th>\n",
       "      <th>start</th>\n",
       "    </tr>\n",
       "  </thead>\n",
       "  <tbody>\n",
       "    <tr>\n",
       "      <th>0</th>\n",
       "      <td>0.000307</td>\n",
       "      <td>0.000307</td>\n",
       "      <td>0.000307</td>\n",
       "      <td>0.060031</td>\n",
       "      <td>0.182109</td>\n",
       "      <td>0.000307</td>\n",
       "      <td>0.000307</td>\n",
       "      <td>0.754173</td>\n",
       "      <td>0.000307</td>\n",
       "      <td>0.000307</td>\n",
       "      <td>0.000307</td>\n",
       "      <td>0.000307</td>\n",
       "      <td>0.000307</td>\n",
       "      <td>0.000307</td>\n",
       "      <td>0.000307</td>\n",
       "      <td>2017-08</td>\n",
       "    </tr>\n",
       "    <tr>\n",
       "      <th>1</th>\n",
       "      <td>0.000813</td>\n",
       "      <td>0.000813</td>\n",
       "      <td>0.232351</td>\n",
       "      <td>0.000813</td>\n",
       "      <td>0.000813</td>\n",
       "      <td>0.082254</td>\n",
       "      <td>0.000813</td>\n",
       "      <td>0.000813</td>\n",
       "      <td>0.000813</td>\n",
       "      <td>0.153684</td>\n",
       "      <td>0.063374</td>\n",
       "      <td>0.000813</td>\n",
       "      <td>0.000813</td>\n",
       "      <td>0.000813</td>\n",
       "      <td>0.460206</td>\n",
       "      <td>2017-08</td>\n",
       "    </tr>\n",
       "    <tr>\n",
       "      <th>2</th>\n",
       "      <td>0.001449</td>\n",
       "      <td>0.001449</td>\n",
       "      <td>0.001449</td>\n",
       "      <td>0.001449</td>\n",
       "      <td>0.001449</td>\n",
       "      <td>0.001449</td>\n",
       "      <td>0.001449</td>\n",
       "      <td>0.001449</td>\n",
       "      <td>0.979710</td>\n",
       "      <td>0.001449</td>\n",
       "      <td>0.001449</td>\n",
       "      <td>0.001449</td>\n",
       "      <td>0.001449</td>\n",
       "      <td>0.001449</td>\n",
       "      <td>0.001449</td>\n",
       "      <td>2017-08</td>\n",
       "    </tr>\n",
       "    <tr>\n",
       "      <th>3</th>\n",
       "      <td>0.068723</td>\n",
       "      <td>0.630512</td>\n",
       "      <td>0.000227</td>\n",
       "      <td>0.000227</td>\n",
       "      <td>0.022403</td>\n",
       "      <td>0.245797</td>\n",
       "      <td>0.000227</td>\n",
       "      <td>0.000227</td>\n",
       "      <td>0.000227</td>\n",
       "      <td>0.000227</td>\n",
       "      <td>0.030297</td>\n",
       "      <td>0.000227</td>\n",
       "      <td>0.000227</td>\n",
       "      <td>0.000227</td>\n",
       "      <td>0.000227</td>\n",
       "      <td>2017-08</td>\n",
       "    </tr>\n",
       "    <tr>\n",
       "      <th>4</th>\n",
       "      <td>0.065132</td>\n",
       "      <td>0.401455</td>\n",
       "      <td>0.000447</td>\n",
       "      <td>0.000447</td>\n",
       "      <td>0.000447</td>\n",
       "      <td>0.036019</td>\n",
       "      <td>0.267423</td>\n",
       "      <td>0.000447</td>\n",
       "      <td>0.000447</td>\n",
       "      <td>0.000447</td>\n",
       "      <td>0.225496</td>\n",
       "      <td>0.000447</td>\n",
       "      <td>0.000447</td>\n",
       "      <td>0.000447</td>\n",
       "      <td>0.000447</td>\n",
       "      <td>2017-08</td>\n",
       "    </tr>\n",
       "    <tr>\n",
       "      <th>...</th>\n",
       "      <td>...</td>\n",
       "      <td>...</td>\n",
       "      <td>...</td>\n",
       "      <td>...</td>\n",
       "      <td>...</td>\n",
       "      <td>...</td>\n",
       "      <td>...</td>\n",
       "      <td>...</td>\n",
       "      <td>...</td>\n",
       "      <td>...</td>\n",
       "      <td>...</td>\n",
       "      <td>...</td>\n",
       "      <td>...</td>\n",
       "      <td>...</td>\n",
       "      <td>...</td>\n",
       "      <td>...</td>\n",
       "    </tr>\n",
       "    <tr>\n",
       "      <th>18072</th>\n",
       "      <td>0.033333</td>\n",
       "      <td>0.033333</td>\n",
       "      <td>0.033333</td>\n",
       "      <td>0.033333</td>\n",
       "      <td>0.033333</td>\n",
       "      <td>0.033333</td>\n",
       "      <td>0.533333</td>\n",
       "      <td>0.033333</td>\n",
       "      <td>0.033333</td>\n",
       "      <td>0.033333</td>\n",
       "      <td>0.033333</td>\n",
       "      <td>0.033333</td>\n",
       "      <td>0.033333</td>\n",
       "      <td>0.033333</td>\n",
       "      <td>0.033333</td>\n",
       "      <td>2018-12</td>\n",
       "    </tr>\n",
       "    <tr>\n",
       "      <th>18073</th>\n",
       "      <td>0.297230</td>\n",
       "      <td>0.593400</td>\n",
       "      <td>0.001235</td>\n",
       "      <td>0.001235</td>\n",
       "      <td>0.001235</td>\n",
       "      <td>0.001235</td>\n",
       "      <td>0.038725</td>\n",
       "      <td>0.001235</td>\n",
       "      <td>0.001235</td>\n",
       "      <td>0.001235</td>\n",
       "      <td>0.001235</td>\n",
       "      <td>0.057065</td>\n",
       "      <td>0.001235</td>\n",
       "      <td>0.001235</td>\n",
       "      <td>0.001235</td>\n",
       "      <td>2018-12</td>\n",
       "    </tr>\n",
       "    <tr>\n",
       "      <th>18074</th>\n",
       "      <td>0.062460</td>\n",
       "      <td>0.065388</td>\n",
       "      <td>0.000694</td>\n",
       "      <td>0.000694</td>\n",
       "      <td>0.000694</td>\n",
       "      <td>0.000694</td>\n",
       "      <td>0.000694</td>\n",
       "      <td>0.712655</td>\n",
       "      <td>0.000694</td>\n",
       "      <td>0.000694</td>\n",
       "      <td>0.000694</td>\n",
       "      <td>0.000694</td>\n",
       "      <td>0.000694</td>\n",
       "      <td>0.000694</td>\n",
       "      <td>0.151858</td>\n",
       "      <td>2018-12</td>\n",
       "    </tr>\n",
       "    <tr>\n",
       "      <th>18075</th>\n",
       "      <td>0.003030</td>\n",
       "      <td>0.079670</td>\n",
       "      <td>0.003030</td>\n",
       "      <td>0.003030</td>\n",
       "      <td>0.712259</td>\n",
       "      <td>0.003030</td>\n",
       "      <td>0.003030</td>\n",
       "      <td>0.003030</td>\n",
       "      <td>0.003030</td>\n",
       "      <td>0.003030</td>\n",
       "      <td>0.171708</td>\n",
       "      <td>0.003030</td>\n",
       "      <td>0.003030</td>\n",
       "      <td>0.003030</td>\n",
       "      <td>0.003030</td>\n",
       "      <td>2018-12</td>\n",
       "    </tr>\n",
       "    <tr>\n",
       "      <th>18076</th>\n",
       "      <td>0.000758</td>\n",
       "      <td>0.336585</td>\n",
       "      <td>0.000758</td>\n",
       "      <td>0.057815</td>\n",
       "      <td>0.130808</td>\n",
       "      <td>0.000758</td>\n",
       "      <td>0.000758</td>\n",
       "      <td>0.000758</td>\n",
       "      <td>0.000758</td>\n",
       "      <td>0.000758</td>\n",
       "      <td>0.000758</td>\n",
       "      <td>0.000758</td>\n",
       "      <td>0.000758</td>\n",
       "      <td>0.081230</td>\n",
       "      <td>0.385986</td>\n",
       "      <td>2018-12</td>\n",
       "    </tr>\n",
       "  </tbody>\n",
       "</table>\n",
       "<p>18077 rows × 16 columns</p>\n",
       "</div>"
      ],
      "text/plain": [
       "         Topic1    Topic2    Topic3    Topic4    Topic5    Topic6    Topic7  \\\n",
       "0      0.000307  0.000307  0.000307  0.060031  0.182109  0.000307  0.000307   \n",
       "1      0.000813  0.000813  0.232351  0.000813  0.000813  0.082254  0.000813   \n",
       "2      0.001449  0.001449  0.001449  0.001449  0.001449  0.001449  0.001449   \n",
       "3      0.068723  0.630512  0.000227  0.000227  0.022403  0.245797  0.000227   \n",
       "4      0.065132  0.401455  0.000447  0.000447  0.000447  0.036019  0.267423   \n",
       "...         ...       ...       ...       ...       ...       ...       ...   \n",
       "18072  0.033333  0.033333  0.033333  0.033333  0.033333  0.033333  0.533333   \n",
       "18073  0.297230  0.593400  0.001235  0.001235  0.001235  0.001235  0.038725   \n",
       "18074  0.062460  0.065388  0.000694  0.000694  0.000694  0.000694  0.000694   \n",
       "18075  0.003030  0.079670  0.003030  0.003030  0.712259  0.003030  0.003030   \n",
       "18076  0.000758  0.336585  0.000758  0.057815  0.130808  0.000758  0.000758   \n",
       "\n",
       "         Topic8    Topic9   Topic10   Topic11   Topic12   Topic13   Topic14  \\\n",
       "0      0.754173  0.000307  0.000307  0.000307  0.000307  0.000307  0.000307   \n",
       "1      0.000813  0.000813  0.153684  0.063374  0.000813  0.000813  0.000813   \n",
       "2      0.001449  0.979710  0.001449  0.001449  0.001449  0.001449  0.001449   \n",
       "3      0.000227  0.000227  0.000227  0.030297  0.000227  0.000227  0.000227   \n",
       "4      0.000447  0.000447  0.000447  0.225496  0.000447  0.000447  0.000447   \n",
       "...         ...       ...       ...       ...       ...       ...       ...   \n",
       "18072  0.033333  0.033333  0.033333  0.033333  0.033333  0.033333  0.033333   \n",
       "18073  0.001235  0.001235  0.001235  0.001235  0.057065  0.001235  0.001235   \n",
       "18074  0.712655  0.000694  0.000694  0.000694  0.000694  0.000694  0.000694   \n",
       "18075  0.003030  0.003030  0.003030  0.171708  0.003030  0.003030  0.003030   \n",
       "18076  0.000758  0.000758  0.000758  0.000758  0.000758  0.000758  0.081230   \n",
       "\n",
       "        Topic15    start  \n",
       "0      0.000307  2017-08  \n",
       "1      0.460206  2017-08  \n",
       "2      0.001449  2017-08  \n",
       "3      0.000227  2017-08  \n",
       "4      0.000447  2017-08  \n",
       "...         ...      ...  \n",
       "18072  0.033333  2018-12  \n",
       "18073  0.001235  2018-12  \n",
       "18074  0.151858  2018-12  \n",
       "18075  0.003030  2018-12  \n",
       "18076  0.385986  2018-12  \n",
       "\n",
       "[18077 rows x 16 columns]"
      ]
     },
     "execution_count": 116,
     "metadata": {},
     "output_type": "execute_result"
    }
   ],
   "source": [
    "trend_data = pd.concat([trend_data, df.start.map(lambda x: x[:7])], axis=1)\n",
    "trend_data"
   ]
  },
  {
   "cell_type": "code",
   "execution_count": 118,
   "metadata": {},
   "outputs": [
    {
     "data": {
      "text/html": [
       "<div>\n",
       "<style scoped>\n",
       "    .dataframe tbody tr th:only-of-type {\n",
       "        vertical-align: middle;\n",
       "    }\n",
       "\n",
       "    .dataframe tbody tr th {\n",
       "        vertical-align: top;\n",
       "    }\n",
       "\n",
       "    .dataframe thead th {\n",
       "        text-align: right;\n",
       "    }\n",
       "</style>\n",
       "<table border=\"1\" class=\"dataframe\">\n",
       "  <thead>\n",
       "    <tr style=\"text-align: right;\">\n",
       "      <th></th>\n",
       "      <th>Topic12</th>\n",
       "      <th>Topic13</th>\n",
       "      <th>Topic14</th>\n",
       "      <th>Topic15</th>\n",
       "      <th>start</th>\n",
       "    </tr>\n",
       "  </thead>\n",
       "  <tbody>\n",
       "    <tr>\n",
       "      <th>0</th>\n",
       "      <td>0.000307</td>\n",
       "      <td>0.000307</td>\n",
       "      <td>0.000307</td>\n",
       "      <td>0.000307</td>\n",
       "      <td>2017-08</td>\n",
       "    </tr>\n",
       "    <tr>\n",
       "      <th>1</th>\n",
       "      <td>0.000813</td>\n",
       "      <td>0.000813</td>\n",
       "      <td>0.000813</td>\n",
       "      <td>0.460206</td>\n",
       "      <td>2017-08</td>\n",
       "    </tr>\n",
       "    <tr>\n",
       "      <th>2</th>\n",
       "      <td>0.001449</td>\n",
       "      <td>0.001449</td>\n",
       "      <td>0.001449</td>\n",
       "      <td>0.001449</td>\n",
       "      <td>2017-08</td>\n",
       "    </tr>\n",
       "    <tr>\n",
       "      <th>3</th>\n",
       "      <td>0.000227</td>\n",
       "      <td>0.000227</td>\n",
       "      <td>0.000227</td>\n",
       "      <td>0.000227</td>\n",
       "      <td>2017-08</td>\n",
       "    </tr>\n",
       "    <tr>\n",
       "      <th>4</th>\n",
       "      <td>0.000447</td>\n",
       "      <td>0.000447</td>\n",
       "      <td>0.000447</td>\n",
       "      <td>0.000447</td>\n",
       "      <td>2017-08</td>\n",
       "    </tr>\n",
       "  </tbody>\n",
       "</table>\n",
       "</div>"
      ],
      "text/plain": [
       "    Topic12   Topic13   Topic14   Topic15    start\n",
       "0  0.000307  0.000307  0.000307  0.000307  2017-08\n",
       "1  0.000813  0.000813  0.000813  0.460206  2017-08\n",
       "2  0.001449  0.001449  0.001449  0.001449  2017-08\n",
       "3  0.000227  0.000227  0.000227  0.000227  2017-08\n",
       "4  0.000447  0.000447  0.000447  0.000447  2017-08"
      ]
     },
     "execution_count": 118,
     "metadata": {},
     "output_type": "execute_result"
    }
   ],
   "source": [
    "trend_data.iloc[:5, -5:]"
   ]
  },
  {
   "cell_type": "code",
   "execution_count": 126,
   "metadata": {},
   "outputs": [
    {
     "data": {
      "text/html": [
       "<div>\n",
       "<style scoped>\n",
       "    .dataframe tbody tr th:only-of-type {\n",
       "        vertical-align: middle;\n",
       "    }\n",
       "\n",
       "    .dataframe tbody tr th {\n",
       "        vertical-align: top;\n",
       "    }\n",
       "\n",
       "    .dataframe thead th {\n",
       "        text-align: right;\n",
       "    }\n",
       "</style>\n",
       "<table border=\"1\" class=\"dataframe\">\n",
       "  <thead>\n",
       "    <tr style=\"text-align: right;\">\n",
       "      <th></th>\n",
       "      <th>Topic1</th>\n",
       "      <th>Topic2</th>\n",
       "      <th>Topic3</th>\n",
       "      <th>Topic4</th>\n",
       "      <th>Topic5</th>\n",
       "      <th>Topic6</th>\n",
       "      <th>Topic7</th>\n",
       "      <th>Topic8</th>\n",
       "      <th>Topic9</th>\n",
       "      <th>Topic10</th>\n",
       "      <th>Topic11</th>\n",
       "      <th>Topic12</th>\n",
       "      <th>Topic13</th>\n",
       "      <th>Topic14</th>\n",
       "      <th>Topic15</th>\n",
       "    </tr>\n",
       "    <tr>\n",
       "      <th>start</th>\n",
       "      <th></th>\n",
       "      <th></th>\n",
       "      <th></th>\n",
       "      <th></th>\n",
       "      <th></th>\n",
       "      <th></th>\n",
       "      <th></th>\n",
       "      <th></th>\n",
       "      <th></th>\n",
       "      <th></th>\n",
       "      <th></th>\n",
       "      <th></th>\n",
       "      <th></th>\n",
       "      <th></th>\n",
       "      <th></th>\n",
       "    </tr>\n",
       "  </thead>\n",
       "  <tbody>\n",
       "    <tr>\n",
       "      <th>2017-08</th>\n",
       "      <td>0.072395</td>\n",
       "      <td>0.085190</td>\n",
       "      <td>0.155383</td>\n",
       "      <td>0.011511</td>\n",
       "      <td>0.073988</td>\n",
       "      <td>0.131014</td>\n",
       "      <td>0.033111</td>\n",
       "      <td>0.089559</td>\n",
       "      <td>0.095650</td>\n",
       "      <td>0.041555</td>\n",
       "      <td>0.031905</td>\n",
       "      <td>0.010507</td>\n",
       "      <td>0.036244</td>\n",
       "      <td>0.025885</td>\n",
       "      <td>0.106103</td>\n",
       "    </tr>\n",
       "    <tr>\n",
       "      <th>2017-09</th>\n",
       "      <td>0.157396</td>\n",
       "      <td>0.051371</td>\n",
       "      <td>0.088276</td>\n",
       "      <td>0.283778</td>\n",
       "      <td>0.038749</td>\n",
       "      <td>0.042630</td>\n",
       "      <td>0.051403</td>\n",
       "      <td>0.039727</td>\n",
       "      <td>0.054645</td>\n",
       "      <td>0.021613</td>\n",
       "      <td>0.042780</td>\n",
       "      <td>0.024993</td>\n",
       "      <td>0.037086</td>\n",
       "      <td>0.021294</td>\n",
       "      <td>0.044257</td>\n",
       "    </tr>\n",
       "    <tr>\n",
       "      <th>2017-10</th>\n",
       "      <td>0.105174</td>\n",
       "      <td>0.069594</td>\n",
       "      <td>0.065849</td>\n",
       "      <td>0.044064</td>\n",
       "      <td>0.066466</td>\n",
       "      <td>0.094951</td>\n",
       "      <td>0.053888</td>\n",
       "      <td>0.061396</td>\n",
       "      <td>0.081386</td>\n",
       "      <td>0.032258</td>\n",
       "      <td>0.089529</td>\n",
       "      <td>0.053818</td>\n",
       "      <td>0.050834</td>\n",
       "      <td>0.033566</td>\n",
       "      <td>0.097228</td>\n",
       "    </tr>\n",
       "    <tr>\n",
       "      <th>2017-11</th>\n",
       "      <td>0.111645</td>\n",
       "      <td>0.051717</td>\n",
       "      <td>0.043327</td>\n",
       "      <td>0.028646</td>\n",
       "      <td>0.068469</td>\n",
       "      <td>0.056141</td>\n",
       "      <td>0.093256</td>\n",
       "      <td>0.051793</td>\n",
       "      <td>0.065699</td>\n",
       "      <td>0.029746</td>\n",
       "      <td>0.046314</td>\n",
       "      <td>0.046327</td>\n",
       "      <td>0.216338</td>\n",
       "      <td>0.041019</td>\n",
       "      <td>0.049564</td>\n",
       "    </tr>\n",
       "    <tr>\n",
       "      <th>2017-12</th>\n",
       "      <td>0.111418</td>\n",
       "      <td>0.066582</td>\n",
       "      <td>0.067225</td>\n",
       "      <td>0.036150</td>\n",
       "      <td>0.081599</td>\n",
       "      <td>0.104353</td>\n",
       "      <td>0.082576</td>\n",
       "      <td>0.064020</td>\n",
       "      <td>0.073076</td>\n",
       "      <td>0.034563</td>\n",
       "      <td>0.056824</td>\n",
       "      <td>0.026315</td>\n",
       "      <td>0.066910</td>\n",
       "      <td>0.050224</td>\n",
       "      <td>0.078167</td>\n",
       "    </tr>\n",
       "    <tr>\n",
       "      <th>2018-01</th>\n",
       "      <td>0.084272</td>\n",
       "      <td>0.112432</td>\n",
       "      <td>0.034791</td>\n",
       "      <td>0.025797</td>\n",
       "      <td>0.149552</td>\n",
       "      <td>0.061698</td>\n",
       "      <td>0.075244</td>\n",
       "      <td>0.045516</td>\n",
       "      <td>0.054334</td>\n",
       "      <td>0.022180</td>\n",
       "      <td>0.046840</td>\n",
       "      <td>0.020513</td>\n",
       "      <td>0.038799</td>\n",
       "      <td>0.159961</td>\n",
       "      <td>0.068073</td>\n",
       "    </tr>\n",
       "    <tr>\n",
       "      <th>2018-02</th>\n",
       "      <td>0.111902</td>\n",
       "      <td>0.118100</td>\n",
       "      <td>0.043098</td>\n",
       "      <td>0.022961</td>\n",
       "      <td>0.088394</td>\n",
       "      <td>0.075646</td>\n",
       "      <td>0.105980</td>\n",
       "      <td>0.102990</td>\n",
       "      <td>0.076303</td>\n",
       "      <td>0.029386</td>\n",
       "      <td>0.057195</td>\n",
       "      <td>0.024745</td>\n",
       "      <td>0.048453</td>\n",
       "      <td>0.032588</td>\n",
       "      <td>0.062260</td>\n",
       "    </tr>\n",
       "    <tr>\n",
       "      <th>2018-03</th>\n",
       "      <td>0.117041</td>\n",
       "      <td>0.084364</td>\n",
       "      <td>0.054054</td>\n",
       "      <td>0.033160</td>\n",
       "      <td>0.065725</td>\n",
       "      <td>0.086575</td>\n",
       "      <td>0.085529</td>\n",
       "      <td>0.063564</td>\n",
       "      <td>0.062331</td>\n",
       "      <td>0.034588</td>\n",
       "      <td>0.090209</td>\n",
       "      <td>0.026620</td>\n",
       "      <td>0.062327</td>\n",
       "      <td>0.033493</td>\n",
       "      <td>0.100420</td>\n",
       "    </tr>\n",
       "    <tr>\n",
       "      <th>2018-04</th>\n",
       "      <td>0.108177</td>\n",
       "      <td>0.090252</td>\n",
       "      <td>0.052193</td>\n",
       "      <td>0.033233</td>\n",
       "      <td>0.085969</td>\n",
       "      <td>0.077626</td>\n",
       "      <td>0.101004</td>\n",
       "      <td>0.076078</td>\n",
       "      <td>0.053806</td>\n",
       "      <td>0.035517</td>\n",
       "      <td>0.046927</td>\n",
       "      <td>0.035235</td>\n",
       "      <td>0.049364</td>\n",
       "      <td>0.067202</td>\n",
       "      <td>0.087417</td>\n",
       "    </tr>\n",
       "    <tr>\n",
       "      <th>2018-05</th>\n",
       "      <td>0.131053</td>\n",
       "      <td>0.105453</td>\n",
       "      <td>0.044573</td>\n",
       "      <td>0.034158</td>\n",
       "      <td>0.078856</td>\n",
       "      <td>0.073295</td>\n",
       "      <td>0.112833</td>\n",
       "      <td>0.065767</td>\n",
       "      <td>0.050163</td>\n",
       "      <td>0.031081</td>\n",
       "      <td>0.058904</td>\n",
       "      <td>0.036336</td>\n",
       "      <td>0.062367</td>\n",
       "      <td>0.035612</td>\n",
       "      <td>0.079548</td>\n",
       "    </tr>\n",
       "    <tr>\n",
       "      <th>2018-06</th>\n",
       "      <td>0.102730</td>\n",
       "      <td>0.101844</td>\n",
       "      <td>0.046712</td>\n",
       "      <td>0.056043</td>\n",
       "      <td>0.071010</td>\n",
       "      <td>0.076105</td>\n",
       "      <td>0.098360</td>\n",
       "      <td>0.060917</td>\n",
       "      <td>0.082438</td>\n",
       "      <td>0.031335</td>\n",
       "      <td>0.076458</td>\n",
       "      <td>0.021384</td>\n",
       "      <td>0.054082</td>\n",
       "      <td>0.035076</td>\n",
       "      <td>0.085506</td>\n",
       "    </tr>\n",
       "    <tr>\n",
       "      <th>2018-07</th>\n",
       "      <td>0.102811</td>\n",
       "      <td>0.084819</td>\n",
       "      <td>0.082920</td>\n",
       "      <td>0.032473</td>\n",
       "      <td>0.086238</td>\n",
       "      <td>0.106795</td>\n",
       "      <td>0.090557</td>\n",
       "      <td>0.065310</td>\n",
       "      <td>0.051611</td>\n",
       "      <td>0.031203</td>\n",
       "      <td>0.071189</td>\n",
       "      <td>0.022750</td>\n",
       "      <td>0.058650</td>\n",
       "      <td>0.034766</td>\n",
       "      <td>0.077909</td>\n",
       "    </tr>\n",
       "    <tr>\n",
       "      <th>2018-08</th>\n",
       "      <td>0.077446</td>\n",
       "      <td>0.077377</td>\n",
       "      <td>0.056636</td>\n",
       "      <td>0.034569</td>\n",
       "      <td>0.134442</td>\n",
       "      <td>0.100241</td>\n",
       "      <td>0.069459</td>\n",
       "      <td>0.049894</td>\n",
       "      <td>0.050143</td>\n",
       "      <td>0.113834</td>\n",
       "      <td>0.051714</td>\n",
       "      <td>0.019595</td>\n",
       "      <td>0.042212</td>\n",
       "      <td>0.034720</td>\n",
       "      <td>0.087717</td>\n",
       "    </tr>\n",
       "    <tr>\n",
       "      <th>2018-09</th>\n",
       "      <td>0.075447</td>\n",
       "      <td>0.088363</td>\n",
       "      <td>0.043655</td>\n",
       "      <td>0.032022</td>\n",
       "      <td>0.238742</td>\n",
       "      <td>0.076672</td>\n",
       "      <td>0.057200</td>\n",
       "      <td>0.055988</td>\n",
       "      <td>0.042595</td>\n",
       "      <td>0.038753</td>\n",
       "      <td>0.055796</td>\n",
       "      <td>0.016927</td>\n",
       "      <td>0.038827</td>\n",
       "      <td>0.045516</td>\n",
       "      <td>0.093498</td>\n",
       "    </tr>\n",
       "    <tr>\n",
       "      <th>2018-10</th>\n",
       "      <td>0.156497</td>\n",
       "      <td>0.086943</td>\n",
       "      <td>0.068222</td>\n",
       "      <td>0.035026</td>\n",
       "      <td>0.116956</td>\n",
       "      <td>0.065362</td>\n",
       "      <td>0.066344</td>\n",
       "      <td>0.059821</td>\n",
       "      <td>0.045692</td>\n",
       "      <td>0.038372</td>\n",
       "      <td>0.047280</td>\n",
       "      <td>0.027754</td>\n",
       "      <td>0.054627</td>\n",
       "      <td>0.047399</td>\n",
       "      <td>0.083706</td>\n",
       "    </tr>\n",
       "    <tr>\n",
       "      <th>2018-11</th>\n",
       "      <td>0.115399</td>\n",
       "      <td>0.089257</td>\n",
       "      <td>0.062169</td>\n",
       "      <td>0.031921</td>\n",
       "      <td>0.094622</td>\n",
       "      <td>0.078943</td>\n",
       "      <td>0.079731</td>\n",
       "      <td>0.066126</td>\n",
       "      <td>0.052043</td>\n",
       "      <td>0.047424</td>\n",
       "      <td>0.069497</td>\n",
       "      <td>0.022925</td>\n",
       "      <td>0.064574</td>\n",
       "      <td>0.039212</td>\n",
       "      <td>0.086157</td>\n",
       "    </tr>\n",
       "    <tr>\n",
       "      <th>2018-12</th>\n",
       "      <td>0.096473</td>\n",
       "      <td>0.090270</td>\n",
       "      <td>0.076454</td>\n",
       "      <td>0.025298</td>\n",
       "      <td>0.120939</td>\n",
       "      <td>0.095120</td>\n",
       "      <td>0.109310</td>\n",
       "      <td>0.068729</td>\n",
       "      <td>0.038629</td>\n",
       "      <td>0.036030</td>\n",
       "      <td>0.046642</td>\n",
       "      <td>0.027515</td>\n",
       "      <td>0.045423</td>\n",
       "      <td>0.042022</td>\n",
       "      <td>0.081147</td>\n",
       "    </tr>\n",
       "  </tbody>\n",
       "</table>\n",
       "</div>"
      ],
      "text/plain": [
       "           Topic1    Topic2    Topic3    Topic4    Topic5    Topic6    Topic7  \\\n",
       "start                                                                           \n",
       "2017-08  0.072395  0.085190  0.155383  0.011511  0.073988  0.131014  0.033111   \n",
       "2017-09  0.157396  0.051371  0.088276  0.283778  0.038749  0.042630  0.051403   \n",
       "2017-10  0.105174  0.069594  0.065849  0.044064  0.066466  0.094951  0.053888   \n",
       "2017-11  0.111645  0.051717  0.043327  0.028646  0.068469  0.056141  0.093256   \n",
       "2017-12  0.111418  0.066582  0.067225  0.036150  0.081599  0.104353  0.082576   \n",
       "2018-01  0.084272  0.112432  0.034791  0.025797  0.149552  0.061698  0.075244   \n",
       "2018-02  0.111902  0.118100  0.043098  0.022961  0.088394  0.075646  0.105980   \n",
       "2018-03  0.117041  0.084364  0.054054  0.033160  0.065725  0.086575  0.085529   \n",
       "2018-04  0.108177  0.090252  0.052193  0.033233  0.085969  0.077626  0.101004   \n",
       "2018-05  0.131053  0.105453  0.044573  0.034158  0.078856  0.073295  0.112833   \n",
       "2018-06  0.102730  0.101844  0.046712  0.056043  0.071010  0.076105  0.098360   \n",
       "2018-07  0.102811  0.084819  0.082920  0.032473  0.086238  0.106795  0.090557   \n",
       "2018-08  0.077446  0.077377  0.056636  0.034569  0.134442  0.100241  0.069459   \n",
       "2018-09  0.075447  0.088363  0.043655  0.032022  0.238742  0.076672  0.057200   \n",
       "2018-10  0.156497  0.086943  0.068222  0.035026  0.116956  0.065362  0.066344   \n",
       "2018-11  0.115399  0.089257  0.062169  0.031921  0.094622  0.078943  0.079731   \n",
       "2018-12  0.096473  0.090270  0.076454  0.025298  0.120939  0.095120  0.109310   \n",
       "\n",
       "           Topic8    Topic9   Topic10   Topic11   Topic12   Topic13   Topic14  \\\n",
       "start                                                                           \n",
       "2017-08  0.089559  0.095650  0.041555  0.031905  0.010507  0.036244  0.025885   \n",
       "2017-09  0.039727  0.054645  0.021613  0.042780  0.024993  0.037086  0.021294   \n",
       "2017-10  0.061396  0.081386  0.032258  0.089529  0.053818  0.050834  0.033566   \n",
       "2017-11  0.051793  0.065699  0.029746  0.046314  0.046327  0.216338  0.041019   \n",
       "2017-12  0.064020  0.073076  0.034563  0.056824  0.026315  0.066910  0.050224   \n",
       "2018-01  0.045516  0.054334  0.022180  0.046840  0.020513  0.038799  0.159961   \n",
       "2018-02  0.102990  0.076303  0.029386  0.057195  0.024745  0.048453  0.032588   \n",
       "2018-03  0.063564  0.062331  0.034588  0.090209  0.026620  0.062327  0.033493   \n",
       "2018-04  0.076078  0.053806  0.035517  0.046927  0.035235  0.049364  0.067202   \n",
       "2018-05  0.065767  0.050163  0.031081  0.058904  0.036336  0.062367  0.035612   \n",
       "2018-06  0.060917  0.082438  0.031335  0.076458  0.021384  0.054082  0.035076   \n",
       "2018-07  0.065310  0.051611  0.031203  0.071189  0.022750  0.058650  0.034766   \n",
       "2018-08  0.049894  0.050143  0.113834  0.051714  0.019595  0.042212  0.034720   \n",
       "2018-09  0.055988  0.042595  0.038753  0.055796  0.016927  0.038827  0.045516   \n",
       "2018-10  0.059821  0.045692  0.038372  0.047280  0.027754  0.054627  0.047399   \n",
       "2018-11  0.066126  0.052043  0.047424  0.069497  0.022925  0.064574  0.039212   \n",
       "2018-12  0.068729  0.038629  0.036030  0.046642  0.027515  0.045423  0.042022   \n",
       "\n",
       "          Topic15  \n",
       "start              \n",
       "2017-08  0.106103  \n",
       "2017-09  0.044257  \n",
       "2017-10  0.097228  \n",
       "2017-11  0.049564  \n",
       "2017-12  0.078167  \n",
       "2018-01  0.068073  \n",
       "2018-02  0.062260  \n",
       "2018-03  0.100420  \n",
       "2018-04  0.087417  \n",
       "2018-05  0.079548  \n",
       "2018-06  0.085506  \n",
       "2018-07  0.077909  \n",
       "2018-08  0.087717  \n",
       "2018-09  0.093498  \n",
       "2018-10  0.083706  \n",
       "2018-11  0.086157  \n",
       "2018-12  0.081147  "
      ]
     },
     "execution_count": 126,
     "metadata": {},
     "output_type": "execute_result"
    }
   ],
   "source": [
    "trend = trend_data.groupby(['start']).mean()\n",
    "trend"
   ]
  },
  {
   "cell_type": "code",
   "execution_count": 120,
   "metadata": {},
   "outputs": [],
   "source": [
    "import matplotlib.pyplot as plt"
   ]
  },
  {
   "cell_type": "code",
   "execution_count": 121,
   "metadata": {},
   "outputs": [
    {
     "data": {
      "image/png": "[encoded data removed]",
      "text/plain": [
       "<Figure size 864x1152 with 15 Axes>"
      ]
     },
     "metadata": {
      "needs_background": "light"
     },
     "output_type": "display_data"
    }
   ],
   "source": [
    "fig, axes = plt.subplots(5, 3, sharex='col', figsize=(12, 16))"
   ]
  },
  {
   "cell_type": "code",
   "execution_count": 127,
   "metadata": {},
   "outputs": [
    {
     "data": {
      "text/plain": [
       "['Topic1',\n",
       " 'Topic2',\n",
       " 'Topic3',\n",
       " 'Topic4',\n",
       " 'Topic5',\n",
       " 'Topic6',\n",
       " 'Topic7',\n",
       " 'Topic8',\n",
       " 'Topic9',\n",
       " 'Topic10',\n",
       " 'Topic11',\n",
       " 'Topic12',\n",
       " 'Topic13',\n",
       " 'Topic14',\n",
       " 'Topic15']"
      ]
     },
     "execution_count": 127,
     "metadata": {},
     "output_type": "execute_result"
    }
   ],
   "source": [
    "trend.columns.tolist()"
   ]
  },
  {
   "cell_type": "code",
   "execution_count": 125,
   "metadata": {},
   "outputs": [
    {
     "data": {
      "text/plain": [
       "array([<AxesSubplot: >, <AxesSubplot: >, <AxesSubplot: >, <AxesSubplot: >,\n",
       "       <AxesSubplot: >, <AxesSubplot: >, <AxesSubplot: >, <AxesSubplot: >,\n",
       "       <AxesSubplot: >, <AxesSubplot: >, <AxesSubplot: >, <AxesSubplot: >,\n",
       "       <AxesSubplot: >, <AxesSubplot: >, <AxesSubplot: >], dtype=object)"
      ]
     },
     "execution_count": 125,
     "metadata": {},
     "output_type": "execute_result"
    }
   ],
   "source": [
    "axes.ravel()"
   ]
  },
  {
   "cell_type": "code",
   "execution_count": 128,
   "metadata": {},
   "outputs": [
    {
     "data": {
      "image/png": "[encoded data removed]",
      "text/plain": [
       "<Figure size 864x1152 with 15 Axes>"
      ]
     },
     "metadata": {
      "needs_background": "light"
     },
     "output_type": "display_data"
    }
   ],
   "source": [
    "fig, axes = plt.subplots(5, 3, sharex='col', figsize=(12, 16)) \n",
    "for col, ax in zip(trend.columns.tolist(), axes.ravel()): \n",
    "    ax.set_title(col)\n",
    "    ax.axes.xaxis.set_visible(False)\n",
    "    ax.plot(trend[col])\n",
    "plt.show()"
   ]
  },
  {
   "cell_type": "code",
   "execution_count": null,
   "metadata": {},
   "outputs": [],
   "source": []
  }
 ],
 "metadata": {
  "kernelspec": {
   "display_name": "Python 3.10.5 64-bit",
   "language": "python",
   "name": "python3"
  },
  "language_info": {
   "codemirror_mode": {
    "name": "ipython",
    "version": 3
   },
   "file_extension": ".py",
   "mimetype": "text/x-python",
   "name": "python",
   "nbconvert_exporter": "python",
   "pygments_lexer": "ipython3",
   "version": "3.10.5"
  },
  "orig_nbformat": 4,
  "vscode": {
   "interpreter": {
    "hash": "369f2c481f4da34e4445cda3fffd2e751bd1c4d706f27375911949ba6bb62e1c"
   }
  }
 },
 "nbformat": 4,
 "nbformat_minor": 2
}
