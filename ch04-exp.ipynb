{
 "cells": [
  {
   "cell_type": "code",
   "execution_count": 1,
   "metadata": {},
   "outputs": [],
   "source": [
    "text1 = \"This study has been performed to investigate and analyze the affecting factors of e-Satisfaction focused on internet shopping malls in online e-commerce market. As a result of study, it was detected that those factors of convenience, site design, product assortment information offering had position effect on e-satisfaction. this implies that e-shoppers feel highly satisfied with the freedom of time and space which wall defined as convenience factor. It also means that major consumers of local internet shopping malls feel satisfied if a shopping mall site is well-formed and supports fast searching functions. In addition, diversity of products and appropriate level of inventory to general availability of service and product, detailed information on product, and other additional information supports were also proved to affect consumers e-satisfaction. And the fact that consumers have tendency to trust more the shopping mall where they purchased more than once in the past means that transaction security also requires special consideration. This study was investigated with focused on shopping mall site itself, therefore the major parts of critical success factors from site design to implementation could be discussed and get helpful suggestions.\"\n",
    "text2 = \"This study has been performed to investigate and analyze the affecting factors of e-Satisfaction focused on internet shopping malls in online e-commerce market; especially the survey was strictly carried out only for the consumers who had ever experienced e-shopping or transaction more than once. As a result of study, it was detected that those factors of convenience, site design, product assortment information offering had positive effect on e-satisfaction. This implies that e-shoppers feel highly satisfied with the freedom of time and space which was defined as convenience factor. It also means that major consumers of local internet shopping malls feel satisfied if a shopping mall site is well-formed and supports fast searching functions. In addition, diversity of products and appropriate level of inventory to general availability of service and product, detailed information on product, and other additional information supports were also proved to affect consumer's e-satisfaction. And the fact that consumers have tendency to trust more the shopping mall where they purchased more than once in the past means that transaction security also requires special consideration. This study was investigated with focused on shopping mall site itself, therefore the major parts of critical success factors from site design to implementation could be discussed and get helpful suggestions.\""
   ]
  },
  {
   "cell_type": "code",
   "execution_count": 2,
   "metadata": {},
   "outputs": [
    {
     "data": {
      "text/plain": [
       "'This study has been performed to investigate and analyze the affecting factors of e-Satisfaction focused on internet shopping malls in online e-commerce market. As a result of study, it was detected that those factors of convenience, site design, product assortment information offering had position effect on e-satisfaction. this implies that e-shoppers feel highly satisfied with the freedom of time and space which wall defined as convenience factor. It also means that major consumers of local internet shopping malls feel satisfied if a shopping mall site is well-formed and supports fast searching functions. In addition, diversity of products and appropriate level of inventory to general availability of service and product, detailed information on product, and other additional information supports were also proved to affect consumers e-satisfaction. And the fact that consumers have tendency to trust more the shopping mall where they purchased more than once in the past means that transaction security also requires special consideration. This study was investigated with focused on shopping mall site itself, therefore the major parts of critical success factors from site design to implementation could be discussed and get helpful suggestions.'"
      ]
     },
     "execution_count": 2,
     "metadata": {},
     "output_type": "execute_result"
    }
   ],
   "source": [
    "text1"
   ]
  },
  {
   "cell_type": "code",
   "execution_count": 3,
   "metadata": {},
   "outputs": [
    {
     "data": {
      "text/plain": [
       "\"This study has been performed to investigate and analyze the affecting factors of e-Satisfaction focused on internet shopping malls in online e-commerce market; especially the survey was strictly carried out only for the consumers who had ever experienced e-shopping or transaction more than once. As a result of study, it was detected that those factors of convenience, site design, product assortment information offering had positive effect on e-satisfaction. This implies that e-shoppers feel highly satisfied with the freedom of time and space which was defined as convenience factor. It also means that major consumers of local internet shopping malls feel satisfied if a shopping mall site is well-formed and supports fast searching functions. In addition, diversity of products and appropriate level of inventory to general availability of service and product, detailed information on product, and other additional information supports were also proved to affect consumer's e-satisfaction. And the fact that consumers have tendency to trust more the shopping mall where they purchased more than once in the past means that transaction security also requires special consideration. This study was investigated with focused on shopping mall site itself, therefore the major parts of critical success factors from site design to implementation could be discussed and get helpful suggestions.\""
      ]
     },
     "execution_count": 3,
     "metadata": {},
     "output_type": "execute_result"
    }
   ],
   "source": [
    "text2"
   ]
  },
  {
   "cell_type": "code",
   "execution_count": 7,
   "metadata": {},
   "outputs": [],
   "source": [
    "from sklearn.feature_extraction.text import TfidfVectorizer"
   ]
  },
  {
   "cell_type": "code",
   "execution_count": 9,
   "metadata": {},
   "outputs": [],
   "source": [
    "tf = TfidfVectorizer()"
   ]
  },
  {
   "cell_type": "code",
   "execution_count": 12,
   "metadata": {},
   "outputs": [
    {
     "data": {
      "text/plain": [
       "<1x123 sparse matrix of type '<class 'numpy.float64'>'\n",
       "\twith 123 stored elements in Compressed Sparse Row format>"
      ]
     },
     "execution_count": 12,
     "metadata": {},
     "output_type": "execute_result"
    }
   ],
   "source": [
    "reviews_tf = tf.fit_transform([text2])\n",
    "reviews_tf"
   ]
  },
  {
   "cell_type": "code",
   "execution_count": 14,
   "metadata": {},
   "outputs": [
    {
     "data": {
      "text/plain": [
       "array(['addition', 'additional', 'affect', 'affecting', 'also', 'analyze',\n",
       "       'and', 'appropriate', 'as', 'assortment', 'availability', 'be',\n",
       "       'been', 'carried', 'commerce', 'consideration', 'consumer',\n",
       "       'consumers', 'convenience', 'could', 'critical', 'defined',\n",
       "       'design', 'detailed', 'detected', 'discussed', 'diversity',\n",
       "       'effect', 'especially', 'ever', 'experienced', 'fact', 'factor',\n",
       "       'factors', 'fast', 'feel', 'focused', 'for', 'formed', 'freedom',\n",
       "       'from', 'functions', 'general', 'get', 'had', 'has', 'have',\n",
       "       'helpful', 'highly', 'if', 'implementation', 'implies', 'in',\n",
       "       'information', 'internet', 'inventory', 'investigate',\n",
       "       'investigated', 'is', 'it', 'itself', 'level', 'local', 'major',\n",
       "       'mall', 'malls', 'market', 'means', 'more', 'of', 'offering', 'on',\n",
       "       'once', 'online', 'only', 'or', 'other', 'out', 'parts', 'past',\n",
       "       'performed', 'positive', 'product', 'products', 'proved',\n",
       "       'purchased', 'requires', 'result', 'satisfaction', 'satisfied',\n",
       "       'searching', 'security', 'service', 'shoppers', 'shopping', 'site',\n",
       "       'space', 'special', 'strictly', 'study', 'success', 'suggestions',\n",
       "       'supports', 'survey', 'tendency', 'than', 'that', 'the',\n",
       "       'therefore', 'they', 'this', 'those', 'time', 'to', 'transaction',\n",
       "       'trust', 'was', 'well', 'were', 'where', 'which', 'who', 'with'],\n",
       "      dtype=object)"
      ]
     },
     "execution_count": 14,
     "metadata": {},
     "output_type": "execute_result"
    }
   ],
   "source": [
    "tf.get_feature_names_out()"
   ]
  },
  {
   "cell_type": "code",
   "execution_count": 15,
   "metadata": {},
   "outputs": [
    {
     "data": {
      "text/plain": [
       "array([[0.0409616 , 0.0409616 , 0.0409616 , 0.0409616 , 0.12288479,\n",
       "        0.0409616 , 0.32769277, 0.0409616 , 0.08192319, 0.0409616 ,\n",
       "        0.0409616 , 0.0409616 , 0.0409616 , 0.0409616 , 0.0409616 ,\n",
       "        0.0409616 , 0.0409616 , 0.12288479, 0.08192319, 0.0409616 ,\n",
       "        0.0409616 , 0.0409616 , 0.08192319, 0.0409616 , 0.0409616 ,\n",
       "        0.0409616 , 0.0409616 , 0.0409616 , 0.0409616 , 0.0409616 ,\n",
       "        0.0409616 , 0.0409616 , 0.0409616 , 0.12288479, 0.0409616 ,\n",
       "        0.08192319, 0.08192319, 0.0409616 , 0.0409616 , 0.0409616 ,\n",
       "        0.0409616 , 0.0409616 , 0.0409616 , 0.0409616 , 0.08192319,\n",
       "        0.0409616 , 0.0409616 , 0.0409616 , 0.0409616 , 0.0409616 ,\n",
       "        0.0409616 , 0.0409616 , 0.12288479, 0.12288479, 0.08192319,\n",
       "        0.0409616 , 0.0409616 , 0.0409616 , 0.0409616 , 0.08192319,\n",
       "        0.0409616 , 0.0409616 , 0.0409616 , 0.08192319, 0.12288479,\n",
       "        0.08192319, 0.0409616 , 0.08192319, 0.12288479, 0.36865436,\n",
       "        0.0409616 , 0.16384638, 0.08192319, 0.0409616 , 0.0409616 ,\n",
       "        0.0409616 , 0.0409616 , 0.0409616 , 0.0409616 , 0.0409616 ,\n",
       "        0.0409616 , 0.0409616 , 0.12288479, 0.0409616 , 0.0409616 ,\n",
       "        0.0409616 , 0.0409616 , 0.0409616 , 0.12288479, 0.08192319,\n",
       "        0.0409616 , 0.0409616 , 0.0409616 , 0.0409616 , 0.24576958,\n",
       "        0.16384638, 0.0409616 , 0.0409616 , 0.0409616 , 0.12288479,\n",
       "        0.0409616 , 0.0409616 , 0.08192319, 0.0409616 , 0.0409616 ,\n",
       "        0.08192319, 0.20480798, 0.32769277, 0.0409616 , 0.0409616 ,\n",
       "        0.12288479, 0.0409616 , 0.0409616 , 0.20480798, 0.08192319,\n",
       "        0.0409616 , 0.16384638, 0.0409616 , 0.0409616 , 0.0409616 ,\n",
       "        0.0409616 , 0.0409616 , 0.08192319]])"
      ]
     },
     "execution_count": 15,
     "metadata": {},
     "output_type": "execute_result"
    }
   ],
   "source": [
    "reviews_tf.toarray()"
   ]
  },
  {
   "cell_type": "code",
   "execution_count": 16,
   "metadata": {},
   "outputs": [
    {
     "data": {
      "text/plain": [
       "<1x123 sparse matrix of type '<class 'numpy.float64'>'\n",
       "\twith 110 stored elements in Compressed Sparse Row format>"
      ]
     },
     "execution_count": 16,
     "metadata": {},
     "output_type": "execute_result"
    }
   ],
   "source": [
    "compare_tf = tf.transform([text1])\n",
    "compare_tf"
   ]
  },
  {
   "cell_type": "code",
   "execution_count": 17,
   "metadata": {},
   "outputs": [
    {
     "data": {
      "text/plain": [
       "<1x123 sparse matrix of type '<class 'numpy.float64'>'\n",
       "\twith 110 stored elements in Compressed Sparse Row format>"
      ]
     },
     "execution_count": 17,
     "metadata": {},
     "output_type": "execute_result"
    }
   ],
   "source": [
    "compare_tf"
   ]
  },
  {
   "cell_type": "code",
   "execution_count": 18,
   "metadata": {},
   "outputs": [
    {
     "data": {
      "text/plain": [
       "array([[0.04406526, 0.04406526, 0.04406526, 0.04406526, 0.13219579,\n",
       "        0.04406526, 0.35252212, 0.04406526, 0.08813053, 0.04406526,\n",
       "        0.04406526, 0.04406526, 0.04406526, 0.        , 0.04406526,\n",
       "        0.04406526, 0.        , 0.13219579, 0.08813053, 0.04406526,\n",
       "        0.04406526, 0.04406526, 0.08813053, 0.04406526, 0.04406526,\n",
       "        0.04406526, 0.04406526, 0.04406526, 0.        , 0.        ,\n",
       "        0.        , 0.04406526, 0.04406526, 0.13219579, 0.04406526,\n",
       "        0.08813053, 0.08813053, 0.        , 0.04406526, 0.04406526,\n",
       "        0.04406526, 0.04406526, 0.04406526, 0.04406526, 0.04406526,\n",
       "        0.04406526, 0.04406526, 0.04406526, 0.04406526, 0.04406526,\n",
       "        0.04406526, 0.04406526, 0.13219579, 0.13219579, 0.08813053,\n",
       "        0.04406526, 0.04406526, 0.04406526, 0.04406526, 0.08813053,\n",
       "        0.04406526, 0.04406526, 0.04406526, 0.08813053, 0.13219579,\n",
       "        0.08813053, 0.04406526, 0.08813053, 0.08813053, 0.39658738,\n",
       "        0.04406526, 0.17626106, 0.04406526, 0.04406526, 0.        ,\n",
       "        0.        , 0.04406526, 0.        , 0.04406526, 0.04406526,\n",
       "        0.04406526, 0.        , 0.13219579, 0.04406526, 0.04406526,\n",
       "        0.04406526, 0.04406526, 0.04406526, 0.13219579, 0.08813053,\n",
       "        0.04406526, 0.04406526, 0.04406526, 0.04406526, 0.22032632,\n",
       "        0.17626106, 0.04406526, 0.04406526, 0.        , 0.13219579,\n",
       "        0.04406526, 0.04406526, 0.08813053, 0.        , 0.04406526,\n",
       "        0.04406526, 0.22032632, 0.26439159, 0.04406526, 0.04406526,\n",
       "        0.13219579, 0.04406526, 0.04406526, 0.22032632, 0.04406526,\n",
       "        0.04406526, 0.08813053, 0.04406526, 0.04406526, 0.04406526,\n",
       "        0.04406526, 0.        , 0.08813053]])"
      ]
     },
     "execution_count": 18,
     "metadata": {},
     "output_type": "execute_result"
    }
   ],
   "source": [
    "compare_tf.toarray()"
   ]
  },
  {
   "cell_type": "code",
   "execution_count": 20,
   "metadata": {},
   "outputs": [
    {
     "data": {
      "text/plain": [
       "array([[0.9783011]])"
      ]
     },
     "execution_count": 20,
     "metadata": {},
     "output_type": "execute_result"
    }
   ],
   "source": [
    "from sklearn.metrics.pairwise import cosine_similarity\n",
    "\n",
    "sim_result_tf = cosine_similarity(compare_tf, reviews_tf)\n",
    "sim_result_tf"
   ]
  },
  {
   "cell_type": "code",
   "execution_count": 1,
   "metadata": {},
   "outputs": [],
   "source": [
    "from sklearn.metrics.pairwise import cosine_similarity"
   ]
  },
  {
   "cell_type": "code",
   "execution_count": null,
   "metadata": {},
   "outputs": [],
   "source": []
  }
 ],
 "metadata": {
  "kernelspec": {
   "display_name": "Python 3.10.5 64-bit",
   "language": "python",
   "name": "python3"
  },
  "language_info": {
   "codemirror_mode": {
    "name": "ipython",
    "version": 3
   },
   "file_extension": ".py",
   "mimetype": "text/x-python",
   "name": "python",
   "nbconvert_exporter": "python",
   "pygments_lexer": "ipython3",
   "version": "3.10.5"
  },
  "orig_nbformat": 4,
  "vscode": {
   "interpreter": {
    "hash": "369f2c481f4da34e4445cda3fffd2e751bd1c4d706f27375911949ba6bb62e1c"
   }
  }
 },
 "nbformat": 4,
 "nbformat_minor": 2
}
