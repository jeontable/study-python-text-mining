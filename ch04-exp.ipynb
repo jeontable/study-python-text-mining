{
 "cells": [
  {
   "cell_type": "code",
   "execution_count": 68,
   "metadata": {},
   "outputs": [],
   "source": [
    "#experimental: 김명신. (2007). 온라인 쇼핑몰 소비자들의 구매 시 e-Satisfaction에 영향을 미치는 요인 대한 연구. 한국디자인포럼, 16, 93-101.\n",
    "experimental = \"This study has been performed to investigate and analyze the affecting factors of e-Satisfaction focused on internet shopping malls in online e-commerce market. As a result of study, it was detected that those factors of convenience, site design, product assortment information offering had position effect on e-satisfaction. this implies that e-shoppers feel highly satisfied with the freedom of time and space which wall defined as convenience factor. It also means that major consumers of local internet shopping malls feel satisfied if a shopping mall site is well-formed and supports fast searching functions. In addition, diversity of products and appropriate level of inventory to general availability of service and product, detailed information on product, and other additional information supports were also proved to affect consumers e-satisfaction. And the fact that consumers have tendency to trust more the shopping mall where they purchased more than once in the past means that transaction security also requires special consideration. This study was investigated with focused on shopping mall site itself, therefore the major parts of critical success factors from site design to implementation could be discussed and get helpful suggestions.\"\n",
    "#comparision: 김영진. (2002). 인터넷 쇼핑몰에서 e-Satisfaction 에 영향을 주는 요인 연구. 석사학위논문, 한국외국어대학교, 서울.\n",
    "comparision = \"This study has been performed to investigate and analyze the affecting factors of e-Satisfaction focused on internet shopping malls in online e-commerce market; especially the survey was strictly carried out only for the consumers who had ever experienced e-shopping or transaction more than once. As a result of study, it was detected that those factors of convenience, site design, product assortment information offering had positive effect on e-satisfaction. This implies that e-shoppers feel highly satisfied with the freedom of time and space which was defined as convenience factor. It also means that major consumers of local internet shopping malls feel satisfied if a shopping mall site is well-formed and supports fast searching functions. In addition, diversity of products and appropriate level of inventory to general availability of service and product, detailed information on product, and other additional information supports were also proved to affect consumer's e-satisfaction. And the fact that consumers have tendency to trust more the shopping mall where they purchased more than once in the past means that transaction security also requires special consideration. This study was investigated with focused on shopping mall site itself, therefore the major parts of critical success factors from site design to implementation could be discussed and get helpful suggestions.\""
   ]
  },
  {
   "cell_type": "code",
   "execution_count": 56,
   "metadata": {},
   "outputs": [
    {
     "data": {
      "text/plain": [
       "'This study has been performed to investigate and analyze the affecting factors of e-Satisfaction focused on internet shopping malls in online e-commerce market. As a result of study, it was detected that those factors of convenience, site design, product assortment information offering had position effect on e-satisfaction. this implies that e-shoppers feel highly satisfied with the freedom of time and space which wall defined as convenience factor. It also means that major consumers of local internet shopping malls feel satisfied if a shopping mall site is well-formed and supports fast searching functions. In addition, diversity of products and appropriate level of inventory to general availability of service and product, detailed information on product, and other additional information supports were also proved to affect consumers e-satisfaction. And the fact that consumers have tendency to trust more the shopping mall where they purchased more than once in the past means that transaction security also requires special consideration. This study was investigated with focused on shopping mall site itself, therefore the major parts of critical success factors from site design to implementation could be discussed and get helpful suggestions.'"
      ]
     },
     "execution_count": 56,
     "metadata": {},
     "output_type": "execute_result"
    }
   ],
   "source": [
    "experimental"
   ]
  },
  {
   "cell_type": "code",
   "execution_count": 57,
   "metadata": {},
   "outputs": [
    {
     "data": {
      "text/plain": [
       "\"This study has been performed to investigate and analyze the affecting factors of e-Satisfaction focused on internet shopping malls in online e-commerce market; especially the survey was strictly carried out only for the consumers who had ever experienced e-shopping or transaction more than once. As a result of study, it was detected that those factors of convenience, site design, product assortment information offering had positive effect on e-satisfaction. This implies that e-shoppers feel highly satisfied with the freedom of time and space which was defined as convenience factor. It also means that major consumers of local internet shopping malls feel satisfied if a shopping mall site is well-formed and supports fast searching functions. In addition, diversity of products and appropriate level of inventory to general availability of service and product, detailed information on product, and other additional information supports were also proved to affect consumer's e-satisfaction. And the fact that consumers have tendency to trust more the shopping mall where they purchased more than once in the past means that transaction security also requires special consideration. This study was investigated with focused on shopping mall site itself, therefore the major parts of critical success factors from site design to implementation could be discussed and get helpful suggestions.\""
      ]
     },
     "execution_count": 57,
     "metadata": {},
     "output_type": "execute_result"
    }
   ],
   "source": [
    "comparision"
   ]
  },
  {
   "cell_type": "code",
   "execution_count": 58,
   "metadata": {},
   "outputs": [],
   "source": [
    "from sklearn.feature_extraction.text import CountVectorizer\n",
    "cv = CountVectorizer()"
   ]
  },
  {
   "cell_type": "code",
   "execution_count": 59,
   "metadata": {},
   "outputs": [
    {
     "data": {
      "text/plain": [
       "<1x123 sparse matrix of type '<class 'numpy.int64'>'\n",
       "\twith 123 stored elements in Compressed Sparse Row format>"
      ]
     },
     "execution_count": 59,
     "metadata": {},
     "output_type": "execute_result"
    }
   ],
   "source": [
    "comparision_cv = cv.fit_transform([comparision])\n",
    "comparision_cv"
   ]
  },
  {
   "cell_type": "code",
   "execution_count": 60,
   "metadata": {},
   "outputs": [
    {
     "data": {
      "text/plain": [
       "array(['addition', 'additional', 'affect', 'affecting', 'also', 'analyze',\n",
       "       'and', 'appropriate', 'as', 'assortment', 'availability', 'be',\n",
       "       'been', 'carried', 'commerce', 'consideration', 'consumer',\n",
       "       'consumers', 'convenience', 'could', 'critical', 'defined',\n",
       "       'design', 'detailed', 'detected', 'discussed', 'diversity',\n",
       "       'effect', 'especially', 'ever', 'experienced', 'fact', 'factor',\n",
       "       'factors', 'fast', 'feel', 'focused', 'for', 'formed', 'freedom',\n",
       "       'from', 'functions', 'general', 'get', 'had', 'has', 'have',\n",
       "       'helpful', 'highly', 'if', 'implementation', 'implies', 'in',\n",
       "       'information', 'internet', 'inventory', 'investigate',\n",
       "       'investigated', 'is', 'it', 'itself', 'level', 'local', 'major',\n",
       "       'mall', 'malls', 'market', 'means', 'more', 'of', 'offering', 'on',\n",
       "       'once', 'online', 'only', 'or', 'other', 'out', 'parts', 'past',\n",
       "       'performed', 'positive', 'product', 'products', 'proved',\n",
       "       'purchased', 'requires', 'result', 'satisfaction', 'satisfied',\n",
       "       'searching', 'security', 'service', 'shoppers', 'shopping', 'site',\n",
       "       'space', 'special', 'strictly', 'study', 'success', 'suggestions',\n",
       "       'supports', 'survey', 'tendency', 'than', 'that', 'the',\n",
       "       'therefore', 'they', 'this', 'those', 'time', 'to', 'transaction',\n",
       "       'trust', 'was', 'well', 'were', 'where', 'which', 'who', 'with'],\n",
       "      dtype=object)"
      ]
     },
     "execution_count": 60,
     "metadata": {},
     "output_type": "execute_result"
    }
   ],
   "source": [
    "cv.get_feature_names_out()"
   ]
  },
  {
   "cell_type": "code",
   "execution_count": 61,
   "metadata": {},
   "outputs": [
    {
     "data": {
      "text/plain": [
       "array([[1, 1, 1, 1, 3, 1, 8, 1, 2, 1, 1, 1, 1, 1, 1, 1, 1, 3, 2, 1, 1, 1,\n",
       "        2, 1, 1, 1, 1, 1, 1, 1, 1, 1, 1, 3, 1, 2, 2, 1, 1, 1, 1, 1, 1, 1,\n",
       "        2, 1, 1, 1, 1, 1, 1, 1, 3, 3, 2, 1, 1, 1, 1, 2, 1, 1, 1, 2, 3, 2,\n",
       "        1, 2, 3, 9, 1, 4, 2, 1, 1, 1, 1, 1, 1, 1, 1, 1, 3, 1, 1, 1, 1, 1,\n",
       "        3, 2, 1, 1, 1, 1, 6, 4, 1, 1, 1, 3, 1, 1, 2, 1, 1, 2, 5, 8, 1, 1,\n",
       "        3, 1, 1, 5, 2, 1, 4, 1, 1, 1, 1, 1, 2]], dtype=int64)"
      ]
     },
     "execution_count": 61,
     "metadata": {},
     "output_type": "execute_result"
    }
   ],
   "source": [
    "comparision_cv.toarray()"
   ]
  },
  {
   "cell_type": "code",
   "execution_count": 62,
   "metadata": {},
   "outputs": [
    {
     "data": {
      "text/plain": [
       "<1x123 sparse matrix of type '<class 'numpy.int64'>'\n",
       "\twith 110 stored elements in Compressed Sparse Row format>"
      ]
     },
     "execution_count": 62,
     "metadata": {},
     "output_type": "execute_result"
    }
   ],
   "source": [
    "experimental_cv = cv.transform([experimental])\n",
    "experimental_cv"
   ]
  },
  {
   "cell_type": "code",
   "execution_count": 63,
   "metadata": {},
   "outputs": [
    {
     "data": {
      "text/plain": [
       "array([[1, 1, 1, 1, 3, 1, 8, 1, 2, 1, 1, 1, 1, 0, 1, 1, 0, 3, 2, 1, 1, 1,\n",
       "        2, 1, 1, 1, 1, 1, 0, 0, 0, 1, 1, 3, 1, 2, 2, 0, 1, 1, 1, 1, 1, 1,\n",
       "        1, 1, 1, 1, 1, 1, 1, 1, 3, 3, 2, 1, 1, 1, 1, 2, 1, 1, 1, 2, 3, 2,\n",
       "        1, 2, 2, 9, 1, 4, 1, 1, 0, 0, 1, 0, 1, 1, 1, 0, 3, 1, 1, 1, 1, 1,\n",
       "        3, 2, 1, 1, 1, 1, 5, 4, 1, 1, 0, 3, 1, 1, 2, 0, 1, 1, 5, 6, 1, 1,\n",
       "        3, 1, 1, 5, 1, 1, 2, 1, 1, 1, 1, 0, 2]], dtype=int64)"
      ]
     },
     "execution_count": 63,
     "metadata": {},
     "output_type": "execute_result"
    }
   ],
   "source": [
    "experimental_cv.toarray()"
   ]
  },
  {
   "cell_type": "code",
   "execution_count": 64,
   "metadata": {},
   "outputs": [],
   "source": [
    "from sklearn.metrics.pairwise import cosine_similarity"
   ]
  },
  {
   "cell_type": "code",
   "execution_count": 65,
   "metadata": {},
   "outputs": [
    {
     "data": {
      "text/plain": [
       "array([[0.9783011]])"
      ]
     },
     "execution_count": 65,
     "metadata": {},
     "output_type": "execute_result"
    }
   ],
   "source": [
    "result_cv_cosine = cosine_similarity(experimental_cv, comparision_cv)\n",
    "result_cv_cosine"
   ]
  },
  {
   "cell_type": "code",
   "execution_count": 66,
   "metadata": {},
   "outputs": [],
   "source": [
    "from sklearn.feature_extraction.text import TfidfVectorizer\n",
    "tf = TfidfVectorizer()\n",
    "comparision_tf = tf.fit_transform([comparision])\n",
    "experimental_tf = tf.transform([experimental])"
   ]
  },
  {
   "cell_type": "code",
   "execution_count": 67,
   "metadata": {},
   "outputs": [
    {
     "data": {
      "text/plain": [
       "array([[0.9783011]])"
      ]
     },
     "execution_count": 67,
     "metadata": {},
     "output_type": "execute_result"
    }
   ],
   "source": [
    "result_tf = cosine_similarity(experimental_tf, comparision_tf)\n",
    "result_tf"
   ]
  }
 ],
 "metadata": {
  "kernelspec": {
   "display_name": "Python 3.10.5 64-bit",
   "language": "python",
   "name": "python3"
  },
  "language_info": {
   "codemirror_mode": {
    "name": "ipython",
    "version": 3
   },
   "file_extension": ".py",
   "mimetype": "text/x-python",
   "name": "python",
   "nbconvert_exporter": "python",
   "pygments_lexer": "ipython3",
   "version": "3.10.5"
  },
  "orig_nbformat": 4,
  "vscode": {
   "interpreter": {
    "hash": "369f2c481f4da34e4445cda3fffd2e751bd1c4d706f27375911949ba6bb62e1c"
   }
  }
 },
 "nbformat": 4,
 "nbformat_minor": 2
}
